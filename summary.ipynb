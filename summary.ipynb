{
 "cells": [
  {
   "cell_type": "markdown",
   "source": [
    "# Creating a BB PIA\n",
    "Auf 0/1-Vektoren ('predict', nicht 'predict_proba')\n",
    "## Regression\n",
    "* PyCaret behauptet, CV R² von 1 zu erreichen. Nicht nachvollziehbar.\n",
    "* Manuell und mit keras-tuner maximal Test R² von ~0.2 --> schlecht.\n",
    "* Bei neuronalen Netzen: regelmäßig NAN Ergebnisse während des Trainings\n",
    "\n",
    "## Klassifikation\n",
    "* PyCaret ...\n",
    "* Manuell maximal Test Acc von 22% --> schlecht."
   ],
   "metadata": {
    "collapsed": false
   },
   "id": "58f0a78191963195"
  },
  {
   "cell_type": "raw",
   "source": [
    "                                    Model  Accuracy     AUC  Recall   Prec.  \\\n",
    "lr                    Logistic Regression    1.0000  1.0000  1.0000  1.0000   \n",
    "knn                K Neighbors Classifier    1.0000  1.0000  1.0000  1.0000   \n",
    "nb                            Naive Bayes    1.0000  1.0000  1.0000  1.0000   \n",
    "dt               Decision Tree Classifier    1.0000  1.0000  1.0000  1.0000   \n",
    "ridge                    Ridge Classifier    1.0000  0.0000  1.0000  1.0000   \n",
    "rf               Random Forest Classifier    1.0000  1.0000  1.0000  1.0000   \n",
    "gbc          Gradient Boosting Classifier    1.0000  1.0000  1.0000  1.0000   \n",
    "lda          Linear Discriminant Analysis    1.0000  1.0000  1.0000  1.0000   \n",
    "et                 Extra Trees Classifier    1.0000  1.0000  1.0000  1.0000   \n",
    "lightgbm  Light Gradient Boosting Machine    1.0000  1.0000  1.0000  1.0000   \n",
    "svm                   SVM - Linear Kernel    0.9698  0.0000  0.9698  0.9595   \n",
    "ada                  Ada Boost Classifier    0.9548  0.9944  0.9548  0.9331   \n",
    "qda       Quadratic Discriminant Analysis    0.4262  0.6772  0.4262  0.6967   \n",
    "dummy                    Dummy Classifier    0.1111  0.5000  0.1111  0.0123   \n",
    "\n",
    "              F1   Kappa     MCC  TT (Sec)  \n",
    "lr        1.0000  1.0000  1.0000    26.174  \n",
    "knn       1.0000  1.0000  1.0000     0.515  \n",
    "nb        1.0000  1.0000  1.0000     0.502  \n",
    "dt        1.0000  1.0000  1.0000     0.394  \n",
    "ridge     1.0000  1.0000  1.0000     0.647  \n",
    "rf        1.0000  1.0000  1.0000     0.516  \n",
    "gbc       1.0000  1.0000  1.0000    12.377  \n",
    "lda       1.0000  1.0000  1.0000     4.199  \n",
    "et        1.0000  1.0000  1.0000     0.480  \n",
    "lightgbm  1.0000  1.0000  1.0000   239.012  \n",
    "svm       0.9615  0.9661  0.9687     1.220  \n",
    "ada       0.9402  0.9491  0.9542     1.766  \n",
    "qda       0.3928  0.3545  0.4177     2.906  \n",
    "dummy     0.0222  0.0000  0.0000     0.520"
   ],
   "metadata": {
    "collapsed": false
   },
   "id": "585d6b004417502a"
  },
  {
   "cell_type": "code",
   "execution_count": null,
   "outputs": [],
   "source": [],
   "metadata": {
    "collapsed": false
   },
   "id": "6fcfa6803dd955a9"
  }
 ],
 "metadata": {
  "kernelspec": {
   "display_name": "Python 3",
   "language": "python",
   "name": "python3"
  },
  "language_info": {
   "codemirror_mode": {
    "name": "ipython",
    "version": 2
   },
   "file_extension": ".py",
   "mimetype": "text/x-python",
   "name": "python",
   "nbconvert_exporter": "python",
   "pygments_lexer": "ipython2",
   "version": "2.7.6"
  }
 },
 "nbformat": 4,
 "nbformat_minor": 5
}
