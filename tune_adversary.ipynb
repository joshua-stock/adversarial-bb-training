{
 "cells": [
  {
   "cell_type": "code",
   "execution_count": 1,
   "id": "initial_id",
   "metadata": {
    "ExecuteTime": {
     "end_time": "2023-11-07T15:59:00.776910450Z",
     "start_time": "2023-11-07T15:58:58.624945253Z"
    },
    "tags": []
   },
   "outputs": [
    {
     "name": "stderr",
     "output_type": "stream",
     "text": [
      "2023-11-07 15:58:57.840608: I tensorflow/tsl/cuda/cudart_stub.cc:28] Could not find cuda drivers on your machine, GPU will not be used.\n",
      "2023-11-07 15:58:57.866168: E tensorflow/compiler/xla/stream_executor/cuda/cuda_dnn.cc:9342] Unable to register cuDNN factory: Attempting to register factory for plugin cuDNN when one has already been registered\n",
      "2023-11-07 15:58:57.866186: E tensorflow/compiler/xla/stream_executor/cuda/cuda_fft.cc:609] Unable to register cuFFT factory: Attempting to register factory for plugin cuFFT when one has already been registered\n",
      "2023-11-07 15:58:57.866202: E tensorflow/compiler/xla/stream_executor/cuda/cuda_blas.cc:1518] Unable to register cuBLAS factory: Attempting to register factory for plugin cuBLAS when one has already been registered\n",
      "2023-11-07 15:58:57.870941: I tensorflow/tsl/cuda/cudart_stub.cc:28] Could not find cuda drivers on your machine, GPU will not be used.\n",
      "2023-11-07 15:58:57.871668: I tensorflow/core/platform/cpu_feature_guard.cc:182] This TensorFlow binary is optimized to use available CPU instructions in performance-critical operations.\n",
      "To enable the following instructions: AVX2 FMA, in other operations, rebuild TensorFlow with the appropriate compiler flags.\n",
      "2023-11-07 15:58:58.499242: W tensorflow/compiler/tf2tensorrt/utils/py_utils.cc:38] TF-TRT Warning: Could not find TensorRT\n"
     ]
    },
    {
     "name": "stdout",
     "output_type": "stream",
     "text": [
      "Using TensorFlow backend\n"
     ]
    }
   ],
   "source": [
    "from tensorflow import keras\n",
    "from keras_tuner.tuners import RandomSearch\n",
    "import pandas as pd"
   ]
  },
  {
   "cell_type": "code",
   "execution_count": 2,
   "id": "f15ee4d695a97d72",
   "metadata": {
    "ExecuteTime": {
     "end_time": "2023-11-07T15:59:03.633199903Z",
     "start_time": "2023-11-07T15:59:00.754383112Z"
    },
    "collapsed": false
   },
   "outputs": [],
   "source": [
    "adv_df = pd.read_csv(\"./data/shadow_model_outputs.csv\")\n",
    "adv_ddf_shuffled = adv_df.sample(frac=1, random_state=1).reset_index(drop=True).drop(columns=[\"Unnamed: 0\"])\n",
    "adv_y = adv_ddf_shuffled[\"y\"]\n",
    "adv_X = adv_ddf_shuffled.drop(columns=[\"y\"])"
   ]
  },
  {
   "cell_type": "code",
   "execution_count": 3,
   "id": "3d8a9d532a4d438c",
   "metadata": {
    "ExecuteTime": {
     "end_time": "2023-11-07T15:59:04.287071871Z",
     "start_time": "2023-11-07T15:59:03.634424554Z"
    },
    "collapsed": false
   },
   "outputs": [],
   "source": [
    "adv_df_test = pd.read_csv(\"./data/shadow_model_outputs_test_set.csv\")\n",
    "adv_ddf_shuffled_test = adv_df_test.sample(frac=1, random_state=1).reset_index(drop=True).drop(columns=[\"Unnamed: 0\"])\n",
    "adv_y_test = adv_ddf_shuffled_test[\"y\"]\n",
    "adv_X_test = adv_ddf_shuffled_test.drop(columns=[\"y\"])"
   ]
  },
  {
   "cell_type": "code",
   "execution_count": 4,
   "id": "7d2fabfeaf8d4a5c",
   "metadata": {
    "ExecuteTime": {
     "end_time": "2023-11-07T15:59:04.287451804Z",
     "start_time": "2023-11-07T15:59:04.273990041Z"
    },
    "collapsed": false
   },
   "outputs": [],
   "source": [
    "def build_model(hp):\n",
    "    model = keras.Sequential()\n",
    "    model.add(keras.layers.Dense(units=hp.Int('units', min_value=8, max_value=136, step=8)))\n",
    "    model.add(keras.layers.Dense(units=hp.Int('units2', min_value=4, max_value=32, step=4)))\n",
    "    model.add(keras.layers.Dense(1))\n",
    "    \n",
    "    model.compile(optimizer='adam', loss=keras.losses.MeanSquaredError(), metrics=keras.metrics.R2Score())\n",
    "    return model"
   ]
  },
  {
   "cell_type": "code",
   "execution_count": 5,
   "id": "62ce3f3754416f4",
   "metadata": {
    "ExecuteTime": {
     "end_time": "2023-11-07T15:59:04.320615423Z",
     "start_time": "2023-11-07T15:59:04.276603623Z"
    },
    "collapsed": false
   },
   "outputs": [],
   "source": [
    "tuner = RandomSearch(\n",
    "    build_model,\n",
    "    #objective=keras_tuner.Objective('val_r2_score', direction='max'),\n",
    "    objective = 'val_loss',\n",
    "    max_trials = 2,\n",
    "    executions_per_trial = 3,\n",
    ")"
   ]
  },
  {
   "cell_type": "code",
   "execution_count": 6,
   "id": "870e521b3fa80836",
   "metadata": {
    "collapsed": false
   },
   "outputs": [
    {
     "name": "stdout",
     "output_type": "stream",
     "text": [
      "Trial 2 Complete [00h 00m 08s]\n",
      "val_loss: 0.08559456219275792\n",
      "\n",
      "Best val_loss So Far: 0.08559456219275792\n",
      "Total elapsed time: 00h 00m 18s\n"
     ]
    }
   ],
   "source": [
    "tuner.search(adv_X, adv_y, epochs=15, validation_data=(adv_X_test, adv_y_test))"
   ]
  },
  {
   "cell_type": "code",
   "execution_count": 7,
   "id": "f373e4e89d97638c",
   "metadata": {
    "ExecuteTime": {
     "end_time": "2023-11-07T15:59:22.412651623Z",
     "start_time": "2023-11-07T15:59:22.198684752Z"
    },
    "collapsed": false
   },
   "outputs": [],
   "source": [
    "models = tuner.get_best_models(num_models=2)"
   ]
  },
  {
   "cell_type": "code",
   "execution_count": 8,
   "id": "40a598637b000634",
   "metadata": {
    "ExecuteTime": {
     "end_time": "2023-11-07T15:59:22.413359321Z",
     "start_time": "2023-11-07T15:59:22.393157297Z"
    },
    "collapsed": false
   },
   "outputs": [],
   "source": [
    "best_model = models[0]"
   ]
  },
  {
   "cell_type": "code",
   "execution_count": 10,
   "id": "9e82a29b865e9809",
   "metadata": {
    "ExecuteTime": {
     "end_time": "2023-11-07T15:59:44.068119259Z",
     "start_time": "2023-11-07T15:59:44.024143746Z"
    },
    "collapsed": false
   },
   "outputs": [],
   "source": [
    "best_model.build(input_shape=(None,adv_X.shape[1],))"
   ]
  },
  {
   "cell_type": "code",
   "execution_count": 11,
   "id": "bf4a661cf8609eed",
   "metadata": {
    "ExecuteTime": {
     "end_time": "2023-11-07T15:59:52.603082042Z",
     "start_time": "2023-11-07T15:59:52.554441439Z"
    },
    "collapsed": false
   },
   "outputs": [
    {
     "name": "stdout",
     "output_type": "stream",
     "text": [
      "Model: \"sequential\"\n",
      "_________________________________________________________________\n",
      " Layer (type)                Output Shape              Param #   \n",
      "=================================================================\n",
      " dense (Dense)               multiple                  80016     \n",
      "                                                                 \n",
      " dense_1 (Dense)             multiple                  72        \n",
      "                                                                 \n",
      " dense_2 (Dense)             multiple                  9         \n",
      "                                                                 \n",
      "=================================================================\n",
      "Total params: 80097 (312.88 KB)\n",
      "Trainable params: 80097 (312.88 KB)\n",
      "Non-trainable params: 0 (0.00 Byte)\n",
      "_________________________________________________________________\n"
     ]
    }
   ],
   "source": [
    "best_model.summary()"
   ]
  },
  {
   "cell_type": "code",
   "execution_count": null,
   "id": "faba38dab7f4a9ad",
   "metadata": {
    "ExecuteTime": {
     "start_time": "2023-11-07T15:43:35.612415517Z"
    },
    "collapsed": false
   },
   "outputs": [],
   "source": [
    "#X_train, y_train, X_test, y_test, _, _ = data_train_test(train_size=0.7)"
   ]
  }
 ],
 "metadata": {
  "kernelspec": {
   "display_name": "pia1",
   "language": "python",
   "name": "pia1"
  },
  "language_info": {
   "codemirror_mode": {
    "name": "ipython",
    "version": 3
   },
   "file_extension": ".py",
   "mimetype": "text/x-python",
   "name": "python",
   "nbconvert_exporter": "python",
   "pygments_lexer": "ipython3",
   "version": "3.10.9"
  }
 },
 "nbformat": 4,
 "nbformat_minor": 5
}
