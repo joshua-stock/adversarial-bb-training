{
 "cells": [
  {
   "cell_type": "code",
   "execution_count": null,
   "id": "initial_id",
   "metadata": {
    "ExecuteTime": {
     "start_time": "2023-11-03T11:31:45.992741609Z"
    },
    "collapsed": true,
    "is_executing": true
   },
   "outputs": [],
   "source": [
    "from tensorflow import keras"
   ]
  },
  {
   "cell_type": "code",
   "execution_count": 1,
   "id": "f15ee4d695a97d72",
   "metadata": {
    "ExecuteTime": {
     "end_time": "2023-11-03T11:28:19.188422561Z",
     "start_time": "2023-11-03T11:28:18.493122270Z"
    },
    "collapsed": false
   },
   "outputs": [],
   "source": [
    "from pia_functions import data_train_test"
   ]
  },
  {
   "cell_type": "code",
   "execution_count": null,
   "id": "3d8a9d532a4d438c",
   "metadata": {
    "ExecuteTime": {
     "start_time": "2023-11-03T11:27:56.676839050Z"
    },
    "collapsed": false
   },
   "outputs": [
    {
     "name": "stdout",
     "output_type": "stream",
     "text": [
      "Using TensorFlow backend\n"
     ]
    }
   ],
   "source": [
    "from kerastuner.tuners import RandomSearch"
   ]
  },
  {
   "cell_type": "code",
   "execution_count": 1,
   "id": "7d2fabfeaf8d4a5c",
   "metadata": {
    "collapsed": false
   },
   "outputs": [],
   "source": [
    "def build_model(hp):\n",
    "    model = keras.Sequential()\n",
    "    model.add(keras.layers.Dense(units=hp.Int('units', min_value=8, max_value=136, step=8)))\n",
    "    model.add(keras.layers.Dense(units=hp.Int('units', min_value=4, max_value=32, step=4)))\n",
    "    model.add(keras.layers.Dense(1))\n",
    "    \n",
    "    model.compile(optimizer='adam', loss=keras.losses.MeanSquaredError(), metrics=keras.metrics.R2Score())\n",
    "    return model"
   ]
  },
  {
   "cell_type": "code",
   "execution_count": 2,
   "id": "faba38dab7f4a9ad",
   "metadata": {
    "ExecuteTime": {
     "end_time": "2023-11-03T11:28:01.474413624Z",
     "start_time": "2023-11-03T11:28:01.236693268Z"
    },
    "collapsed": false
   },
   "outputs": [
    {
     "ename": "NameError",
     "evalue": "name 'data_train_test' is not defined",
     "output_type": "error",
     "traceback": [
      "\u001b[0;31m---------------------------------------------------------------------------\u001b[0m",
      "\u001b[0;31mNameError\u001b[0m                                 Traceback (most recent call last)",
      "Cell \u001b[0;32mIn[2], line 1\u001b[0m\n\u001b[0;32m----> 1\u001b[0m X_train, y_train, X_test, y_test, _, _ \u001b[38;5;241m=\u001b[39m \u001b[43mdata_train_test\u001b[49m(train_size\u001b[38;5;241m=\u001b[39m\u001b[38;5;241m0.7\u001b[39m)\n",
      "\u001b[0;31mNameError\u001b[0m: name 'data_train_test' is not defined"
     ]
    }
   ],
   "source": [
    "X_train, y_train, X_test, y_test, _, _ = data_train_test(train_size=0.7)"
   ]
  },
  {
   "cell_type": "code",
   "execution_count": null,
   "id": "62ce3f3754416f4",
   "metadata": {
    "collapsed": false
   },
   "outputs": [],
   "source": [
    "tuner = RandomSearch(\n",
    "    build_model,\n",
    "    objective = 'val_r2',\n",
    "    max_trials = 5,\n",
    "    executions_per_trial = 3,\n",
    ")"
   ]
  },
  {
   "cell_type": "code",
   "execution_count": null,
   "id": "870e521b3fa80836",
   "metadata": {
    "collapsed": false
   },
   "outputs": [],
   "source": [
    "tuner.search(X_train, y_train, epochs=15, validation_data=(X_test, y_test))"
   ]
  }
 ],
 "metadata": {
  "kernelspec": {
   "display_name": "pia",
   "language": "python",
   "name": "pia"
  },
  "language_info": {
   "codemirror_mode": {
    "name": "ipython",
    "version": 2
   },
   "file_extension": ".py",
   "mimetype": "text/x-python",
   "name": "python",
   "nbconvert_exporter": "python",
   "pygments_lexer": "ipython2",
   "version": "2.7.6"
  }
 },
 "nbformat": 4,
 "nbformat_minor": 5
}
