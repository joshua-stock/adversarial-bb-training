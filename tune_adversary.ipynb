{
 "cells": [
  {
   "cell_type": "code",
   "execution_count": 1,
   "id": "initial_id",
   "metadata": {
    "ExecuteTime": {
     "end_time": "2024-01-17T11:40:12.812482168Z",
     "start_time": "2024-01-17T11:40:09.808456824Z"
    },
    "tags": []
   },
   "outputs": [
    {
     "name": "stdout",
     "output_type": "stream",
     "text": [
      "Using TensorFlow backend\n"
     ]
    },
    {
     "name": "stderr",
     "output_type": "stream",
     "text": [
      "2024-01-17 11:39:37.091399: I tensorflow/tsl/cuda/cudart_stub.cc:28] Could not find cuda drivers on your machine, GPU will not be used.\n",
      "2024-01-17 11:39:37.131946: E tensorflow/compiler/xla/stream_executor/cuda/cuda_dnn.cc:9342] Unable to register cuDNN factory: Attempting to register factory for plugin cuDNN when one has already been registered\n",
      "2024-01-17 11:39:37.132023: E tensorflow/compiler/xla/stream_executor/cuda/cuda_fft.cc:609] Unable to register cuFFT factory: Attempting to register factory for plugin cuFFT when one has already been registered\n",
      "2024-01-17 11:39:37.132075: E tensorflow/compiler/xla/stream_executor/cuda/cuda_blas.cc:1518] Unable to register cuBLAS factory: Attempting to register factory for plugin cuBLAS when one has already been registered\n",
      "2024-01-17 11:39:37.143548: I tensorflow/tsl/cuda/cudart_stub.cc:28] Could not find cuda drivers on your machine, GPU will not be used.\n",
      "2024-01-17 11:39:37.144682: I tensorflow/core/platform/cpu_feature_guard.cc:182] This TensorFlow binary is optimized to use available CPU instructions in performance-critical operations.\n",
      "To enable the following instructions: AVX2 FMA, in other operations, rebuild TensorFlow with the appropriate compiler flags.\n",
      "2024-01-17 11:39:37.859175: W tensorflow/compiler/tf2tensorrt/utils/py_utils.cc:38] TF-TRT Warning: Could not find TensorRT\n"
     ]
    }
   ],
   "source": [
    "import keras_tuner\n",
    "from tensorflow import keras\n",
    "from keras_tuner.tuners import RandomSearch\n",
    "import pandas as pd"
   ]
  },
  {
   "cell_type": "code",
   "execution_count": 2,
   "id": "f15ee4d695a97d72",
   "metadata": {
    "ExecuteTime": {
     "end_time": "2024-01-17T11:40:22.092755345Z",
     "start_time": "2024-01-17T11:40:12.805851637Z"
    },
    "collapsed": false
   },
   "outputs": [],
   "source": [
    "#adv_df = pd.read_csv(\"./data/shadow_model_outputs.csv\")\n",
    "adv_df = pd.read_csv(\"data/shadow_model_outputs_proba-new.csv\")\n",
    "adv_ddf_shuffled = adv_df.sample(frac=1, random_state=1).reset_index(drop=True)#.drop(columns=[\"Unnamed: 0\"])\n",
    "adv_y = adv_ddf_shuffled[\"y\"]\n",
    "adv_X = adv_ddf_shuffled.drop(columns=[\"y\"])"
   ]
  },
  {
   "cell_type": "code",
   "execution_count": 3,
   "id": "3d8a9d532a4d438c",
   "metadata": {
    "ExecuteTime": {
     "end_time": "2024-01-17T11:40:26.468499372Z",
     "start_time": "2024-01-17T11:40:22.093280945Z"
    },
    "collapsed": false
   },
   "outputs": [],
   "source": [
    "adv_df_test = pd.read_csv(\"data/shadow_model_outputs_proba-new_test_set.csv\")\n",
    "#adv_df_test = pd.read_csv(\"./data/shadow_model_outputs_test_set.csv\")\n",
    "adv_ddf_shuffled_test = adv_df_test.sample(frac=1, random_state=1).reset_index(drop=True)#.drop(columns=[\"Unnamed: 0\"])\n",
    "adv_y_test = adv_ddf_shuffled_test[\"y\"]\n",
    "adv_X_test = adv_ddf_shuffled_test.drop(columns=[\"y\"])"
   ]
  },
  {
   "cell_type": "code",
   "execution_count": 4,
   "id": "3b2e58c46c956160",
   "metadata": {
    "ExecuteTime": {
     "end_time": "2024-01-17T11:40:26.469654441Z",
     "start_time": "2024-01-17T11:40:26.272787109Z"
    },
    "collapsed": false
   },
   "outputs": [],
   "source": [
    "class MyHyperModel(keras_tuner.HyperModel):\n",
    "    def build(self, hp):\n",
    "        model = keras.Sequential()\n",
    "        model.add(keras.layers.Dense(hp.Int('units_dense0', min_value=26, max_value=38, step=4)))\n",
    "        #if hp.Boolean(\"relu_dense0\"):\n",
    "        #    model.add(keras.layers.Activation(keras.activations.relu))\n",
    "        #model.add(keras.layers.Dropout(rate=hp.Float('dropout_rate', min_value=0.01, max_value=0.03, step=0.01)))\n",
    "        model.add(keras.layers.Dense(hp.Int('units_dense1', min_value=8, max_value=16, step=2)))\n",
    "        #if hp.Boolean(\"relu_dense1\"):\n",
    "        #    model.add(keras.layers.Activation(keras.activations.relu))\n",
    "        model.add(keras.layers.Dense(1))\n",
    "        model.compile(optimizer=\"adam\", loss=keras.losses.MeanSquaredError(), metrics=keras.metrics.R2Score())\n",
    "        return model\n",
    "    def fit(self, hp, model, *args, **kwargs):\n",
    "        return model.fit(\n",
    "            *args,\n",
    "            batch_size=hp.Choice(\"batch_size\", [24, 40]),\n",
    "            **kwargs,\n",
    "        )\n"
   ]
  },
  {
   "cell_type": "code",
   "execution_count": 5,
   "id": "62ce3f3754416f4",
   "metadata": {
    "ExecuteTime": {
     "end_time": "2024-01-17T11:40:26.494047655Z",
     "start_time": "2024-01-17T11:40:26.299460917Z"
    },
    "collapsed": false
   },
   "outputs": [],
   "source": [
    "from keras_tuner import Objective\n",
    "tuner = RandomSearch(\n",
    "    MyHyperModel(),\n",
    "    #objective=keras_tuner.Objective('val_r2_score', direction='max'),\n",
    "    objective = Objective(name=\"val_r2_score\", direction=\"max\"),\n",
    "    max_trials = 50,\n",
    "    executions_per_trial = 4,\n",
    "    tuner_id=\"17.01.regression.adversary.cgpt\"\n",
    ")"
   ]
  },
  {
   "cell_type": "code",
   "execution_count": 6,
   "id": "870e521b3fa80836",
   "metadata": {
    "collapsed": false
   },
   "outputs": [
    {
     "name": "stdout",
     "output_type": "stream",
     "text": [
      "Trial 38 Complete [00h 02m 24s]\n",
      "val_r2_score: 0.21999302506446838\n",
      "\n",
      "Best val_r2_score So Far: 0.3984571695327759\n",
      "Total elapsed time: 01h 11m 22s\n"
     ]
    }
   ],
   "source": [
    "tuner.search(adv_X, adv_y, epochs=200, validation_data=(adv_X_test, adv_y_test), callbacks=[keras.callbacks.EarlyStopping('val_r2_score', patience=30)])"
   ]
  },
  {
   "cell_type": "code",
   "execution_count": 7,
   "id": "f373e4e89d97638c",
   "metadata": {
    "ExecuteTime": {
     "end_time": "2024-01-17T14:10:14.269288959Z",
     "start_time": "2024-01-17T14:10:09.766468815Z"
    },
    "collapsed": false
   },
   "outputs": [],
   "source": [
    "models = tuner.get_best_models(num_models=5)"
   ]
  },
  {
   "cell_type": "code",
   "execution_count": 8,
   "id": "190d4075d56d9237",
   "metadata": {
    "ExecuteTime": {
     "end_time": "2024-01-17T14:10:14.270048724Z",
     "start_time": "2024-01-17T14:10:14.269191256Z"
    },
    "collapsed": false
   },
   "outputs": [
    {
     "name": "stdout",
     "output_type": "stream",
     "text": [
      "Results summary\n",
      "Results in ./untitled_project\n",
      "Showing 10 best trials\n",
      "Objective(name=\"val_r2_score\", direction=\"max\")\n",
      "\n",
      "Trial 22 summary\n",
      "Hyperparameters:\n",
      "units_dense0: 38\n",
      "units_dense1: 8\n",
      "batch_size: 24\n",
      "Score: 0.3984571695327759\n",
      "\n",
      "Trial 29 summary\n",
      "Hyperparameters:\n",
      "units_dense0: 34\n",
      "units_dense1: 14\n",
      "batch_size: 24\n",
      "Score: 0.37831732630729675\n",
      "\n",
      "Trial 10 summary\n",
      "Hyperparameters:\n",
      "units_dense0: 26\n",
      "units_dense1: 10\n",
      "batch_size: 24\n",
      "Score: 0.32180729508399963\n",
      "\n",
      "Trial 26 summary\n",
      "Hyperparameters:\n",
      "units_dense0: 26\n",
      "units_dense1: 14\n",
      "batch_size: 40\n",
      "Score: 0.29642558097839355\n",
      "\n",
      "Trial 33 summary\n",
      "Hyperparameters:\n",
      "units_dense0: 38\n",
      "units_dense1: 12\n",
      "batch_size: 24\n",
      "Score: 0.2648877501487732\n",
      "\n",
      "Trial 01 summary\n",
      "Hyperparameters:\n",
      "units_dense0: 26\n",
      "units_dense1: 12\n",
      "batch_size: 24\n",
      "Score: 0.2626178413629532\n",
      "\n",
      "Trial 06 summary\n",
      "Hyperparameters:\n",
      "units_dense0: 38\n",
      "units_dense1: 8\n",
      "batch_size: 40\n",
      "Score: 0.24058897793293\n",
      "\n",
      "Trial 11 summary\n",
      "Hyperparameters:\n",
      "units_dense0: 30\n",
      "units_dense1: 14\n",
      "batch_size: 24\n",
      "Score: 0.2312862128019333\n",
      "\n",
      "Trial 05 summary\n",
      "Hyperparameters:\n",
      "units_dense0: 26\n",
      "units_dense1: 8\n",
      "batch_size: 40\n",
      "Score: 0.22908048331737518\n",
      "\n",
      "Trial 19 summary\n",
      "Hyperparameters:\n",
      "units_dense0: 34\n",
      "units_dense1: 16\n",
      "batch_size: 24\n",
      "Score: 0.22512699663639069\n"
     ]
    }
   ],
   "source": [
    "tuner.results_summary()"
   ]
  },
  {
   "cell_type": "code",
   "execution_count": 9,
   "id": "40a598637b000634",
   "metadata": {
    "ExecuteTime": {
     "end_time": "2024-01-17T14:14:51.447312138Z",
     "start_time": "2024-01-17T14:14:51.446051323Z"
    },
    "collapsed": false
   },
   "outputs": [],
   "source": [
    "best_model = models[0]"
   ]
  },
  {
   "cell_type": "code",
   "execution_count": 10,
   "id": "9e82a29b865e9809",
   "metadata": {
    "ExecuteTime": {
     "end_time": "2024-01-17T14:14:52.193884158Z",
     "start_time": "2024-01-17T14:14:52.163241705Z"
    },
    "collapsed": false
   },
   "outputs": [],
   "source": [
    "best_model.build(input_shape=(None,adv_X.shape[1],))"
   ]
  },
  {
   "cell_type": "code",
   "execution_count": 37,
   "id": "5d202e4ec4b57061",
   "metadata": {
    "ExecuteTime": {
     "end_time": "2023-12-14T08:39:25.692267605Z",
     "start_time": "2023-12-14T08:39:25.691290859Z"
    },
    "collapsed": false
   },
   "outputs": [
    {
     "data": {
      "text/plain": [
       "0.01"
      ]
     },
     "execution_count": 37,
     "metadata": {},
     "output_type": "execute_result"
    }
   ],
   "source": [
    "best_model.layers[1].rate"
   ]
  },
  {
   "cell_type": "code",
   "execution_count": 11,
   "id": "bf4a661cf8609eed",
   "metadata": {
    "ExecuteTime": {
     "end_time": "2024-01-17T14:14:56.238079330Z",
     "start_time": "2024-01-17T14:14:56.192373519Z"
    },
    "collapsed": false
   },
   "outputs": [
    {
     "name": "stdout",
     "output_type": "stream",
     "text": [
      "Model: \"sequential\"\n",
      "_________________________________________________________________\n",
      " Layer (type)                Output Shape              Param #   \n",
      "=================================================================\n",
      " dense (Dense)               (None, 38)                380038    \n",
      "                                                                 \n",
      " dense_1 (Dense)             (None, 8)                 312       \n",
      "                                                                 \n",
      " dense_2 (Dense)             (None, 1)                 9         \n",
      "                                                                 \n",
      "=================================================================\n",
      "Total params: 380359 (1.45 MB)\n",
      "Trainable params: 380359 (1.45 MB)\n",
      "Non-trainable params: 0 (0.00 Byte)\n",
      "_________________________________________________________________\n"
     ]
    }
   ],
   "source": [
    "best_model.summary()"
   ]
  },
  {
   "cell_type": "code",
   "execution_count": 12,
   "id": "faba38dab7f4a9ad",
   "metadata": {
    "ExecuteTime": {
     "end_time": "2024-01-17T14:15:05.708180168Z",
     "start_time": "2024-01-17T14:15:04.863406573Z"
    },
    "collapsed": false
   },
   "outputs": [
    {
     "name": "stdout",
     "output_type": "stream",
     "text": [
      "WARNING:tensorflow:Skipping full serialization of Keras layer R2Score(name=r2_score,dtype=float32,class_aggregation=uniform_average,num_regressors=0), because it is not built.\n"
     ]
    },
    {
     "name": "stderr",
     "output_type": "stream",
     "text": [
      "WARNING:tensorflow:Skipping full serialization of Keras layer R2Score(name=r2_score,dtype=float32,class_aggregation=uniform_average,num_regressors=0), because it is not built.\n"
     ]
    },
    {
     "name": "stdout",
     "output_type": "stream",
     "text": [
      "INFO:tensorflow:Assets written to: adv_new_0.40_test_r2/assets\n"
     ]
    },
    {
     "name": "stderr",
     "output_type": "stream",
     "text": [
      "INFO:tensorflow:Assets written to: adv_new_0.40_test_r2/assets\n"
     ]
    }
   ],
   "source": [
    "best_model.save(\"adv_new_0.40_test_r2\")\n",
    "#X_train, y_train, X_test, y_test, _, _ = data_train_test(train_size=0.7)"
   ]
  },
  {
   "cell_type": "code",
   "execution_count": 40,
   "id": "6416edcaafdaac01",
   "metadata": {
    "ExecuteTime": {
     "end_time": "2023-12-14T08:40:53.062646670Z",
     "start_time": "2023-12-14T08:40:51.384868996Z"
    },
    "collapsed": false
   },
   "outputs": [
    {
     "name": "stdout",
     "output_type": "stream",
     "text": [
      "57/57 [==============================] - 0s 2ms/step\n"
     ]
    },
    {
     "data": {
      "text/plain": [
       "array([[0.5596606 ],\n",
       "       [0.4603508 ],\n",
       "       [0.4807027 ],\n",
       "       ...,\n",
       "       [0.62426335],\n",
       "       [0.4381116 ],\n",
       "       [0.584784  ]], dtype=float32)"
      ]
     },
     "execution_count": 40,
     "metadata": {},
     "output_type": "execute_result"
    }
   ],
   "source": [
    "best_model.predict(adv_X_test)"
   ]
  },
  {
   "cell_type": "code",
   "execution_count": 41,
   "id": "5e58146ffb844a4",
   "metadata": {
    "ExecuteTime": {
     "end_time": "2023-12-14T08:41:00.054016391Z",
     "start_time": "2023-12-14T08:41:00.052030025Z"
    },
    "collapsed": false
   },
   "outputs": [
    {
     "data": {
      "text/plain": [
       "0       0.8\n",
       "1       0.3\n",
       "2       0.4\n",
       "3       0.7\n",
       "4       0.5\n",
       "       ... \n",
       "1795    0.5\n",
       "1796    0.9\n",
       "1797    0.6\n",
       "1798    0.2\n",
       "1799    0.6\n",
       "Name: y, Length: 1800, dtype: float64"
      ]
     },
     "execution_count": 41,
     "metadata": {},
     "output_type": "execute_result"
    }
   ],
   "source": [
    "adv_y_test"
   ]
  },
  {
   "cell_type": "code",
   "execution_count": null,
   "id": "3eed2cad62100baa",
   "metadata": {
    "collapsed": false
   },
   "outputs": [],
   "source": []
  }
 ],
 "metadata": {
  "kernelspec": {
   "display_name": "pia1",
   "language": "python",
   "name": "pia1"
  },
  "language_info": {
   "codemirror_mode": {
    "name": "ipython",
    "version": 3
   },
   "file_extension": ".py",
   "mimetype": "text/x-python",
   "name": "python",
   "nbconvert_exporter": "python",
   "pygments_lexer": "ipython3",
   "version": "3.10.9"
  }
 },
 "nbformat": 4,
 "nbformat_minor": 5
}
