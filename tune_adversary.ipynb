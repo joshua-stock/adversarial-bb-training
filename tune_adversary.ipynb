{
 "cells": [
  {
   "cell_type": "code",
   "execution_count": 1,
   "id": "initial_id",
   "metadata": {
    "ExecuteTime": {
     "end_time": "2023-12-13T11:29:14.567683973Z",
     "start_time": "2023-12-13T11:29:11.638898458Z"
    },
    "tags": []
   },
   "outputs": [
    {
     "name": "stdout",
     "output_type": "stream",
     "text": [
      "Using TensorFlow backend\n"
     ]
    },
    {
     "name": "stderr",
     "output_type": "stream",
     "text": [
      "2023-12-13 11:28:55.233131: I tensorflow/tsl/cuda/cudart_stub.cc:28] Could not find cuda drivers on your machine, GPU will not be used.\n",
      "2023-12-13 11:28:55.269182: E tensorflow/compiler/xla/stream_executor/cuda/cuda_dnn.cc:9342] Unable to register cuDNN factory: Attempting to register factory for plugin cuDNN when one has already been registered\n",
      "2023-12-13 11:28:55.269228: E tensorflow/compiler/xla/stream_executor/cuda/cuda_fft.cc:609] Unable to register cuFFT factory: Attempting to register factory for plugin cuFFT when one has already been registered\n",
      "2023-12-13 11:28:55.269277: E tensorflow/compiler/xla/stream_executor/cuda/cuda_blas.cc:1518] Unable to register cuBLAS factory: Attempting to register factory for plugin cuBLAS when one has already been registered\n",
      "2023-12-13 11:28:55.279610: I tensorflow/tsl/cuda/cudart_stub.cc:28] Could not find cuda drivers on your machine, GPU will not be used.\n",
      "2023-12-13 11:28:55.280499: I tensorflow/core/platform/cpu_feature_guard.cc:182] This TensorFlow binary is optimized to use available CPU instructions in performance-critical operations.\n",
      "To enable the following instructions: AVX2 FMA, in other operations, rebuild TensorFlow with the appropriate compiler flags.\n",
      "2023-12-13 11:28:55.934021: W tensorflow/compiler/tf2tensorrt/utils/py_utils.cc:38] TF-TRT Warning: Could not find TensorRT\n"
     ]
    }
   ],
   "source": [
    "import keras_tuner\n",
    "from tensorflow import keras\n",
    "from keras_tuner.tuners import RandomSearch\n",
    "import pandas as pd"
   ]
  },
  {
   "cell_type": "code",
   "execution_count": 2,
   "id": "f15ee4d695a97d72",
   "metadata": {
    "ExecuteTime": {
     "end_time": "2023-12-13T11:29:40.101487728Z",
     "start_time": "2023-12-13T11:29:14.567833763Z"
    },
    "collapsed": false
   },
   "outputs": [],
   "source": [
    "#adv_df = pd.read_csv(\"./data/shadow_model_outputs.csv\")\n",
    "adv_df = pd.read_csv(\"data/shadow_model_outputs_proba.csv\")\n",
    "adv_ddf_shuffled = adv_df.sample(frac=1, random_state=1).reset_index(drop=True).drop(columns=[\"Unnamed: 0\"])\n",
    "adv_y = adv_ddf_shuffled[\"y\"]\n",
    "adv_X = adv_ddf_shuffled.drop(columns=[\"y\"])"
   ]
  },
  {
   "cell_type": "code",
   "execution_count": 3,
   "id": "3d8a9d532a4d438c",
   "metadata": {
    "ExecuteTime": {
     "end_time": "2023-12-13T11:29:52.800216453Z",
     "start_time": "2023-12-13T11:29:40.102326525Z"
    },
    "collapsed": false
   },
   "outputs": [],
   "source": [
    "adv_df_test = pd.read_csv(\"data/shadow_model_outputs_proba_test_set.csv\")\n",
    "#adv_df_test = pd.read_csv(\"./data/shadow_model_outputs_test_set.csv\")\n",
    "adv_ddf_shuffled_test = adv_df_test.sample(frac=1, random_state=1).reset_index(drop=True).drop(columns=[\"Unnamed: 0\"])\n",
    "adv_y_test = adv_ddf_shuffled_test[\"y\"]\n",
    "adv_X_test = adv_ddf_shuffled_test.drop(columns=[\"y\"])"
   ]
  },
  {
   "cell_type": "code",
   "execution_count": 4,
   "id": "7d2fabfeaf8d4a5c",
   "metadata": {
    "ExecuteTime": {
     "end_time": "2023-12-13T11:30:49.885393536Z",
     "start_time": "2023-12-13T11:30:49.880115714Z"
    },
    "collapsed": false
   },
   "outputs": [],
   "source": [
    "def build_model(hp):\n",
    "    model = keras.Sequential()\n",
    "    #model.add(keras.layers.Dense(units=8000, activation=\"relu\"))\n",
    "    #if hp.Boolean(\"lstm\"):\n",
    "        #model.add(keras.layers.Dropout(rate=0.1))\n",
    "    #    model.add(keras.layers.Reshape((adv_X.shape[1],1)))\n",
    "    #    model.add(keras.layers.LSTM(hp.Int('units_lstm', min_value=2, max_value=30, step=4), activation='relu', return_sequences=False, return_state=False))\n",
    "    #else:\n",
    "    #    model.add(keras.layers.Dense(units=hp.Int('units_dense1', min_value=8, max_value=64, step=8)))\n",
    "    \n",
    "    #model.add(keras.layers.Dense(units=hp.Int('units_dense1', min_value=45, max_value=47, step=1), activation=\"relu\"))\n",
    "    \n",
    "    model.add(keras.layers.Dense(46, activation=\"relu\"))\n",
    "    \n",
    "    model.add(keras.layers.Dropout(rate=hp.Float('dropout_rate', min_value=0.01, max_value=0.04, step=0.01)))\n",
    "    \n",
    "    #if hp.Boolean(\"dropout\"):\n",
    "    #model.add(keras.layers.Dropout(rate=0.1))\n",
    "    model.add(keras.layers.Dense(18, activation=\"relu\"))\n",
    "    #model.add(keras.layers.Dense(units=hp.Int('units_dense2', min_value=17, max_value=23, step=1), activation=\"relu\"))\n",
    "    model.add(keras.layers.Dense(1))\n",
    "    \n",
    "    model.compile(optimizer='adam', loss=keras.losses.MeanSquaredError(), metrics=keras.metrics.R2Score())\n",
    "    return model"
   ]
  },
  {
   "cell_type": "code",
   "execution_count": 20,
   "id": "3b2e58c46c956160",
   "metadata": {
    "ExecuteTime": {
     "end_time": "2023-12-13T11:57:50.095191788Z",
     "start_time": "2023-12-13T11:57:50.081997426Z"
    },
    "collapsed": false
   },
   "outputs": [],
   "source": [
    "class MyHyperModel(keras_tuner.HyperModel):\n",
    "    def build(self, hp):\n",
    "        model = keras.Sequential()\n",
    "        model.add(keras.layers.Dense(hp.Int('units_dense0', min_value=36, max_value=50, step=2)))\n",
    "        if hp.Boolean(\"relu_dense0\"):\n",
    "            model.add(keras.layers.Activation(keras.activations.relu))\n",
    "        model.add(keras.layers.Dropout(rate=hp.Float('dropout_rate', min_value=0.01, max_value=0.04, step=0.01)))\n",
    "        model.add(keras.layers.Dense(18))\n",
    "        if hp.Boolean(\"relu_dense1\"):\n",
    "            model.add(keras.layers.Activation(keras.activations.relu))\n",
    "        model.add(keras.layers.Dense(1))\n",
    "        model.compile(optimizer=hp.Choice(\"opti\", ['adam', 'RMSprop']), loss=keras.losses.MeanSquaredError(), metrics=keras.metrics.R2Score())\n",
    "        return model\n",
    "    def fit(self, hp, model, *args, **kwargs):\n",
    "        return model.fit(\n",
    "            *args,\n",
    "            batch_size=hp.Choice(\"batch_size\", [40, 64, 80, 96]),\n",
    "            **kwargs,\n",
    "        )\n"
   ]
  },
  {
   "cell_type": "code",
   "execution_count": 21,
   "id": "62ce3f3754416f4",
   "metadata": {
    "ExecuteTime": {
     "end_time": "2023-12-13T11:57:50.404630791Z",
     "start_time": "2023-12-13T11:57:50.389389811Z"
    },
    "collapsed": false
   },
   "outputs": [],
   "source": [
    "from keras_tuner import Objective\n",
    "tuner = RandomSearch(\n",
    "    MyHyperModel(),\n",
    "    #objective=keras_tuner.Objective('val_r2_score', direction='max'),\n",
    "    objective = Objective(name=\"val_r2_score\", direction=\"max\"),\n",
    "    max_trials = 50,\n",
    "    executions_per_trial = 4,\n",
    "    tuner_id=\"13.12.regression.adversary.cgpt\"\n",
    ")"
   ]
  },
  {
   "cell_type": "code",
   "execution_count": 22,
   "id": "870e521b3fa80836",
   "metadata": {
    "collapsed": false
   },
   "outputs": [
    {
     "name": "stdout",
     "output_type": "stream",
     "text": [
      "Trial 50 Complete [00h 02m 05s]\n",
      "val_r2_score: 0.2526484578847885\n",
      "\n",
      "Best val_r2_score So Far: 0.2885388433933258\n",
      "Total elapsed time: 00h 52m 58s\n"
     ]
    }
   ],
   "source": [
    "tuner.search(adv_X, adv_y, epochs=200, validation_data=(adv_X_test, adv_y_test), callbacks=[keras.callbacks.EarlyStopping('val_r2_score', patience=30)])"
   ]
  },
  {
   "cell_type": "code",
   "execution_count": 23,
   "id": "f373e4e89d97638c",
   "metadata": {
    "ExecuteTime": {
     "end_time": "2023-12-13T13:47:13.763312019Z",
     "start_time": "2023-12-13T13:47:11.346939552Z"
    },
    "collapsed": false
   },
   "outputs": [],
   "source": [
    "models = tuner.get_best_models(num_models=2)"
   ]
  },
  {
   "cell_type": "code",
   "execution_count": 29,
   "id": "190d4075d56d9237",
   "metadata": {
    "ExecuteTime": {
     "end_time": "2023-12-13T13:48:20.593801645Z",
     "start_time": "2023-12-13T13:48:20.549554724Z"
    },
    "collapsed": false
   },
   "outputs": [
    {
     "name": "stdout",
     "output_type": "stream",
     "text": [
      "Results summary\n",
      "Results in ./untitled_project\n",
      "Showing 10 best trials\n",
      "Objective(name=\"val_r2_score\", direction=\"max\")\n",
      "\n",
      "Trial 11 summary\n",
      "Hyperparameters:\n",
      "units_dense0: 40\n",
      "relu_dense0: False\n",
      "dropout_rate: 0.02\n",
      "relu_dense1: False\n",
      "opti: adam\n",
      "batch_size: 40\n",
      "Score: 0.2885388433933258\n",
      "\n",
      "Trial 17 summary\n",
      "Hyperparameters:\n",
      "units_dense0: 44\n",
      "relu_dense0: True\n",
      "dropout_rate: 0.02\n",
      "relu_dense1: True\n",
      "opti: adam\n",
      "batch_size: 64\n",
      "Score: 0.2639407217502594\n",
      "\n",
      "Trial 14 summary\n",
      "Hyperparameters:\n",
      "units_dense0: 48\n",
      "relu_dense0: False\n",
      "dropout_rate: 0.02\n",
      "relu_dense1: False\n",
      "opti: adam\n",
      "batch_size: 40\n",
      "Score: 0.2615743428468704\n",
      "\n",
      "Trial 49 summary\n",
      "Hyperparameters:\n",
      "units_dense0: 40\n",
      "relu_dense0: False\n",
      "dropout_rate: 0.03\n",
      "relu_dense1: False\n",
      "opti: RMSprop\n",
      "batch_size: 40\n",
      "Score: 0.2526484578847885\n",
      "\n",
      "Trial 47 summary\n",
      "Hyperparameters:\n",
      "units_dense0: 42\n",
      "relu_dense0: True\n",
      "dropout_rate: 0.03\n",
      "relu_dense1: True\n",
      "opti: adam\n",
      "batch_size: 96\n",
      "Score: 0.2372029572725296\n",
      "\n",
      "Trial 48 summary\n",
      "Hyperparameters:\n",
      "units_dense0: 50\n",
      "relu_dense0: True\n",
      "dropout_rate: 0.01\n",
      "relu_dense1: True\n",
      "opti: adam\n",
      "batch_size: 80\n",
      "Score: 0.23486724495887756\n",
      "\n",
      "Trial 35 summary\n",
      "Hyperparameters:\n",
      "units_dense0: 48\n",
      "relu_dense0: False\n",
      "dropout_rate: 0.01\n",
      "relu_dense1: True\n",
      "opti: adam\n",
      "batch_size: 64\n",
      "Score: 0.22726164758205414\n",
      "\n",
      "Trial 19 summary\n",
      "Hyperparameters:\n",
      "units_dense0: 42\n",
      "relu_dense0: True\n",
      "dropout_rate: 0.01\n",
      "relu_dense1: True\n",
      "opti: adam\n",
      "batch_size: 80\n",
      "Score: 0.2231922298669815\n",
      "\n",
      "Trial 43 summary\n",
      "Hyperparameters:\n",
      "units_dense0: 44\n",
      "relu_dense0: True\n",
      "dropout_rate: 0.03\n",
      "relu_dense1: True\n",
      "opti: adam\n",
      "batch_size: 96\n",
      "Score: 0.21682223677635193\n",
      "\n",
      "Trial 06 summary\n",
      "Hyperparameters:\n",
      "units_dense0: 50\n",
      "relu_dense0: True\n",
      "dropout_rate: 0.02\n",
      "relu_dense1: True\n",
      "opti: adam\n",
      "batch_size: 40\n",
      "Score: 0.21636436879634857\n"
     ]
    }
   ],
   "source": [
    "tuner.results_summary()"
   ]
  },
  {
   "cell_type": "code",
   "execution_count": 24,
   "id": "40a598637b000634",
   "metadata": {
    "ExecuteTime": {
     "end_time": "2023-12-13T13:47:13.764521048Z",
     "start_time": "2023-12-13T13:47:13.763897624Z"
    },
    "collapsed": false
   },
   "outputs": [],
   "source": [
    "best_model = models[0]"
   ]
  },
  {
   "cell_type": "code",
   "execution_count": 25,
   "id": "9e82a29b865e9809",
   "metadata": {
    "ExecuteTime": {
     "end_time": "2023-12-13T13:47:13.775907648Z",
     "start_time": "2023-12-13T13:47:13.764094806Z"
    },
    "collapsed": false
   },
   "outputs": [],
   "source": [
    "best_model.build(input_shape=(None,adv_X.shape[1],))"
   ]
  },
  {
   "cell_type": "code",
   "execution_count": 27,
   "id": "5d202e4ec4b57061",
   "metadata": {
    "ExecuteTime": {
     "end_time": "2023-12-13T13:47:25.685242118Z",
     "start_time": "2023-12-13T13:47:25.682884612Z"
    },
    "collapsed": false
   },
   "outputs": [
    {
     "data": {
      "text/plain": [
       "0.02"
      ]
     },
     "execution_count": 27,
     "metadata": {},
     "output_type": "execute_result"
    }
   ],
   "source": [
    "best_model.layers[1].rate"
   ]
  },
  {
   "cell_type": "code",
   "execution_count": 26,
   "id": "bf4a661cf8609eed",
   "metadata": {
    "ExecuteTime": {
     "end_time": "2023-12-13T13:47:15.723001685Z",
     "start_time": "2023-12-13T13:47:15.667307904Z"
    },
    "collapsed": false
   },
   "outputs": [
    {
     "name": "stdout",
     "output_type": "stream",
     "text": [
      "Model: \"sequential\"\n",
      "_________________________________________________________________\n",
      " Layer (type)                Output Shape              Param #   \n",
      "=================================================================\n",
      " dense (Dense)               (None, 40)                800120    \n",
      "                                                                 \n",
      " dropout (Dropout)           (None, 40)                0         \n",
      "                                                                 \n",
      " dense_1 (Dense)             (None, 18)                738       \n",
      "                                                                 \n",
      " dense_2 (Dense)             (None, 1)                 19        \n",
      "                                                                 \n",
      "=================================================================\n",
      "Total params: 800877 (3.06 MB)\n",
      "Trainable params: 800877 (3.06 MB)\n",
      "Non-trainable params: 0 (0.00 Byte)\n",
      "_________________________________________________________________\n"
     ]
    }
   ],
   "source": [
    "best_model.summary()"
   ]
  },
  {
   "cell_type": "code",
   "execution_count": null,
   "id": "faba38dab7f4a9ad",
   "metadata": {
    "ExecuteTime": {
     "start_time": "2023-11-07T15:43:35.612415517Z"
    },
    "collapsed": false
   },
   "outputs": [],
   "source": [
    "#X_train, y_train, X_test, y_test, _, _ = data_train_test(train_size=0.7)"
   ]
  }
 ],
 "metadata": {
  "kernelspec": {
   "display_name": "pia1",
   "language": "python",
   "name": "pia1"
  },
  "language_info": {
   "codemirror_mode": {
    "name": "ipython",
    "version": 3
   },
   "file_extension": ".py",
   "mimetype": "text/x-python",
   "name": "python",
   "nbconvert_exporter": "python",
   "pygments_lexer": "ipython3",
   "version": "3.10.9"
  }
 },
 "nbformat": 4,
 "nbformat_minor": 5
}
