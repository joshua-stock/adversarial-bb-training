{
 "cells": [
  {
   "cell_type": "code",
   "execution_count": null,
   "id": "73423984ecbf2895",
   "metadata": {
    "collapsed": false
   },
   "outputs": [],
   "source": [
    "# For data profiling and pycaret\n",
    "!pip install \"matplotlib>=3.2,<=3.7.3\"\n",
    "!pip install \"ydata-profiling>4.4,<4.5\" pycaret\n",
    "!pip install tensorflow sdv"
   ]
  },
  {
   "cell_type": "code",
   "execution_count": 1,
   "id": "4d2c52b6448e4205",
   "metadata": {
    "ExecuteTime": {
     "end_time": "2023-12-04T12:48:35.013291239Z",
     "start_time": "2023-12-04T12:48:30.744510453Z"
    },
    "collapsed": false
   },
   "outputs": [
    {
     "name": "stderr",
     "output_type": "stream",
     "text": [
      "2023-12-04 12:48:18.963196: I tensorflow/tsl/cuda/cudart_stub.cc:28] Could not find cuda drivers on your machine, GPU will not be used.\n",
      "2023-12-04 12:48:19.175310: E tensorflow/compiler/xla/stream_executor/cuda/cuda_dnn.cc:9342] Unable to register cuDNN factory: Attempting to register factory for plugin cuDNN when one has already been registered\n",
      "2023-12-04 12:48:19.175365: E tensorflow/compiler/xla/stream_executor/cuda/cuda_fft.cc:609] Unable to register cuFFT factory: Attempting to register factory for plugin cuFFT when one has already been registered\n",
      "2023-12-04 12:48:19.176480: E tensorflow/compiler/xla/stream_executor/cuda/cuda_blas.cc:1518] Unable to register cuBLAS factory: Attempting to register factory for plugin cuBLAS when one has already been registered\n",
      "2023-12-04 12:48:19.285731: I tensorflow/tsl/cuda/cudart_stub.cc:28] Could not find cuda drivers on your machine, GPU will not be used.\n",
      "2023-12-04 12:48:19.287431: I tensorflow/core/platform/cpu_feature_guard.cc:182] This TensorFlow binary is optimized to use available CPU instructions in performance-critical operations.\n",
      "To enable the following instructions: AVX2 FMA, in other operations, rebuild TensorFlow with the appropriate compiler flags.\n",
      "2023-12-04 12:48:20.404279: W tensorflow/compiler/tf2tensorrt/utils/py_utils.cc:38] TF-TRT Warning: Could not find TensorRT\n"
     ]
    }
   ],
   "source": [
    "import pandas as pd\n",
    "import numpy as np\n",
    "from tensorflow import keras"
   ]
  },
  {
   "cell_type": "markdown",
   "id": "dff542f0c8303f91",
   "metadata": {
    "collapsed": false
   },
   "source": [
    "## Setup\n",
    "conda create --name \"pia-tf\" python=3.10.9 ipython\n",
    "conda activate pia-tf\n",
    "conda install jupyter pip\n",
    "pip install pandas numpy tensorflow keras-tuner\n",
    "conda deactivate && python -m ipykernel install --user --name pia-tf\n",
    "nano ~/.local/share/jupyter/kernels/pia-tf/kernel.json"
   ]
  },
  {
   "cell_type": "markdown",
   "id": "8cef951ab940b36f",
   "metadata": {
    "collapsed": false
   },
   "source": [
    "## Ideas\n",
    "\n",
    "If adversary does not work, predict -> predict_proba to get more information"
   ]
  },
  {
   "cell_type": "code",
   "execution_count": 2,
   "id": "initial_id",
   "metadata": {
    "ExecuteTime": {
     "end_time": "2023-11-02T16:48:34.788886071Z",
     "start_time": "2023-11-02T16:48:32.698448368Z"
    },
    "collapsed": false
   },
   "outputs": [],
   "source": [
    "from sdv.single_table import CTGANSynthesizer\n",
    "from sdv.metadata import SingleTableMetadata\n",
    "from pia_functions import data_train_test, get_distributed_adult_sets, generate_shadow_model_outputs, train_gradient_boosting_shadow_model"
   ]
  },
  {
   "cell_type": "markdown",
   "id": "6491152df6e7f325",
   "metadata": {
    "collapsed": false
   },
   "source": [
    "### Generate training data for shadow models"
   ]
  },
  {
   "cell_type": "code",
   "execution_count": null,
   "id": "8cf0633c8de98074",
   "metadata": {
    "collapsed": false
   },
   "outputs": [],
   "source": [
    "n_shadow_models=200\n",
    "distributions=[0.1, 0.2, 0.3, 0.4, 0.5, 0.6, 0.7, 0.8, 0.9]"
   ]
  },
  {
   "cell_type": "code",
   "execution_count": 23,
   "id": "adde3f38057445c0",
   "metadata": {
    "ExecuteTime": {
     "end_time": "2023-11-02T16:24:40.911841937Z",
     "start_time": "2023-11-02T16:24:40.342020705Z"
    },
    "collapsed": false
   },
   "outputs": [],
   "source": [
    "X_train, X_test, y_train, y_test, sensitive, sensitive_t = data_train_test()"
   ]
  },
  {
   "cell_type": "code",
   "execution_count": 13,
   "id": "60ac3040004ae21a",
   "metadata": {
    "ExecuteTime": {
     "end_time": "2023-11-02T15:41:10.508102179Z",
     "start_time": "2023-11-02T15:41:10.450313158Z"
    },
    "collapsed": false
   },
   "outputs": [
    {
     "data": {
      "text/html": [
       "<div>\n",
       "<style scoped>\n",
       "    .dataframe tbody tr th:only-of-type {\n",
       "        vertical-align: middle;\n",
       "    }\n",
       "\n",
       "    .dataframe tbody tr th {\n",
       "        vertical-align: top;\n",
       "    }\n",
       "\n",
       "    .dataframe thead th {\n",
       "        text-align: right;\n",
       "    }\n",
       "</style>\n",
       "<table border=\"1\" class=\"dataframe\">\n",
       "  <thead>\n",
       "    <tr style=\"text-align: right;\">\n",
       "      <th></th>\n",
       "      <th>Unnamed: 0</th>\n",
       "      <th>0</th>\n",
       "      <th>1</th>\n",
       "      <th>2</th>\n",
       "      <th>3</th>\n",
       "      <th>4</th>\n",
       "      <th>5</th>\n",
       "      <th>6</th>\n",
       "      <th>7</th>\n",
       "      <th>8</th>\n",
       "      <th>...</th>\n",
       "      <th>69</th>\n",
       "      <th>70</th>\n",
       "      <th>71</th>\n",
       "      <th>72</th>\n",
       "      <th>73</th>\n",
       "      <th>74</th>\n",
       "      <th>75</th>\n",
       "      <th>76</th>\n",
       "      <th>77</th>\n",
       "      <th>78</th>\n",
       "    </tr>\n",
       "  </thead>\n",
       "  <tbody>\n",
       "    <tr>\n",
       "      <th>0</th>\n",
       "      <td>0</td>\n",
       "      <td>0.312424</td>\n",
       "      <td>0.000000</td>\n",
       "      <td>0.0</td>\n",
       "      <td>0.094047</td>\n",
       "      <td>0.0</td>\n",
       "      <td>0.0</td>\n",
       "      <td>0.0</td>\n",
       "      <td>0.0</td>\n",
       "      <td>1.0</td>\n",
       "      <td>...</td>\n",
       "      <td>0.0</td>\n",
       "      <td>0.0</td>\n",
       "      <td>0.0</td>\n",
       "      <td>0.0</td>\n",
       "      <td>0.0</td>\n",
       "      <td>0.0</td>\n",
       "      <td>1.0</td>\n",
       "      <td>0.0</td>\n",
       "      <td>0.0</td>\n",
       "      <td>1.0</td>\n",
       "    </tr>\n",
       "    <tr>\n",
       "      <th>1</th>\n",
       "      <td>1</td>\n",
       "      <td>0.397083</td>\n",
       "      <td>0.004028</td>\n",
       "      <td>0.0</td>\n",
       "      <td>0.399298</td>\n",
       "      <td>0.0</td>\n",
       "      <td>0.0</td>\n",
       "      <td>0.0</td>\n",
       "      <td>0.0</td>\n",
       "      <td>1.0</td>\n",
       "      <td>...</td>\n",
       "      <td>0.0</td>\n",
       "      <td>0.0</td>\n",
       "      <td>0.0</td>\n",
       "      <td>0.0</td>\n",
       "      <td>0.0</td>\n",
       "      <td>0.0</td>\n",
       "      <td>1.0</td>\n",
       "      <td>0.0</td>\n",
       "      <td>0.0</td>\n",
       "      <td>1.0</td>\n",
       "    </tr>\n",
       "    <tr>\n",
       "      <th>2</th>\n",
       "      <td>2</td>\n",
       "      <td>0.801682</td>\n",
       "      <td>0.000000</td>\n",
       "      <td>0.0</td>\n",
       "      <td>0.499176</td>\n",
       "      <td>0.0</td>\n",
       "      <td>0.0</td>\n",
       "      <td>0.0</td>\n",
       "      <td>0.0</td>\n",
       "      <td>1.0</td>\n",
       "      <td>...</td>\n",
       "      <td>0.0</td>\n",
       "      <td>0.0</td>\n",
       "      <td>0.0</td>\n",
       "      <td>0.0</td>\n",
       "      <td>0.0</td>\n",
       "      <td>0.0</td>\n",
       "      <td>0.0</td>\n",
       "      <td>0.0</td>\n",
       "      <td>0.0</td>\n",
       "      <td>1.0</td>\n",
       "    </tr>\n",
       "    <tr>\n",
       "      <th>3</th>\n",
       "      <td>3</td>\n",
       "      <td>0.421440</td>\n",
       "      <td>0.003712</td>\n",
       "      <td>0.0</td>\n",
       "      <td>0.394823</td>\n",
       "      <td>0.0</td>\n",
       "      <td>0.0</td>\n",
       "      <td>0.0</td>\n",
       "      <td>0.0</td>\n",
       "      <td>0.0</td>\n",
       "      <td>...</td>\n",
       "      <td>0.0</td>\n",
       "      <td>1.0</td>\n",
       "      <td>0.0</td>\n",
       "      <td>0.0</td>\n",
       "      <td>0.0</td>\n",
       "      <td>0.0</td>\n",
       "      <td>0.0</td>\n",
       "      <td>0.0</td>\n",
       "      <td>0.0</td>\n",
       "      <td>1.0</td>\n",
       "    </tr>\n",
       "    <tr>\n",
       "      <th>4</th>\n",
       "      <td>4</td>\n",
       "      <td>0.419976</td>\n",
       "      <td>0.000000</td>\n",
       "      <td>0.0</td>\n",
       "      <td>0.392910</td>\n",
       "      <td>0.0</td>\n",
       "      <td>0.0</td>\n",
       "      <td>0.0</td>\n",
       "      <td>0.0</td>\n",
       "      <td>1.0</td>\n",
       "      <td>...</td>\n",
       "      <td>0.0</td>\n",
       "      <td>0.0</td>\n",
       "      <td>0.0</td>\n",
       "      <td>1.0</td>\n",
       "      <td>0.0</td>\n",
       "      <td>0.0</td>\n",
       "      <td>0.0</td>\n",
       "      <td>0.0</td>\n",
       "      <td>1.0</td>\n",
       "      <td>1.0</td>\n",
       "    </tr>\n",
       "    <tr>\n",
       "      <th>...</th>\n",
       "      <td>...</td>\n",
       "      <td>...</td>\n",
       "      <td>...</td>\n",
       "      <td>...</td>\n",
       "      <td>...</td>\n",
       "      <td>...</td>\n",
       "      <td>...</td>\n",
       "      <td>...</td>\n",
       "      <td>...</td>\n",
       "      <td>...</td>\n",
       "      <td>...</td>\n",
       "      <td>...</td>\n",
       "      <td>...</td>\n",
       "      <td>...</td>\n",
       "      <td>...</td>\n",
       "      <td>...</td>\n",
       "      <td>...</td>\n",
       "      <td>...</td>\n",
       "      <td>...</td>\n",
       "      <td>...</td>\n",
       "      <td>...</td>\n",
       "    </tr>\n",
       "    <tr>\n",
       "      <th>9995</th>\n",
       "      <td>9995</td>\n",
       "      <td>0.817372</td>\n",
       "      <td>0.000000</td>\n",
       "      <td>0.0</td>\n",
       "      <td>0.398106</td>\n",
       "      <td>0.0</td>\n",
       "      <td>0.0</td>\n",
       "      <td>0.0</td>\n",
       "      <td>0.0</td>\n",
       "      <td>1.0</td>\n",
       "      <td>...</td>\n",
       "      <td>0.0</td>\n",
       "      <td>0.0</td>\n",
       "      <td>0.0</td>\n",
       "      <td>0.0</td>\n",
       "      <td>0.0</td>\n",
       "      <td>0.0</td>\n",
       "      <td>0.0</td>\n",
       "      <td>0.0</td>\n",
       "      <td>0.0</td>\n",
       "      <td>1.0</td>\n",
       "    </tr>\n",
       "    <tr>\n",
       "      <th>9996</th>\n",
       "      <td>9996</td>\n",
       "      <td>0.534707</td>\n",
       "      <td>0.000000</td>\n",
       "      <td>0.0</td>\n",
       "      <td>0.393522</td>\n",
       "      <td>0.0</td>\n",
       "      <td>0.0</td>\n",
       "      <td>0.0</td>\n",
       "      <td>0.0</td>\n",
       "      <td>0.0</td>\n",
       "      <td>...</td>\n",
       "      <td>0.0</td>\n",
       "      <td>0.0</td>\n",
       "      <td>0.0</td>\n",
       "      <td>0.0</td>\n",
       "      <td>0.0</td>\n",
       "      <td>0.0</td>\n",
       "      <td>0.0</td>\n",
       "      <td>0.0</td>\n",
       "      <td>1.0</td>\n",
       "      <td>1.0</td>\n",
       "    </tr>\n",
       "    <tr>\n",
       "      <th>9997</th>\n",
       "      <td>9997</td>\n",
       "      <td>0.794512</td>\n",
       "      <td>0.160842</td>\n",
       "      <td>0.0</td>\n",
       "      <td>0.402341</td>\n",
       "      <td>0.0</td>\n",
       "      <td>0.0</td>\n",
       "      <td>0.0</td>\n",
       "      <td>0.0</td>\n",
       "      <td>1.0</td>\n",
       "      <td>...</td>\n",
       "      <td>0.0</td>\n",
       "      <td>0.0</td>\n",
       "      <td>0.0</td>\n",
       "      <td>0.0</td>\n",
       "      <td>0.0</td>\n",
       "      <td>0.0</td>\n",
       "      <td>0.0</td>\n",
       "      <td>0.0</td>\n",
       "      <td>0.0</td>\n",
       "      <td>1.0</td>\n",
       "    </tr>\n",
       "    <tr>\n",
       "      <th>9998</th>\n",
       "      <td>9998</td>\n",
       "      <td>0.213765</td>\n",
       "      <td>0.003364</td>\n",
       "      <td>0.0</td>\n",
       "      <td>0.397423</td>\n",
       "      <td>0.0</td>\n",
       "      <td>0.0</td>\n",
       "      <td>1.0</td>\n",
       "      <td>0.0</td>\n",
       "      <td>1.0</td>\n",
       "      <td>...</td>\n",
       "      <td>0.0</td>\n",
       "      <td>1.0</td>\n",
       "      <td>0.0</td>\n",
       "      <td>0.0</td>\n",
       "      <td>0.0</td>\n",
       "      <td>0.0</td>\n",
       "      <td>1.0</td>\n",
       "      <td>0.0</td>\n",
       "      <td>1.0</td>\n",
       "      <td>0.0</td>\n",
       "    </tr>\n",
       "    <tr>\n",
       "      <th>9999</th>\n",
       "      <td>9999</td>\n",
       "      <td>0.780324</td>\n",
       "      <td>0.000000</td>\n",
       "      <td>0.0</td>\n",
       "      <td>0.394290</td>\n",
       "      <td>0.0</td>\n",
       "      <td>0.0</td>\n",
       "      <td>0.0</td>\n",
       "      <td>0.0</td>\n",
       "      <td>1.0</td>\n",
       "      <td>...</td>\n",
       "      <td>0.0</td>\n",
       "      <td>1.0</td>\n",
       "      <td>0.0</td>\n",
       "      <td>0.0</td>\n",
       "      <td>0.0</td>\n",
       "      <td>0.0</td>\n",
       "      <td>0.0</td>\n",
       "      <td>0.0</td>\n",
       "      <td>1.0</td>\n",
       "      <td>1.0</td>\n",
       "    </tr>\n",
       "  </tbody>\n",
       "</table>\n",
       "<p>10000 rows × 80 columns</p>\n",
       "</div>"
      ],
      "text/plain": [
       "      Unnamed: 0         0         1    2         3    4    5    6    7    8  \\\n",
       "0              0  0.312424  0.000000  0.0  0.094047  0.0  0.0  0.0  0.0  1.0   \n",
       "1              1  0.397083  0.004028  0.0  0.399298  0.0  0.0  0.0  0.0  1.0   \n",
       "2              2  0.801682  0.000000  0.0  0.499176  0.0  0.0  0.0  0.0  1.0   \n",
       "3              3  0.421440  0.003712  0.0  0.394823  0.0  0.0  0.0  0.0  0.0   \n",
       "4              4  0.419976  0.000000  0.0  0.392910  0.0  0.0  0.0  0.0  1.0   \n",
       "...          ...       ...       ...  ...       ...  ...  ...  ...  ...  ...   \n",
       "9995        9995  0.817372  0.000000  0.0  0.398106  0.0  0.0  0.0  0.0  1.0   \n",
       "9996        9996  0.534707  0.000000  0.0  0.393522  0.0  0.0  0.0  0.0  0.0   \n",
       "9997        9997  0.794512  0.160842  0.0  0.402341  0.0  0.0  0.0  0.0  1.0   \n",
       "9998        9998  0.213765  0.003364  0.0  0.397423  0.0  0.0  1.0  0.0  1.0   \n",
       "9999        9999  0.780324  0.000000  0.0  0.394290  0.0  0.0  0.0  0.0  1.0   \n",
       "\n",
       "      ...   69   70   71   72   73   74   75   76   77   78  \n",
       "0     ...  0.0  0.0  0.0  0.0  0.0  0.0  1.0  0.0  0.0  1.0  \n",
       "1     ...  0.0  0.0  0.0  0.0  0.0  0.0  1.0  0.0  0.0  1.0  \n",
       "2     ...  0.0  0.0  0.0  0.0  0.0  0.0  0.0  0.0  0.0  1.0  \n",
       "3     ...  0.0  1.0  0.0  0.0  0.0  0.0  0.0  0.0  0.0  1.0  \n",
       "4     ...  0.0  0.0  0.0  1.0  0.0  0.0  0.0  0.0  1.0  1.0  \n",
       "...   ...  ...  ...  ...  ...  ...  ...  ...  ...  ...  ...  \n",
       "9995  ...  0.0  0.0  0.0  0.0  0.0  0.0  0.0  0.0  0.0  1.0  \n",
       "9996  ...  0.0  0.0  0.0  0.0  0.0  0.0  0.0  0.0  1.0  1.0  \n",
       "9997  ...  0.0  0.0  0.0  0.0  0.0  0.0  0.0  0.0  0.0  1.0  \n",
       "9998  ...  0.0  1.0  0.0  0.0  0.0  0.0  1.0  0.0  1.0  0.0  \n",
       "9999  ...  0.0  1.0  0.0  0.0  0.0  0.0  0.0  0.0  1.0  1.0  \n",
       "\n",
       "[10000 rows x 80 columns]"
      ]
     },
     "execution_count": 13,
     "metadata": {},
     "output_type": "execute_result"
    }
   ],
   "source": [
    "model_input"
   ]
  },
  {
   "cell_type": "code",
   "execution_count": 15,
   "id": "70300b02ce1dc6e5",
   "metadata": {
    "ExecuteTime": {
     "end_time": "2023-11-02T15:44:44.115123136Z",
     "start_time": "2023-11-02T15:44:43.947862808Z"
    },
    "collapsed": false
   },
   "outputs": [],
   "source": [
    "model_input = pd.read_csv(\"data/syn_data.csv\", names=X_train.columns)"
   ]
  },
  {
   "cell_type": "code",
   "execution_count": null,
   "id": "a18e584a017832f1",
   "metadata": {
    "collapsed": false
   },
   "outputs": [],
   "source": [
    "distributed_datasets = get_distributed_adult_sets(distributions=distributions)"
   ]
  },
  {
   "cell_type": "markdown",
   "id": "f86d94488c6cda5c",
   "metadata": {
    "collapsed": false
   },
   "source": [
    "## Generate synthetic data for model output"
   ]
  },
  {
   "cell_type": "code",
   "execution_count": 4,
   "id": "4966977f245991b",
   "metadata": {
    "ExecuteTime": {
     "end_time": "2023-11-02T13:45:47.063229923Z",
     "start_time": "2023-11-02T13:45:46.705563600Z"
    },
    "collapsed": false
   },
   "outputs": [],
   "source": [
    "output_size = 10000\n",
    "metadata = SingleTableMetadata()\n",
    "to_fit = pd.DataFrame(np.concatenate((X_train, X_test)), columns=[str(i) for i in range(79)])\n",
    "#to_fit = to_fit.astype({i: 'int' for i in range(4,79)})\n",
    "#to_fit[\"index\"] = to_fit.index\n",
    "#to_fit = to_fit.astype({\"index\": 'string'})\n",
    "metadata.detect_from_dataframe(data=to_fit)"
   ]
  },
  {
   "cell_type": "code",
   "execution_count": 7,
   "id": "256f653a46f92733",
   "metadata": {
    "ExecuteTime": {
     "end_time": "2023-11-02T12:55:23.395722216Z",
     "start_time": "2023-11-02T12:55:23.380444040Z"
    },
    "collapsed": false
   },
   "outputs": [
    {
     "data": {
      "text/plain": [
       "{'METADATA_SPEC_VERSION': 'SINGLE_TABLE_V1',\n",
       " 'columns': {'0': {'sdtype': 'numerical'},\n",
       "  '1': {'sdtype': 'numerical'},\n",
       "  '2': {'sdtype': 'numerical'},\n",
       "  '3': {'sdtype': 'numerical'},\n",
       "  '4': {'sdtype': 'categorical'},\n",
       "  '5': {'sdtype': 'categorical'},\n",
       "  '6': {'sdtype': 'categorical'},\n",
       "  '7': {'sdtype': 'categorical'},\n",
       "  '8': {'sdtype': 'categorical'},\n",
       "  '9': {'sdtype': 'categorical'},\n",
       "  '10': {'sdtype': 'categorical'},\n",
       "  '11': {'sdtype': 'categorical'},\n",
       "  '12': {'sdtype': 'categorical'},\n",
       "  '13': {'sdtype': 'categorical'},\n",
       "  '14': {'sdtype': 'categorical'},\n",
       "  '15': {'sdtype': 'categorical'},\n",
       "  '16': {'sdtype': 'categorical'},\n",
       "  '17': {'sdtype': 'categorical'},\n",
       "  '18': {'sdtype': 'categorical'},\n",
       "  '19': {'sdtype': 'categorical'},\n",
       "  '20': {'sdtype': 'categorical'},\n",
       "  '21': {'sdtype': 'categorical'},\n",
       "  '22': {'sdtype': 'categorical'},\n",
       "  '23': {'sdtype': 'categorical'},\n",
       "  '24': {'sdtype': 'categorical'},\n",
       "  '25': {'sdtype': 'categorical'},\n",
       "  '26': {'sdtype': 'categorical'},\n",
       "  '27': {'sdtype': 'categorical'},\n",
       "  '28': {'sdtype': 'categorical'},\n",
       "  '29': {'sdtype': 'categorical'},\n",
       "  '30': {'sdtype': 'categorical'},\n",
       "  '31': {'sdtype': 'categorical'},\n",
       "  '32': {'sdtype': 'categorical'},\n",
       "  '33': {'sdtype': 'categorical'},\n",
       "  '34': {'sdtype': 'categorical'},\n",
       "  '35': {'sdtype': 'categorical'},\n",
       "  '36': {'sdtype': 'categorical'},\n",
       "  '37': {'sdtype': 'categorical'},\n",
       "  '38': {'sdtype': 'categorical'},\n",
       "  '39': {'sdtype': 'categorical'},\n",
       "  '40': {'sdtype': 'categorical'},\n",
       "  '41': {'sdtype': 'categorical'},\n",
       "  '42': {'sdtype': 'categorical'},\n",
       "  '43': {'sdtype': 'categorical'},\n",
       "  '44': {'sdtype': 'categorical'},\n",
       "  '45': {'sdtype': 'categorical'},\n",
       "  '46': {'sdtype': 'categorical'},\n",
       "  '47': {'sdtype': 'categorical'},\n",
       "  '48': {'sdtype': 'categorical'},\n",
       "  '49': {'sdtype': 'categorical'},\n",
       "  '50': {'sdtype': 'categorical'},\n",
       "  '51': {'sdtype': 'categorical'},\n",
       "  '52': {'sdtype': 'categorical'},\n",
       "  '53': {'sdtype': 'categorical'},\n",
       "  '54': {'sdtype': 'categorical'},\n",
       "  '55': {'sdtype': 'categorical'},\n",
       "  '56': {'sdtype': 'categorical'},\n",
       "  '57': {'sdtype': 'categorical'},\n",
       "  '58': {'sdtype': 'categorical'},\n",
       "  '59': {'sdtype': 'categorical'},\n",
       "  '60': {'sdtype': 'categorical'},\n",
       "  '61': {'sdtype': 'categorical'},\n",
       "  '62': {'sdtype': 'categorical'},\n",
       "  '63': {'sdtype': 'categorical'},\n",
       "  '64': {'sdtype': 'categorical'},\n",
       "  '65': {'sdtype': 'categorical'},\n",
       "  '66': {'sdtype': 'categorical'},\n",
       "  '67': {'sdtype': 'categorical'},\n",
       "  '68': {'sdtype': 'categorical'},\n",
       "  '69': {'sdtype': 'categorical'},\n",
       "  '70': {'sdtype': 'categorical'},\n",
       "  '71': {'sdtype': 'categorical'},\n",
       "  '72': {'sdtype': 'categorical'},\n",
       "  '73': {'sdtype': 'categorical'},\n",
       "  '74': {'sdtype': 'categorical'},\n",
       "  '75': {'sdtype': 'categorical'},\n",
       "  '76': {'sdtype': 'categorical'},\n",
       "  '77': {'sdtype': 'categorical'},\n",
       "  '78': {'sdtype': 'categorical'}}}"
      ]
     },
     "execution_count": 7,
     "metadata": {},
     "output_type": "execute_result"
    }
   ],
   "source": [
    "metadata.to_dict()"
   ]
  },
  {
   "cell_type": "code",
   "execution_count": 5,
   "id": "e8f73cf065d62b78",
   "metadata": {
    "ExecuteTime": {
     "end_time": "2023-11-02T14:58:12.472500848Z",
     "start_time": "2023-11-02T13:45:49.925861317Z"
    },
    "collapsed": false
   },
   "outputs": [
    {
     "name": "stderr",
     "output_type": "stream",
     "text": [
      "/home/js/anaconda3/envs/adversarial-bb-training/lib/python3.10/site-packages/rdt/transformers/numerical.py:112: UserWarning: No rounding scheme detected for column '0'. Data will not be rounded.\n",
      "  warnings.warn(\n",
      "/home/js/anaconda3/envs/adversarial-bb-training/lib/python3.10/site-packages/rdt/transformers/numerical.py:112: UserWarning: No rounding scheme detected for column '1'. Data will not be rounded.\n",
      "  warnings.warn(\n",
      "/home/js/anaconda3/envs/adversarial-bb-training/lib/python3.10/site-packages/rdt/transformers/numerical.py:112: UserWarning: No rounding scheme detected for column '2'. Data will not be rounded.\n",
      "  warnings.warn(\n",
      "/home/js/anaconda3/envs/adversarial-bb-training/lib/python3.10/site-packages/rdt/transformers/numerical.py:112: UserWarning: No rounding scheme detected for column '3'. Data will not be rounded.\n",
      "  warnings.warn(\n"
     ]
    }
   ],
   "source": [
    "syn_model = CTGANSynthesizer(metadata)\n",
    "syn_model.fit(to_fit)"
   ]
  },
  {
   "cell_type": "code",
   "execution_count": 7,
   "id": "54987eb0fe68a21f",
   "metadata": {
    "ExecuteTime": {
     "end_time": "2023-11-02T15:21:04.789129304Z",
     "start_time": "2023-11-02T15:21:03.416962416Z"
    },
    "collapsed": false
   },
   "outputs": [],
   "source": [
    "sampled = syn_model.sample(num_rows=output_size)\n",
    "syn_model.save('syn_model')"
   ]
  },
  {
   "cell_type": "code",
   "execution_count": 14,
   "id": "7a9e498939ce4c24",
   "metadata": {
    "ExecuteTime": {
     "end_time": "2023-11-02T15:44:33.840325056Z",
     "start_time": "2023-11-02T15:44:33.341592270Z"
    },
    "collapsed": false
   },
   "outputs": [],
   "source": [
    "sampled.to_csv(\"data/syn_data.csv\", index=False)"
   ]
  },
  {
   "cell_type": "markdown",
   "id": "76e9851439390c6",
   "metadata": {
    "collapsed": false
   },
   "source": [
    "### Single model"
   ]
  },
  {
   "cell_type": "code",
   "execution_count": 26,
   "id": "bca8b91daeae08fc",
   "metadata": {
    "ExecuteTime": {
     "end_time": "2023-11-02T16:26:37.559252660Z",
     "start_time": "2023-11-02T16:26:12.762745018Z"
    },
    "collapsed": false
   },
   "outputs": [],
   "source": [
    "gb = train_gradient_boosting_shadow_model(X_train, y_train, 0)"
   ]
  },
  {
   "cell_type": "code",
   "execution_count": 27,
   "id": "8eddc9bcf8276f11",
   "metadata": {
    "ExecuteTime": {
     "end_time": "2023-11-02T16:26:57.192105907Z",
     "start_time": "2023-11-02T16:26:57.091131035Z"
    },
    "collapsed": false
   },
   "outputs": [],
   "source": [
    "model_input = pd.read_csv(\"data/syn_data.csv\", names=X_train.columns)"
   ]
  },
  {
   "cell_type": "code",
   "execution_count": 80,
   "id": "a29465417e19445d",
   "metadata": {
    "ExecuteTime": {
     "end_time": "2023-11-02T16:40:22.632354320Z",
     "start_time": "2023-11-02T16:40:22.535126646Z"
    },
    "collapsed": false
   },
   "outputs": [],
   "source": [
    "out = gb.predict_proba(model_input)"
   ]
  },
  {
   "cell_type": "code",
   "execution_count": 83,
   "id": "bf3a8ed59df205e0",
   "metadata": {
    "ExecuteTime": {
     "end_time": "2023-11-02T16:41:12.142172466Z",
     "start_time": "2023-11-02T16:41:12.125214813Z"
    },
    "collapsed": false
   },
   "outputs": [
    {
     "data": {
      "text/plain": [
       "array([0.99868971, 0.01143   , 0.01576805, ..., 0.96033791, 0.00722861,\n",
       "       0.0585728 ])"
      ]
     },
     "execution_count": 83,
     "metadata": {},
     "output_type": "execute_result"
    }
   ],
   "source": [
    "out[:,1]"
   ]
  },
  {
   "cell_type": "code",
   "execution_count": 36,
   "id": "3bffb3c7283c77db",
   "metadata": {
    "ExecuteTime": {
     "end_time": "2023-11-02T16:28:31.500872863Z",
     "start_time": "2023-11-02T16:28:31.499984574Z"
    },
    "collapsed": false
   },
   "outputs": [
    {
     "data": {
      "text/plain": [
       "0.0    8676\n",
       "1.0    1325\n",
       "dtype: int64"
      ]
     },
     "execution_count": 36,
     "metadata": {},
     "output_type": "execute_result"
    }
   ],
   "source": [
    "pd.value_counts(out)"
   ]
  },
  {
   "cell_type": "markdown",
   "id": "b8dd819536f4e169",
   "metadata": {
    "collapsed": false
   },
   "source": [
    "### Train shadow models and generate output"
   ]
  },
  {
   "cell_type": "code",
   "execution_count": null,
   "id": "807403d039c8b5b9",
   "metadata": {
    "collapsed": false
   },
   "outputs": [],
   "source": [
    "all_shadow_outputs = []\n",
    "for ds in distributed_datasets:\n",
    "    outputs = generate_shadow_model_outputs(ds, X_test, n_shadow_models=n_shadow_models)\n",
    "    all_shadow_outputs.append(outputs)"
   ]
  },
  {
   "cell_type": "markdown",
   "id": "2a909c59c49960cd",
   "metadata": {
    "collapsed": false
   },
   "source": [
    "### Save shadow model outputs to file"
   ]
  },
  {
   "cell_type": "code",
   "execution_count": null,
   "id": "6e7b6fcb52d256ba",
   "metadata": {
    "collapsed": false
   },
   "outputs": [],
   "source": [
    "adv_df = pd.DataFrame(np.array(np.concatenate((all_shadow_outputs))))\n",
    "adv_df[\"y\"] = np.concatenate(([np.repeat(d, n_shadow_models) for d in distributions]))\n",
    "adv_df.to_csv(\"data/shadow_model_outputs.csv\")"
   ]
  },
  {
   "cell_type": "markdown",
   "id": "4f148b8fe9e7013",
   "metadata": {
    "collapsed": false
   },
   "source": [
    "### Shadow model outputs as training data for adversary"
   ]
  },
  {
   "cell_type": "code",
   "execution_count": 2,
   "id": "cccad5e8b03ad4d5",
   "metadata": {
    "ExecuteTime": {
     "end_time": "2023-12-04T12:49:05.628851291Z",
     "start_time": "2023-12-04T12:48:51.065249751Z"
    },
    "collapsed": false
   },
   "outputs": [],
   "source": [
    "#adv_df = pd.read_csv(\"data/shadow_model_outputs.csv\")\n",
    "adv_df = pd.read_csv(\"data/shadow_model_outputs_proba.csv\")\n",
    "adv_ddf_shuffled = adv_df.sample(frac=1, random_state=1).reset_index(drop=True).drop(columns=[\"Unnamed: 0\"])\n",
    "adv_y = adv_ddf_shuffled[\"y\"]\n",
    "adv_X = adv_ddf_shuffled.drop(columns=[\"y\"])"
   ]
  },
  {
   "cell_type": "code",
   "execution_count": 3,
   "id": "1b611ad15ca42d0e",
   "metadata": {
    "ExecuteTime": {
     "end_time": "2023-12-04T12:49:20.196768952Z",
     "start_time": "2023-12-04T12:49:05.629374488Z"
    },
    "collapsed": false
   },
   "outputs": [],
   "source": [
    "adv_df_test = pd.read_csv(\"data/shadow_model_outputs_proba_test_set.csv\")\n",
    "adv_ddf_shuffled_test = adv_df_test.sample(frac=1, random_state=1).reset_index(drop=True).drop(columns=[\"Unnamed: 0\"])\n",
    "adv_y_test = adv_ddf_shuffled_test[\"y\"]\n",
    "adv_X_test = adv_ddf_shuffled_test.drop(columns=[\"y\"])"
   ]
  },
  {
   "cell_type": "code",
   "execution_count": 157,
   "id": "3613e1abec47249e",
   "metadata": {
    "ExecuteTime": {
     "end_time": "2023-12-04T12:15:51.357156638Z",
     "start_time": "2023-12-04T12:15:51.348836022Z"
    },
    "collapsed": false
   },
   "outputs": [
    {
     "data": {
      "text/plain": [
       "Index(['0', '1', '2', '3', '4', '5', '6', '7', '8', '9',\n",
       "       ...\n",
       "       '19992', '19993', '19994', '19995', '19996', '19997', '19998', '19999',\n",
       "       '20000', '20001'],\n",
       "      dtype='object', length=20002)"
      ]
     },
     "execution_count": 157,
     "metadata": {},
     "output_type": "execute_result"
    }
   ],
   "source": [
    "adv_X.columns"
   ]
  },
  {
   "cell_type": "markdown",
   "id": "e27e1ee526589f4c",
   "metadata": {
    "collapsed": false
   },
   "source": [
    "### Create adversary"
   ]
  },
  {
   "cell_type": "markdown",
   "id": "26875e3f7ca757e9",
   "metadata": {
    "collapsed": false
   },
   "source": [
    "### Pycaret"
   ]
  },
  {
   "cell_type": "code",
   "execution_count": 11,
   "id": "d46c9cbdded7db22",
   "metadata": {
    "ExecuteTime": {
     "end_time": "2023-11-08T15:00:35.696786Z",
     "start_time": "2023-11-08T15:00:33.116627092Z"
    },
    "collapsed": false
   },
   "outputs": [
    {
     "ename": "ImportError",
     "evalue": "cannot import name '_eigh' from 'sklearn.utils.fixes' (/home/jstock/anaconda3/envs/pia-tf/lib/python3.10/site-packages/sklearn/utils/fixes.py)",
     "output_type": "error",
     "traceback": [
      "\u001b[0;31m---------------------------------------------------------------------------\u001b[0m",
      "\u001b[0;31mImportError\u001b[0m                               Traceback (most recent call last)",
      "Cell \u001b[0;32mIn[11], line 1\u001b[0m\n\u001b[0;32m----> 1\u001b[0m \u001b[38;5;28;01mfrom\u001b[39;00m \u001b[38;5;21;01mpycaret\u001b[39;00m\u001b[38;5;21;01m.\u001b[39;00m\u001b[38;5;21;01mclassification\u001b[39;00m \u001b[38;5;28;01mimport\u001b[39;00m \u001b[38;5;241m*\u001b[39m\n\u001b[1;32m      2\u001b[0m adv_df[\u001b[38;5;124m\"\u001b[39m\u001b[38;5;124my\u001b[39m\u001b[38;5;124m\"\u001b[39m] \u001b[38;5;241m=\u001b[39m np\u001b[38;5;241m.\u001b[39marray(adv_df[\u001b[38;5;124m\"\u001b[39m\u001b[38;5;124my\u001b[39m\u001b[38;5;124m\"\u001b[39m]\u001b[38;5;241m*\u001b[39m\u001b[38;5;241m10\u001b[39m\u001b[38;5;241m-\u001b[39m\u001b[38;5;241m1\u001b[39m, dtype\u001b[38;5;241m=\u001b[39mnp\u001b[38;5;241m.\u001b[39mdtype(\u001b[38;5;124m\"\u001b[39m\u001b[38;5;124mint\u001b[39m\u001b[38;5;124m\"\u001b[39m))\n\u001b[1;32m      3\u001b[0m s \u001b[38;5;241m=\u001b[39m setup(adv_df, target\u001b[38;5;241m=\u001b[39m\u001b[38;5;124m\"\u001b[39m\u001b[38;5;124my\u001b[39m\u001b[38;5;124m\"\u001b[39m, session_id\u001b[38;5;241m=\u001b[39m\u001b[38;5;241m123\u001b[39m)\n",
      "File \u001b[0;32m~/anaconda3/envs/pia-tf/lib/python3.10/site-packages/pycaret/classification/__init__.py:1\u001b[0m\n\u001b[0;32m----> 1\u001b[0m \u001b[38;5;28;01mfrom\u001b[39;00m \u001b[38;5;21;01mpycaret\u001b[39;00m\u001b[38;5;21;01m.\u001b[39;00m\u001b[38;5;21;01mclassification\u001b[39;00m\u001b[38;5;21;01m.\u001b[39;00m\u001b[38;5;21;01mfunctional\u001b[39;00m \u001b[38;5;28;01mimport\u001b[39;00m (\n\u001b[1;32m      2\u001b[0m     add_metric,\n\u001b[1;32m      3\u001b[0m     automl,\n\u001b[1;32m      4\u001b[0m     blend_models,\n\u001b[1;32m      5\u001b[0m     calibrate_model,\n\u001b[1;32m      6\u001b[0m     check_drift,\n\u001b[1;32m      7\u001b[0m     check_fairness,\n\u001b[1;32m      8\u001b[0m     compare_models,\n\u001b[1;32m      9\u001b[0m     convert_model,\n\u001b[1;32m     10\u001b[0m     create_api,\n\u001b[1;32m     11\u001b[0m     create_app,\n\u001b[1;32m     12\u001b[0m     create_docker,\n\u001b[1;32m     13\u001b[0m     create_model,\n\u001b[1;32m     14\u001b[0m     dashboard,\n\u001b[1;32m     15\u001b[0m     deploy_model,\n\u001b[1;32m     16\u001b[0m     ensemble_model,\n\u001b[1;32m     17\u001b[0m     evaluate_model,\n\u001b[1;32m     18\u001b[0m     finalize_model,\n\u001b[1;32m     19\u001b[0m     get_allowed_engines,\n\u001b[1;32m     20\u001b[0m     get_config,\n\u001b[1;32m     21\u001b[0m     get_current_experiment,\n\u001b[1;32m     22\u001b[0m     get_engine,\n\u001b[1;32m     23\u001b[0m     get_leaderboard,\n\u001b[1;32m     24\u001b[0m     get_logs,\n\u001b[1;32m     25\u001b[0m     get_metrics,\n\u001b[1;32m     26\u001b[0m     interpret_model,\n\u001b[1;32m     27\u001b[0m     load_experiment,\n\u001b[1;32m     28\u001b[0m     load_model,\n\u001b[1;32m     29\u001b[0m     models,\n\u001b[1;32m     30\u001b[0m     optimize_threshold,\n\u001b[1;32m     31\u001b[0m     plot_model,\n\u001b[1;32m     32\u001b[0m     predict_model,\n\u001b[1;32m     33\u001b[0m     pull,\n\u001b[1;32m     34\u001b[0m     remove_metric,\n\u001b[1;32m     35\u001b[0m     save_experiment,\n\u001b[1;32m     36\u001b[0m     save_model,\n\u001b[1;32m     37\u001b[0m     set_config,\n\u001b[1;32m     38\u001b[0m     set_current_experiment,\n\u001b[1;32m     39\u001b[0m     setup,\n\u001b[1;32m     40\u001b[0m     stack_models,\n\u001b[1;32m     41\u001b[0m     tune_model,\n\u001b[1;32m     42\u001b[0m )\n\u001b[1;32m     43\u001b[0m \u001b[38;5;28;01mfrom\u001b[39;00m \u001b[38;5;21;01mpycaret\u001b[39;00m\u001b[38;5;21;01m.\u001b[39;00m\u001b[38;5;21;01mclassification\u001b[39;00m\u001b[38;5;21;01m.\u001b[39;00m\u001b[38;5;21;01moop\u001b[39;00m \u001b[38;5;28;01mimport\u001b[39;00m ClassificationExperiment\n\u001b[1;32m     45\u001b[0m __all__ \u001b[38;5;241m=\u001b[39m [\n\u001b[1;32m     46\u001b[0m     \u001b[38;5;124m\"\u001b[39m\u001b[38;5;124mClassificationExperiment\u001b[39m\u001b[38;5;124m\"\u001b[39m,\n\u001b[1;32m     47\u001b[0m     \u001b[38;5;124m\"\u001b[39m\u001b[38;5;124msetup\u001b[39m\u001b[38;5;124m\"\u001b[39m,\n\u001b[0;32m   (...)\u001b[0m\n\u001b[1;32m     86\u001b[0m     \u001b[38;5;124m\"\u001b[39m\u001b[38;5;124mcheck_drift\u001b[39m\u001b[38;5;124m\"\u001b[39m,\n\u001b[1;32m     87\u001b[0m ]\n",
      "File \u001b[0;32m~/anaconda3/envs/pia-tf/lib/python3.10/site-packages/pycaret/classification/functional.py:8\u001b[0m\n\u001b[1;32m      5\u001b[0m \u001b[38;5;28;01mimport\u001b[39;00m \u001b[38;5;21;01mpandas\u001b[39;00m \u001b[38;5;28;01mas\u001b[39;00m \u001b[38;5;21;01mpd\u001b[39;00m\n\u001b[1;32m      6\u001b[0m \u001b[38;5;28;01mfrom\u001b[39;00m \u001b[38;5;21;01mjoblib\u001b[39;00m\u001b[38;5;21;01m.\u001b[39;00m\u001b[38;5;21;01mmemory\u001b[39;00m \u001b[38;5;28;01mimport\u001b[39;00m Memory\n\u001b[0;32m----> 8\u001b[0m \u001b[38;5;28;01mfrom\u001b[39;00m \u001b[38;5;21;01mpycaret\u001b[39;00m\u001b[38;5;21;01m.\u001b[39;00m\u001b[38;5;21;01mclassification\u001b[39;00m\u001b[38;5;21;01m.\u001b[39;00m\u001b[38;5;21;01moop\u001b[39;00m \u001b[38;5;28;01mimport\u001b[39;00m ClassificationExperiment\n\u001b[1;32m      9\u001b[0m \u001b[38;5;28;01mfrom\u001b[39;00m \u001b[38;5;21;01mpycaret\u001b[39;00m\u001b[38;5;21;01m.\u001b[39;00m\u001b[38;5;21;01minternal\u001b[39;00m\u001b[38;5;21;01m.\u001b[39;00m\u001b[38;5;21;01mparallel\u001b[39;00m\u001b[38;5;21;01m.\u001b[39;00m\u001b[38;5;21;01mparallel_backend\u001b[39;00m \u001b[38;5;28;01mimport\u001b[39;00m ParallelBackend\n\u001b[1;32m     10\u001b[0m \u001b[38;5;28;01mfrom\u001b[39;00m \u001b[38;5;21;01mpycaret\u001b[39;00m\u001b[38;5;21;01m.\u001b[39;00m\u001b[38;5;21;01mloggers\u001b[39;00m\u001b[38;5;21;01m.\u001b[39;00m\u001b[38;5;21;01mbase_logger\u001b[39;00m \u001b[38;5;28;01mimport\u001b[39;00m BaseLogger\n",
      "File \u001b[0;32m~/anaconda3/envs/pia-tf/lib/python3.10/site-packages/pycaret/classification/oop.py:29\u001b[0m\n\u001b[1;32m     24\u001b[0m \u001b[38;5;28;01mfrom\u001b[39;00m \u001b[38;5;21;01mpycaret\u001b[39;00m\u001b[38;5;21;01m.\u001b[39;00m\u001b[38;5;21;01minternal\u001b[39;00m\u001b[38;5;21;01m.\u001b[39;00m\u001b[38;5;21;01mmeta_estimators\u001b[39;00m \u001b[38;5;28;01mimport\u001b[39;00m (\n\u001b[1;32m     25\u001b[0m     CustomProbabilityThresholdClassifier,\n\u001b[1;32m     26\u001b[0m     get_estimator_from_meta_estimator,\n\u001b[1;32m     27\u001b[0m )\n\u001b[1;32m     28\u001b[0m \u001b[38;5;28;01mfrom\u001b[39;00m \u001b[38;5;21;01mpycaret\u001b[39;00m\u001b[38;5;21;01m.\u001b[39;00m\u001b[38;5;21;01minternal\u001b[39;00m\u001b[38;5;21;01m.\u001b[39;00m\u001b[38;5;21;01mparallel\u001b[39;00m\u001b[38;5;21;01m.\u001b[39;00m\u001b[38;5;21;01mparallel_backend\u001b[39;00m \u001b[38;5;28;01mimport\u001b[39;00m ParallelBackend\n\u001b[0;32m---> 29\u001b[0m \u001b[38;5;28;01mfrom\u001b[39;00m \u001b[38;5;21;01mpycaret\u001b[39;00m\u001b[38;5;21;01m.\u001b[39;00m\u001b[38;5;21;01minternal\u001b[39;00m\u001b[38;5;21;01m.\u001b[39;00m\u001b[38;5;21;01mpipeline\u001b[39;00m \u001b[38;5;28;01mimport\u001b[39;00m Pipeline \u001b[38;5;28;01mas\u001b[39;00m InternalPipeline\n\u001b[1;32m     30\u001b[0m \u001b[38;5;28;01mfrom\u001b[39;00m \u001b[38;5;21;01mpycaret\u001b[39;00m\u001b[38;5;21;01m.\u001b[39;00m\u001b[38;5;21;01minternal\u001b[39;00m\u001b[38;5;21;01m.\u001b[39;00m\u001b[38;5;21;01mpreprocess\u001b[39;00m\u001b[38;5;21;01m.\u001b[39;00m\u001b[38;5;21;01mpreprocessor\u001b[39;00m \u001b[38;5;28;01mimport\u001b[39;00m Preprocessor\n\u001b[1;32m     31\u001b[0m \u001b[38;5;28;01mfrom\u001b[39;00m \u001b[38;5;21;01mpycaret\u001b[39;00m\u001b[38;5;21;01m.\u001b[39;00m\u001b[38;5;21;01minternal\u001b[39;00m\u001b[38;5;21;01m.\u001b[39;00m\u001b[38;5;21;01mpycaret_experiment\u001b[39;00m\u001b[38;5;21;01m.\u001b[39;00m\u001b[38;5;21;01mnon_ts_supervised_experiment\u001b[39;00m \u001b[38;5;28;01mimport\u001b[39;00m (\n\u001b[1;32m     32\u001b[0m     _NonTSSupervisedExperiment,\n\u001b[1;32m     33\u001b[0m )\n",
      "File \u001b[0;32m~/anaconda3/envs/pia-tf/lib/python3.10/site-packages/pycaret/internal/pipeline.py:16\u001b[0m\n\u001b[1;32m     13\u001b[0m \u001b[38;5;28;01mfrom\u001b[39;00m \u001b[38;5;21;01mcopy\u001b[39;00m \u001b[38;5;28;01mimport\u001b[39;00m deepcopy\n\u001b[1;32m     14\u001b[0m \u001b[38;5;28;01mfrom\u001b[39;00m \u001b[38;5;21;01minspect\u001b[39;00m \u001b[38;5;28;01mimport\u001b[39;00m signature\n\u001b[0;32m---> 16\u001b[0m \u001b[38;5;28;01mimport\u001b[39;00m \u001b[38;5;21;01mimblearn\u001b[39;00m\u001b[38;5;21;01m.\u001b[39;00m\u001b[38;5;21;01mpipeline\u001b[39;00m\n\u001b[1;32m     17\u001b[0m \u001b[38;5;28;01mimport\u001b[39;00m \u001b[38;5;21;01msklearn\u001b[39;00m\u001b[38;5;21;01m.\u001b[39;00m\u001b[38;5;21;01mpipeline\u001b[39;00m\n\u001b[1;32m     18\u001b[0m \u001b[38;5;28;01mfrom\u001b[39;00m \u001b[38;5;21;01msklearn\u001b[39;00m\u001b[38;5;21;01m.\u001b[39;00m\u001b[38;5;21;01mbase\u001b[39;00m \u001b[38;5;28;01mimport\u001b[39;00m clone\n",
      "File \u001b[0;32m~/anaconda3/envs/pia-tf/lib/python3.10/site-packages/imblearn/__init__.py:52\u001b[0m\n\u001b[1;32m     48\u001b[0m     sys\u001b[38;5;241m.\u001b[39mstderr\u001b[38;5;241m.\u001b[39mwrite(\u001b[38;5;124m\"\u001b[39m\u001b[38;5;124mPartial import of imblearn during the build process.\u001b[39m\u001b[38;5;130;01m\\n\u001b[39;00m\u001b[38;5;124m\"\u001b[39m)\n\u001b[1;32m     49\u001b[0m     \u001b[38;5;66;03m# We are not importing the rest of scikit-learn during the build\u001b[39;00m\n\u001b[1;32m     50\u001b[0m     \u001b[38;5;66;03m# process, as it may not be compiled yet\u001b[39;00m\n\u001b[1;32m     51\u001b[0m \u001b[38;5;28;01melse\u001b[39;00m:\n\u001b[0;32m---> 52\u001b[0m     \u001b[38;5;28;01mfrom\u001b[39;00m \u001b[38;5;21;01m.\u001b[39;00m \u001b[38;5;28;01mimport\u001b[39;00m (\n\u001b[1;32m     53\u001b[0m         combine,\n\u001b[1;32m     54\u001b[0m         ensemble,\n\u001b[1;32m     55\u001b[0m         exceptions,\n\u001b[1;32m     56\u001b[0m         metrics,\n\u001b[1;32m     57\u001b[0m         over_sampling,\n\u001b[1;32m     58\u001b[0m         pipeline,\n\u001b[1;32m     59\u001b[0m         tensorflow,\n\u001b[1;32m     60\u001b[0m         under_sampling,\n\u001b[1;32m     61\u001b[0m         utils,\n\u001b[1;32m     62\u001b[0m     )\n\u001b[1;32m     63\u001b[0m     \u001b[38;5;28;01mfrom\u001b[39;00m \u001b[38;5;21;01m.\u001b[39;00m\u001b[38;5;21;01m_version\u001b[39;00m \u001b[38;5;28;01mimport\u001b[39;00m __version__\n\u001b[1;32m     64\u001b[0m     \u001b[38;5;28;01mfrom\u001b[39;00m \u001b[38;5;21;01m.\u001b[39;00m\u001b[38;5;21;01mbase\u001b[39;00m \u001b[38;5;28;01mimport\u001b[39;00m FunctionSampler\n",
      "File \u001b[0;32m~/anaconda3/envs/pia-tf/lib/python3.10/site-packages/imblearn/combine/__init__.py:5\u001b[0m\n\u001b[1;32m      1\u001b[0m \u001b[38;5;124;03m\"\"\"The :mod:`imblearn.combine` provides methods which combine\u001b[39;00m\n\u001b[1;32m      2\u001b[0m \u001b[38;5;124;03mover-sampling and under-sampling.\u001b[39;00m\n\u001b[1;32m      3\u001b[0m \u001b[38;5;124;03m\"\"\"\u001b[39;00m\n\u001b[0;32m----> 5\u001b[0m \u001b[38;5;28;01mfrom\u001b[39;00m \u001b[38;5;21;01m.\u001b[39;00m\u001b[38;5;21;01m_smote_enn\u001b[39;00m \u001b[38;5;28;01mimport\u001b[39;00m SMOTEENN\n\u001b[1;32m      6\u001b[0m \u001b[38;5;28;01mfrom\u001b[39;00m \u001b[38;5;21;01m.\u001b[39;00m\u001b[38;5;21;01m_smote_tomek\u001b[39;00m \u001b[38;5;28;01mimport\u001b[39;00m SMOTETomek\n\u001b[1;32m      8\u001b[0m __all__ \u001b[38;5;241m=\u001b[39m [\u001b[38;5;124m\"\u001b[39m\u001b[38;5;124mSMOTEENN\u001b[39m\u001b[38;5;124m\"\u001b[39m, \u001b[38;5;124m\"\u001b[39m\u001b[38;5;124mSMOTETomek\u001b[39m\u001b[38;5;124m\"\u001b[39m]\n",
      "File \u001b[0;32m~/anaconda3/envs/pia-tf/lib/python3.10/site-packages/imblearn/combine/_smote_enn.py:13\u001b[0m\n\u001b[1;32m     10\u001b[0m \u001b[38;5;28;01mfrom\u001b[39;00m \u001b[38;5;21;01msklearn\u001b[39;00m\u001b[38;5;21;01m.\u001b[39;00m\u001b[38;5;21;01mutils\u001b[39;00m \u001b[38;5;28;01mimport\u001b[39;00m check_X_y\n\u001b[1;32m     12\u001b[0m \u001b[38;5;28;01mfrom\u001b[39;00m \u001b[38;5;21;01m.\u001b[39;00m\u001b[38;5;21;01m.\u001b[39;00m\u001b[38;5;21;01mbase\u001b[39;00m \u001b[38;5;28;01mimport\u001b[39;00m BaseSampler\n\u001b[0;32m---> 13\u001b[0m \u001b[38;5;28;01mfrom\u001b[39;00m \u001b[38;5;21;01m.\u001b[39;00m\u001b[38;5;21;01m.\u001b[39;00m\u001b[38;5;21;01mover_sampling\u001b[39;00m \u001b[38;5;28;01mimport\u001b[39;00m SMOTE\n\u001b[1;32m     14\u001b[0m \u001b[38;5;28;01mfrom\u001b[39;00m \u001b[38;5;21;01m.\u001b[39;00m\u001b[38;5;21;01m.\u001b[39;00m\u001b[38;5;21;01mover_sampling\u001b[39;00m\u001b[38;5;21;01m.\u001b[39;00m\u001b[38;5;21;01mbase\u001b[39;00m \u001b[38;5;28;01mimport\u001b[39;00m BaseOverSampler\n\u001b[1;32m     15\u001b[0m \u001b[38;5;28;01mfrom\u001b[39;00m \u001b[38;5;21;01m.\u001b[39;00m\u001b[38;5;21;01m.\u001b[39;00m\u001b[38;5;21;01munder_sampling\u001b[39;00m \u001b[38;5;28;01mimport\u001b[39;00m EditedNearestNeighbours\n",
      "File \u001b[0;32m~/anaconda3/envs/pia-tf/lib/python3.10/site-packages/imblearn/over_sampling/__init__.py:8\u001b[0m\n\u001b[1;32m      6\u001b[0m \u001b[38;5;28;01mfrom\u001b[39;00m \u001b[38;5;21;01m.\u001b[39;00m\u001b[38;5;21;01m_adasyn\u001b[39;00m \u001b[38;5;28;01mimport\u001b[39;00m ADASYN\n\u001b[1;32m      7\u001b[0m \u001b[38;5;28;01mfrom\u001b[39;00m \u001b[38;5;21;01m.\u001b[39;00m\u001b[38;5;21;01m_random_over_sampler\u001b[39;00m \u001b[38;5;28;01mimport\u001b[39;00m RandomOverSampler\n\u001b[0;32m----> 8\u001b[0m \u001b[38;5;28;01mfrom\u001b[39;00m \u001b[38;5;21;01m.\u001b[39;00m\u001b[38;5;21;01m_smote\u001b[39;00m \u001b[38;5;28;01mimport\u001b[39;00m SMOTE, SMOTEN, SMOTENC, SVMSMOTE, BorderlineSMOTE, KMeansSMOTE\n\u001b[1;32m     10\u001b[0m __all__ \u001b[38;5;241m=\u001b[39m [\n\u001b[1;32m     11\u001b[0m     \u001b[38;5;124m\"\u001b[39m\u001b[38;5;124mADASYN\u001b[39m\u001b[38;5;124m\"\u001b[39m,\n\u001b[1;32m     12\u001b[0m     \u001b[38;5;124m\"\u001b[39m\u001b[38;5;124mRandomOverSampler\u001b[39m\u001b[38;5;124m\"\u001b[39m,\n\u001b[0;32m   (...)\u001b[0m\n\u001b[1;32m     18\u001b[0m     \u001b[38;5;124m\"\u001b[39m\u001b[38;5;124mSMOTEN\u001b[39m\u001b[38;5;124m\"\u001b[39m,\n\u001b[1;32m     19\u001b[0m ]\n",
      "File \u001b[0;32m~/anaconda3/envs/pia-tf/lib/python3.10/site-packages/imblearn/over_sampling/_smote/__init__.py:2\u001b[0m\n\u001b[1;32m      1\u001b[0m \u001b[38;5;28;01mfrom\u001b[39;00m \u001b[38;5;21;01m.\u001b[39;00m\u001b[38;5;21;01mbase\u001b[39;00m \u001b[38;5;28;01mimport\u001b[39;00m SMOTE, SMOTEN, SMOTENC\n\u001b[0;32m----> 2\u001b[0m \u001b[38;5;28;01mfrom\u001b[39;00m \u001b[38;5;21;01m.\u001b[39;00m\u001b[38;5;21;01mcluster\u001b[39;00m \u001b[38;5;28;01mimport\u001b[39;00m KMeansSMOTE\n\u001b[1;32m      3\u001b[0m \u001b[38;5;28;01mfrom\u001b[39;00m \u001b[38;5;21;01m.\u001b[39;00m\u001b[38;5;21;01mfilter\u001b[39;00m \u001b[38;5;28;01mimport\u001b[39;00m SVMSMOTE, BorderlineSMOTE\n\u001b[1;32m      5\u001b[0m __all__ \u001b[38;5;241m=\u001b[39m [\n\u001b[1;32m      6\u001b[0m     \u001b[38;5;124m\"\u001b[39m\u001b[38;5;124mSMOTE\u001b[39m\u001b[38;5;124m\"\u001b[39m,\n\u001b[1;32m      7\u001b[0m     \u001b[38;5;124m\"\u001b[39m\u001b[38;5;124mSMOTEN\u001b[39m\u001b[38;5;124m\"\u001b[39m,\n\u001b[0;32m   (...)\u001b[0m\n\u001b[1;32m     11\u001b[0m     \u001b[38;5;124m\"\u001b[39m\u001b[38;5;124mSVMSMOTE\u001b[39m\u001b[38;5;124m\"\u001b[39m,\n\u001b[1;32m     12\u001b[0m ]\n",
      "File \u001b[0;32m~/anaconda3/envs/pia-tf/lib/python3.10/site-packages/imblearn/over_sampling/_smote/cluster.py:14\u001b[0m\n\u001b[1;32m     12\u001b[0m \u001b[38;5;28;01mfrom\u001b[39;00m \u001b[38;5;21;01mscipy\u001b[39;00m \u001b[38;5;28;01mimport\u001b[39;00m sparse\n\u001b[1;32m     13\u001b[0m \u001b[38;5;28;01mfrom\u001b[39;00m \u001b[38;5;21;01msklearn\u001b[39;00m\u001b[38;5;21;01m.\u001b[39;00m\u001b[38;5;21;01mbase\u001b[39;00m \u001b[38;5;28;01mimport\u001b[39;00m clone\n\u001b[0;32m---> 14\u001b[0m \u001b[38;5;28;01mfrom\u001b[39;00m \u001b[38;5;21;01msklearn\u001b[39;00m\u001b[38;5;21;01m.\u001b[39;00m\u001b[38;5;21;01mcluster\u001b[39;00m \u001b[38;5;28;01mimport\u001b[39;00m MiniBatchKMeans\n\u001b[1;32m     15\u001b[0m \u001b[38;5;28;01mfrom\u001b[39;00m \u001b[38;5;21;01msklearn\u001b[39;00m\u001b[38;5;21;01m.\u001b[39;00m\u001b[38;5;21;01mmetrics\u001b[39;00m \u001b[38;5;28;01mimport\u001b[39;00m pairwise_distances\n\u001b[1;32m     16\u001b[0m \u001b[38;5;28;01mfrom\u001b[39;00m \u001b[38;5;21;01msklearn\u001b[39;00m\u001b[38;5;21;01m.\u001b[39;00m\u001b[38;5;21;01mutils\u001b[39;00m \u001b[38;5;28;01mimport\u001b[39;00m _safe_indexing\n",
      "File \u001b[0;32m~/anaconda3/envs/pia-tf/lib/python3.10/site-packages/sklearn/cluster/__init__.py:6\u001b[0m\n\u001b[1;32m      1\u001b[0m \u001b[38;5;124;03m\"\"\"\u001b[39;00m\n\u001b[1;32m      2\u001b[0m \u001b[38;5;124;03mThe :mod:`sklearn.cluster` module gathers popular unsupervised clustering\u001b[39;00m\n\u001b[1;32m      3\u001b[0m \u001b[38;5;124;03malgorithms.\u001b[39;00m\n\u001b[1;32m      4\u001b[0m \u001b[38;5;124;03m\"\"\"\u001b[39;00m\n\u001b[0;32m----> 6\u001b[0m \u001b[38;5;28;01mfrom\u001b[39;00m \u001b[38;5;21;01m.\u001b[39;00m\u001b[38;5;21;01m_spectral\u001b[39;00m \u001b[38;5;28;01mimport\u001b[39;00m spectral_clustering, SpectralClustering\n\u001b[1;32m      7\u001b[0m \u001b[38;5;28;01mfrom\u001b[39;00m \u001b[38;5;21;01m.\u001b[39;00m\u001b[38;5;21;01m_mean_shift\u001b[39;00m \u001b[38;5;28;01mimport\u001b[39;00m mean_shift, MeanShift, estimate_bandwidth, get_bin_seeds\n\u001b[1;32m      8\u001b[0m \u001b[38;5;28;01mfrom\u001b[39;00m \u001b[38;5;21;01m.\u001b[39;00m\u001b[38;5;21;01m_affinity_propagation\u001b[39;00m \u001b[38;5;28;01mimport\u001b[39;00m affinity_propagation, AffinityPropagation\n",
      "File \u001b[0;32m~/anaconda3/envs/pia-tf/lib/python3.10/site-packages/sklearn/cluster/_spectral.py:22\u001b[0m\n\u001b[1;32m     20\u001b[0m \u001b[38;5;28;01mfrom\u001b[39;00m \u001b[38;5;21;01m.\u001b[39;00m\u001b[38;5;21;01m.\u001b[39;00m\u001b[38;5;21;01mmetrics\u001b[39;00m\u001b[38;5;21;01m.\u001b[39;00m\u001b[38;5;21;01mpairwise\u001b[39;00m \u001b[38;5;28;01mimport\u001b[39;00m pairwise_kernels, KERNEL_PARAMS\n\u001b[1;32m     21\u001b[0m \u001b[38;5;28;01mfrom\u001b[39;00m \u001b[38;5;21;01m.\u001b[39;00m\u001b[38;5;21;01m.\u001b[39;00m\u001b[38;5;21;01mneighbors\u001b[39;00m \u001b[38;5;28;01mimport\u001b[39;00m kneighbors_graph, NearestNeighbors\n\u001b[0;32m---> 22\u001b[0m \u001b[38;5;28;01mfrom\u001b[39;00m \u001b[38;5;21;01m.\u001b[39;00m\u001b[38;5;21;01m.\u001b[39;00m\u001b[38;5;21;01mmanifold\u001b[39;00m \u001b[38;5;28;01mimport\u001b[39;00m spectral_embedding\n\u001b[1;32m     23\u001b[0m \u001b[38;5;28;01mfrom\u001b[39;00m \u001b[38;5;21;01m.\u001b[39;00m\u001b[38;5;21;01m_kmeans\u001b[39;00m \u001b[38;5;28;01mimport\u001b[39;00m k_means\n\u001b[1;32m     26\u001b[0m \u001b[38;5;28;01mdef\u001b[39;00m \u001b[38;5;21mcluster_qr\u001b[39m(vectors):\n",
      "File \u001b[0;32m~/anaconda3/envs/pia-tf/lib/python3.10/site-packages/sklearn/manifold/__init__.py:5\u001b[0m\n\u001b[1;32m      1\u001b[0m \u001b[38;5;124;03m\"\"\"\u001b[39;00m\n\u001b[1;32m      2\u001b[0m \u001b[38;5;124;03mThe :mod:`sklearn.manifold` module implements data embedding techniques.\u001b[39;00m\n\u001b[1;32m      3\u001b[0m \u001b[38;5;124;03m\"\"\"\u001b[39;00m\n\u001b[0;32m----> 5\u001b[0m \u001b[38;5;28;01mfrom\u001b[39;00m \u001b[38;5;21;01m.\u001b[39;00m\u001b[38;5;21;01m_locally_linear\u001b[39;00m \u001b[38;5;28;01mimport\u001b[39;00m locally_linear_embedding, LocallyLinearEmbedding\n\u001b[1;32m      6\u001b[0m \u001b[38;5;28;01mfrom\u001b[39;00m \u001b[38;5;21;01m.\u001b[39;00m\u001b[38;5;21;01m_isomap\u001b[39;00m \u001b[38;5;28;01mimport\u001b[39;00m Isomap\n\u001b[1;32m      7\u001b[0m \u001b[38;5;28;01mfrom\u001b[39;00m \u001b[38;5;21;01m.\u001b[39;00m\u001b[38;5;21;01m_mds\u001b[39;00m \u001b[38;5;28;01mimport\u001b[39;00m MDS, smacof\n",
      "File \u001b[0;32m~/anaconda3/envs/pia-tf/lib/python3.10/site-packages/sklearn/manifold/_locally_linear.py:23\u001b[0m\n\u001b[1;32m     21\u001b[0m \u001b[38;5;28;01mfrom\u001b[39;00m \u001b[38;5;21;01m.\u001b[39;00m\u001b[38;5;21;01m.\u001b[39;00m\u001b[38;5;21;01mutils\u001b[39;00m\u001b[38;5;21;01m.\u001b[39;00m\u001b[38;5;21;01m_arpack\u001b[39;00m \u001b[38;5;28;01mimport\u001b[39;00m _init_arpack_v0\n\u001b[1;32m     22\u001b[0m \u001b[38;5;28;01mfrom\u001b[39;00m \u001b[38;5;21;01m.\u001b[39;00m\u001b[38;5;21;01m.\u001b[39;00m\u001b[38;5;21;01mutils\u001b[39;00m\u001b[38;5;21;01m.\u001b[39;00m\u001b[38;5;21;01m_param_validation\u001b[39;00m \u001b[38;5;28;01mimport\u001b[39;00m Interval, StrOptions\n\u001b[0;32m---> 23\u001b[0m \u001b[38;5;28;01mfrom\u001b[39;00m \u001b[38;5;21;01m.\u001b[39;00m\u001b[38;5;21;01m.\u001b[39;00m\u001b[38;5;21;01mutils\u001b[39;00m\u001b[38;5;21;01m.\u001b[39;00m\u001b[38;5;21;01mfixes\u001b[39;00m \u001b[38;5;28;01mimport\u001b[39;00m _eigh\n\u001b[1;32m     24\u001b[0m \u001b[38;5;28;01mfrom\u001b[39;00m \u001b[38;5;21;01m.\u001b[39;00m\u001b[38;5;21;01m.\u001b[39;00m\u001b[38;5;21;01mutils\u001b[39;00m\u001b[38;5;21;01m.\u001b[39;00m\u001b[38;5;21;01mextmath\u001b[39;00m \u001b[38;5;28;01mimport\u001b[39;00m stable_cumsum\n\u001b[1;32m     25\u001b[0m \u001b[38;5;28;01mfrom\u001b[39;00m \u001b[38;5;21;01m.\u001b[39;00m\u001b[38;5;21;01m.\u001b[39;00m\u001b[38;5;21;01mutils\u001b[39;00m\u001b[38;5;21;01m.\u001b[39;00m\u001b[38;5;21;01mvalidation\u001b[39;00m \u001b[38;5;28;01mimport\u001b[39;00m check_is_fitted\n",
      "\u001b[0;31mImportError\u001b[0m: cannot import name '_eigh' from 'sklearn.utils.fixes' (/home/jstock/anaconda3/envs/pia-tf/lib/python3.10/site-packages/sklearn/utils/fixes.py)"
     ]
    }
   ],
   "source": [
    "from pycaret.classification import *\n",
    "s = setup(adv_df, target=\"y\", session_id=123)"
   ]
  },
  {
   "cell_type": "code",
   "execution_count": 5,
   "id": "6826e165fc2870aa",
   "metadata": {
    "ExecuteTime": {
     "start_time": "2023-11-02T16:49:32.347176293Z"
    },
    "collapsed": false
   },
   "outputs": [],
   "source": [
    "from pycaret.regression import RegressionExperiment\n",
    "exp = RegressionExperiment()"
   ]
  },
  {
   "cell_type": "code",
   "execution_count": 8,
   "id": "6c85b5dc284e7439",
   "metadata": {
    "ExecuteTime": {
     "start_time": "2023-11-02T16:50:05.880228196Z"
    },
    "collapsed": false
   },
   "outputs": [
    {
     "data": {
      "text/html": [],
      "text/plain": [
       "<IPython.core.display.HTML object>"
      ]
     },
     "metadata": {},
     "output_type": "display_data"
    },
    {
     "data": {
      "text/plain": [
       "<pycaret.regression.oop.RegressionExperiment at 0x7fc0881bc4f0>"
      ]
     },
     "execution_count": 8,
     "metadata": {},
     "output_type": "execute_result"
    }
   ],
   "source": [
    "exp.setup(adv_df, target = 'y', session_id = 123)"
   ]
  },
  {
   "cell_type": "code",
   "execution_count": null,
   "id": "6a33b4643f397831",
   "metadata": {
    "ExecuteTime": {
     "start_time": "2023-11-02T16:50:31.534970762Z"
    },
    "collapsed": false
   },
   "outputs": [
    {
     "data": {
      "text/html": [
       "<div>\n",
       "<style scoped>\n",
       "    .dataframe tbody tr th:only-of-type {\n",
       "        vertical-align: middle;\n",
       "    }\n",
       "\n",
       "    .dataframe tbody tr th {\n",
       "        vertical-align: top;\n",
       "    }\n",
       "\n",
       "    .dataframe thead th {\n",
       "        text-align: right;\n",
       "    }\n",
       "</style>\n",
       "<table border=\"1\" class=\"dataframe\">\n",
       "  <thead>\n",
       "    <tr style=\"text-align: right;\">\n",
       "      <th></th>\n",
       "      <th></th>\n",
       "      <th></th>\n",
       "    </tr>\n",
       "    <tr>\n",
       "      <th></th>\n",
       "      <th></th>\n",
       "      <th></th>\n",
       "    </tr>\n",
       "  </thead>\n",
       "  <tbody>\n",
       "    <tr>\n",
       "      <th>Initiated</th>\n",
       "      <td>. . . . . . . . . . . . . . . . . .</td>\n",
       "      <td>17:50:31</td>\n",
       "    </tr>\n",
       "    <tr>\n",
       "      <th>Status</th>\n",
       "      <td>. . . . . . . . . . . . . . . . . .</td>\n",
       "      <td>Loading Dependencies</td>\n",
       "    </tr>\n",
       "    <tr>\n",
       "      <th>Estimator</th>\n",
       "      <td>. . . . . . . . . . . . . . . . . .</td>\n",
       "      <td>Compiling Library</td>\n",
       "    </tr>\n",
       "  </tbody>\n",
       "</table>\n",
       "</div>"
      ],
      "text/plain": [
       "                                                                    \n",
       "                                                                    \n",
       "Initiated  . . . . . . . . . . . . . . . . . .              17:50:31\n",
       "Status     . . . . . . . . . . . . . . . . . .  Loading Dependencies\n",
       "Estimator  . . . . . . . . . . . . . . . . . .     Compiling Library"
      ]
     },
     "metadata": {},
     "output_type": "display_data"
    },
    {
     "data": {
      "text/html": [],
      "text/plain": [
       "<IPython.core.display.HTML object>"
      ]
     },
     "metadata": {},
     "output_type": "display_data"
    },
    {
     "data": {
      "application/vnd.jupyter.widget-view+json": {
       "model_id": "83a29fc052b24739aa010193b11c9f53",
       "version_major": 2,
       "version_minor": 0
      },
      "text/plain": [
       "Processing:   0%|          | 0/77 [00:00<?, ?it/s]"
      ]
     },
     "metadata": {},
     "output_type": "display_data"
    }
   ],
   "source": [
    "best = compare_models()"
   ]
  },
  {
   "cell_type": "markdown",
   "id": "9fd898d04bc7d681",
   "metadata": {
    "collapsed": false
   },
   "source": [
    "# Trying different model architectures"
   ]
  },
  {
   "cell_type": "code",
   "execution_count": 37,
   "id": "f321d38c0dbd2e9",
   "metadata": {
    "ExecuteTime": {
     "end_time": "2023-12-04T12:58:53.245867051Z",
     "start_time": "2023-12-04T12:58:53.185103051Z"
    },
    "collapsed": false
   },
   "outputs": [],
   "source": [
    "adversary = keras.Sequential()\n",
    "adversary.add(keras.Input(shape=(adv_X.shape[1],)))\n",
    "\n",
    "\n",
    "#adversary.add(keras.layers.Reshape((adv_X.shape[1],1)))\n",
    "#adversary.add(keras.layers.LSTM(6, activation='relu', return_sequences=False, return_state=False))\n",
    "\n",
    "#adversary.add(keras.layers.AveragePooling1D(\n",
    "#    #input_shape=(None,adv_X.shape[1],),\n",
    "#    pool_size=3, strides=1, padding=\"valid\", data_format=\"channels_last\"\n",
    "#))\n",
    "#adversary.add(keras.layers.MaxPooling1D(pool_size=2, strides=1, padding='valid'))\n",
    "#adversary.add(keras.layers.Reshape((adv_X.shape[1],)))\n",
    "\n",
    "#adversary.add(keras.layers.LayerNormalization(axis=1))\n",
    "#adversary.add(keras.layers.Dense(500))\n",
    "#adversary.add(keras.layers.Dense(64, activation='relu'))\n",
    "#adversary.add(keras.layers.Dropout(rate=0.1))\n",
    "adversary.add(keras.layers.Dense(40, activation='relu'))\n",
    "\n",
    "#adversary.add(keras.layers.Dense(64, activation='relu'))\n",
    "\n",
    "adversary.add(keras.layers.Dropout(rate=0.05))\n",
    "#adversary.add(keras.layers.TimeDistributed(keras.layers.Dense(1)))\n",
    "#adversary.add(keras.layers.Dense(2, activation='relu'))\n",
    "#adversary.add(keras.layers.Flatten())\n",
    "adversary.add(keras.layers.Dense(16, activation=\"relu\"))\n",
    "adversary.add(keras.layers.Dense(1))\n",
    "\n",
    "#learning_rate=0.000005\n",
    "initial_learning_rate=0.000003\n",
    "lr_schedule = keras.optimizers.schedules.ExponentialDecay(\n",
    "    initial_learning_rate,\n",
    "    decay_steps=100000,\n",
    "    decay_rate=0.96,\n",
    "    staircase=True)\n",
    "optimizer = keras.optimizers.SGD(learning_rate=lr_schedule)\n",
    "#learning_rate=lr_schedule\n",
    "#adversary.compile(optimizer=keras.optimizers.Adam(clipnorm=1.0), loss=keras.losses.MeanSquaredError(), metrics=keras.metrics.R2Score())\n",
    "\n",
    "adversary.compile(optimizer=keras.optimizers.Adam(), loss=keras.losses.MeanSquaredError(), metrics=keras.metrics.R2Score())\n",
    "\n",
    "#adversary.summary()"
   ]
  },
  {
   "cell_type": "code",
   "execution_count": 38,
   "id": "76908bfc96a372bc",
   "metadata": {
    "ExecuteTime": {
     "end_time": "2023-12-04T12:58:53.303313977Z",
     "start_time": "2023-12-04T12:58:53.287438398Z"
    },
    "collapsed": false
   },
   "outputs": [],
   "source": [
    "from numpy.random import seed\n",
    "seed(1)\n",
    "from keras.utils import set_random_seed\n",
    "set_random_seed(2)"
   ]
  },
  {
   "cell_type": "code",
   "execution_count": 39,
   "id": "b5be01fe81d2faf4",
   "metadata": {
    "ExecuteTime": {
     "end_time": "2023-12-04T12:59:31.712668321Z",
     "start_time": "2023-12-04T12:58:53.401945566Z"
    },
    "collapsed": false
   },
   "outputs": [
    {
     "name": "stdout",
     "output_type": "stream",
     "text": [
      "Epoch 1/190\n",
      "23/23 [==============================] - 1s 42ms/step - loss: 1.0975 - r2_score: -15.4618 - val_loss: 0.0719 - val_r2_score: -0.0788\n",
      "Epoch 2/190\n",
      "23/23 [==============================] - 0s 8ms/step - loss: 0.1564 - r2_score: -1.3457 - val_loss: 0.0665 - val_r2_score: 0.0020\n",
      "Epoch 3/190\n",
      "23/23 [==============================] - 0s 8ms/step - loss: 0.0862 - r2_score: -0.2935 - val_loss: 0.0739 - val_r2_score: -0.1084\n",
      "Epoch 4/190\n",
      "23/23 [==============================] - 0s 9ms/step - loss: 0.0463 - r2_score: 0.3052 - val_loss: 0.0639 - val_r2_score: 0.0410\n",
      "Epoch 5/190\n",
      "23/23 [==============================] - 0s 8ms/step - loss: 0.0280 - r2_score: 0.5804 - val_loss: 0.0662 - val_r2_score: 0.0067\n",
      "Epoch 6/190\n",
      "23/23 [==============================] - 0s 8ms/step - loss: 0.0196 - r2_score: 0.7066 - val_loss: 0.0637 - val_r2_score: 0.0451\n",
      "Epoch 7/190\n",
      "23/23 [==============================] - 0s 10ms/step - loss: 0.0121 - r2_score: 0.8189 - val_loss: 0.0630 - val_r2_score: 0.0557\n",
      "Epoch 8/190\n",
      "23/23 [==============================] - 0s 12ms/step - loss: 0.0080 - r2_score: 0.8803 - val_loss: 0.0623 - val_r2_score: 0.0656\n",
      "Epoch 9/190\n",
      "23/23 [==============================] - 0s 8ms/step - loss: 0.0111 - r2_score: 0.8340 - val_loss: 0.0609 - val_r2_score: 0.0860\n",
      "Epoch 10/190\n",
      "23/23 [==============================] - 0s 8ms/step - loss: 0.0067 - r2_score: 0.8989 - val_loss: 0.0607 - val_r2_score: 0.0891\n",
      "Epoch 11/190\n",
      "23/23 [==============================] - 0s 8ms/step - loss: 0.0056 - r2_score: 0.9156 - val_loss: 0.0607 - val_r2_score: 0.0890\n",
      "Epoch 12/190\n",
      "23/23 [==============================] - 0s 7ms/step - loss: 0.0081 - r2_score: 0.8781 - val_loss: 0.0603 - val_r2_score: 0.0953\n",
      "Epoch 13/190\n",
      "23/23 [==============================] - 0s 9ms/step - loss: 0.0055 - r2_score: 0.9176 - val_loss: 0.0590 - val_r2_score: 0.1154\n",
      "Epoch 14/190\n",
      "23/23 [==============================] - 0s 8ms/step - loss: 0.0039 - r2_score: 0.9412 - val_loss: 0.0587 - val_r2_score: 0.1189\n",
      "Epoch 15/190\n",
      "23/23 [==============================] - 0s 8ms/step - loss: 0.0043 - r2_score: 0.9361 - val_loss: 0.0584 - val_r2_score: 0.1240\n",
      "Epoch 16/190\n",
      "23/23 [==============================] - 0s 8ms/step - loss: 0.0045 - r2_score: 0.9320 - val_loss: 0.0589 - val_r2_score: 0.1164\n",
      "Epoch 17/190\n",
      "23/23 [==============================] - 0s 8ms/step - loss: 0.0048 - r2_score: 0.9283 - val_loss: 0.0584 - val_r2_score: 0.1241\n",
      "Epoch 18/190\n",
      "23/23 [==============================] - 0s 8ms/step - loss: 0.0043 - r2_score: 0.9361 - val_loss: 0.0578 - val_r2_score: 0.1335\n",
      "Epoch 19/190\n",
      "23/23 [==============================] - 0s 8ms/step - loss: 0.0049 - r2_score: 0.9264 - val_loss: 0.0591 - val_r2_score: 0.1136\n",
      "Epoch 20/190\n",
      "23/23 [==============================] - 0s 8ms/step - loss: 0.0041 - r2_score: 0.9388 - val_loss: 0.0577 - val_r2_score: 0.1348\n",
      "Epoch 21/190\n",
      "23/23 [==============================] - 0s 8ms/step - loss: 0.0044 - r2_score: 0.9347 - val_loss: 0.0577 - val_r2_score: 0.1347\n",
      "Epoch 22/190\n",
      "23/23 [==============================] - 0s 8ms/step - loss: 0.0038 - r2_score: 0.9427 - val_loss: 0.0568 - val_r2_score: 0.1484\n",
      "Epoch 23/190\n",
      "23/23 [==============================] - 0s 8ms/step - loss: 0.0033 - r2_score: 0.9501 - val_loss: 0.0575 - val_r2_score: 0.1371\n",
      "Epoch 24/190\n",
      "23/23 [==============================] - 0s 8ms/step - loss: 0.0033 - r2_score: 0.9499 - val_loss: 0.0569 - val_r2_score: 0.1460\n",
      "Epoch 25/190\n",
      "23/23 [==============================] - 0s 9ms/step - loss: 0.0028 - r2_score: 0.9586 - val_loss: 0.0568 - val_r2_score: 0.1481\n",
      "Epoch 26/190\n",
      "23/23 [==============================] - 0s 8ms/step - loss: 0.0027 - r2_score: 0.9599 - val_loss: 0.0574 - val_r2_score: 0.1383\n",
      "Epoch 27/190\n",
      "23/23 [==============================] - 0s 9ms/step - loss: 0.0032 - r2_score: 0.9526 - val_loss: 0.0577 - val_r2_score: 0.1352\n",
      "Epoch 28/190\n",
      "23/23 [==============================] - 0s 8ms/step - loss: 0.0039 - r2_score: 0.9416 - val_loss: 0.0570 - val_r2_score: 0.1448\n",
      "Epoch 29/190\n",
      "23/23 [==============================] - 0s 7ms/step - loss: 0.0034 - r2_score: 0.9486 - val_loss: 0.0566 - val_r2_score: 0.1512\n",
      "Epoch 30/190\n",
      "23/23 [==============================] - 0s 8ms/step - loss: 0.0036 - r2_score: 0.9461 - val_loss: 0.0563 - val_r2_score: 0.1556\n",
      "Epoch 31/190\n",
      "23/23 [==============================] - 0s 9ms/step - loss: 0.0030 - r2_score: 0.9546 - val_loss: 0.0561 - val_r2_score: 0.1579\n",
      "Epoch 32/190\n",
      "23/23 [==============================] - 0s 8ms/step - loss: 0.0031 - r2_score: 0.9536 - val_loss: 0.0560 - val_r2_score: 0.1604\n",
      "Epoch 33/190\n",
      "23/23 [==============================] - 0s 8ms/step - loss: 0.0026 - r2_score: 0.9604 - val_loss: 0.0565 - val_r2_score: 0.1519\n",
      "Epoch 34/190\n",
      "23/23 [==============================] - 0s 8ms/step - loss: 0.0028 - r2_score: 0.9576 - val_loss: 0.0556 - val_r2_score: 0.1655\n",
      "Epoch 35/190\n",
      "23/23 [==============================] - 0s 8ms/step - loss: 0.0027 - r2_score: 0.9602 - val_loss: 0.0559 - val_r2_score: 0.1608\n",
      "Epoch 36/190\n",
      "23/23 [==============================] - 0s 8ms/step - loss: 0.0029 - r2_score: 0.9558 - val_loss: 0.0560 - val_r2_score: 0.1594\n",
      "Epoch 37/190\n",
      "23/23 [==============================] - 0s 8ms/step - loss: 0.0031 - r2_score: 0.9540 - val_loss: 0.0559 - val_r2_score: 0.1613\n",
      "Epoch 38/190\n",
      "23/23 [==============================] - 0s 8ms/step - loss: 0.0021 - r2_score: 0.9684 - val_loss: 0.0568 - val_r2_score: 0.1486\n",
      "Epoch 39/190\n",
      "23/23 [==============================] - 0s 8ms/step - loss: 0.0033 - r2_score: 0.9509 - val_loss: 0.0570 - val_r2_score: 0.1444\n",
      "Epoch 40/190\n",
      "23/23 [==============================] - 0s 9ms/step - loss: 0.0017 - r2_score: 0.9747 - val_loss: 0.0565 - val_r2_score: 0.1521\n",
      "Epoch 41/190\n",
      "23/23 [==============================] - 0s 8ms/step - loss: 0.0020 - r2_score: 0.9699 - val_loss: 0.0557 - val_r2_score: 0.1644\n",
      "Epoch 42/190\n",
      "23/23 [==============================] - 0s 8ms/step - loss: 0.0016 - r2_score: 0.9757 - val_loss: 0.0564 - val_r2_score: 0.1542\n",
      "Epoch 43/190\n",
      "23/23 [==============================] - 0s 8ms/step - loss: 0.0021 - r2_score: 0.9691 - val_loss: 0.0559 - val_r2_score: 0.1618\n",
      "Epoch 44/190\n",
      "23/23 [==============================] - 0s 8ms/step - loss: 0.0017 - r2_score: 0.9752 - val_loss: 0.0559 - val_r2_score: 0.1619\n",
      "Epoch 45/190\n",
      "23/23 [==============================] - 0s 7ms/step - loss: 0.0023 - r2_score: 0.9660 - val_loss: 0.0556 - val_r2_score: 0.1653\n",
      "Epoch 46/190\n",
      "23/23 [==============================] - 0s 8ms/step - loss: 0.0025 - r2_score: 0.9632 - val_loss: 0.0551 - val_r2_score: 0.1729\n",
      "Epoch 47/190\n",
      "23/23 [==============================] - 0s 7ms/step - loss: 0.0015 - r2_score: 0.9771 - val_loss: 0.0552 - val_r2_score: 0.1724\n",
      "Epoch 48/190\n",
      "23/23 [==============================] - 0s 8ms/step - loss: 0.0017 - r2_score: 0.9743 - val_loss: 0.0551 - val_r2_score: 0.1731\n",
      "Epoch 49/190\n",
      "23/23 [==============================] - 0s 8ms/step - loss: 0.0021 - r2_score: 0.9685 - val_loss: 0.0548 - val_r2_score: 0.1785\n",
      "Epoch 50/190\n",
      "23/23 [==============================] - 0s 8ms/step - loss: 0.0020 - r2_score: 0.9703 - val_loss: 0.0551 - val_r2_score: 0.1737\n",
      "Epoch 51/190\n",
      "23/23 [==============================] - 0s 8ms/step - loss: 0.0018 - r2_score: 0.9731 - val_loss: 0.0547 - val_r2_score: 0.1798\n",
      "Epoch 52/190\n",
      "23/23 [==============================] - 0s 8ms/step - loss: 0.0016 - r2_score: 0.9759 - val_loss: 0.0549 - val_r2_score: 0.1771\n",
      "Epoch 53/190\n",
      "23/23 [==============================] - 0s 8ms/step - loss: 0.0014 - r2_score: 0.9790 - val_loss: 0.0546 - val_r2_score: 0.1804\n",
      "Epoch 54/190\n",
      "23/23 [==============================] - 0s 8ms/step - loss: 0.0013 - r2_score: 0.9812 - val_loss: 0.0549 - val_r2_score: 0.1768\n",
      "Epoch 55/190\n",
      "23/23 [==============================] - 0s 8ms/step - loss: 0.0012 - r2_score: 0.9818 - val_loss: 0.0546 - val_r2_score: 0.1803\n",
      "Epoch 56/190\n",
      "23/23 [==============================] - 0s 8ms/step - loss: 0.0019 - r2_score: 0.9717 - val_loss: 0.0545 - val_r2_score: 0.1827\n",
      "Epoch 57/190\n",
      "23/23 [==============================] - 0s 11ms/step - loss: 0.0014 - r2_score: 0.9797 - val_loss: 0.0544 - val_r2_score: 0.1842\n",
      "Epoch 58/190\n",
      "23/23 [==============================] - 0s 10ms/step - loss: 0.0026 - r2_score: 0.9607 - val_loss: 0.0547 - val_r2_score: 0.1792\n",
      "Epoch 59/190\n",
      "23/23 [==============================] - 0s 8ms/step - loss: 0.0011 - r2_score: 0.9832 - val_loss: 0.0546 - val_r2_score: 0.1812\n",
      "Epoch 60/190\n",
      "23/23 [==============================] - 0s 8ms/step - loss: 0.0022 - r2_score: 0.9665 - val_loss: 0.0543 - val_r2_score: 0.1848\n",
      "Epoch 61/190\n",
      "23/23 [==============================] - 0s 8ms/step - loss: 0.0013 - r2_score: 0.9807 - val_loss: 0.0541 - val_r2_score: 0.1882\n",
      "Epoch 62/190\n",
      "23/23 [==============================] - 0s 9ms/step - loss: 0.0017 - r2_score: 0.9749 - val_loss: 0.0542 - val_r2_score: 0.1867\n",
      "Epoch 63/190\n",
      "23/23 [==============================] - 0s 9ms/step - loss: 0.0014 - r2_score: 0.9784 - val_loss: 0.0543 - val_r2_score: 0.1851\n",
      "Epoch 64/190\n",
      "23/23 [==============================] - 0s 9ms/step - loss: 0.0013 - r2_score: 0.9799 - val_loss: 0.0542 - val_r2_score: 0.1865\n",
      "Epoch 65/190\n",
      "23/23 [==============================] - 0s 8ms/step - loss: 0.0021 - r2_score: 0.9686 - val_loss: 0.0540 - val_r2_score: 0.1899\n",
      "Epoch 66/190\n",
      "23/23 [==============================] - 0s 8ms/step - loss: 0.0011 - r2_score: 0.9839 - val_loss: 0.0540 - val_r2_score: 0.1894\n",
      "Epoch 67/190\n",
      "23/23 [==============================] - 0s 9ms/step - loss: 0.0015 - r2_score: 0.9777 - val_loss: 0.0540 - val_r2_score: 0.1903\n",
      "Epoch 68/190\n",
      "23/23 [==============================] - 0s 8ms/step - loss: 0.0020 - r2_score: 0.9704 - val_loss: 0.0541 - val_r2_score: 0.1878\n",
      "Epoch 69/190\n",
      "23/23 [==============================] - 0s 8ms/step - loss: 8.4754e-04 - r2_score: 0.9873 - val_loss: 0.0541 - val_r2_score: 0.1878\n",
      "Epoch 70/190\n",
      "23/23 [==============================] - 0s 8ms/step - loss: 0.0013 - r2_score: 0.9798 - val_loss: 0.0541 - val_r2_score: 0.1891\n",
      "Epoch 71/190\n",
      "23/23 [==============================] - 0s 8ms/step - loss: 0.0022 - r2_score: 0.9668 - val_loss: 0.0540 - val_r2_score: 0.1894\n",
      "Epoch 72/190\n",
      "23/23 [==============================] - 0s 7ms/step - loss: 0.0012 - r2_score: 0.9814 - val_loss: 0.0542 - val_r2_score: 0.1876\n",
      "Epoch 73/190\n",
      "23/23 [==============================] - 0s 8ms/step - loss: 0.0018 - r2_score: 0.9723 - val_loss: 0.0539 - val_r2_score: 0.1911\n",
      "Epoch 74/190\n",
      "23/23 [==============================] - 0s 8ms/step - loss: 0.0013 - r2_score: 0.9812 - val_loss: 0.0541 - val_r2_score: 0.1880\n",
      "Epoch 75/190\n",
      "23/23 [==============================] - 0s 9ms/step - loss: 0.0011 - r2_score: 0.9836 - val_loss: 0.0540 - val_r2_score: 0.1905\n",
      "Epoch 76/190\n",
      "23/23 [==============================] - 0s 9ms/step - loss: 0.0015 - r2_score: 0.9778 - val_loss: 0.0541 - val_r2_score: 0.1887\n",
      "Epoch 77/190\n",
      "23/23 [==============================] - 0s 9ms/step - loss: 0.0020 - r2_score: 0.9698 - val_loss: 0.0544 - val_r2_score: 0.1840\n",
      "Epoch 78/190\n",
      "23/23 [==============================] - 0s 8ms/step - loss: 9.5453e-04 - r2_score: 0.9857 - val_loss: 0.0540 - val_r2_score: 0.1906\n",
      "Epoch 79/190\n",
      "23/23 [==============================] - 0s 8ms/step - loss: 8.7495e-04 - r2_score: 0.9869 - val_loss: 0.0537 - val_r2_score: 0.1944\n",
      "Epoch 80/190\n",
      "23/23 [==============================] - 0s 8ms/step - loss: 0.0013 - r2_score: 0.9803 - val_loss: 0.0538 - val_r2_score: 0.1929\n",
      "Epoch 81/190\n",
      "23/23 [==============================] - 0s 8ms/step - loss: 7.9514e-04 - r2_score: 0.9881 - val_loss: 0.0537 - val_r2_score: 0.1941\n",
      "Epoch 82/190\n",
      "23/23 [==============================] - 0s 8ms/step - loss: 7.1742e-04 - r2_score: 0.9892 - val_loss: 0.0538 - val_r2_score: 0.1933\n",
      "Epoch 83/190\n",
      "23/23 [==============================] - 0s 9ms/step - loss: 0.0016 - r2_score: 0.9760 - val_loss: 0.0538 - val_r2_score: 0.1934\n",
      "Epoch 84/190\n",
      "23/23 [==============================] - 0s 8ms/step - loss: 6.9776e-04 - r2_score: 0.9895 - val_loss: 0.0539 - val_r2_score: 0.1917\n",
      "Epoch 85/190\n",
      "23/23 [==============================] - 0s 8ms/step - loss: 0.0011 - r2_score: 0.9833 - val_loss: 0.0538 - val_r2_score: 0.1924\n",
      "Epoch 86/190\n",
      "23/23 [==============================] - 0s 8ms/step - loss: 0.0012 - r2_score: 0.9819 - val_loss: 0.0537 - val_r2_score: 0.1944\n",
      "Epoch 87/190\n",
      "23/23 [==============================] - 0s 8ms/step - loss: 0.0013 - r2_score: 0.9808 - val_loss: 0.0537 - val_r2_score: 0.1943\n",
      "Epoch 88/190\n",
      "23/23 [==============================] - 0s 8ms/step - loss: 7.4591e-04 - r2_score: 0.9888 - val_loss: 0.0540 - val_r2_score: 0.1906\n",
      "Epoch 89/190\n",
      "23/23 [==============================] - 0s 8ms/step - loss: 8.0152e-04 - r2_score: 0.9880 - val_loss: 0.0538 - val_r2_score: 0.1930\n",
      "Epoch 90/190\n",
      "23/23 [==============================] - 0s 8ms/step - loss: 0.0014 - r2_score: 0.9785 - val_loss: 0.0540 - val_r2_score: 0.1898\n",
      "Epoch 91/190\n",
      "23/23 [==============================] - 0s 8ms/step - loss: 8.4150e-04 - r2_score: 0.9874 - val_loss: 0.0538 - val_r2_score: 0.1924\n",
      "Epoch 92/190\n",
      "23/23 [==============================] - 0s 8ms/step - loss: 8.2289e-04 - r2_score: 0.9877 - val_loss: 0.0540 - val_r2_score: 0.1907\n",
      "Epoch 93/190\n",
      "23/23 [==============================] - 0s 8ms/step - loss: 0.0013 - r2_score: 0.9807 - val_loss: 0.0539 - val_r2_score: 0.1922\n",
      "Epoch 94/190\n",
      "23/23 [==============================] - 0s 8ms/step - loss: 8.3776e-04 - r2_score: 0.9874 - val_loss: 0.0540 - val_r2_score: 0.1901\n",
      "Epoch 95/190\n",
      "23/23 [==============================] - 0s 8ms/step - loss: 0.0019 - r2_score: 0.9720 - val_loss: 0.0537 - val_r2_score: 0.1940\n",
      "Epoch 96/190\n",
      "23/23 [==============================] - 0s 8ms/step - loss: 6.4763e-04 - r2_score: 0.9903 - val_loss: 0.0539 - val_r2_score: 0.1912\n",
      "Epoch 97/190\n",
      "23/23 [==============================] - 0s 9ms/step - loss: 6.5917e-04 - r2_score: 0.9901 - val_loss: 0.0535 - val_r2_score: 0.1969\n",
      "Epoch 98/190\n",
      "23/23 [==============================] - 0s 8ms/step - loss: 8.4636e-04 - r2_score: 0.9873 - val_loss: 0.0538 - val_r2_score: 0.1934\n",
      "Epoch 99/190\n",
      "23/23 [==============================] - 0s 9ms/step - loss: 0.0012 - r2_score: 0.9821 - val_loss: 0.0537 - val_r2_score: 0.1945\n",
      "Epoch 100/190\n",
      "23/23 [==============================] - 0s 8ms/step - loss: 9.7415e-04 - r2_score: 0.9854 - val_loss: 0.0536 - val_r2_score: 0.1957\n",
      "Epoch 101/190\n",
      "23/23 [==============================] - 0s 8ms/step - loss: 9.6295e-04 - r2_score: 0.9856 - val_loss: 0.0538 - val_r2_score: 0.1930\n",
      "Epoch 102/190\n",
      "23/23 [==============================] - 0s 8ms/step - loss: 8.5762e-04 - r2_score: 0.9871 - val_loss: 0.0537 - val_r2_score: 0.1951\n",
      "Epoch 103/190\n",
      "23/23 [==============================] - 0s 9ms/step - loss: 8.4289e-04 - r2_score: 0.9874 - val_loss: 0.0537 - val_r2_score: 0.1940\n",
      "Epoch 104/190\n",
      "23/23 [==============================] - 0s 8ms/step - loss: 0.0014 - r2_score: 0.9797 - val_loss: 0.0536 - val_r2_score: 0.1957\n",
      "Epoch 105/190\n",
      "23/23 [==============================] - 0s 8ms/step - loss: 7.7710e-04 - r2_score: 0.9883 - val_loss: 0.0538 - val_r2_score: 0.1925\n",
      "Epoch 106/190\n",
      "23/23 [==============================] - 0s 7ms/step - loss: 0.0012 - r2_score: 0.9813 - val_loss: 0.0537 - val_r2_score: 0.1940\n",
      "Epoch 107/190\n",
      "23/23 [==============================] - 0s 8ms/step - loss: 0.0014 - r2_score: 0.9796 - val_loss: 0.0536 - val_r2_score: 0.1967\n",
      "Epoch 108/190\n",
      "23/23 [==============================] - 0s 8ms/step - loss: 0.0010 - r2_score: 0.9846 - val_loss: 0.0542 - val_r2_score: 0.1864\n",
      "Epoch 109/190\n",
      "23/23 [==============================] - 0s 8ms/step - loss: 7.0788e-04 - r2_score: 0.9894 - val_loss: 0.0537 - val_r2_score: 0.1943\n",
      "Epoch 110/190\n",
      "23/23 [==============================] - 0s 9ms/step - loss: 6.6510e-04 - r2_score: 0.9900 - val_loss: 0.0536 - val_r2_score: 0.1961\n",
      "Epoch 111/190\n",
      "23/23 [==============================] - 0s 14ms/step - loss: 3.5492e-04 - r2_score: 0.9947 - val_loss: 0.0535 - val_r2_score: 0.1969\n",
      "Epoch 112/190\n",
      "23/23 [==============================] - 0s 13ms/step - loss: 7.1221e-04 - r2_score: 0.9893 - val_loss: 0.0536 - val_r2_score: 0.1967\n",
      "Epoch 113/190\n",
      "23/23 [==============================] - 0s 11ms/step - loss: 2.7606e-04 - r2_score: 0.9959 - val_loss: 0.0535 - val_r2_score: 0.1978\n",
      "Epoch 114/190\n",
      "23/23 [==============================] - 0s 12ms/step - loss: 7.3117e-04 - r2_score: 0.9890 - val_loss: 0.0536 - val_r2_score: 0.1961\n",
      "Epoch 115/190\n",
      "23/23 [==============================] - 0s 10ms/step - loss: 5.3932e-04 - r2_score: 0.9919 - val_loss: 0.0535 - val_r2_score: 0.1970\n",
      "Epoch 116/190\n",
      "23/23 [==============================] - 0s 8ms/step - loss: 7.0450e-04 - r2_score: 0.9894 - val_loss: 0.0536 - val_r2_score: 0.1962\n",
      "Epoch 117/190\n",
      "23/23 [==============================] - 0s 8ms/step - loss: 4.0718e-04 - r2_score: 0.9939 - val_loss: 0.0535 - val_r2_score: 0.1969\n",
      "Epoch 118/190\n",
      "23/23 [==============================] - 0s 8ms/step - loss: 0.0012 - r2_score: 0.9822 - val_loss: 0.0537 - val_r2_score: 0.1945\n",
      "Epoch 119/190\n",
      "23/23 [==============================] - 0s 8ms/step - loss: 6.5914e-04 - r2_score: 0.9901 - val_loss: 0.0537 - val_r2_score: 0.1948\n",
      "Epoch 120/190\n",
      "23/23 [==============================] - 0s 8ms/step - loss: 0.0017 - r2_score: 0.9751 - val_loss: 0.0535 - val_r2_score: 0.1980\n",
      "Epoch 121/190\n",
      "23/23 [==============================] - 0s 8ms/step - loss: 0.0011 - r2_score: 0.9841 - val_loss: 0.0536 - val_r2_score: 0.1958\n",
      "Epoch 122/190\n",
      "23/23 [==============================] - 0s 8ms/step - loss: 6.7935e-04 - r2_score: 0.9898 - val_loss: 0.0536 - val_r2_score: 0.1965\n",
      "Epoch 123/190\n",
      "23/23 [==============================] - 0s 8ms/step - loss: 0.0014 - r2_score: 0.9793 - val_loss: 0.0536 - val_r2_score: 0.1956\n",
      "Epoch 124/190\n",
      "23/23 [==============================] - 0s 7ms/step - loss: 7.2747e-04 - r2_score: 0.9891 - val_loss: 0.0535 - val_r2_score: 0.1971\n",
      "Epoch 125/190\n",
      "23/23 [==============================] - 0s 9ms/step - loss: 6.5798e-04 - r2_score: 0.9901 - val_loss: 0.0535 - val_r2_score: 0.1980\n",
      "Epoch 126/190\n",
      "23/23 [==============================] - 0s 8ms/step - loss: 0.0015 - r2_score: 0.9775 - val_loss: 0.0535 - val_r2_score: 0.1970\n",
      "Epoch 127/190\n",
      "23/23 [==============================] - 0s 8ms/step - loss: 8.9587e-04 - r2_score: 0.9866 - val_loss: 0.0537 - val_r2_score: 0.1948\n",
      "Epoch 128/190\n",
      "23/23 [==============================] - 0s 8ms/step - loss: 0.0015 - r2_score: 0.9772 - val_loss: 0.0537 - val_r2_score: 0.1940\n",
      "Epoch 129/190\n",
      "23/23 [==============================] - 0s 8ms/step - loss: 9.1828e-04 - r2_score: 0.9862 - val_loss: 0.0538 - val_r2_score: 0.1931\n",
      "Epoch 130/190\n",
      "23/23 [==============================] - 0s 8ms/step - loss: 7.7745e-04 - r2_score: 0.9883 - val_loss: 0.0535 - val_r2_score: 0.1972\n",
      "Epoch 131/190\n",
      "23/23 [==============================] - 0s 8ms/step - loss: 0.0013 - r2_score: 0.9807 - val_loss: 0.0535 - val_r2_score: 0.1970\n",
      "Epoch 132/190\n",
      "23/23 [==============================] - 0s 8ms/step - loss: 8.5604e-04 - r2_score: 0.9872 - val_loss: 0.0534 - val_r2_score: 0.1994\n",
      "Epoch 133/190\n",
      "23/23 [==============================] - 0s 8ms/step - loss: 0.0011 - r2_score: 0.9842 - val_loss: 0.0539 - val_r2_score: 0.1920\n",
      "Epoch 134/190\n",
      "23/23 [==============================] - 0s 8ms/step - loss: 9.5085e-04 - r2_score: 0.9857 - val_loss: 0.0539 - val_r2_score: 0.1913\n",
      "Epoch 135/190\n",
      "23/23 [==============================] - 0s 8ms/step - loss: 6.6211e-04 - r2_score: 0.9901 - val_loss: 0.0537 - val_r2_score: 0.1949\n",
      "Epoch 136/190\n",
      "23/23 [==============================] - 0s 8ms/step - loss: 0.0014 - r2_score: 0.9786 - val_loss: 0.0540 - val_r2_score: 0.1899\n",
      "Epoch 137/190\n",
      "23/23 [==============================] - 0s 8ms/step - loss: 0.0015 - r2_score: 0.9773 - val_loss: 0.0540 - val_r2_score: 0.1907\n",
      "Epoch 138/190\n",
      "23/23 [==============================] - 0s 8ms/step - loss: 0.0014 - r2_score: 0.9796 - val_loss: 0.0535 - val_r2_score: 0.1982\n",
      "Epoch 139/190\n",
      "23/23 [==============================] - 0s 8ms/step - loss: 8.6192e-04 - r2_score: 0.9871 - val_loss: 0.0537 - val_r2_score: 0.1951\n",
      "Epoch 140/190\n",
      "23/23 [==============================] - 0s 8ms/step - loss: 6.1216e-04 - r2_score: 0.9908 - val_loss: 0.0536 - val_r2_score: 0.1953\n",
      "Epoch 141/190\n",
      "23/23 [==============================] - 0s 8ms/step - loss: 3.5917e-04 - r2_score: 0.9946 - val_loss: 0.0537 - val_r2_score: 0.1947\n",
      "Epoch 142/190\n",
      "23/23 [==============================] - 0s 8ms/step - loss: 9.1293e-04 - r2_score: 0.9863 - val_loss: 0.0535 - val_r2_score: 0.1975\n",
      "Epoch 143/190\n",
      "23/23 [==============================] - 0s 7ms/step - loss: 6.3793e-04 - r2_score: 0.9904 - val_loss: 0.0535 - val_r2_score: 0.1976\n",
      "Epoch 144/190\n",
      "23/23 [==============================] - 0s 8ms/step - loss: 8.2163e-04 - r2_score: 0.9877 - val_loss: 0.0537 - val_r2_score: 0.1941\n",
      "Epoch 145/190\n",
      "23/23 [==============================] - 0s 8ms/step - loss: 7.0797e-04 - r2_score: 0.9894 - val_loss: 0.0534 - val_r2_score: 0.1989\n",
      "Epoch 146/190\n",
      "23/23 [==============================] - 0s 8ms/step - loss: 8.9952e-04 - r2_score: 0.9865 - val_loss: 0.0539 - val_r2_score: 0.1922\n",
      "Epoch 147/190\n",
      "23/23 [==============================] - 0s 8ms/step - loss: 0.0010 - r2_score: 0.9844 - val_loss: 0.0536 - val_r2_score: 0.1964\n",
      "Epoch 148/190\n",
      "23/23 [==============================] - 0s 9ms/step - loss: 3.4339e-04 - r2_score: 0.9948 - val_loss: 0.0534 - val_r2_score: 0.1997\n",
      "Epoch 149/190\n",
      "23/23 [==============================] - 0s 7ms/step - loss: 6.0590e-04 - r2_score: 0.9909 - val_loss: 0.0538 - val_r2_score: 0.1927\n",
      "Epoch 150/190\n",
      "23/23 [==============================] - 0s 8ms/step - loss: 4.1879e-04 - r2_score: 0.9937 - val_loss: 0.0534 - val_r2_score: 0.1992\n",
      "Epoch 151/190\n",
      "23/23 [==============================] - 0s 8ms/step - loss: 2.7062e-04 - r2_score: 0.9959 - val_loss: 0.0534 - val_r2_score: 0.1990\n",
      "Epoch 152/190\n",
      "23/23 [==============================] - 0s 7ms/step - loss: 5.2298e-04 - r2_score: 0.9922 - val_loss: 0.0535 - val_r2_score: 0.1975\n",
      "Epoch 153/190\n",
      "23/23 [==============================] - 0s 8ms/step - loss: 7.2706e-04 - r2_score: 0.9891 - val_loss: 0.0533 - val_r2_score: 0.2002\n",
      "Epoch 154/190\n",
      "23/23 [==============================] - 0s 9ms/step - loss: 0.0016 - r2_score: 0.9753 - val_loss: 0.0541 - val_r2_score: 0.1887\n",
      "Epoch 155/190\n",
      "23/23 [==============================] - 0s 7ms/step - loss: 0.0011 - r2_score: 0.9828 - val_loss: 0.0537 - val_r2_score: 0.1940\n",
      "Epoch 156/190\n",
      "23/23 [==============================] - 0s 8ms/step - loss: 0.0010 - r2_score: 0.9844 - val_loss: 0.0532 - val_r2_score: 0.2016\n",
      "Epoch 157/190\n",
      "23/23 [==============================] - 0s 8ms/step - loss: 0.0011 - r2_score: 0.9838 - val_loss: 0.0534 - val_r2_score: 0.1994\n",
      "Epoch 158/190\n",
      "23/23 [==============================] - 0s 8ms/step - loss: 0.0011 - r2_score: 0.9841 - val_loss: 0.0536 - val_r2_score: 0.1965\n",
      "Epoch 159/190\n",
      "23/23 [==============================] - 0s 8ms/step - loss: 0.0013 - r2_score: 0.9810 - val_loss: 0.0536 - val_r2_score: 0.1967\n",
      "Epoch 160/190\n",
      "23/23 [==============================] - 0s 8ms/step - loss: 9.0838e-04 - r2_score: 0.9864 - val_loss: 0.0540 - val_r2_score: 0.1895\n",
      "Epoch 161/190\n",
      "23/23 [==============================] - 0s 8ms/step - loss: 2.8492e-04 - r2_score: 0.9957 - val_loss: 0.0532 - val_r2_score: 0.2016\n",
      "Epoch 162/190\n",
      "23/23 [==============================] - 0s 7ms/step - loss: 6.7102e-04 - r2_score: 0.9899 - val_loss: 0.0534 - val_r2_score: 0.1984\n",
      "Epoch 163/190\n",
      "23/23 [==============================] - 0s 9ms/step - loss: 6.7153e-04 - r2_score: 0.9899 - val_loss: 0.0534 - val_r2_score: 0.1985\n",
      "Epoch 164/190\n",
      "23/23 [==============================] - 0s 8ms/step - loss: 0.0012 - r2_score: 0.9815 - val_loss: 0.0537 - val_r2_score: 0.1951\n",
      "Epoch 165/190\n",
      "23/23 [==============================] - 0s 13ms/step - loss: 6.5663e-04 - r2_score: 0.9902 - val_loss: 0.0533 - val_r2_score: 0.2003\n",
      "Epoch 166/190\n",
      "23/23 [==============================] - 0s 8ms/step - loss: 7.6714e-04 - r2_score: 0.9885 - val_loss: 0.0532 - val_r2_score: 0.2018\n",
      "Epoch 167/190\n",
      "23/23 [==============================] - 0s 8ms/step - loss: 7.2746e-04 - r2_score: 0.9891 - val_loss: 0.0534 - val_r2_score: 0.1994\n",
      "Epoch 168/190\n",
      "23/23 [==============================] - 0s 8ms/step - loss: 4.8215e-04 - r2_score: 0.9928 - val_loss: 0.0532 - val_r2_score: 0.2019\n",
      "Epoch 169/190\n",
      "23/23 [==============================] - 0s 8ms/step - loss: 2.8429e-04 - r2_score: 0.9957 - val_loss: 0.0532 - val_r2_score: 0.2019\n",
      "Epoch 170/190\n",
      "23/23 [==============================] - 0s 8ms/step - loss: 6.6543e-04 - r2_score: 0.9900 - val_loss: 0.0532 - val_r2_score: 0.2023\n",
      "Epoch 171/190\n",
      "23/23 [==============================] - 0s 8ms/step - loss: 9.2042e-04 - r2_score: 0.9862 - val_loss: 0.0531 - val_r2_score: 0.2030\n",
      "Epoch 172/190\n",
      "23/23 [==============================] - 0s 8ms/step - loss: 5.7490e-04 - r2_score: 0.9914 - val_loss: 0.0533 - val_r2_score: 0.2010\n",
      "Epoch 173/190\n",
      "23/23 [==============================] - 0s 8ms/step - loss: 5.8612e-04 - r2_score: 0.9912 - val_loss: 0.0532 - val_r2_score: 0.2016\n",
      "Epoch 174/190\n",
      "23/23 [==============================] - 0s 8ms/step - loss: 9.9054e-04 - r2_score: 0.9851 - val_loss: 0.0537 - val_r2_score: 0.1945\n",
      "Epoch 175/190\n",
      "23/23 [==============================] - 0s 8ms/step - loss: 6.6178e-04 - r2_score: 0.9901 - val_loss: 0.0532 - val_r2_score: 0.2016\n",
      "Epoch 176/190\n",
      "23/23 [==============================] - 0s 8ms/step - loss: 0.0011 - r2_score: 0.9839 - val_loss: 0.0533 - val_r2_score: 0.2004\n",
      "Epoch 177/190\n",
      "23/23 [==============================] - 0s 8ms/step - loss: 3.4209e-04 - r2_score: 0.9949 - val_loss: 0.0533 - val_r2_score: 0.2002\n",
      "Epoch 178/190\n",
      "23/23 [==============================] - 0s 8ms/step - loss: 5.8032e-04 - r2_score: 0.9913 - val_loss: 0.0531 - val_r2_score: 0.2028\n",
      "Epoch 179/190\n",
      "23/23 [==============================] - 0s 8ms/step - loss: 5.7858e-04 - r2_score: 0.9913 - val_loss: 0.0539 - val_r2_score: 0.1910\n",
      "Epoch 180/190\n",
      "23/23 [==============================] - 0s 8ms/step - loss: 5.7466e-04 - r2_score: 0.9914 - val_loss: 0.0536 - val_r2_score: 0.1965\n",
      "Epoch 181/190\n",
      "23/23 [==============================] - 0s 8ms/step - loss: 9.5227e-04 - r2_score: 0.9857 - val_loss: 0.0540 - val_r2_score: 0.1906\n",
      "Epoch 182/190\n",
      "23/23 [==============================] - 0s 8ms/step - loss: 9.2673e-04 - r2_score: 0.9861 - val_loss: 0.0523 - val_r2_score: 0.2156\n",
      "Epoch 183/190\n",
      "23/23 [==============================] - 0s 7ms/step - loss: 8.1746e-04 - r2_score: 0.9877 - val_loss: 0.0534 - val_r2_score: 0.1995\n",
      "Epoch 184/190\n",
      "23/23 [==============================] - 0s 8ms/step - loss: 7.7812e-04 - r2_score: 0.9883 - val_loss: 0.0533 - val_r2_score: 0.1999\n",
      "Epoch 185/190\n",
      "23/23 [==============================] - 0s 8ms/step - loss: 2.4795e-04 - r2_score: 0.9963 - val_loss: 0.0530 - val_r2_score: 0.2043\n",
      "Epoch 186/190\n",
      "23/23 [==============================] - 0s 8ms/step - loss: 5.0944e-04 - r2_score: 0.9924 - val_loss: 0.0529 - val_r2_score: 0.2059\n",
      "Epoch 187/190\n",
      "23/23 [==============================] - 0s 8ms/step - loss: 6.8208e-04 - r2_score: 0.9898 - val_loss: 0.0530 - val_r2_score: 0.2053\n",
      "Epoch 188/190\n",
      "23/23 [==============================] - 0s 9ms/step - loss: 1.3828e-04 - r2_score: 0.9979 - val_loss: 0.0530 - val_r2_score: 0.2050\n",
      "Epoch 189/190\n",
      "23/23 [==============================] - 0s 8ms/step - loss: 2.9356e-04 - r2_score: 0.9956 - val_loss: 0.0532 - val_r2_score: 0.2024\n",
      "Epoch 190/190\n",
      "23/23 [==============================] - 0s 8ms/step - loss: 4.2967e-04 - r2_score: 0.9936 - val_loss: 0.0530 - val_r2_score: 0.2043\n"
     ]
    }
   ],
   "source": [
    "history = adversary.fit(adv_X, adv_y, batch_size=80, epochs=190, validation_data=(adv_X_test, adv_y_test))"
   ]
  },
  {
   "cell_type": "code",
   "execution_count": 40,
   "id": "68ac14eebed1f3b1",
   "metadata": {
    "ExecuteTime": {
     "end_time": "2023-12-04T12:59:31.888907528Z",
     "start_time": "2023-12-04T12:59:31.712402092Z"
    },
    "collapsed": false
   },
   "outputs": [
    {
     "data": {
      "image/png": "[encoded data removed]",
      "text/plain": [
       "<Figure size 640x480 with 1 Axes>"
      ]
     },
     "metadata": {},
     "output_type": "display_data"
    }
   ],
   "source": [
    "import matplotlib.pyplot as plt\n",
    "plt.plot(history.history['r2_score'][2:])\n",
    "plt.plot(history.history['val_r2_score'][2:])\n",
    "plt.title('r_2 score')\n",
    "plt.ylabel('r_2 score')\n",
    "plt.xlabel('epoch')\n",
    "plt.legend(['train', 'test'], loc='upper left')\n",
    "plt.show()"
   ]
  },
  {
   "cell_type": "code",
   "execution_count": 41,
   "id": "c071700f72f8529b",
   "metadata": {
    "ExecuteTime": {
     "end_time": "2023-12-04T13:00:10.436740657Z",
     "start_time": "2023-12-04T13:00:10.394954634Z"
    },
    "collapsed": false
   },
   "outputs": [
    {
     "data": {
      "text/plain": [
       "0       0.8\n",
       "1       0.3\n",
       "2       0.4\n",
       "3       0.7\n",
       "4       0.5\n",
       "       ... \n",
       "1795    0.5\n",
       "1796    0.9\n",
       "1797    0.6\n",
       "1798    0.2\n",
       "1799    0.6\n",
       "Name: y, Length: 1800, dtype: float64"
      ]
     },
     "execution_count": 41,
     "metadata": {},
     "output_type": "execute_result"
    }
   ],
   "source": [
    "adv_y"
   ]
  },
  {
   "cell_type": "markdown",
   "id": "6ea68fad4f4a365",
   "metadata": {
    "collapsed": false
   },
   "source": [
    "# New adversary: classification instead of regression"
   ]
  },
  {
   "cell_type": "code",
   "execution_count": 42,
   "id": "29fdf8159c2afe4d",
   "metadata": {
    "ExecuteTime": {
     "end_time": "2023-12-04T13:00:26.432847377Z",
     "start_time": "2023-12-04T13:00:26.410986922Z"
    },
    "collapsed": false
   },
   "outputs": [],
   "source": [
    "adv_y_classification = np.array(adv_y*10-1, dtype=np.dtype(\"int\"))\n",
    "adv_y_test_classification = np.array(adv_y_test*10-1, dtype=np.dtype(\"int\"))"
   ]
  },
  {
   "cell_type": "code",
   "execution_count": 43,
   "id": "84a65b3d1b061a49",
   "metadata": {
    "ExecuteTime": {
     "end_time": "2023-12-04T13:35:26.665920066Z",
     "start_time": "2023-12-04T13:00:29.729598218Z"
    },
    "collapsed": false
   },
   "outputs": [
    {
     "data": {
      "text/plain": [
       "0.1761111111111111"
      ]
     },
     "execution_count": 43,
     "metadata": {},
     "output_type": "execute_result"
    }
   ],
   "source": [
    "# Baseline (classification)\n",
    "from sklearn.ensemble import GradientBoostingClassifier\n",
    "gb = GradientBoostingClassifier()\n",
    "gb.fit(adv_X, adv_y_classification)\n",
    "gb.score(adv_X_test, adv_y_test_classification)"
   ]
  },
  {
   "cell_type": "code",
   "execution_count": 44,
   "id": "edd92cc0b3bc0772",
   "metadata": {
    "ExecuteTime": {
     "end_time": "2023-12-04T13:36:55.878129737Z",
     "start_time": "2023-12-04T13:36:55.835608086Z"
    },
    "collapsed": false
   },
   "outputs": [
    {
     "name": "stderr",
     "output_type": "stream",
     "text": [
      "/home/jstock/.local/lib/python3.10/site-packages/sklearn/preprocessing/_encoders.py:868: FutureWarning: `sparse` was renamed to `sparse_output` in version 1.2 and will be removed in 1.4. `sparse_output` is ignored unless you leave `sparse` to its default value.\n",
      "  warnings.warn(\n"
     ]
    }
   ],
   "source": [
    "from sklearn.preprocessing import OneHotEncoder\n",
    "enc = OneHotEncoder(sparse=False)\n",
    "adv_y_one_hot = enc.fit_transform(pd.array(adv_y_classification).reshape(-1, 1))\n",
    "adv_y_test_one_hot = enc.transform(pd.array(adv_y_test_classification).reshape(-1, 1))"
   ]
  },
  {
   "cell_type": "code",
   "execution_count": 55,
   "id": "6ad50f56128a170",
   "metadata": {
    "ExecuteTime": {
     "end_time": "2023-12-04T13:49:13.248262871Z",
     "start_time": "2023-12-04T13:49:13.211977247Z"
    },
    "collapsed": false
   },
   "outputs": [],
   "source": [
    "# classification\n",
    "adversary = keras.Sequential()\n",
    "adversary.add(keras.Input(shape=(adv_X.shape[1],)))\n",
    "\n",
    "#adversary.add(keras.layers.Reshape((adv_X.shape[1],1)))\n",
    "#adversary.add(keras.layers.LSTM(4, activation='relu', return_sequences=False, return_state=False))\n",
    "\n",
    "#adversary.add(keras.layers.AveragePooling1D(\n",
    "#    #input_shape=(None,adv_X.shape[1],),\n",
    "#    pool_size=3, strides=1, padding=\"valid\", data_format=\"channels_last\"\n",
    "#))\n",
    "#adversary.add(keras.layers.MaxPooling1D(pool_size=2, strides=1, padding='valid'))\n",
    "#adversary.add(keras.layers.Reshape((adv_X.shape[1],)))\n",
    "\n",
    "#adversary.add(keras.layers.LayerNormalization(axis=1))\n",
    "#adversary.add(keras.layers.Dense(500))\n",
    "#adversary.add(keras.layers.Dense(16, activation='relu'))\n",
    "#adversary.add(keras.layers.Dropout(rate=0.1))\n",
    "#adversary.add(keras.layers.TimeDistributed(keras.layers.Dense(1)))\n",
    "#adversary.add(keras.layers.Dense(2, activation='relu'))\n",
    "#adversary.add(keras.layers.Flatten())\n",
    "\n",
    "#adversary.add(keras.layers.Dense(32, activation=\"relu\"))\n",
    "adversary.add(keras.layers.Dense(40, activation='relu'))\n",
    "\n",
    "#adversary.add(keras.layers.Dense(64, activation='relu'))\n",
    "\n",
    "adversary.add(keras.layers.Dropout(rate=0.05))\n",
    "#adversary.add(keras.layers.TimeDistributed(keras.layers.Dense(1)))\n",
    "#adversary.add(keras.layers.Dense(2, activation='relu'))\n",
    "#adversary.add(keras.layers.Flatten())\n",
    "adversary.add(keras.layers.Dense(16, activation=\"relu\"))\n",
    "adversary.add(keras.layers.Dense(9, activation=\"softmax\"))\n",
    "\n",
    "#learning_rate=0.000005\n",
    "initial_learning_rate=0.000003\n",
    "lr_schedule = keras.optimizers.schedules.ExponentialDecay(\n",
    "    initial_learning_rate,\n",
    "    decay_steps=100000,\n",
    "    decay_rate=0.96,\n",
    "    staircase=True)\n",
    "optimizer = keras.optimizers.SGD(learning_rate=lr_schedule)\n",
    "#learning_rate=lr_schedule\n",
    "adversary.compile(optimizer=\"adam\", loss=keras.losses.CategoricalCrossentropy(from_logits=False), metrics=\"accuracy\")"
   ]
  },
  {
   "cell_type": "code",
   "execution_count": 56,
   "id": "c7075565f12356aa",
   "metadata": {
    "ExecuteTime": {
     "end_time": "2023-12-04T13:49:52.056803922Z",
     "start_time": "2023-12-04T13:49:14.026203755Z"
    },
    "collapsed": false
   },
   "outputs": [
    {
     "name": "stdout",
     "output_type": "stream",
     "text": [
      "Epoch 1/200\n",
      "23/23 [==============================] - 1s 36ms/step - loss: 3.2470 - accuracy: 0.1311 - val_loss: 2.2045 - val_accuracy: 0.1111\n",
      "Epoch 2/200\n",
      "23/23 [==============================] - 0s 8ms/step - loss: 2.1712 - accuracy: 0.1433 - val_loss: 2.1968 - val_accuracy: 0.0967\n",
      "Epoch 3/200\n",
      "23/23 [==============================] - 0s 8ms/step - loss: 2.1459 - accuracy: 0.1583 - val_loss: 2.1982 - val_accuracy: 0.1111\n",
      "Epoch 4/200\n",
      "23/23 [==============================] - 0s 13ms/step - loss: 2.1116 - accuracy: 0.1961 - val_loss: 2.1931 - val_accuracy: 0.1111\n",
      "Epoch 5/200\n",
      "23/23 [==============================] - 0s 7ms/step - loss: 2.0793 - accuracy: 0.2139 - val_loss: 2.2136 - val_accuracy: 0.1111\n",
      "Epoch 6/200\n",
      "23/23 [==============================] - 0s 7ms/step - loss: 2.0442 - accuracy: 0.2100 - val_loss: 2.1934 - val_accuracy: 0.1111\n",
      "Epoch 7/200\n",
      "23/23 [==============================] - 0s 7ms/step - loss: 2.0233 - accuracy: 0.1933 - val_loss: 2.1929 - val_accuracy: 0.1111\n",
      "Epoch 8/200\n",
      "23/23 [==============================] - 0s 8ms/step - loss: 1.9998 - accuracy: 0.2056 - val_loss: 2.2216 - val_accuracy: 0.1111\n",
      "Epoch 9/200\n",
      "23/23 [==============================] - 0s 7ms/step - loss: 1.9575 - accuracy: 0.2239 - val_loss: 2.1936 - val_accuracy: 0.1111\n",
      "Epoch 10/200\n",
      "23/23 [==============================] - 0s 10ms/step - loss: 1.9313 - accuracy: 0.2194 - val_loss: 2.2161 - val_accuracy: 0.1111\n",
      "Epoch 11/200\n",
      "23/23 [==============================] - 0s 7ms/step - loss: 1.9125 - accuracy: 0.2167 - val_loss: 2.2204 - val_accuracy: 0.1111\n",
      "Epoch 12/200\n",
      "23/23 [==============================] - 0s 8ms/step - loss: 1.8962 - accuracy: 0.2150 - val_loss: 2.2086 - val_accuracy: 0.1056\n",
      "Epoch 13/200\n",
      "23/23 [==============================] - 0s 8ms/step - loss: 1.8792 - accuracy: 0.2239 - val_loss: 2.2419 - val_accuracy: 0.1111\n",
      "Epoch 14/200\n",
      "23/23 [==============================] - 0s 7ms/step - loss: 1.8634 - accuracy: 0.2222 - val_loss: 2.2140 - val_accuracy: 0.0550\n",
      "Epoch 15/200\n",
      "23/23 [==============================] - 0s 7ms/step - loss: 1.8506 - accuracy: 0.2233 - val_loss: 2.2471 - val_accuracy: 0.0861\n",
      "Epoch 16/200\n",
      "23/23 [==============================] - 0s 7ms/step - loss: 1.8324 - accuracy: 0.2294 - val_loss: 2.2452 - val_accuracy: 0.0506\n",
      "Epoch 17/200\n",
      "23/23 [==============================] - 0s 8ms/step - loss: 1.8221 - accuracy: 0.2278 - val_loss: 2.2590 - val_accuracy: 0.0222\n",
      "Epoch 18/200\n",
      "23/23 [==============================] - 0s 7ms/step - loss: 1.8132 - accuracy: 0.2383 - val_loss: 2.2214 - val_accuracy: 0.0017\n",
      "Epoch 19/200\n",
      "23/23 [==============================] - 0s 10ms/step - loss: 1.8040 - accuracy: 0.2511 - val_loss: 2.3194 - val_accuracy: 0.0278\n",
      "Epoch 20/200\n",
      "23/23 [==============================] - 0s 8ms/step - loss: 1.7895 - accuracy: 0.2400 - val_loss: 2.2550 - val_accuracy: 0.0922\n",
      "Epoch 21/200\n",
      "23/23 [==============================] - 0s 7ms/step - loss: 1.7843 - accuracy: 0.2428 - val_loss: 2.1685 - val_accuracy: 0.1317\n",
      "Epoch 22/200\n",
      "23/23 [==============================] - 0s 7ms/step - loss: 1.7901 - accuracy: 0.2561 - val_loss: 2.3184 - val_accuracy: 0.0739\n",
      "Epoch 23/200\n",
      "23/23 [==============================] - 0s 7ms/step - loss: 1.7624 - accuracy: 0.2622 - val_loss: 2.1822 - val_accuracy: 0.1656\n",
      "Epoch 24/200\n",
      "23/23 [==============================] - 0s 8ms/step - loss: 1.7526 - accuracy: 0.2594 - val_loss: 2.3068 - val_accuracy: 0.1111\n",
      "Epoch 25/200\n",
      "23/23 [==============================] - 0s 7ms/step - loss: 1.7331 - accuracy: 0.2694 - val_loss: 2.2971 - val_accuracy: 0.1522\n",
      "Epoch 26/200\n",
      "23/23 [==============================] - 0s 8ms/step - loss: 1.7236 - accuracy: 0.2783 - val_loss: 2.3811 - val_accuracy: 0.1111\n",
      "Epoch 27/200\n",
      "23/23 [==============================] - 0s 7ms/step - loss: 1.7137 - accuracy: 0.2872 - val_loss: 2.3305 - val_accuracy: 0.1128\n",
      "Epoch 28/200\n",
      "23/23 [==============================] - 0s 8ms/step - loss: 1.7128 - accuracy: 0.2744 - val_loss: 2.2309 - val_accuracy: 0.1111\n",
      "Epoch 29/200\n",
      "23/23 [==============================] - 0s 7ms/step - loss: 1.7263 - accuracy: 0.2856 - val_loss: 2.1985 - val_accuracy: 0.1739\n",
      "Epoch 30/200\n",
      "23/23 [==============================] - 0s 7ms/step - loss: 1.7211 - accuracy: 0.2811 - val_loss: 2.1764 - val_accuracy: 0.1400\n",
      "Epoch 31/200\n",
      "23/23 [==============================] - 0s 9ms/step - loss: 1.6941 - accuracy: 0.2861 - val_loss: 2.3498 - val_accuracy: 0.1122\n",
      "Epoch 32/200\n",
      "23/23 [==============================] - 0s 9ms/step - loss: 1.6843 - accuracy: 0.2789 - val_loss: 2.2615 - val_accuracy: 0.1111\n",
      "Epoch 33/200\n",
      "23/23 [==============================] - 0s 10ms/step - loss: 1.6865 - accuracy: 0.3028 - val_loss: 2.2570 - val_accuracy: 0.1111\n",
      "Epoch 34/200\n",
      "23/23 [==============================] - 0s 8ms/step - loss: 1.6724 - accuracy: 0.2994 - val_loss: 2.4244 - val_accuracy: 0.2211\n",
      "Epoch 35/200\n",
      "23/23 [==============================] - 0s 9ms/step - loss: 1.6560 - accuracy: 0.2761 - val_loss: 2.3128 - val_accuracy: 0.1106\n",
      "Epoch 36/200\n",
      "23/23 [==============================] - 0s 9ms/step - loss: 1.6924 - accuracy: 0.2867 - val_loss: 2.2125 - val_accuracy: 0.1817\n",
      "Epoch 37/200\n",
      "23/23 [==============================] - 0s 9ms/step - loss: 1.6887 - accuracy: 0.2872 - val_loss: 2.2176 - val_accuracy: 0.1428\n",
      "Epoch 38/200\n",
      "23/23 [==============================] - 0s 10ms/step - loss: 1.6767 - accuracy: 0.2817 - val_loss: 2.1815 - val_accuracy: 0.2200\n",
      "Epoch 39/200\n",
      "23/23 [==============================] - 0s 9ms/step - loss: 1.6417 - accuracy: 0.2867 - val_loss: 2.2944 - val_accuracy: 0.0422\n",
      "Epoch 40/200\n",
      "23/23 [==============================] - 0s 9ms/step - loss: 1.6325 - accuracy: 0.3006 - val_loss: 2.3117 - val_accuracy: 0.0017\n",
      "Epoch 41/200\n",
      "23/23 [==============================] - 0s 9ms/step - loss: 1.6078 - accuracy: 0.3328 - val_loss: 2.4752 - val_accuracy: 0.0083\n",
      "Epoch 42/200\n",
      "23/23 [==============================] - 0s 8ms/step - loss: 1.6051 - accuracy: 0.3383 - val_loss: 2.4664 - val_accuracy: 0.0933\n",
      "Epoch 43/200\n",
      "23/23 [==============================] - 0s 9ms/step - loss: 1.6058 - accuracy: 0.3339 - val_loss: 2.2592 - val_accuracy: 0.1133\n",
      "Epoch 44/200\n",
      "23/23 [==============================] - 0s 9ms/step - loss: 1.6542 - accuracy: 0.2783 - val_loss: 2.5102 - val_accuracy: 0.1100\n",
      "Epoch 45/200\n",
      "23/23 [==============================] - 0s 8ms/step - loss: 1.7109 - accuracy: 0.2533 - val_loss: 2.2114 - val_accuracy: 0.2222\n",
      "Epoch 46/200\n",
      "23/23 [==============================] - 0s 7ms/step - loss: 1.5922 - accuracy: 0.2961 - val_loss: 2.2209 - val_accuracy: 0.2222\n",
      "Epoch 47/200\n",
      "23/23 [==============================] - 0s 10ms/step - loss: 1.5766 - accuracy: 0.3472 - val_loss: 2.5459 - val_accuracy: 0.0044\n",
      "Epoch 48/200\n",
      "23/23 [==============================] - 0s 8ms/step - loss: 1.5577 - accuracy: 0.3661 - val_loss: 2.4227 - val_accuracy: 0.1111\n",
      "Epoch 49/200\n",
      "23/23 [==============================] - 0s 9ms/step - loss: 1.5592 - accuracy: 0.3411 - val_loss: 2.4353 - val_accuracy: 0.1111\n",
      "Epoch 50/200\n",
      "23/23 [==============================] - 0s 8ms/step - loss: 1.5430 - accuracy: 0.3811 - val_loss: 2.4997 - val_accuracy: 0.1111\n",
      "Epoch 51/200\n",
      "23/23 [==============================] - 0s 7ms/step - loss: 1.5322 - accuracy: 0.3700 - val_loss: 2.5546 - val_accuracy: 0.1122\n",
      "Epoch 52/200\n",
      "23/23 [==============================] - 0s 9ms/step - loss: 1.5338 - accuracy: 0.3844 - val_loss: 2.5537 - val_accuracy: 0.1056\n",
      "Epoch 53/200\n",
      "23/23 [==============================] - 0s 8ms/step - loss: 1.5363 - accuracy: 0.4461 - val_loss: 2.5498 - val_accuracy: 0.1111\n",
      "Epoch 54/200\n",
      "23/23 [==============================] - 0s 7ms/step - loss: 1.5247 - accuracy: 0.4161 - val_loss: 2.5858 - val_accuracy: 0.1111\n",
      "Epoch 55/200\n",
      "23/23 [==============================] - 0s 7ms/step - loss: 1.5199 - accuracy: 0.4206 - val_loss: 2.5796 - val_accuracy: 0.1111\n",
      "Epoch 56/200\n",
      "23/23 [==============================] - 0s 8ms/step - loss: 1.5018 - accuracy: 0.4800 - val_loss: 2.5217 - val_accuracy: 0.1111\n",
      "Epoch 57/200\n",
      "23/23 [==============================] - 0s 8ms/step - loss: 1.4906 - accuracy: 0.4767 - val_loss: 2.6737 - val_accuracy: 0.1083\n",
      "Epoch 58/200\n",
      "23/23 [==============================] - 0s 7ms/step - loss: 1.4867 - accuracy: 0.4628 - val_loss: 2.5858 - val_accuracy: 0.1128\n",
      "Epoch 59/200\n",
      "23/23 [==============================] - 0s 7ms/step - loss: 1.4732 - accuracy: 0.4700 - val_loss: 2.5883 - val_accuracy: 0.1111\n",
      "Epoch 60/200\n",
      "23/23 [==============================] - 0s 8ms/step - loss: 1.4721 - accuracy: 0.5711 - val_loss: 2.6148 - val_accuracy: 0.1111\n",
      "Epoch 61/200\n",
      "23/23 [==============================] - 0s 9ms/step - loss: 1.4612 - accuracy: 0.4600 - val_loss: 3.0051 - val_accuracy: 0.1178\n",
      "Epoch 62/200\n",
      "23/23 [==============================] - 0s 10ms/step - loss: 1.4648 - accuracy: 0.4861 - val_loss: 2.8889 - val_accuracy: 0.0261\n",
      "Epoch 63/200\n",
      "23/23 [==============================] - 0s 8ms/step - loss: 1.4584 - accuracy: 0.5778 - val_loss: 2.8523 - val_accuracy: 0.1072\n",
      "Epoch 64/200\n",
      "23/23 [==============================] - 0s 9ms/step - loss: 1.5502 - accuracy: 0.4044 - val_loss: 4.9200 - val_accuracy: 0.1111\n",
      "Epoch 65/200\n",
      "23/23 [==============================] - 0s 8ms/step - loss: 1.9274 - accuracy: 0.2328 - val_loss: 2.4526 - val_accuracy: 0.1111\n",
      "Epoch 66/200\n",
      "23/23 [==============================] - 0s 8ms/step - loss: 1.5753 - accuracy: 0.3022 - val_loss: 2.3001 - val_accuracy: 0.2683\n",
      "Epoch 67/200\n",
      "23/23 [==============================] - 0s 8ms/step - loss: 1.4737 - accuracy: 0.4472 - val_loss: 2.7025 - val_accuracy: 0.1083\n",
      "Epoch 68/200\n",
      "23/23 [==============================] - 0s 7ms/step - loss: 1.4528 - accuracy: 0.4872 - val_loss: 2.5577 - val_accuracy: 0.1672\n",
      "Epoch 69/200\n",
      "23/23 [==============================] - 0s 8ms/step - loss: 1.4308 - accuracy: 0.5522 - val_loss: 2.8980 - val_accuracy: 0.1111\n",
      "Epoch 70/200\n",
      "23/23 [==============================] - 0s 8ms/step - loss: 1.4435 - accuracy: 0.5361 - val_loss: 2.5647 - val_accuracy: 0.1544\n",
      "Epoch 71/200\n",
      "23/23 [==============================] - 0s 8ms/step - loss: 1.4322 - accuracy: 0.5106 - val_loss: 2.7948 - val_accuracy: 0.1111\n",
      "Epoch 72/200\n",
      "23/23 [==============================] - 0s 8ms/step - loss: 1.4064 - accuracy: 0.5917 - val_loss: 2.9236 - val_accuracy: 0.1111\n",
      "Epoch 73/200\n",
      "23/23 [==============================] - 0s 7ms/step - loss: 1.4000 - accuracy: 0.5094 - val_loss: 2.7916 - val_accuracy: 0.1111\n",
      "Epoch 74/200\n",
      "23/23 [==============================] - 0s 8ms/step - loss: 1.3891 - accuracy: 0.5594 - val_loss: 2.6271 - val_accuracy: 0.1406\n",
      "Epoch 75/200\n",
      "23/23 [==============================] - 0s 8ms/step - loss: 1.3978 - accuracy: 0.5483 - val_loss: 2.7101 - val_accuracy: 0.1183\n",
      "Epoch 76/200\n",
      "23/23 [==============================] - 0s 8ms/step - loss: 1.3864 - accuracy: 0.5244 - val_loss: 2.7230 - val_accuracy: 0.1211\n",
      "Epoch 77/200\n",
      "23/23 [==============================] - 0s 8ms/step - loss: 1.4065 - accuracy: 0.5344 - val_loss: 3.3383 - val_accuracy: 0.0250\n",
      "Epoch 78/200\n",
      "23/23 [==============================] - 0s 8ms/step - loss: 1.3812 - accuracy: 0.5533 - val_loss: 2.5635 - val_accuracy: 0.2206\n",
      "Epoch 79/200\n",
      "23/23 [==============================] - 0s 7ms/step - loss: 1.3687 - accuracy: 0.5378 - val_loss: 3.3513 - val_accuracy: 0.0656\n",
      "Epoch 80/200\n",
      "23/23 [==============================] - 0s 8ms/step - loss: 1.3241 - accuracy: 0.5900 - val_loss: 2.7974 - val_accuracy: 0.1294\n",
      "Epoch 81/200\n",
      "23/23 [==============================] - 0s 7ms/step - loss: 1.2953 - accuracy: 0.5756 - val_loss: 3.2333 - val_accuracy: 0.1111\n",
      "Epoch 82/200\n",
      "23/23 [==============================] - 0s 9ms/step - loss: 1.3241 - accuracy: 0.6017 - val_loss: 2.9022 - val_accuracy: 0.1183\n",
      "Epoch 83/200\n",
      "23/23 [==============================] - 0s 7ms/step - loss: 1.3084 - accuracy: 0.6017 - val_loss: 3.3512 - val_accuracy: 0.1111\n",
      "Epoch 84/200\n",
      "23/23 [==============================] - 0s 7ms/step - loss: 1.2856 - accuracy: 0.5811 - val_loss: 3.3469 - val_accuracy: 0.1111\n",
      "Epoch 85/200\n",
      "23/23 [==============================] - 0s 7ms/step - loss: 1.2810 - accuracy: 0.5694 - val_loss: 3.4888 - val_accuracy: 0.1111\n",
      "Epoch 86/200\n",
      "23/23 [==============================] - 0s 8ms/step - loss: 1.2591 - accuracy: 0.5633 - val_loss: 3.3164 - val_accuracy: 0.1111\n",
      "Epoch 87/200\n",
      "23/23 [==============================] - 0s 8ms/step - loss: 1.2706 - accuracy: 0.5772 - val_loss: 3.3071 - val_accuracy: 0.1111\n",
      "Epoch 88/200\n",
      "23/23 [==============================] - 0s 8ms/step - loss: 1.2455 - accuracy: 0.5994 - val_loss: 3.5539 - val_accuracy: 0.1111\n",
      "Epoch 89/200\n",
      "23/23 [==============================] - 0s 7ms/step - loss: 1.2625 - accuracy: 0.6228 - val_loss: 3.3556 - val_accuracy: 0.1111\n",
      "Epoch 90/200\n",
      "23/23 [==============================] - 0s 8ms/step - loss: 1.2492 - accuracy: 0.5606 - val_loss: 4.0015 - val_accuracy: 0.1056\n",
      "Epoch 91/200\n",
      "23/23 [==============================] - 0s 8ms/step - loss: 1.2259 - accuracy: 0.6178 - val_loss: 3.6675 - val_accuracy: 0.1111\n",
      "Epoch 92/200\n",
      "23/23 [==============================] - 0s 8ms/step - loss: 1.2260 - accuracy: 0.6106 - val_loss: 3.9477 - val_accuracy: 0.1111\n",
      "Epoch 93/200\n",
      "23/23 [==============================] - 0s 7ms/step - loss: 1.2169 - accuracy: 0.6339 - val_loss: 3.8991 - val_accuracy: 0.1111\n",
      "Epoch 94/200\n",
      "23/23 [==============================] - 0s 8ms/step - loss: 1.1994 - accuracy: 0.5744 - val_loss: 3.9070 - val_accuracy: 0.1111\n",
      "Epoch 95/200\n",
      "23/23 [==============================] - 0s 8ms/step - loss: 1.2292 - accuracy: 0.5889 - val_loss: 4.6105 - val_accuracy: 0.1356\n",
      "Epoch 96/200\n",
      "23/23 [==============================] - 0s 7ms/step - loss: 1.1888 - accuracy: 0.5517 - val_loss: 3.7087 - val_accuracy: 0.1111\n",
      "Epoch 97/200\n",
      "23/23 [==============================] - 0s 7ms/step - loss: 1.2315 - accuracy: 0.5678 - val_loss: 5.1338 - val_accuracy: 0.0000e+00\n",
      "Epoch 98/200\n",
      "23/23 [==============================] - 0s 8ms/step - loss: 1.1907 - accuracy: 0.5839 - val_loss: 3.4656 - val_accuracy: 0.1133\n",
      "Epoch 99/200\n",
      "23/23 [==============================] - 0s 7ms/step - loss: 1.1739 - accuracy: 0.5939 - val_loss: 3.8651 - val_accuracy: 0.1111\n",
      "Epoch 100/200\n",
      "23/23 [==============================] - 0s 7ms/step - loss: 1.1669 - accuracy: 0.6311 - val_loss: 4.3079 - val_accuracy: 0.1111\n",
      "Epoch 101/200\n",
      "23/23 [==============================] - 0s 7ms/step - loss: 1.1594 - accuracy: 0.5633 - val_loss: 3.8877 - val_accuracy: 0.1111\n",
      "Epoch 102/200\n",
      "23/23 [==============================] - 0s 7ms/step - loss: 1.1727 - accuracy: 0.6378 - val_loss: 4.5385 - val_accuracy: 0.1111\n",
      "Epoch 103/200\n",
      "23/23 [==============================] - 0s 7ms/step - loss: 1.1493 - accuracy: 0.5917 - val_loss: 3.9943 - val_accuracy: 0.1111\n",
      "Epoch 104/200\n",
      "23/23 [==============================] - 0s 8ms/step - loss: 1.1425 - accuracy: 0.6417 - val_loss: 4.6776 - val_accuracy: 0.1111\n",
      "Epoch 105/200\n",
      "23/23 [==============================] - 0s 8ms/step - loss: 1.1549 - accuracy: 0.5839 - val_loss: 4.0663 - val_accuracy: 0.1111\n",
      "Epoch 106/200\n",
      "23/23 [==============================] - 0s 7ms/step - loss: 1.1306 - accuracy: 0.6394 - val_loss: 4.4397 - val_accuracy: 0.1111\n",
      "Epoch 107/200\n",
      "23/23 [==============================] - 0s 7ms/step - loss: 1.1766 - accuracy: 0.5528 - val_loss: 3.6228 - val_accuracy: 0.1661\n",
      "Epoch 108/200\n",
      "23/23 [==============================] - 0s 7ms/step - loss: 1.1501 - accuracy: 0.5906 - val_loss: 4.8230 - val_accuracy: 0.1111\n",
      "Epoch 109/200\n",
      "23/23 [==============================] - 0s 8ms/step - loss: 1.1245 - accuracy: 0.6383 - val_loss: 4.6718 - val_accuracy: 0.1111\n",
      "Epoch 110/200\n",
      "23/23 [==============================] - 0s 8ms/step - loss: 1.1310 - accuracy: 0.6111 - val_loss: 4.8464 - val_accuracy: 0.1111\n",
      "Epoch 111/200\n",
      "23/23 [==============================] - 0s 8ms/step - loss: 1.1099 - accuracy: 0.6372 - val_loss: 4.5730 - val_accuracy: 0.1111\n",
      "Epoch 112/200\n",
      "23/23 [==============================] - 0s 7ms/step - loss: 1.1111 - accuracy: 0.5878 - val_loss: 4.9012 - val_accuracy: 0.1111\n",
      "Epoch 113/200\n",
      "23/23 [==============================] - 0s 8ms/step - loss: 1.2120 - accuracy: 0.5244 - val_loss: 3.4938 - val_accuracy: 0.3194\n",
      "Epoch 114/200\n",
      "23/23 [==============================] - 0s 8ms/step - loss: 1.1414 - accuracy: 0.5672 - val_loss: 4.2822 - val_accuracy: 0.1111\n",
      "Epoch 115/200\n",
      "23/23 [==============================] - 0s 8ms/step - loss: 1.0919 - accuracy: 0.6444 - val_loss: 3.9042 - val_accuracy: 0.1528\n",
      "Epoch 116/200\n",
      "23/23 [==============================] - 0s 8ms/step - loss: 1.1162 - accuracy: 0.6022 - val_loss: 4.4914 - val_accuracy: 0.1111\n",
      "Epoch 117/200\n",
      "23/23 [==============================] - 0s 7ms/step - loss: 1.0945 - accuracy: 0.6317 - val_loss: 4.3845 - val_accuracy: 0.1111\n",
      "Epoch 118/200\n",
      "23/23 [==============================] - 0s 8ms/step - loss: 1.0871 - accuracy: 0.6394 - val_loss: 4.6825 - val_accuracy: 0.1111\n",
      "Epoch 119/200\n",
      "23/23 [==============================] - 0s 8ms/step - loss: 1.0888 - accuracy: 0.6378 - val_loss: 4.3700 - val_accuracy: 0.1111\n",
      "Epoch 120/200\n",
      "23/23 [==============================] - 0s 7ms/step - loss: 1.0840 - accuracy: 0.6139 - val_loss: 4.5506 - val_accuracy: 0.1111\n",
      "Epoch 121/200\n",
      "23/23 [==============================] - 0s 8ms/step - loss: 1.0871 - accuracy: 0.6178 - val_loss: 5.9108 - val_accuracy: 0.1111\n",
      "Epoch 122/200\n",
      "23/23 [==============================] - 0s 7ms/step - loss: 1.0923 - accuracy: 0.6400 - val_loss: 5.5705 - val_accuracy: 0.1111\n",
      "Epoch 123/200\n",
      "23/23 [==============================] - 0s 7ms/step - loss: 1.0528 - accuracy: 0.6300 - val_loss: 5.0665 - val_accuracy: 0.1111\n",
      "Epoch 124/200\n",
      "23/23 [==============================] - 0s 8ms/step - loss: 1.0367 - accuracy: 0.6422 - val_loss: 5.7072 - val_accuracy: 0.1111\n",
      "Epoch 125/200\n",
      "23/23 [==============================] - 0s 7ms/step - loss: 1.0849 - accuracy: 0.6156 - val_loss: 4.1842 - val_accuracy: 0.2100\n",
      "Epoch 126/200\n",
      "23/23 [==============================] - 0s 8ms/step - loss: 1.1360 - accuracy: 0.5572 - val_loss: 3.2361 - val_accuracy: 0.1111\n",
      "Epoch 127/200\n",
      "23/23 [==============================] - 0s 7ms/step - loss: 2.3076 - accuracy: 0.2028 - val_loss: 3.1813 - val_accuracy: 0.1111\n",
      "Epoch 128/200\n",
      "23/23 [==============================] - 0s 8ms/step - loss: 2.3074 - accuracy: 0.1989 - val_loss: 3.0486 - val_accuracy: 0.1111\n",
      "Epoch 129/200\n",
      "23/23 [==============================] - 0s 7ms/step - loss: 2.1570 - accuracy: 0.2283 - val_loss: 2.9476 - val_accuracy: 0.1111\n",
      "Epoch 130/200\n",
      "23/23 [==============================] - 0s 7ms/step - loss: 2.1586 - accuracy: 0.2178 - val_loss: 2.8510 - val_accuracy: 0.1111\n",
      "Epoch 131/200\n",
      "23/23 [==============================] - 0s 7ms/step - loss: 2.0868 - accuracy: 0.2172 - val_loss: 2.7792 - val_accuracy: 0.1111\n",
      "Epoch 132/200\n",
      "23/23 [==============================] - 0s 7ms/step - loss: 2.0659 - accuracy: 0.2156 - val_loss: 2.7220 - val_accuracy: 0.1111\n",
      "Epoch 133/200\n",
      "23/23 [==============================] - 0s 7ms/step - loss: 2.0162 - accuracy: 0.2194 - val_loss: 2.6768 - val_accuracy: 0.1111\n",
      "Epoch 134/200\n",
      "23/23 [==============================] - 0s 7ms/step - loss: 1.9902 - accuracy: 0.2183 - val_loss: 2.6391 - val_accuracy: 0.1111\n",
      "Epoch 135/200\n",
      "23/23 [==============================] - 0s 7ms/step - loss: 1.9707 - accuracy: 0.2172 - val_loss: 2.6114 - val_accuracy: 0.1111\n",
      "Epoch 136/200\n",
      "23/23 [==============================] - 0s 7ms/step - loss: 1.9581 - accuracy: 0.2167 - val_loss: 2.5881 - val_accuracy: 0.1111\n",
      "Epoch 137/200\n",
      "23/23 [==============================] - 0s 7ms/step - loss: 1.9397 - accuracy: 0.2172 - val_loss: 2.5695 - val_accuracy: 0.1111\n",
      "Epoch 138/200\n",
      "23/23 [==============================] - 0s 7ms/step - loss: 1.9278 - accuracy: 0.2167 - val_loss: 2.5563 - val_accuracy: 0.1111\n",
      "Epoch 139/200\n",
      "23/23 [==============================] - 0s 7ms/step - loss: 1.9235 - accuracy: 0.2167 - val_loss: 2.5442 - val_accuracy: 0.1111\n",
      "Epoch 140/200\n",
      "23/23 [==============================] - 0s 7ms/step - loss: 1.9193 - accuracy: 0.2161 - val_loss: 2.5344 - val_accuracy: 0.1111\n",
      "Epoch 141/200\n",
      "23/23 [==============================] - 0s 7ms/step - loss: 1.8955 - accuracy: 0.2189 - val_loss: 2.5262 - val_accuracy: 0.1111\n",
      "Epoch 142/200\n",
      "23/23 [==============================] - 0s 8ms/step - loss: 1.8935 - accuracy: 0.2161 - val_loss: 2.5207 - val_accuracy: 0.1111\n",
      "Epoch 143/200\n",
      "23/23 [==============================] - 0s 8ms/step - loss: 1.8985 - accuracy: 0.2172 - val_loss: 2.5156 - val_accuracy: 0.1111\n",
      "Epoch 144/200\n",
      "23/23 [==============================] - 0s 7ms/step - loss: 1.9048 - accuracy: 0.2156 - val_loss: 2.5101 - val_accuracy: 0.1111\n",
      "Epoch 145/200\n",
      "23/23 [==============================] - 0s 8ms/step - loss: 1.8788 - accuracy: 0.2167 - val_loss: 2.5072 - val_accuracy: 0.1111\n",
      "Epoch 146/200\n",
      "23/23 [==============================] - 0s 7ms/step - loss: 1.8732 - accuracy: 0.2167 - val_loss: 2.5043 - val_accuracy: 0.1111\n",
      "Epoch 147/200\n",
      "23/23 [==============================] - 0s 8ms/step - loss: 1.8653 - accuracy: 0.2172 - val_loss: 2.5025 - val_accuracy: 0.1111\n",
      "Epoch 148/200\n",
      "23/23 [==============================] - 0s 8ms/step - loss: 1.8881 - accuracy: 0.2128 - val_loss: 2.5000 - val_accuracy: 0.1111\n",
      "Epoch 149/200\n",
      "23/23 [==============================] - 0s 8ms/step - loss: 1.8288 - accuracy: 0.2350 - val_loss: 4.8684 - val_accuracy: 0.1111\n",
      "Epoch 150/200\n",
      "23/23 [==============================] - 0s 7ms/step - loss: 1.7413 - accuracy: 0.2694 - val_loss: 2.5112 - val_accuracy: 0.1111\n",
      "Epoch 151/200\n",
      "23/23 [==============================] - 0s 7ms/step - loss: 1.8966 - accuracy: 0.2050 - val_loss: 2.5028 - val_accuracy: 0.1111\n",
      "Epoch 152/200\n",
      "23/23 [==============================] - 0s 8ms/step - loss: 1.8850 - accuracy: 0.2178 - val_loss: 2.4981 - val_accuracy: 0.1111\n",
      "Epoch 153/200\n",
      "23/23 [==============================] - 0s 8ms/step - loss: 1.8938 - accuracy: 0.2161 - val_loss: 2.4930 - val_accuracy: 0.1111\n",
      "Epoch 154/200\n",
      "23/23 [==============================] - 0s 8ms/step - loss: 1.9037 - accuracy: 0.2139 - val_loss: 2.4898 - val_accuracy: 0.1111\n",
      "Epoch 155/200\n",
      "23/23 [==============================] - 0s 8ms/step - loss: 1.8897 - accuracy: 0.2161 - val_loss: 2.4870 - val_accuracy: 0.1111\n",
      "Epoch 156/200\n",
      "23/23 [==============================] - 0s 9ms/step - loss: 1.8920 - accuracy: 0.2156 - val_loss: 2.4850 - val_accuracy: 0.1111\n",
      "Epoch 157/200\n",
      "23/23 [==============================] - 0s 7ms/step - loss: 1.8882 - accuracy: 0.2161 - val_loss: 2.4834 - val_accuracy: 0.1111\n",
      "Epoch 158/200\n",
      "23/23 [==============================] - 0s 7ms/step - loss: 1.8973 - accuracy: 0.2067 - val_loss: 2.4821 - val_accuracy: 0.1111\n",
      "Epoch 159/200\n",
      "23/23 [==============================] - 0s 7ms/step - loss: 1.8873 - accuracy: 0.2078 - val_loss: 2.4804 - val_accuracy: 0.1111\n",
      "Epoch 160/200\n",
      "23/23 [==============================] - 0s 7ms/step - loss: 1.8746 - accuracy: 0.2083 - val_loss: 2.4797 - val_accuracy: 0.1111\n",
      "Epoch 161/200\n",
      "23/23 [==============================] - 0s 7ms/step - loss: 1.8773 - accuracy: 0.2178 - val_loss: 2.4792 - val_accuracy: 0.1111\n",
      "Epoch 162/200\n",
      "23/23 [==============================] - 0s 8ms/step - loss: 1.8820 - accuracy: 0.2167 - val_loss: 2.4790 - val_accuracy: 0.1111\n",
      "Epoch 163/200\n",
      "23/23 [==============================] - 0s 8ms/step - loss: 1.8908 - accuracy: 0.2100 - val_loss: 2.4775 - val_accuracy: 0.1111\n",
      "Epoch 164/200\n",
      "23/23 [==============================] - 0s 8ms/step - loss: 1.8867 - accuracy: 0.2039 - val_loss: 2.4763 - val_accuracy: 0.1111\n",
      "Epoch 165/200\n",
      "23/23 [==============================] - 0s 7ms/step - loss: 1.9021 - accuracy: 0.2061 - val_loss: 2.4751 - val_accuracy: 0.1111\n",
      "Epoch 166/200\n",
      "23/23 [==============================] - 0s 7ms/step - loss: 1.8864 - accuracy: 0.2083 - val_loss: 2.4738 - val_accuracy: 0.1111\n",
      "Epoch 167/200\n",
      "23/23 [==============================] - 0s 8ms/step - loss: 1.9049 - accuracy: 0.2089 - val_loss: 2.4721 - val_accuracy: 0.1111\n",
      "Epoch 168/200\n",
      "23/23 [==============================] - 0s 8ms/step - loss: 1.8831 - accuracy: 0.2167 - val_loss: 2.4712 - val_accuracy: 0.1111\n",
      "Epoch 169/200\n",
      "23/23 [==============================] - 0s 7ms/step - loss: 1.8831 - accuracy: 0.2150 - val_loss: 2.4706 - val_accuracy: 0.1111\n",
      "Epoch 170/200\n",
      "23/23 [==============================] - 0s 7ms/step - loss: 1.8799 - accuracy: 0.2117 - val_loss: 2.4703 - val_accuracy: 0.1111\n",
      "Epoch 171/200\n",
      "23/23 [==============================] - 0s 7ms/step - loss: 1.8860 - accuracy: 0.2161 - val_loss: 2.4692 - val_accuracy: 0.1111\n",
      "Epoch 172/200\n",
      "23/23 [==============================] - 0s 7ms/step - loss: 1.8675 - accuracy: 0.2150 - val_loss: 2.4690 - val_accuracy: 0.1111\n",
      "Epoch 173/200\n",
      "23/23 [==============================] - 0s 8ms/step - loss: 1.8737 - accuracy: 0.2100 - val_loss: 2.4691 - val_accuracy: 0.1111\n",
      "Epoch 174/200\n",
      "23/23 [==============================] - 0s 7ms/step - loss: 1.8613 - accuracy: 0.2206 - val_loss: 2.4693 - val_accuracy: 0.1111\n",
      "Epoch 175/200\n",
      "23/23 [==============================] - 0s 7ms/step - loss: 1.8829 - accuracy: 0.2094 - val_loss: 2.4691 - val_accuracy: 0.1111\n",
      "Epoch 176/200\n",
      "23/23 [==============================] - 0s 7ms/step - loss: 1.8984 - accuracy: 0.2006 - val_loss: 2.4677 - val_accuracy: 0.1111\n",
      "Epoch 177/200\n",
      "23/23 [==============================] - 0s 13ms/step - loss: 1.8859 - accuracy: 0.2133 - val_loss: 2.4672 - val_accuracy: 0.1083\n",
      "Epoch 178/200\n",
      "23/23 [==============================] - 0s 8ms/step - loss: 1.8829 - accuracy: 0.2117 - val_loss: 2.4662 - val_accuracy: 0.1150\n",
      "Epoch 179/200\n",
      "23/23 [==============================] - 0s 8ms/step - loss: 1.8798 - accuracy: 0.2117 - val_loss: 2.4658 - val_accuracy: 0.1067\n",
      "Epoch 180/200\n",
      "23/23 [==============================] - 0s 12ms/step - loss: 1.9016 - accuracy: 0.1994 - val_loss: 2.4646 - val_accuracy: 0.1111\n",
      "Epoch 181/200\n",
      "23/23 [==============================] - 0s 7ms/step - loss: 1.8984 - accuracy: 0.2039 - val_loss: 2.4625 - val_accuracy: 0.1111\n",
      "Epoch 182/200\n",
      "23/23 [==============================] - 0s 7ms/step - loss: 1.8678 - accuracy: 0.2117 - val_loss: 2.4619 - val_accuracy: 0.1111\n",
      "Epoch 183/200\n",
      "23/23 [==============================] - 0s 8ms/step - loss: 1.8829 - accuracy: 0.2067 - val_loss: 2.4616 - val_accuracy: 0.1111\n",
      "Epoch 184/200\n",
      "23/23 [==============================] - 0s 7ms/step - loss: 1.8890 - accuracy: 0.2039 - val_loss: 2.4604 - val_accuracy: 0.1111\n",
      "Epoch 185/200\n",
      "23/23 [==============================] - 0s 7ms/step - loss: 1.8767 - accuracy: 0.2133 - val_loss: 2.4598 - val_accuracy: 0.1111\n",
      "Epoch 186/200\n",
      "23/23 [==============================] - 0s 7ms/step - loss: 1.8676 - accuracy: 0.2194 - val_loss: 2.4598 - val_accuracy: 0.1111\n",
      "Epoch 187/200\n",
      "23/23 [==============================] - 0s 8ms/step - loss: 1.8798 - accuracy: 0.2061 - val_loss: 2.4595 - val_accuracy: 0.1111\n",
      "Epoch 188/200\n",
      "23/23 [==============================] - 0s 9ms/step - loss: 1.8768 - accuracy: 0.2178 - val_loss: 2.4594 - val_accuracy: 0.1111\n",
      "Epoch 189/200\n",
      "23/23 [==============================] - 0s 7ms/step - loss: 1.8736 - accuracy: 0.2067 - val_loss: 2.4593 - val_accuracy: 0.1072\n",
      "Epoch 190/200\n",
      "23/23 [==============================] - 0s 8ms/step - loss: 1.8918 - accuracy: 0.2128 - val_loss: 2.4581 - val_accuracy: 0.1111\n",
      "Epoch 191/200\n",
      "23/23 [==============================] - 0s 7ms/step - loss: 1.8858 - accuracy: 0.2089 - val_loss: 2.4570 - val_accuracy: 0.1111\n",
      "Epoch 192/200\n",
      "23/23 [==============================] - 0s 8ms/step - loss: 1.8735 - accuracy: 0.2183 - val_loss: 2.4568 - val_accuracy: 0.1111\n",
      "Epoch 193/200\n",
      "23/23 [==============================] - 0s 8ms/step - loss: 1.8736 - accuracy: 0.2183 - val_loss: 2.4568 - val_accuracy: 0.1111\n",
      "Epoch 194/200\n",
      "23/23 [==============================] - 0s 7ms/step - loss: 1.8889 - accuracy: 0.2028 - val_loss: 2.4560 - val_accuracy: 0.1111\n",
      "Epoch 195/200\n",
      "23/23 [==============================] - 0s 7ms/step - loss: 1.8858 - accuracy: 0.2083 - val_loss: 2.4550 - val_accuracy: 0.1106\n",
      "Epoch 196/200\n",
      "23/23 [==============================] - 0s 8ms/step - loss: 1.8827 - accuracy: 0.2050 - val_loss: 2.4545 - val_accuracy: 0.1111\n",
      "Epoch 197/200\n",
      "23/23 [==============================] - 0s 7ms/step - loss: 1.8827 - accuracy: 0.2072 - val_loss: 2.4540 - val_accuracy: 0.1422\n",
      "Epoch 198/200\n",
      "23/23 [==============================] - 0s 7ms/step - loss: 1.8826 - accuracy: 0.2083 - val_loss: 2.4534 - val_accuracy: 0.1111\n",
      "Epoch 199/200\n",
      "23/23 [==============================] - 0s 7ms/step - loss: 1.8616 - accuracy: 0.2100 - val_loss: 2.4540 - val_accuracy: 0.1111\n",
      "Epoch 200/200\n",
      "23/23 [==============================] - 0s 7ms/step - loss: 1.8947 - accuracy: 0.2178 - val_loss: 2.4536 - val_accuracy: 0.1111\n"
     ]
    }
   ],
   "source": [
    "history = adversary.fit(adv_X, adv_y_one_hot, batch_size=80, epochs=200, validation_data=(adv_X_test, adv_y_test_one_hot))"
   ]
  },
  {
   "cell_type": "markdown",
   "id": "f8388ef1087ea205",
   "metadata": {
    "collapsed": false
   },
   "source": [
    "# Test adversary"
   ]
  },
  {
   "cell_type": "code",
   "execution_count": 57,
   "id": "64a8f2fa7819614b",
   "metadata": {
    "ExecuteTime": {
     "end_time": "2023-12-04T13:50:01.248044175Z",
     "start_time": "2023-12-04T13:50:00.207227940Z"
    },
    "collapsed": false
   },
   "outputs": [
    {
     "name": "stdout",
     "output_type": "stream",
     "text": [
      "57/57 [==============================] - 0s 2ms/step\n"
     ]
    },
    {
     "data": {
      "text/plain": [
       "array([[0.12446865, 0.12396079, 0.00446714, ..., 0.12463421, 0.12420047,\n",
       "        0.12487885],\n",
       "       [0.12446865, 0.12396079, 0.00446714, ..., 0.12463421, 0.12420047,\n",
       "        0.12487885],\n",
       "       [0.12446865, 0.12396079, 0.00446714, ..., 0.12463421, 0.12420047,\n",
       "        0.12487885],\n",
       "       ...,\n",
       "       [0.12446865, 0.12396079, 0.00446714, ..., 0.12463421, 0.12420047,\n",
       "        0.12487885],\n",
       "       [0.12446865, 0.12396079, 0.00446714, ..., 0.12463421, 0.12420047,\n",
       "        0.12487885],\n",
       "       [0.12446865, 0.12396079, 0.00446714, ..., 0.12463421, 0.12420047,\n",
       "        0.12487885]], dtype=float32)"
      ]
     },
     "execution_count": 57,
     "metadata": {},
     "output_type": "execute_result"
    }
   ],
   "source": [
    "adversary.predict(adv_X_test)"
   ]
  },
  {
   "cell_type": "code",
   "execution_count": 54,
   "id": "57a281ccdfca4382",
   "metadata": {
    "ExecuteTime": {
     "end_time": "2023-11-02T16:33:46.092700833Z",
     "start_time": "2023-11-02T16:33:46.071360597Z"
    },
    "collapsed": false
   },
   "outputs": [
    {
     "data": {
      "text/plain": [
       "0      0.7\n",
       "1      0.8\n",
       "2      0.3\n",
       "3      0.4\n",
       "4      0.5\n",
       "      ... \n",
       "355    0.6\n",
       "356    0.7\n",
       "357    0.2\n",
       "358    0.6\n",
       "359    0.1\n",
       "Name: y, Length: 360, dtype: float64"
      ]
     },
     "execution_count": 54,
     "metadata": {},
     "output_type": "execute_result"
    }
   ],
   "source": [
    "adv_y_test"
   ]
  },
  {
   "cell_type": "code",
   "execution_count": 56,
   "id": "eb69675f6aa542fd",
   "metadata": {
    "ExecuteTime": {
     "end_time": "2023-11-02T16:34:36.130626316Z",
     "start_time": "2023-11-02T16:34:35.911004092Z"
    },
    "collapsed": false
   },
   "outputs": [
    {
     "name": "stdout",
     "output_type": "stream",
     "text": [
      "12/12 [==============================] - 0s 2ms/step - loss: 0.1012\n"
     ]
    },
    {
     "data": {
      "text/plain": [
       "0.10118263214826584"
      ]
     },
     "execution_count": 56,
     "metadata": {},
     "output_type": "execute_result"
    }
   ],
   "source": [
    "adversary.evaluate(adv_X_test, adv_y_test)#, adv_y_test)"
   ]
  },
  {
   "cell_type": "code",
   "execution_count": 79,
   "id": "b46ef5956a55a615",
   "metadata": {
    "ExecuteTime": {
     "end_time": "2023-11-02T09:53:33.952649657Z",
     "start_time": "2023-11-02T09:53:33.941640016Z"
    },
    "collapsed": false
   },
   "outputs": [
    {
     "data": {
      "text/plain": [
       "0      0.9\n",
       "1      0.8\n",
       "2      0.4\n",
       "3      0.2\n",
       "4      0.1\n",
       "      ... \n",
       "445    0.6\n",
       "446    0.2\n",
       "447    0.8\n",
       "448    0.5\n",
       "449    0.1\n",
       "Name: y, Length: 450, dtype: float64"
      ]
     },
     "execution_count": 79,
     "metadata": {},
     "output_type": "execute_result"
    }
   ],
   "source": [
    "adv_y_test"
   ]
  },
  {
   "cell_type": "markdown",
   "id": "ca7f74456ef02429",
   "metadata": {
    "collapsed": false
   },
   "source": [
    "### Next steps\n",
    "* Use adversary during training"
   ]
  },
  {
   "cell_type": "code",
   "execution_count": 130,
   "id": "891ebfee697bab39",
   "metadata": {
    "ExecuteTime": {
     "start_time": "2023-11-08T11:01:55.769151441Z"
    },
    "collapsed": false
   },
   "outputs": [
    {
     "data": {
      "text/plain": [
       "-0.027966356472107767"
      ]
     },
     "execution_count": 130,
     "metadata": {},
     "output_type": "execute_result"
    }
   ],
   "source": [
    "from sklearn.ensemble import GradientBoostingRegressor\n",
    "gb = GradientBoostingRegressor()\n",
    "gb.fit(adv_X, adv_y)\n",
    "gb.score(adv_X_test, adv_y_test)"
   ]
  },
  {
   "cell_type": "markdown",
   "id": "ac7861d95cdcba85",
   "metadata": {
    "collapsed": false
   },
   "source": [
    "### (Data set analysis)"
   ]
  },
  {
   "cell_type": "code",
   "execution_count": null,
   "id": "23dd121bbeca4944",
   "metadata": {
    "collapsed": false
   },
   "outputs": [],
   "source": [
    "import ydata_profiling\n",
    "\n",
    "ydata_profiling.ProfileReport(X_test)"
   ]
  },
  {
   "cell_type": "code",
   "execution_count": null,
   "id": "5e83d6cc0260faf0",
   "metadata": {
    "collapsed": false
   },
   "outputs": [],
   "source": [
    "# RANDOM DS\n",
    "random_dict = {}\n",
    "for attr in ds.X_train:\n",
    "    print(f'{round(X_train_pr[attr].min(),2)} {round(X_train_pr[attr].max(),2)}')\n",
    "    random_attr = np.random.rand(random_length)*(X_train_pr[attr].max()+abs(X_train_pr[attr].min()))-abs(X_train_pr[attr].min())\n",
    "    random_dict[attr] = random_attr"
   ]
  },
  {
   "cell_type": "code",
   "execution_count": null,
   "id": "3c7d705447fbbf00",
   "metadata": {
    "collapsed": false
   },
   "outputs": [],
   "source": [
    "random_ds = pd.DataFrame(random_dict)"
   ]
  }
 ],
 "metadata": {
  "kernelspec": {
   "display_name": "pia1",
   "language": "python",
   "name": "pia1"
  },
  "language_info": {
   "codemirror_mode": {
    "name": "ipython",
    "version": 2
   },
   "file_extension": ".py",
   "mimetype": "text/x-python",
   "name": "python",
   "nbconvert_exporter": "python",
   "pygments_lexer": "ipython2",
   "version": "2.7.6"
  }
 },
 "nbformat": 4,
 "nbformat_minor": 5
}
