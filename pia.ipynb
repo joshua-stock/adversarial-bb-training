{
 "cells": [
  {
   "cell_type": "code",
   "execution_count": null,
   "id": "73423984ecbf2895",
   "metadata": {
    "collapsed": false
   },
   "outputs": [],
   "source": [
    "!pip install \"matplotlib>=3.2,<=3.7.3\"\n",
    "!pip install \"ydata-profiling>4.4,<4.5\"\n",
    "!pip install tensorflow sdv"
   ]
  },
  {
   "cell_type": "code",
   "execution_count": 3,
   "id": "4d2c52b6448e4205",
   "metadata": {
    "ExecuteTime": {
     "end_time": "2023-11-08T10:08:28.541648867Z",
     "start_time": "2023-11-08T10:08:26.268086890Z"
    },
    "collapsed": false
   },
   "outputs": [
    {
     "name": "stderr",
     "output_type": "stream",
     "text": [
      "2023-11-08 10:08:25.664275: I tensorflow/tsl/cuda/cudart_stub.cc:28] Could not find cuda drivers on your machine, GPU will not be used.\n",
      "2023-11-08 10:08:25.697640: E tensorflow/compiler/xla/stream_executor/cuda/cuda_dnn.cc:9342] Unable to register cuDNN factory: Attempting to register factory for plugin cuDNN when one has already been registered\n",
      "2023-11-08 10:08:25.697662: E tensorflow/compiler/xla/stream_executor/cuda/cuda_fft.cc:609] Unable to register cuFFT factory: Attempting to register factory for plugin cuFFT when one has already been registered\n",
      "2023-11-08 10:08:25.697682: E tensorflow/compiler/xla/stream_executor/cuda/cuda_blas.cc:1518] Unable to register cuBLAS factory: Attempting to register factory for plugin cuBLAS when one has already been registered\n",
      "2023-11-08 10:08:25.702899: I tensorflow/tsl/cuda/cudart_stub.cc:28] Could not find cuda drivers on your machine, GPU will not be used.\n",
      "2023-11-08 10:08:25.703589: I tensorflow/core/platform/cpu_feature_guard.cc:182] This TensorFlow binary is optimized to use available CPU instructions in performance-critical operations.\n",
      "To enable the following instructions: AVX2 FMA, in other operations, rebuild TensorFlow with the appropriate compiler flags.\n",
      "2023-11-08 10:08:26.403169: W tensorflow/compiler/tf2tensorrt/utils/py_utils.cc:38] TF-TRT Warning: Could not find TensorRT\n"
     ]
    }
   ],
   "source": [
    "import pandas as pd\n",
    "import numpy as np\n",
    "from tensorflow import keras"
   ]
  },
  {
   "cell_type": "markdown",
   "id": "8cef951ab940b36f",
   "metadata": {
    "collapsed": false
   },
   "source": [
    "## Ideas\n",
    "\n",
    "If adversary does not work, predict -> predict_proba to get more information"
   ]
  },
  {
   "cell_type": "code",
   "execution_count": 2,
   "id": "initial_id",
   "metadata": {
    "ExecuteTime": {
     "end_time": "2023-11-02T16:48:34.788886071Z",
     "start_time": "2023-11-02T16:48:32.698448368Z"
    },
    "collapsed": false
   },
   "outputs": [],
   "source": [
    "from sdv.single_table import CTGANSynthesizer\n",
    "from sdv.metadata import SingleTableMetadata\n",
    "from pia_functions import data_train_test, get_distributed_adult_sets, generate_shadow_model_outputs, train_gradient_boosting_shadow_model"
   ]
  },
  {
   "cell_type": "markdown",
   "id": "6491152df6e7f325",
   "metadata": {
    "collapsed": false
   },
   "source": [
    "### Generate training data for shadow models"
   ]
  },
  {
   "cell_type": "code",
   "execution_count": null,
   "id": "8cf0633c8de98074",
   "metadata": {
    "collapsed": false
   },
   "outputs": [],
   "source": [
    "n_shadow_models=200\n",
    "distributions=[0.1, 0.2, 0.3, 0.4, 0.5, 0.6, 0.7, 0.8, 0.9]"
   ]
  },
  {
   "cell_type": "code",
   "execution_count": 23,
   "id": "adde3f38057445c0",
   "metadata": {
    "ExecuteTime": {
     "end_time": "2023-11-02T16:24:40.911841937Z",
     "start_time": "2023-11-02T16:24:40.342020705Z"
    },
    "collapsed": false
   },
   "outputs": [],
   "source": [
    "X_train, X_test, y_train, y_test, sensitive, sensitive_t = data_train_test()"
   ]
  },
  {
   "cell_type": "code",
   "execution_count": 13,
   "id": "60ac3040004ae21a",
   "metadata": {
    "ExecuteTime": {
     "end_time": "2023-11-02T15:41:10.508102179Z",
     "start_time": "2023-11-02T15:41:10.450313158Z"
    },
    "collapsed": false
   },
   "outputs": [
    {
     "data": {
      "text/html": [
       "<div>\n",
       "<style scoped>\n",
       "    .dataframe tbody tr th:only-of-type {\n",
       "        vertical-align: middle;\n",
       "    }\n",
       "\n",
       "    .dataframe tbody tr th {\n",
       "        vertical-align: top;\n",
       "    }\n",
       "\n",
       "    .dataframe thead th {\n",
       "        text-align: right;\n",
       "    }\n",
       "</style>\n",
       "<table border=\"1\" class=\"dataframe\">\n",
       "  <thead>\n",
       "    <tr style=\"text-align: right;\">\n",
       "      <th></th>\n",
       "      <th>Unnamed: 0</th>\n",
       "      <th>0</th>\n",
       "      <th>1</th>\n",
       "      <th>2</th>\n",
       "      <th>3</th>\n",
       "      <th>4</th>\n",
       "      <th>5</th>\n",
       "      <th>6</th>\n",
       "      <th>7</th>\n",
       "      <th>8</th>\n",
       "      <th>...</th>\n",
       "      <th>69</th>\n",
       "      <th>70</th>\n",
       "      <th>71</th>\n",
       "      <th>72</th>\n",
       "      <th>73</th>\n",
       "      <th>74</th>\n",
       "      <th>75</th>\n",
       "      <th>76</th>\n",
       "      <th>77</th>\n",
       "      <th>78</th>\n",
       "    </tr>\n",
       "  </thead>\n",
       "  <tbody>\n",
       "    <tr>\n",
       "      <th>0</th>\n",
       "      <td>0</td>\n",
       "      <td>0.312424</td>\n",
       "      <td>0.000000</td>\n",
       "      <td>0.0</td>\n",
       "      <td>0.094047</td>\n",
       "      <td>0.0</td>\n",
       "      <td>0.0</td>\n",
       "      <td>0.0</td>\n",
       "      <td>0.0</td>\n",
       "      <td>1.0</td>\n",
       "      <td>...</td>\n",
       "      <td>0.0</td>\n",
       "      <td>0.0</td>\n",
       "      <td>0.0</td>\n",
       "      <td>0.0</td>\n",
       "      <td>0.0</td>\n",
       "      <td>0.0</td>\n",
       "      <td>1.0</td>\n",
       "      <td>0.0</td>\n",
       "      <td>0.0</td>\n",
       "      <td>1.0</td>\n",
       "    </tr>\n",
       "    <tr>\n",
       "      <th>1</th>\n",
       "      <td>1</td>\n",
       "      <td>0.397083</td>\n",
       "      <td>0.004028</td>\n",
       "      <td>0.0</td>\n",
       "      <td>0.399298</td>\n",
       "      <td>0.0</td>\n",
       "      <td>0.0</td>\n",
       "      <td>0.0</td>\n",
       "      <td>0.0</td>\n",
       "      <td>1.0</td>\n",
       "      <td>...</td>\n",
       "      <td>0.0</td>\n",
       "      <td>0.0</td>\n",
       "      <td>0.0</td>\n",
       "      <td>0.0</td>\n",
       "      <td>0.0</td>\n",
       "      <td>0.0</td>\n",
       "      <td>1.0</td>\n",
       "      <td>0.0</td>\n",
       "      <td>0.0</td>\n",
       "      <td>1.0</td>\n",
       "    </tr>\n",
       "    <tr>\n",
       "      <th>2</th>\n",
       "      <td>2</td>\n",
       "      <td>0.801682</td>\n",
       "      <td>0.000000</td>\n",
       "      <td>0.0</td>\n",
       "      <td>0.499176</td>\n",
       "      <td>0.0</td>\n",
       "      <td>0.0</td>\n",
       "      <td>0.0</td>\n",
       "      <td>0.0</td>\n",
       "      <td>1.0</td>\n",
       "      <td>...</td>\n",
       "      <td>0.0</td>\n",
       "      <td>0.0</td>\n",
       "      <td>0.0</td>\n",
       "      <td>0.0</td>\n",
       "      <td>0.0</td>\n",
       "      <td>0.0</td>\n",
       "      <td>0.0</td>\n",
       "      <td>0.0</td>\n",
       "      <td>0.0</td>\n",
       "      <td>1.0</td>\n",
       "    </tr>\n",
       "    <tr>\n",
       "      <th>3</th>\n",
       "      <td>3</td>\n",
       "      <td>0.421440</td>\n",
       "      <td>0.003712</td>\n",
       "      <td>0.0</td>\n",
       "      <td>0.394823</td>\n",
       "      <td>0.0</td>\n",
       "      <td>0.0</td>\n",
       "      <td>0.0</td>\n",
       "      <td>0.0</td>\n",
       "      <td>0.0</td>\n",
       "      <td>...</td>\n",
       "      <td>0.0</td>\n",
       "      <td>1.0</td>\n",
       "      <td>0.0</td>\n",
       "      <td>0.0</td>\n",
       "      <td>0.0</td>\n",
       "      <td>0.0</td>\n",
       "      <td>0.0</td>\n",
       "      <td>0.0</td>\n",
       "      <td>0.0</td>\n",
       "      <td>1.0</td>\n",
       "    </tr>\n",
       "    <tr>\n",
       "      <th>4</th>\n",
       "      <td>4</td>\n",
       "      <td>0.419976</td>\n",
       "      <td>0.000000</td>\n",
       "      <td>0.0</td>\n",
       "      <td>0.392910</td>\n",
       "      <td>0.0</td>\n",
       "      <td>0.0</td>\n",
       "      <td>0.0</td>\n",
       "      <td>0.0</td>\n",
       "      <td>1.0</td>\n",
       "      <td>...</td>\n",
       "      <td>0.0</td>\n",
       "      <td>0.0</td>\n",
       "      <td>0.0</td>\n",
       "      <td>1.0</td>\n",
       "      <td>0.0</td>\n",
       "      <td>0.0</td>\n",
       "      <td>0.0</td>\n",
       "      <td>0.0</td>\n",
       "      <td>1.0</td>\n",
       "      <td>1.0</td>\n",
       "    </tr>\n",
       "    <tr>\n",
       "      <th>...</th>\n",
       "      <td>...</td>\n",
       "      <td>...</td>\n",
       "      <td>...</td>\n",
       "      <td>...</td>\n",
       "      <td>...</td>\n",
       "      <td>...</td>\n",
       "      <td>...</td>\n",
       "      <td>...</td>\n",
       "      <td>...</td>\n",
       "      <td>...</td>\n",
       "      <td>...</td>\n",
       "      <td>...</td>\n",
       "      <td>...</td>\n",
       "      <td>...</td>\n",
       "      <td>...</td>\n",
       "      <td>...</td>\n",
       "      <td>...</td>\n",
       "      <td>...</td>\n",
       "      <td>...</td>\n",
       "      <td>...</td>\n",
       "      <td>...</td>\n",
       "    </tr>\n",
       "    <tr>\n",
       "      <th>9995</th>\n",
       "      <td>9995</td>\n",
       "      <td>0.817372</td>\n",
       "      <td>0.000000</td>\n",
       "      <td>0.0</td>\n",
       "      <td>0.398106</td>\n",
       "      <td>0.0</td>\n",
       "      <td>0.0</td>\n",
       "      <td>0.0</td>\n",
       "      <td>0.0</td>\n",
       "      <td>1.0</td>\n",
       "      <td>...</td>\n",
       "      <td>0.0</td>\n",
       "      <td>0.0</td>\n",
       "      <td>0.0</td>\n",
       "      <td>0.0</td>\n",
       "      <td>0.0</td>\n",
       "      <td>0.0</td>\n",
       "      <td>0.0</td>\n",
       "      <td>0.0</td>\n",
       "      <td>0.0</td>\n",
       "      <td>1.0</td>\n",
       "    </tr>\n",
       "    <tr>\n",
       "      <th>9996</th>\n",
       "      <td>9996</td>\n",
       "      <td>0.534707</td>\n",
       "      <td>0.000000</td>\n",
       "      <td>0.0</td>\n",
       "      <td>0.393522</td>\n",
       "      <td>0.0</td>\n",
       "      <td>0.0</td>\n",
       "      <td>0.0</td>\n",
       "      <td>0.0</td>\n",
       "      <td>0.0</td>\n",
       "      <td>...</td>\n",
       "      <td>0.0</td>\n",
       "      <td>0.0</td>\n",
       "      <td>0.0</td>\n",
       "      <td>0.0</td>\n",
       "      <td>0.0</td>\n",
       "      <td>0.0</td>\n",
       "      <td>0.0</td>\n",
       "      <td>0.0</td>\n",
       "      <td>1.0</td>\n",
       "      <td>1.0</td>\n",
       "    </tr>\n",
       "    <tr>\n",
       "      <th>9997</th>\n",
       "      <td>9997</td>\n",
       "      <td>0.794512</td>\n",
       "      <td>0.160842</td>\n",
       "      <td>0.0</td>\n",
       "      <td>0.402341</td>\n",
       "      <td>0.0</td>\n",
       "      <td>0.0</td>\n",
       "      <td>0.0</td>\n",
       "      <td>0.0</td>\n",
       "      <td>1.0</td>\n",
       "      <td>...</td>\n",
       "      <td>0.0</td>\n",
       "      <td>0.0</td>\n",
       "      <td>0.0</td>\n",
       "      <td>0.0</td>\n",
       "      <td>0.0</td>\n",
       "      <td>0.0</td>\n",
       "      <td>0.0</td>\n",
       "      <td>0.0</td>\n",
       "      <td>0.0</td>\n",
       "      <td>1.0</td>\n",
       "    </tr>\n",
       "    <tr>\n",
       "      <th>9998</th>\n",
       "      <td>9998</td>\n",
       "      <td>0.213765</td>\n",
       "      <td>0.003364</td>\n",
       "      <td>0.0</td>\n",
       "      <td>0.397423</td>\n",
       "      <td>0.0</td>\n",
       "      <td>0.0</td>\n",
       "      <td>1.0</td>\n",
       "      <td>0.0</td>\n",
       "      <td>1.0</td>\n",
       "      <td>...</td>\n",
       "      <td>0.0</td>\n",
       "      <td>1.0</td>\n",
       "      <td>0.0</td>\n",
       "      <td>0.0</td>\n",
       "      <td>0.0</td>\n",
       "      <td>0.0</td>\n",
       "      <td>1.0</td>\n",
       "      <td>0.0</td>\n",
       "      <td>1.0</td>\n",
       "      <td>0.0</td>\n",
       "    </tr>\n",
       "    <tr>\n",
       "      <th>9999</th>\n",
       "      <td>9999</td>\n",
       "      <td>0.780324</td>\n",
       "      <td>0.000000</td>\n",
       "      <td>0.0</td>\n",
       "      <td>0.394290</td>\n",
       "      <td>0.0</td>\n",
       "      <td>0.0</td>\n",
       "      <td>0.0</td>\n",
       "      <td>0.0</td>\n",
       "      <td>1.0</td>\n",
       "      <td>...</td>\n",
       "      <td>0.0</td>\n",
       "      <td>1.0</td>\n",
       "      <td>0.0</td>\n",
       "      <td>0.0</td>\n",
       "      <td>0.0</td>\n",
       "      <td>0.0</td>\n",
       "      <td>0.0</td>\n",
       "      <td>0.0</td>\n",
       "      <td>1.0</td>\n",
       "      <td>1.0</td>\n",
       "    </tr>\n",
       "  </tbody>\n",
       "</table>\n",
       "<p>10000 rows × 80 columns</p>\n",
       "</div>"
      ],
      "text/plain": [
       "      Unnamed: 0         0         1    2         3    4    5    6    7    8  \\\n",
       "0              0  0.312424  0.000000  0.0  0.094047  0.0  0.0  0.0  0.0  1.0   \n",
       "1              1  0.397083  0.004028  0.0  0.399298  0.0  0.0  0.0  0.0  1.0   \n",
       "2              2  0.801682  0.000000  0.0  0.499176  0.0  0.0  0.0  0.0  1.0   \n",
       "3              3  0.421440  0.003712  0.0  0.394823  0.0  0.0  0.0  0.0  0.0   \n",
       "4              4  0.419976  0.000000  0.0  0.392910  0.0  0.0  0.0  0.0  1.0   \n",
       "...          ...       ...       ...  ...       ...  ...  ...  ...  ...  ...   \n",
       "9995        9995  0.817372  0.000000  0.0  0.398106  0.0  0.0  0.0  0.0  1.0   \n",
       "9996        9996  0.534707  0.000000  0.0  0.393522  0.0  0.0  0.0  0.0  0.0   \n",
       "9997        9997  0.794512  0.160842  0.0  0.402341  0.0  0.0  0.0  0.0  1.0   \n",
       "9998        9998  0.213765  0.003364  0.0  0.397423  0.0  0.0  1.0  0.0  1.0   \n",
       "9999        9999  0.780324  0.000000  0.0  0.394290  0.0  0.0  0.0  0.0  1.0   \n",
       "\n",
       "      ...   69   70   71   72   73   74   75   76   77   78  \n",
       "0     ...  0.0  0.0  0.0  0.0  0.0  0.0  1.0  0.0  0.0  1.0  \n",
       "1     ...  0.0  0.0  0.0  0.0  0.0  0.0  1.0  0.0  0.0  1.0  \n",
       "2     ...  0.0  0.0  0.0  0.0  0.0  0.0  0.0  0.0  0.0  1.0  \n",
       "3     ...  0.0  1.0  0.0  0.0  0.0  0.0  0.0  0.0  0.0  1.0  \n",
       "4     ...  0.0  0.0  0.0  1.0  0.0  0.0  0.0  0.0  1.0  1.0  \n",
       "...   ...  ...  ...  ...  ...  ...  ...  ...  ...  ...  ...  \n",
       "9995  ...  0.0  0.0  0.0  0.0  0.0  0.0  0.0  0.0  0.0  1.0  \n",
       "9996  ...  0.0  0.0  0.0  0.0  0.0  0.0  0.0  0.0  1.0  1.0  \n",
       "9997  ...  0.0  0.0  0.0  0.0  0.0  0.0  0.0  0.0  0.0  1.0  \n",
       "9998  ...  0.0  1.0  0.0  0.0  0.0  0.0  1.0  0.0  1.0  0.0  \n",
       "9999  ...  0.0  1.0  0.0  0.0  0.0  0.0  0.0  0.0  1.0  1.0  \n",
       "\n",
       "[10000 rows x 80 columns]"
      ]
     },
     "execution_count": 13,
     "metadata": {},
     "output_type": "execute_result"
    }
   ],
   "source": [
    "model_input"
   ]
  },
  {
   "cell_type": "code",
   "execution_count": 15,
   "id": "70300b02ce1dc6e5",
   "metadata": {
    "ExecuteTime": {
     "end_time": "2023-11-02T15:44:44.115123136Z",
     "start_time": "2023-11-02T15:44:43.947862808Z"
    },
    "collapsed": false
   },
   "outputs": [],
   "source": [
    "model_input = pd.read_csv(\"data/syn_data.csv\", names=X_train.columns)"
   ]
  },
  {
   "cell_type": "code",
   "execution_count": null,
   "id": "a18e584a017832f1",
   "metadata": {
    "collapsed": false
   },
   "outputs": [],
   "source": [
    "distributed_datasets = get_distributed_adult_sets(distributions=distributions)"
   ]
  },
  {
   "cell_type": "markdown",
   "id": "f86d94488c6cda5c",
   "metadata": {
    "collapsed": false
   },
   "source": [
    "## Generate synthetic data for model output"
   ]
  },
  {
   "cell_type": "code",
   "execution_count": 4,
   "id": "4966977f245991b",
   "metadata": {
    "ExecuteTime": {
     "end_time": "2023-11-02T13:45:47.063229923Z",
     "start_time": "2023-11-02T13:45:46.705563600Z"
    },
    "collapsed": false
   },
   "outputs": [],
   "source": [
    "output_size = 10000\n",
    "metadata = SingleTableMetadata()\n",
    "to_fit = pd.DataFrame(np.concatenate((X_train, X_test)), columns=[str(i) for i in range(79)])\n",
    "#to_fit = to_fit.astype({i: 'int' for i in range(4,79)})\n",
    "#to_fit[\"index\"] = to_fit.index\n",
    "#to_fit = to_fit.astype({\"index\": 'string'})\n",
    "metadata.detect_from_dataframe(data=to_fit)"
   ]
  },
  {
   "cell_type": "code",
   "execution_count": 7,
   "id": "256f653a46f92733",
   "metadata": {
    "ExecuteTime": {
     "end_time": "2023-11-02T12:55:23.395722216Z",
     "start_time": "2023-11-02T12:55:23.380444040Z"
    },
    "collapsed": false
   },
   "outputs": [
    {
     "data": {
      "text/plain": [
       "{'METADATA_SPEC_VERSION': 'SINGLE_TABLE_V1',\n",
       " 'columns': {'0': {'sdtype': 'numerical'},\n",
       "  '1': {'sdtype': 'numerical'},\n",
       "  '2': {'sdtype': 'numerical'},\n",
       "  '3': {'sdtype': 'numerical'},\n",
       "  '4': {'sdtype': 'categorical'},\n",
       "  '5': {'sdtype': 'categorical'},\n",
       "  '6': {'sdtype': 'categorical'},\n",
       "  '7': {'sdtype': 'categorical'},\n",
       "  '8': {'sdtype': 'categorical'},\n",
       "  '9': {'sdtype': 'categorical'},\n",
       "  '10': {'sdtype': 'categorical'},\n",
       "  '11': {'sdtype': 'categorical'},\n",
       "  '12': {'sdtype': 'categorical'},\n",
       "  '13': {'sdtype': 'categorical'},\n",
       "  '14': {'sdtype': 'categorical'},\n",
       "  '15': {'sdtype': 'categorical'},\n",
       "  '16': {'sdtype': 'categorical'},\n",
       "  '17': {'sdtype': 'categorical'},\n",
       "  '18': {'sdtype': 'categorical'},\n",
       "  '19': {'sdtype': 'categorical'},\n",
       "  '20': {'sdtype': 'categorical'},\n",
       "  '21': {'sdtype': 'categorical'},\n",
       "  '22': {'sdtype': 'categorical'},\n",
       "  '23': {'sdtype': 'categorical'},\n",
       "  '24': {'sdtype': 'categorical'},\n",
       "  '25': {'sdtype': 'categorical'},\n",
       "  '26': {'sdtype': 'categorical'},\n",
       "  '27': {'sdtype': 'categorical'},\n",
       "  '28': {'sdtype': 'categorical'},\n",
       "  '29': {'sdtype': 'categorical'},\n",
       "  '30': {'sdtype': 'categorical'},\n",
       "  '31': {'sdtype': 'categorical'},\n",
       "  '32': {'sdtype': 'categorical'},\n",
       "  '33': {'sdtype': 'categorical'},\n",
       "  '34': {'sdtype': 'categorical'},\n",
       "  '35': {'sdtype': 'categorical'},\n",
       "  '36': {'sdtype': 'categorical'},\n",
       "  '37': {'sdtype': 'categorical'},\n",
       "  '38': {'sdtype': 'categorical'},\n",
       "  '39': {'sdtype': 'categorical'},\n",
       "  '40': {'sdtype': 'categorical'},\n",
       "  '41': {'sdtype': 'categorical'},\n",
       "  '42': {'sdtype': 'categorical'},\n",
       "  '43': {'sdtype': 'categorical'},\n",
       "  '44': {'sdtype': 'categorical'},\n",
       "  '45': {'sdtype': 'categorical'},\n",
       "  '46': {'sdtype': 'categorical'},\n",
       "  '47': {'sdtype': 'categorical'},\n",
       "  '48': {'sdtype': 'categorical'},\n",
       "  '49': {'sdtype': 'categorical'},\n",
       "  '50': {'sdtype': 'categorical'},\n",
       "  '51': {'sdtype': 'categorical'},\n",
       "  '52': {'sdtype': 'categorical'},\n",
       "  '53': {'sdtype': 'categorical'},\n",
       "  '54': {'sdtype': 'categorical'},\n",
       "  '55': {'sdtype': 'categorical'},\n",
       "  '56': {'sdtype': 'categorical'},\n",
       "  '57': {'sdtype': 'categorical'},\n",
       "  '58': {'sdtype': 'categorical'},\n",
       "  '59': {'sdtype': 'categorical'},\n",
       "  '60': {'sdtype': 'categorical'},\n",
       "  '61': {'sdtype': 'categorical'},\n",
       "  '62': {'sdtype': 'categorical'},\n",
       "  '63': {'sdtype': 'categorical'},\n",
       "  '64': {'sdtype': 'categorical'},\n",
       "  '65': {'sdtype': 'categorical'},\n",
       "  '66': {'sdtype': 'categorical'},\n",
       "  '67': {'sdtype': 'categorical'},\n",
       "  '68': {'sdtype': 'categorical'},\n",
       "  '69': {'sdtype': 'categorical'},\n",
       "  '70': {'sdtype': 'categorical'},\n",
       "  '71': {'sdtype': 'categorical'},\n",
       "  '72': {'sdtype': 'categorical'},\n",
       "  '73': {'sdtype': 'categorical'},\n",
       "  '74': {'sdtype': 'categorical'},\n",
       "  '75': {'sdtype': 'categorical'},\n",
       "  '76': {'sdtype': 'categorical'},\n",
       "  '77': {'sdtype': 'categorical'},\n",
       "  '78': {'sdtype': 'categorical'}}}"
      ]
     },
     "execution_count": 7,
     "metadata": {},
     "output_type": "execute_result"
    }
   ],
   "source": [
    "metadata.to_dict()"
   ]
  },
  {
   "cell_type": "code",
   "execution_count": 5,
   "id": "e8f73cf065d62b78",
   "metadata": {
    "ExecuteTime": {
     "end_time": "2023-11-02T14:58:12.472500848Z",
     "start_time": "2023-11-02T13:45:49.925861317Z"
    },
    "collapsed": false
   },
   "outputs": [
    {
     "name": "stderr",
     "output_type": "stream",
     "text": [
      "/home/js/anaconda3/envs/adversarial-bb-training/lib/python3.10/site-packages/rdt/transformers/numerical.py:112: UserWarning: No rounding scheme detected for column '0'. Data will not be rounded.\n",
      "  warnings.warn(\n",
      "/home/js/anaconda3/envs/adversarial-bb-training/lib/python3.10/site-packages/rdt/transformers/numerical.py:112: UserWarning: No rounding scheme detected for column '1'. Data will not be rounded.\n",
      "  warnings.warn(\n",
      "/home/js/anaconda3/envs/adversarial-bb-training/lib/python3.10/site-packages/rdt/transformers/numerical.py:112: UserWarning: No rounding scheme detected for column '2'. Data will not be rounded.\n",
      "  warnings.warn(\n",
      "/home/js/anaconda3/envs/adversarial-bb-training/lib/python3.10/site-packages/rdt/transformers/numerical.py:112: UserWarning: No rounding scheme detected for column '3'. Data will not be rounded.\n",
      "  warnings.warn(\n"
     ]
    }
   ],
   "source": [
    "syn_model = CTGANSynthesizer(metadata)\n",
    "syn_model.fit(to_fit)"
   ]
  },
  {
   "cell_type": "code",
   "execution_count": 7,
   "id": "54987eb0fe68a21f",
   "metadata": {
    "ExecuteTime": {
     "end_time": "2023-11-02T15:21:04.789129304Z",
     "start_time": "2023-11-02T15:21:03.416962416Z"
    },
    "collapsed": false
   },
   "outputs": [],
   "source": [
    "sampled = syn_model.sample(num_rows=output_size)\n",
    "syn_model.save('syn_model')"
   ]
  },
  {
   "cell_type": "code",
   "execution_count": 14,
   "id": "7a9e498939ce4c24",
   "metadata": {
    "ExecuteTime": {
     "end_time": "2023-11-02T15:44:33.840325056Z",
     "start_time": "2023-11-02T15:44:33.341592270Z"
    },
    "collapsed": false
   },
   "outputs": [],
   "source": [
    "sampled.to_csv(\"data/syn_data.csv\", index=False)"
   ]
  },
  {
   "cell_type": "markdown",
   "id": "76e9851439390c6",
   "metadata": {
    "collapsed": false
   },
   "source": [
    "### Single model"
   ]
  },
  {
   "cell_type": "code",
   "execution_count": 26,
   "id": "bca8b91daeae08fc",
   "metadata": {
    "ExecuteTime": {
     "end_time": "2023-11-02T16:26:37.559252660Z",
     "start_time": "2023-11-02T16:26:12.762745018Z"
    },
    "collapsed": false
   },
   "outputs": [],
   "source": [
    "gb = train_gradient_boosting_shadow_model(X_train, y_train, 0)"
   ]
  },
  {
   "cell_type": "code",
   "execution_count": 27,
   "id": "8eddc9bcf8276f11",
   "metadata": {
    "ExecuteTime": {
     "end_time": "2023-11-02T16:26:57.192105907Z",
     "start_time": "2023-11-02T16:26:57.091131035Z"
    },
    "collapsed": false
   },
   "outputs": [],
   "source": [
    "model_input = pd.read_csv(\"data/syn_data.csv\", names=X_train.columns)"
   ]
  },
  {
   "cell_type": "code",
   "execution_count": 80,
   "id": "a29465417e19445d",
   "metadata": {
    "ExecuteTime": {
     "end_time": "2023-11-02T16:40:22.632354320Z",
     "start_time": "2023-11-02T16:40:22.535126646Z"
    },
    "collapsed": false
   },
   "outputs": [],
   "source": [
    "out = gb.predict_proba(model_input)"
   ]
  },
  {
   "cell_type": "code",
   "execution_count": 83,
   "id": "bf3a8ed59df205e0",
   "metadata": {
    "ExecuteTime": {
     "end_time": "2023-11-02T16:41:12.142172466Z",
     "start_time": "2023-11-02T16:41:12.125214813Z"
    },
    "collapsed": false
   },
   "outputs": [
    {
     "data": {
      "text/plain": [
       "array([0.99868971, 0.01143   , 0.01576805, ..., 0.96033791, 0.00722861,\n",
       "       0.0585728 ])"
      ]
     },
     "execution_count": 83,
     "metadata": {},
     "output_type": "execute_result"
    }
   ],
   "source": [
    "out[:,1]"
   ]
  },
  {
   "cell_type": "code",
   "execution_count": 36,
   "id": "3bffb3c7283c77db",
   "metadata": {
    "ExecuteTime": {
     "end_time": "2023-11-02T16:28:31.500872863Z",
     "start_time": "2023-11-02T16:28:31.499984574Z"
    },
    "collapsed": false
   },
   "outputs": [
    {
     "data": {
      "text/plain": [
       "0.0    8676\n",
       "1.0    1325\n",
       "dtype: int64"
      ]
     },
     "execution_count": 36,
     "metadata": {},
     "output_type": "execute_result"
    }
   ],
   "source": [
    "pd.value_counts(out)"
   ]
  },
  {
   "cell_type": "markdown",
   "id": "b8dd819536f4e169",
   "metadata": {
    "collapsed": false
   },
   "source": [
    "### Train shadow models and generate output"
   ]
  },
  {
   "cell_type": "code",
   "execution_count": null,
   "id": "807403d039c8b5b9",
   "metadata": {
    "collapsed": false
   },
   "outputs": [],
   "source": [
    "all_shadow_outputs = []\n",
    "for ds in distributed_datasets:\n",
    "    outputs = generate_shadow_model_outputs(ds, X_test, n_shadow_models=n_shadow_models)\n",
    "    all_shadow_outputs.append(outputs)"
   ]
  },
  {
   "cell_type": "markdown",
   "id": "2a909c59c49960cd",
   "metadata": {
    "collapsed": false
   },
   "source": [
    "### Save shadow model outputs to file"
   ]
  },
  {
   "cell_type": "code",
   "execution_count": null,
   "id": "6e7b6fcb52d256ba",
   "metadata": {
    "collapsed": false
   },
   "outputs": [],
   "source": [
    "adv_df = pd.DataFrame(np.array(np.concatenate((all_shadow_outputs))))\n",
    "adv_df[\"y\"] = np.concatenate(([np.repeat(d, n_shadow_models) for d in distributions]))\n",
    "adv_df.to_csv(\"data/shadow_model_outputs.csv\")"
   ]
  },
  {
   "cell_type": "markdown",
   "id": "4f148b8fe9e7013",
   "metadata": {
    "collapsed": false
   },
   "source": [
    "### Shadow model outputs as training data for adversary"
   ]
  },
  {
   "cell_type": "code",
   "execution_count": 9,
   "id": "cccad5e8b03ad4d5",
   "metadata": {
    "ExecuteTime": {
     "end_time": "2023-11-08T10:09:46.043129487Z",
     "start_time": "2023-11-08T10:09:43.161975156Z"
    },
    "collapsed": false
   },
   "outputs": [],
   "source": [
    "adv_df = pd.read_csv(\"data/shadow_model_outputs.csv\")\n",
    "adv_ddf_shuffled = adv_df.sample(frac=1, random_state=1).reset_index(drop=True).drop(columns=[\"Unnamed: 0\"])\n",
    "adv_y = adv_ddf_shuffled[\"y\"]\n",
    "adv_X = adv_ddf_shuffled.drop(columns=[\"y\"])"
   ]
  },
  {
   "cell_type": "code",
   "execution_count": 10,
   "id": "1b611ad15ca42d0e",
   "metadata": {
    "ExecuteTime": {
     "end_time": "2023-11-08T10:09:46.865727318Z",
     "start_time": "2023-11-08T10:09:46.048388291Z"
    },
    "collapsed": false
   },
   "outputs": [],
   "source": [
    "adv_df_test = pd.read_csv(\"data/shadow_model_outputs_test_set.csv\")\n",
    "adv_ddf_shuffled_test = adv_df_test.sample(frac=1, random_state=1).reset_index(drop=True).drop(columns=[\"Unnamed: 0\"])\n",
    "adv_y_test = adv_ddf_shuffled_test[\"y\"]\n",
    "adv_X_test = adv_ddf_shuffled_test.drop(columns=[\"y\"])"
   ]
  },
  {
   "cell_type": "code",
   "execution_count": 7,
   "id": "3613e1abec47249e",
   "metadata": {
    "ExecuteTime": {
     "start_time": "2023-11-08T10:09:05.330135277Z"
    },
    "collapsed": false
   },
   "outputs": [
    {
     "data": {
      "text/plain": [
       "Index(['Unnamed: 0', '0', '1', '2', '3', '4', '5', '6', '7', '8',\n",
       "       ...\n",
       "       '9991', '9992', '9993', '9994', '9995', '9996', '9997', '9998', '9999',\n",
       "       '10000'],\n",
       "      dtype='object', length=10002)"
      ]
     },
     "execution_count": 7,
     "metadata": {},
     "output_type": "execute_result"
    }
   ],
   "source": [
    "adv_X.columns"
   ]
  },
  {
   "cell_type": "markdown",
   "id": "e27e1ee526589f4c",
   "metadata": {
    "collapsed": false
   },
   "source": [
    "### Create adversary"
   ]
  },
  {
   "cell_type": "markdown",
   "id": "26875e3f7ca757e9",
   "metadata": {
    "collapsed": false
   },
   "source": [
    "### Pycaret"
   ]
  },
  {
   "cell_type": "code",
   "execution_count": 4,
   "id": "d46c9cbdded7db22",
   "metadata": {
    "ExecuteTime": {
     "start_time": "2023-11-02T16:48:53.089633749Z"
    },
    "collapsed": false
   },
   "outputs": [
    {
     "data": {
      "text/html": [],
      "text/plain": [
       "<IPython.core.display.HTML object>"
      ]
     },
     "metadata": {},
     "output_type": "display_data"
    }
   ],
   "source": [
    "from pycaret.regression import *\n",
    "s = setup(adv_df, target=\"y\", session_id=123)"
   ]
  },
  {
   "cell_type": "code",
   "execution_count": 5,
   "id": "6826e165fc2870aa",
   "metadata": {
    "ExecuteTime": {
     "start_time": "2023-11-02T16:49:32.347176293Z"
    },
    "collapsed": false
   },
   "outputs": [],
   "source": [
    "from pycaret.regression import RegressionExperiment\n",
    "exp = RegressionExperiment()"
   ]
  },
  {
   "cell_type": "code",
   "execution_count": 8,
   "id": "6c85b5dc284e7439",
   "metadata": {
    "ExecuteTime": {
     "start_time": "2023-11-02T16:50:05.880228196Z"
    },
    "collapsed": false
   },
   "outputs": [
    {
     "data": {
      "text/html": [],
      "text/plain": [
       "<IPython.core.display.HTML object>"
      ]
     },
     "metadata": {},
     "output_type": "display_data"
    },
    {
     "data": {
      "text/plain": [
       "<pycaret.regression.oop.RegressionExperiment at 0x7fc0881bc4f0>"
      ]
     },
     "execution_count": 8,
     "metadata": {},
     "output_type": "execute_result"
    }
   ],
   "source": [
    "exp.setup(adv_df, target = 'y', session_id = 123)"
   ]
  },
  {
   "cell_type": "code",
   "execution_count": null,
   "id": "6a33b4643f397831",
   "metadata": {
    "ExecuteTime": {
     "start_time": "2023-11-02T16:50:31.534970762Z"
    },
    "collapsed": false,
    "is_executing": true
   },
   "outputs": [
    {
     "data": {
      "text/html": [
       "<div>\n",
       "<style scoped>\n",
       "    .dataframe tbody tr th:only-of-type {\n",
       "        vertical-align: middle;\n",
       "    }\n",
       "\n",
       "    .dataframe tbody tr th {\n",
       "        vertical-align: top;\n",
       "    }\n",
       "\n",
       "    .dataframe thead th {\n",
       "        text-align: right;\n",
       "    }\n",
       "</style>\n",
       "<table border=\"1\" class=\"dataframe\">\n",
       "  <thead>\n",
       "    <tr style=\"text-align: right;\">\n",
       "      <th></th>\n",
       "      <th></th>\n",
       "      <th></th>\n",
       "    </tr>\n",
       "    <tr>\n",
       "      <th></th>\n",
       "      <th></th>\n",
       "      <th></th>\n",
       "    </tr>\n",
       "  </thead>\n",
       "  <tbody>\n",
       "    <tr>\n",
       "      <th>Initiated</th>\n",
       "      <td>. . . . . . . . . . . . . . . . . .</td>\n",
       "      <td>17:50:31</td>\n",
       "    </tr>\n",
       "    <tr>\n",
       "      <th>Status</th>\n",
       "      <td>. . . . . . . . . . . . . . . . . .</td>\n",
       "      <td>Loading Dependencies</td>\n",
       "    </tr>\n",
       "    <tr>\n",
       "      <th>Estimator</th>\n",
       "      <td>. . . . . . . . . . . . . . . . . .</td>\n",
       "      <td>Compiling Library</td>\n",
       "    </tr>\n",
       "  </tbody>\n",
       "</table>\n",
       "</div>"
      ],
      "text/plain": [
       "                                                                    \n",
       "                                                                    \n",
       "Initiated  . . . . . . . . . . . . . . . . . .              17:50:31\n",
       "Status     . . . . . . . . . . . . . . . . . .  Loading Dependencies\n",
       "Estimator  . . . . . . . . . . . . . . . . . .     Compiling Library"
      ]
     },
     "metadata": {},
     "output_type": "display_data"
    },
    {
     "data": {
      "text/html": [],
      "text/plain": [
       "<IPython.core.display.HTML object>"
      ]
     },
     "metadata": {},
     "output_type": "display_data"
    },
    {
     "data": {
      "application/vnd.jupyter.widget-view+json": {
       "model_id": "83a29fc052b24739aa010193b11c9f53",
       "version_major": 2,
       "version_minor": 0
      },
      "text/plain": [
       "Processing:   0%|          | 0/77 [00:00<?, ?it/s]"
      ]
     },
     "metadata": {},
     "output_type": "display_data"
    }
   ],
   "source": [
    "best = compare_models()"
   ]
  },
  {
   "cell_type": "markdown",
   "id": "9fd898d04bc7d681",
   "metadata": {
    "collapsed": false
   },
   "source": [
    "# Trying different model architectures"
   ]
  },
  {
   "cell_type": "code",
   "execution_count": 150,
   "id": "f321d38c0dbd2e9",
   "metadata": {
    "ExecuteTime": {
     "end_time": "2023-11-08T11:37:50.286560986Z",
     "start_time": "2023-11-08T11:37:50.186412419Z"
    },
    "collapsed": false
   },
   "outputs": [],
   "source": [
    "adversary = keras.Sequential()\n",
    "adversary.add(keras.Input(shape=(adv_X.shape[1],)))\n",
    "adversary.add(keras.layers.Reshape((adv_X.shape[1],1)))\n",
    "adversary.add(keras.layers.LSTM(6, activation='relu', return_sequences=False, return_state=False))\n",
    "#adversary.add(keras.layers.AveragePooling1D(\n",
    "#    #input_shape=(None,adv_X.shape[1],),\n",
    "#    pool_size=3, strides=1, padding=\"valid\", data_format=\"channels_last\"\n",
    "#))\n",
    "#adversary.add(keras.layers.MaxPooling1D(pool_size=2, strides=1, padding='valid'))\n",
    "#adversary.add(keras.layers.Reshape((adv_X.shape[1],)))\n",
    "\n",
    "#adversary.add(keras.layers.LayerNormalization(axis=1))\n",
    "#adversary.add(keras.layers.Dense(500))\n",
    "#adversary.add(keras.layers.Dense(16, activation='relu'))\n",
    "#adversary.add(keras.layers.Dropout(rate=0.1))\n",
    "#adversary.add(keras.layers.TimeDistributed(keras.layers.Dense(1)))\n",
    "#adversary.add(keras.layers.Dense(2, activation='relu'))\n",
    "#adversary.add(keras.layers.Flatten())\n",
    "adversary.add(keras.layers.Dense(32, activation=\"relu\"))\n",
    "adversary.add(keras.layers.Dense(1))\n",
    "\n",
    "#learning_rate=0.000005\n",
    "initial_learning_rate=0.000003\n",
    "lr_schedule = keras.optimizers.schedules.ExponentialDecay(\n",
    "    initial_learning_rate,\n",
    "    decay_steps=100000,\n",
    "    decay_rate=0.96,\n",
    "    staircase=True)\n",
    "optimizer = keras.optimizers.SGD(learning_rate=lr_schedule)\n",
    "#learning_rate=lr_schedule\n",
    "adversary.compile(optimizer=keras.optimizers.Adam(), loss=keras.losses.MeanSquaredError(), metrics=keras.metrics.R2Score())\n",
    "#adversary.summary()"
   ]
  },
  {
   "cell_type": "code",
   "execution_count": null,
   "id": "76908bfc96a372bc",
   "metadata": {
    "collapsed": false
   },
   "outputs": [],
   "source": [
    "from numpy.random import seed\n",
    "seed(1)\n",
    "from keras.utils import set_random_seed\n",
    "set_random_seed(2)"
   ]
  },
  {
   "cell_type": "code",
   "execution_count": 151,
   "id": "b5be01fe81d2faf4",
   "metadata": {
    "ExecuteTime": {
     "end_time": "2023-11-08T11:39:17.335689945Z",
     "start_time": "2023-11-08T11:37:50.290416340Z"
    },
    "collapsed": false
   },
   "outputs": [
    {
     "name": "stdout",
     "output_type": "stream",
     "text": [
      "Epoch 1/35\n",
      "57/57 [==============================] - 67s 1s/step - loss: 0.2991 - r2_score: -3.4860 - val_loss: 0.2644 - val_r2_score: -2.9658\n",
      "Epoch 2/35\n",
      "16/57 [=======>......................] - ETA: 46s - loss: 0.2719 - r2_score: -3.1398"
     ]
    },
    {
     "ename": "KeyboardInterrupt",
     "evalue": "",
     "output_type": "error",
     "traceback": [
      "\u001b[0;31m---------------------------------------------------------------------------\u001b[0m",
      "\u001b[0;31mKeyboardInterrupt\u001b[0m                         Traceback (most recent call last)",
      "Cell \u001b[0;32mIn[151], line 1\u001b[0m\n\u001b[0;32m----> 1\u001b[0m history \u001b[38;5;241m=\u001b[39m \u001b[43madversary\u001b[49m\u001b[38;5;241;43m.\u001b[39;49m\u001b[43mfit\u001b[49m\u001b[43m(\u001b[49m\u001b[43madv_X\u001b[49m\u001b[43m,\u001b[49m\u001b[43m \u001b[49m\u001b[43madv_y\u001b[49m\u001b[43m,\u001b[49m\u001b[43m \u001b[49m\u001b[43mbatch_size\u001b[49m\u001b[38;5;241;43m=\u001b[39;49m\u001b[38;5;241;43m32\u001b[39;49m\u001b[43m,\u001b[49m\u001b[43m \u001b[49m\u001b[43mepochs\u001b[49m\u001b[38;5;241;43m=\u001b[39;49m\u001b[38;5;241;43m35\u001b[39;49m\u001b[43m,\u001b[49m\u001b[43m \u001b[49m\u001b[43mvalidation_data\u001b[49m\u001b[38;5;241;43m=\u001b[39;49m\u001b[43m(\u001b[49m\u001b[43madv_X_test\u001b[49m\u001b[43m,\u001b[49m\u001b[43m \u001b[49m\u001b[43madv_y_test\u001b[49m\u001b[43m)\u001b[49m\u001b[43m)\u001b[49m\n",
      "File \u001b[0;32m~/anaconda3/lib/python3.10/site-packages/keras/src/utils/traceback_utils.py:65\u001b[0m, in \u001b[0;36mfilter_traceback.<locals>.error_handler\u001b[0;34m(*args, **kwargs)\u001b[0m\n\u001b[1;32m     63\u001b[0m filtered_tb \u001b[38;5;241m=\u001b[39m \u001b[38;5;28;01mNone\u001b[39;00m\n\u001b[1;32m     64\u001b[0m \u001b[38;5;28;01mtry\u001b[39;00m:\n\u001b[0;32m---> 65\u001b[0m     \u001b[38;5;28;01mreturn\u001b[39;00m \u001b[43mfn\u001b[49m\u001b[43m(\u001b[49m\u001b[38;5;241;43m*\u001b[39;49m\u001b[43margs\u001b[49m\u001b[43m,\u001b[49m\u001b[43m \u001b[49m\u001b[38;5;241;43m*\u001b[39;49m\u001b[38;5;241;43m*\u001b[39;49m\u001b[43mkwargs\u001b[49m\u001b[43m)\u001b[49m\n\u001b[1;32m     66\u001b[0m \u001b[38;5;28;01mexcept\u001b[39;00m \u001b[38;5;167;01mException\u001b[39;00m \u001b[38;5;28;01mas\u001b[39;00m e:\n\u001b[1;32m     67\u001b[0m     filtered_tb \u001b[38;5;241m=\u001b[39m _process_traceback_frames(e\u001b[38;5;241m.\u001b[39m__traceback__)\n",
      "File \u001b[0;32m~/anaconda3/lib/python3.10/site-packages/keras/src/engine/training.py:1783\u001b[0m, in \u001b[0;36mModel.fit\u001b[0;34m(self, x, y, batch_size, epochs, verbose, callbacks, validation_split, validation_data, shuffle, class_weight, sample_weight, initial_epoch, steps_per_epoch, validation_steps, validation_batch_size, validation_freq, max_queue_size, workers, use_multiprocessing)\u001b[0m\n\u001b[1;32m   1775\u001b[0m \u001b[38;5;28;01mwith\u001b[39;00m tf\u001b[38;5;241m.\u001b[39mprofiler\u001b[38;5;241m.\u001b[39mexperimental\u001b[38;5;241m.\u001b[39mTrace(\n\u001b[1;32m   1776\u001b[0m     \u001b[38;5;124m\"\u001b[39m\u001b[38;5;124mtrain\u001b[39m\u001b[38;5;124m\"\u001b[39m,\n\u001b[1;32m   1777\u001b[0m     epoch_num\u001b[38;5;241m=\u001b[39mepoch,\n\u001b[0;32m   (...)\u001b[0m\n\u001b[1;32m   1780\u001b[0m     _r\u001b[38;5;241m=\u001b[39m\u001b[38;5;241m1\u001b[39m,\n\u001b[1;32m   1781\u001b[0m ):\n\u001b[1;32m   1782\u001b[0m     callbacks\u001b[38;5;241m.\u001b[39mon_train_batch_begin(step)\n\u001b[0;32m-> 1783\u001b[0m     tmp_logs \u001b[38;5;241m=\u001b[39m \u001b[38;5;28;43mself\u001b[39;49m\u001b[38;5;241;43m.\u001b[39;49m\u001b[43mtrain_function\u001b[49m\u001b[43m(\u001b[49m\u001b[43miterator\u001b[49m\u001b[43m)\u001b[49m\n\u001b[1;32m   1784\u001b[0m     \u001b[38;5;28;01mif\u001b[39;00m data_handler\u001b[38;5;241m.\u001b[39mshould_sync:\n\u001b[1;32m   1785\u001b[0m         context\u001b[38;5;241m.\u001b[39masync_wait()\n",
      "File \u001b[0;32m~/anaconda3/lib/python3.10/site-packages/tensorflow/python/util/traceback_utils.py:150\u001b[0m, in \u001b[0;36mfilter_traceback.<locals>.error_handler\u001b[0;34m(*args, **kwargs)\u001b[0m\n\u001b[1;32m    148\u001b[0m filtered_tb \u001b[38;5;241m=\u001b[39m \u001b[38;5;28;01mNone\u001b[39;00m\n\u001b[1;32m    149\u001b[0m \u001b[38;5;28;01mtry\u001b[39;00m:\n\u001b[0;32m--> 150\u001b[0m   \u001b[38;5;28;01mreturn\u001b[39;00m \u001b[43mfn\u001b[49m\u001b[43m(\u001b[49m\u001b[38;5;241;43m*\u001b[39;49m\u001b[43margs\u001b[49m\u001b[43m,\u001b[49m\u001b[43m \u001b[49m\u001b[38;5;241;43m*\u001b[39;49m\u001b[38;5;241;43m*\u001b[39;49m\u001b[43mkwargs\u001b[49m\u001b[43m)\u001b[49m\n\u001b[1;32m    151\u001b[0m \u001b[38;5;28;01mexcept\u001b[39;00m \u001b[38;5;167;01mException\u001b[39;00m \u001b[38;5;28;01mas\u001b[39;00m e:\n\u001b[1;32m    152\u001b[0m   filtered_tb \u001b[38;5;241m=\u001b[39m _process_traceback_frames(e\u001b[38;5;241m.\u001b[39m__traceback__)\n",
      "File \u001b[0;32m~/anaconda3/lib/python3.10/site-packages/tensorflow/python/eager/polymorphic_function/polymorphic_function.py:831\u001b[0m, in \u001b[0;36mFunction.__call__\u001b[0;34m(self, *args, **kwds)\u001b[0m\n\u001b[1;32m    828\u001b[0m compiler \u001b[38;5;241m=\u001b[39m \u001b[38;5;124m\"\u001b[39m\u001b[38;5;124mxla\u001b[39m\u001b[38;5;124m\"\u001b[39m \u001b[38;5;28;01mif\u001b[39;00m \u001b[38;5;28mself\u001b[39m\u001b[38;5;241m.\u001b[39m_jit_compile \u001b[38;5;28;01melse\u001b[39;00m \u001b[38;5;124m\"\u001b[39m\u001b[38;5;124mnonXla\u001b[39m\u001b[38;5;124m\"\u001b[39m\n\u001b[1;32m    830\u001b[0m \u001b[38;5;28;01mwith\u001b[39;00m OptionalXlaContext(\u001b[38;5;28mself\u001b[39m\u001b[38;5;241m.\u001b[39m_jit_compile):\n\u001b[0;32m--> 831\u001b[0m   result \u001b[38;5;241m=\u001b[39m \u001b[38;5;28;43mself\u001b[39;49m\u001b[38;5;241;43m.\u001b[39;49m\u001b[43m_call\u001b[49m\u001b[43m(\u001b[49m\u001b[38;5;241;43m*\u001b[39;49m\u001b[43margs\u001b[49m\u001b[43m,\u001b[49m\u001b[43m \u001b[49m\u001b[38;5;241;43m*\u001b[39;49m\u001b[38;5;241;43m*\u001b[39;49m\u001b[43mkwds\u001b[49m\u001b[43m)\u001b[49m\n\u001b[1;32m    833\u001b[0m new_tracing_count \u001b[38;5;241m=\u001b[39m \u001b[38;5;28mself\u001b[39m\u001b[38;5;241m.\u001b[39mexperimental_get_tracing_count()\n\u001b[1;32m    834\u001b[0m without_tracing \u001b[38;5;241m=\u001b[39m (tracing_count \u001b[38;5;241m==\u001b[39m new_tracing_count)\n",
      "File \u001b[0;32m~/anaconda3/lib/python3.10/site-packages/tensorflow/python/eager/polymorphic_function/polymorphic_function.py:867\u001b[0m, in \u001b[0;36mFunction._call\u001b[0;34m(self, *args, **kwds)\u001b[0m\n\u001b[1;32m    864\u001b[0m   \u001b[38;5;28mself\u001b[39m\u001b[38;5;241m.\u001b[39m_lock\u001b[38;5;241m.\u001b[39mrelease()\n\u001b[1;32m    865\u001b[0m   \u001b[38;5;66;03m# In this case we have created variables on the first call, so we run the\u001b[39;00m\n\u001b[1;32m    866\u001b[0m   \u001b[38;5;66;03m# defunned version which is guaranteed to never create variables.\u001b[39;00m\n\u001b[0;32m--> 867\u001b[0m   \u001b[38;5;28;01mreturn\u001b[39;00m \u001b[43mtracing_compilation\u001b[49m\u001b[38;5;241;43m.\u001b[39;49m\u001b[43mcall_function\u001b[49m\u001b[43m(\u001b[49m\n\u001b[1;32m    868\u001b[0m \u001b[43m      \u001b[49m\u001b[43margs\u001b[49m\u001b[43m,\u001b[49m\u001b[43m \u001b[49m\u001b[43mkwds\u001b[49m\u001b[43m,\u001b[49m\u001b[43m \u001b[49m\u001b[38;5;28;43mself\u001b[39;49m\u001b[38;5;241;43m.\u001b[39;49m\u001b[43m_no_variable_creation_config\u001b[49m\n\u001b[1;32m    869\u001b[0m \u001b[43m  \u001b[49m\u001b[43m)\u001b[49m\n\u001b[1;32m    870\u001b[0m \u001b[38;5;28;01melif\u001b[39;00m \u001b[38;5;28mself\u001b[39m\u001b[38;5;241m.\u001b[39m_variable_creation_config \u001b[38;5;129;01mis\u001b[39;00m \u001b[38;5;129;01mnot\u001b[39;00m \u001b[38;5;28;01mNone\u001b[39;00m:\n\u001b[1;32m    871\u001b[0m   \u001b[38;5;66;03m# Release the lock early so that multiple threads can perform the call\u001b[39;00m\n\u001b[1;32m    872\u001b[0m   \u001b[38;5;66;03m# in parallel.\u001b[39;00m\n\u001b[1;32m    873\u001b[0m   \u001b[38;5;28mself\u001b[39m\u001b[38;5;241m.\u001b[39m_lock\u001b[38;5;241m.\u001b[39mrelease()\n",
      "File \u001b[0;32m~/anaconda3/lib/python3.10/site-packages/tensorflow/python/eager/polymorphic_function/tracing_compilation.py:139\u001b[0m, in \u001b[0;36mcall_function\u001b[0;34m(args, kwargs, tracing_options)\u001b[0m\n\u001b[1;32m    137\u001b[0m bound_args \u001b[38;5;241m=\u001b[39m function\u001b[38;5;241m.\u001b[39mfunction_type\u001b[38;5;241m.\u001b[39mbind(\u001b[38;5;241m*\u001b[39margs, \u001b[38;5;241m*\u001b[39m\u001b[38;5;241m*\u001b[39mkwargs)\n\u001b[1;32m    138\u001b[0m flat_inputs \u001b[38;5;241m=\u001b[39m function\u001b[38;5;241m.\u001b[39mfunction_type\u001b[38;5;241m.\u001b[39munpack_inputs(bound_args)\n\u001b[0;32m--> 139\u001b[0m \u001b[38;5;28;01mreturn\u001b[39;00m \u001b[43mfunction\u001b[49m\u001b[38;5;241;43m.\u001b[39;49m\u001b[43m_call_flat\u001b[49m\u001b[43m(\u001b[49m\u001b[43m  \u001b[49m\u001b[38;5;66;43;03m# pylint: disable=protected-access\u001b[39;49;00m\n\u001b[1;32m    140\u001b[0m \u001b[43m    \u001b[49m\u001b[43mflat_inputs\u001b[49m\u001b[43m,\u001b[49m\u001b[43m \u001b[49m\u001b[43mcaptured_inputs\u001b[49m\u001b[38;5;241;43m=\u001b[39;49m\u001b[43mfunction\u001b[49m\u001b[38;5;241;43m.\u001b[39;49m\u001b[43mcaptured_inputs\u001b[49m\n\u001b[1;32m    141\u001b[0m \u001b[43m\u001b[49m\u001b[43m)\u001b[49m\n",
      "File \u001b[0;32m~/anaconda3/lib/python3.10/site-packages/tensorflow/python/eager/polymorphic_function/concrete_function.py:1264\u001b[0m, in \u001b[0;36mConcreteFunction._call_flat\u001b[0;34m(self, tensor_inputs, captured_inputs)\u001b[0m\n\u001b[1;32m   1260\u001b[0m possible_gradient_type \u001b[38;5;241m=\u001b[39m gradients_util\u001b[38;5;241m.\u001b[39mPossibleTapeGradientTypes(args)\n\u001b[1;32m   1261\u001b[0m \u001b[38;5;28;01mif\u001b[39;00m (possible_gradient_type \u001b[38;5;241m==\u001b[39m gradients_util\u001b[38;5;241m.\u001b[39mPOSSIBLE_GRADIENT_TYPES_NONE\n\u001b[1;32m   1262\u001b[0m     \u001b[38;5;129;01mand\u001b[39;00m executing_eagerly):\n\u001b[1;32m   1263\u001b[0m   \u001b[38;5;66;03m# No tape is watching; skip to running the function.\u001b[39;00m\n\u001b[0;32m-> 1264\u001b[0m   \u001b[38;5;28;01mreturn\u001b[39;00m \u001b[38;5;28;43mself\u001b[39;49m\u001b[38;5;241;43m.\u001b[39;49m\u001b[43m_inference_function\u001b[49m\u001b[38;5;241;43m.\u001b[39;49m\u001b[43mflat_call\u001b[49m\u001b[43m(\u001b[49m\u001b[43margs\u001b[49m\u001b[43m)\u001b[49m\n\u001b[1;32m   1265\u001b[0m forward_backward \u001b[38;5;241m=\u001b[39m \u001b[38;5;28mself\u001b[39m\u001b[38;5;241m.\u001b[39m_select_forward_and_backward_functions(\n\u001b[1;32m   1266\u001b[0m     args,\n\u001b[1;32m   1267\u001b[0m     possible_gradient_type,\n\u001b[1;32m   1268\u001b[0m     executing_eagerly)\n\u001b[1;32m   1269\u001b[0m forward_function, args_with_tangents \u001b[38;5;241m=\u001b[39m forward_backward\u001b[38;5;241m.\u001b[39mforward()\n",
      "File \u001b[0;32m~/anaconda3/lib/python3.10/site-packages/tensorflow/python/eager/polymorphic_function/atomic_function.py:217\u001b[0m, in \u001b[0;36mAtomicFunction.flat_call\u001b[0;34m(self, args)\u001b[0m\n\u001b[1;32m    215\u001b[0m \u001b[38;5;28;01mdef\u001b[39;00m \u001b[38;5;21mflat_call\u001b[39m(\u001b[38;5;28mself\u001b[39m, args: Sequence[core\u001b[38;5;241m.\u001b[39mTensor]) \u001b[38;5;241m-\u001b[39m\u001b[38;5;241m>\u001b[39m Any:\n\u001b[1;32m    216\u001b[0m \u001b[38;5;250m  \u001b[39m\u001b[38;5;124;03m\"\"\"Calls with tensor inputs and returns the structured output.\"\"\"\u001b[39;00m\n\u001b[0;32m--> 217\u001b[0m   flat_outputs \u001b[38;5;241m=\u001b[39m \u001b[38;5;28;43mself\u001b[39;49m\u001b[43m(\u001b[49m\u001b[38;5;241;43m*\u001b[39;49m\u001b[43margs\u001b[49m\u001b[43m)\u001b[49m\n\u001b[1;32m    218\u001b[0m   \u001b[38;5;28;01mreturn\u001b[39;00m \u001b[38;5;28mself\u001b[39m\u001b[38;5;241m.\u001b[39mfunction_type\u001b[38;5;241m.\u001b[39mpack_output(flat_outputs)\n",
      "File \u001b[0;32m~/anaconda3/lib/python3.10/site-packages/tensorflow/python/eager/polymorphic_function/atomic_function.py:252\u001b[0m, in \u001b[0;36mAtomicFunction.__call__\u001b[0;34m(self, *args)\u001b[0m\n\u001b[1;32m    250\u001b[0m \u001b[38;5;28;01mwith\u001b[39;00m record\u001b[38;5;241m.\u001b[39mstop_recording():\n\u001b[1;32m    251\u001b[0m   \u001b[38;5;28;01mif\u001b[39;00m \u001b[38;5;28mself\u001b[39m\u001b[38;5;241m.\u001b[39m_bound_context\u001b[38;5;241m.\u001b[39mexecuting_eagerly():\n\u001b[0;32m--> 252\u001b[0m     outputs \u001b[38;5;241m=\u001b[39m \u001b[38;5;28;43mself\u001b[39;49m\u001b[38;5;241;43m.\u001b[39;49m\u001b[43m_bound_context\u001b[49m\u001b[38;5;241;43m.\u001b[39;49m\u001b[43mcall_function\u001b[49m\u001b[43m(\u001b[49m\n\u001b[1;32m    253\u001b[0m \u001b[43m        \u001b[49m\u001b[38;5;28;43mself\u001b[39;49m\u001b[38;5;241;43m.\u001b[39;49m\u001b[43mname\u001b[49m\u001b[43m,\u001b[49m\n\u001b[1;32m    254\u001b[0m \u001b[43m        \u001b[49m\u001b[38;5;28;43mlist\u001b[39;49m\u001b[43m(\u001b[49m\u001b[43margs\u001b[49m\u001b[43m)\u001b[49m\u001b[43m,\u001b[49m\n\u001b[1;32m    255\u001b[0m \u001b[43m        \u001b[49m\u001b[38;5;28;43mlen\u001b[39;49m\u001b[43m(\u001b[49m\u001b[38;5;28;43mself\u001b[39;49m\u001b[38;5;241;43m.\u001b[39;49m\u001b[43mfunction_type\u001b[49m\u001b[38;5;241;43m.\u001b[39;49m\u001b[43mflat_outputs\u001b[49m\u001b[43m)\u001b[49m\u001b[43m,\u001b[49m\n\u001b[1;32m    256\u001b[0m \u001b[43m    \u001b[49m\u001b[43m)\u001b[49m\n\u001b[1;32m    257\u001b[0m   \u001b[38;5;28;01melse\u001b[39;00m:\n\u001b[1;32m    258\u001b[0m     outputs \u001b[38;5;241m=\u001b[39m make_call_op_in_graph(\n\u001b[1;32m    259\u001b[0m         \u001b[38;5;28mself\u001b[39m,\n\u001b[1;32m    260\u001b[0m         \u001b[38;5;28mlist\u001b[39m(args),\n\u001b[1;32m    261\u001b[0m         \u001b[38;5;28mself\u001b[39m\u001b[38;5;241m.\u001b[39m_bound_context\u001b[38;5;241m.\u001b[39mfunction_call_options\u001b[38;5;241m.\u001b[39mas_attrs(),\n\u001b[1;32m    262\u001b[0m     )\n",
      "File \u001b[0;32m~/anaconda3/lib/python3.10/site-packages/tensorflow/python/eager/context.py:1479\u001b[0m, in \u001b[0;36mContext.call_function\u001b[0;34m(self, name, tensor_inputs, num_outputs)\u001b[0m\n\u001b[1;32m   1477\u001b[0m cancellation_context \u001b[38;5;241m=\u001b[39m cancellation\u001b[38;5;241m.\u001b[39mcontext()\n\u001b[1;32m   1478\u001b[0m \u001b[38;5;28;01mif\u001b[39;00m cancellation_context \u001b[38;5;129;01mis\u001b[39;00m \u001b[38;5;28;01mNone\u001b[39;00m:\n\u001b[0;32m-> 1479\u001b[0m   outputs \u001b[38;5;241m=\u001b[39m \u001b[43mexecute\u001b[49m\u001b[38;5;241;43m.\u001b[39;49m\u001b[43mexecute\u001b[49m\u001b[43m(\u001b[49m\n\u001b[1;32m   1480\u001b[0m \u001b[43m      \u001b[49m\u001b[43mname\u001b[49m\u001b[38;5;241;43m.\u001b[39;49m\u001b[43mdecode\u001b[49m\u001b[43m(\u001b[49m\u001b[38;5;124;43m\"\u001b[39;49m\u001b[38;5;124;43mutf-8\u001b[39;49m\u001b[38;5;124;43m\"\u001b[39;49m\u001b[43m)\u001b[49m\u001b[43m,\u001b[49m\n\u001b[1;32m   1481\u001b[0m \u001b[43m      \u001b[49m\u001b[43mnum_outputs\u001b[49m\u001b[38;5;241;43m=\u001b[39;49m\u001b[43mnum_outputs\u001b[49m\u001b[43m,\u001b[49m\n\u001b[1;32m   1482\u001b[0m \u001b[43m      \u001b[49m\u001b[43minputs\u001b[49m\u001b[38;5;241;43m=\u001b[39;49m\u001b[43mtensor_inputs\u001b[49m\u001b[43m,\u001b[49m\n\u001b[1;32m   1483\u001b[0m \u001b[43m      \u001b[49m\u001b[43mattrs\u001b[49m\u001b[38;5;241;43m=\u001b[39;49m\u001b[43mattrs\u001b[49m\u001b[43m,\u001b[49m\n\u001b[1;32m   1484\u001b[0m \u001b[43m      \u001b[49m\u001b[43mctx\u001b[49m\u001b[38;5;241;43m=\u001b[39;49m\u001b[38;5;28;43mself\u001b[39;49m\u001b[43m,\u001b[49m\n\u001b[1;32m   1485\u001b[0m \u001b[43m  \u001b[49m\u001b[43m)\u001b[49m\n\u001b[1;32m   1486\u001b[0m \u001b[38;5;28;01melse\u001b[39;00m:\n\u001b[1;32m   1487\u001b[0m   outputs \u001b[38;5;241m=\u001b[39m execute\u001b[38;5;241m.\u001b[39mexecute_with_cancellation(\n\u001b[1;32m   1488\u001b[0m       name\u001b[38;5;241m.\u001b[39mdecode(\u001b[38;5;124m\"\u001b[39m\u001b[38;5;124mutf-8\u001b[39m\u001b[38;5;124m\"\u001b[39m),\n\u001b[1;32m   1489\u001b[0m       num_outputs\u001b[38;5;241m=\u001b[39mnum_outputs,\n\u001b[0;32m   (...)\u001b[0m\n\u001b[1;32m   1493\u001b[0m       cancellation_manager\u001b[38;5;241m=\u001b[39mcancellation_context,\n\u001b[1;32m   1494\u001b[0m   )\n",
      "File \u001b[0;32m~/anaconda3/lib/python3.10/site-packages/tensorflow/python/eager/execute.py:60\u001b[0m, in \u001b[0;36mquick_execute\u001b[0;34m(op_name, num_outputs, inputs, attrs, ctx, name)\u001b[0m\n\u001b[1;32m     53\u001b[0m   \u001b[38;5;66;03m# Convert any objects of type core_types.Tensor to Tensor.\u001b[39;00m\n\u001b[1;32m     54\u001b[0m   inputs \u001b[38;5;241m=\u001b[39m [\n\u001b[1;32m     55\u001b[0m       tensor_conversion_registry\u001b[38;5;241m.\u001b[39mconvert(t)\n\u001b[1;32m     56\u001b[0m       \u001b[38;5;28;01mif\u001b[39;00m \u001b[38;5;28misinstance\u001b[39m(t, core_types\u001b[38;5;241m.\u001b[39mTensor)\n\u001b[1;32m     57\u001b[0m       \u001b[38;5;28;01melse\u001b[39;00m t\n\u001b[1;32m     58\u001b[0m       \u001b[38;5;28;01mfor\u001b[39;00m t \u001b[38;5;129;01min\u001b[39;00m inputs\n\u001b[1;32m     59\u001b[0m   ]\n\u001b[0;32m---> 60\u001b[0m   tensors \u001b[38;5;241m=\u001b[39m \u001b[43mpywrap_tfe\u001b[49m\u001b[38;5;241;43m.\u001b[39;49m\u001b[43mTFE_Py_Execute\u001b[49m\u001b[43m(\u001b[49m\u001b[43mctx\u001b[49m\u001b[38;5;241;43m.\u001b[39;49m\u001b[43m_handle\u001b[49m\u001b[43m,\u001b[49m\u001b[43m \u001b[49m\u001b[43mdevice_name\u001b[49m\u001b[43m,\u001b[49m\u001b[43m \u001b[49m\u001b[43mop_name\u001b[49m\u001b[43m,\u001b[49m\n\u001b[1;32m     61\u001b[0m \u001b[43m                                      \u001b[49m\u001b[43minputs\u001b[49m\u001b[43m,\u001b[49m\u001b[43m \u001b[49m\u001b[43mattrs\u001b[49m\u001b[43m,\u001b[49m\u001b[43m \u001b[49m\u001b[43mnum_outputs\u001b[49m\u001b[43m)\u001b[49m\n\u001b[1;32m     62\u001b[0m \u001b[38;5;28;01mexcept\u001b[39;00m core\u001b[38;5;241m.\u001b[39m_NotOkStatusException \u001b[38;5;28;01mas\u001b[39;00m e:\n\u001b[1;32m     63\u001b[0m   \u001b[38;5;28;01mif\u001b[39;00m name \u001b[38;5;129;01mis\u001b[39;00m \u001b[38;5;129;01mnot\u001b[39;00m \u001b[38;5;28;01mNone\u001b[39;00m:\n",
      "\u001b[0;31mKeyboardInterrupt\u001b[0m: "
     ]
    }
   ],
   "source": [
    "history = adversary.fit(adv_X, adv_y, batch_size=32, epochs=35, validation_data=(adv_X_test, adv_y_test))"
   ]
  },
  {
   "cell_type": "code",
   "execution_count": null,
   "id": "68ac14eebed1f3b1",
   "metadata": {
    "ExecuteTime": {
     "start_time": "2023-11-08T11:39:17.310702382Z"
    },
    "collapsed": false
   },
   "outputs": [],
   "source": [
    "import matplotlib.pyplot as plt\n",
    "plt.plot(history.history['r2_score'][2:])\n",
    "plt.plot(history.history['val_r2_score'][2:])\n",
    "plt.title('r_2 score')\n",
    "plt.ylabel('r_2 score')\n",
    "plt.xlabel('epoch')\n",
    "plt.legend(['train', 'test'], loc='upper left')\n",
    "plt.show()"
   ]
  },
  {
   "cell_type": "markdown",
   "id": "f8388ef1087ea205",
   "metadata": {
    "collapsed": false
   },
   "source": [
    "# Test adversary"
   ]
  },
  {
   "cell_type": "code",
   "execution_count": 57,
   "id": "64a8f2fa7819614b",
   "metadata": {
    "ExecuteTime": {
     "end_time": "2023-11-02T16:34:41.473825170Z",
     "start_time": "2023-11-02T16:34:41.265126951Z"
    },
    "collapsed": false
   },
   "outputs": [
    {
     "name": "stdout",
     "output_type": "stream",
     "text": [
      "12/12 [==============================] - 0s 3ms/step\n"
     ]
    },
    {
     "data": {
      "text/plain": [
       "array([[0.34756607],\n",
       "       [0.310765  ],\n",
       "       [0.13715464],\n",
       "       [0.13715464],\n",
       "       [0.13715464],\n",
       "       [0.13715464],\n",
       "       [0.13715464],\n",
       "       [0.41757518],\n",
       "       [0.461295  ],\n",
       "       [0.4181632 ],\n",
       "       [0.13715464],\n",
       "       [0.3885456 ],\n",
       "       [0.13715464],\n",
       "       [0.30243465],\n",
       "       [0.13715464],\n",
       "       [0.13715464],\n",
       "       [0.13715464],\n",
       "       [0.44990423],\n",
       "       [0.13715464],\n",
       "       [0.43688378],\n",
       "       [0.13715464],\n",
       "       [0.19284597],\n",
       "       [0.13715464],\n",
       "       [0.13715464],\n",
       "       [0.13715464],\n",
       "       [0.13715464],\n",
       "       [0.15292755],\n",
       "       [0.51699376],\n",
       "       [0.13715464],\n",
       "       [0.3923154 ],\n",
       "       [0.13715464],\n",
       "       [0.357183  ],\n",
       "       [0.13715464],\n",
       "       [0.13715464],\n",
       "       [0.402241  ],\n",
       "       [0.13715464],\n",
       "       [0.13715464],\n",
       "       [0.13715464],\n",
       "       [0.39584696],\n",
       "       [0.13715464],\n",
       "       [0.47867584],\n",
       "       [0.26795936],\n",
       "       [0.13715464],\n",
       "       [0.40313554],\n",
       "       [0.27763504],\n",
       "       [0.13715464],\n",
       "       [0.26378193],\n",
       "       [0.13715464],\n",
       "       [0.13715464],\n",
       "       [0.13715464],\n",
       "       [0.13715464],\n",
       "       [0.32008228],\n",
       "       [0.33906204],\n",
       "       [0.43438596],\n",
       "       [0.13715464],\n",
       "       [0.13715464],\n",
       "       [0.30169842],\n",
       "       [0.13715464],\n",
       "       [0.32728073],\n",
       "       [0.13715464],\n",
       "       [0.59868836],\n",
       "       [0.13715464],\n",
       "       [0.41156104],\n",
       "       [0.26288223],\n",
       "       [0.13715464],\n",
       "       [0.4363566 ],\n",
       "       [0.1436024 ],\n",
       "       [0.13715464],\n",
       "       [0.43503514],\n",
       "       [0.28121948],\n",
       "       [0.3704043 ],\n",
       "       [0.42912906],\n",
       "       [0.13715464],\n",
       "       [0.13715464],\n",
       "       [0.5059618 ],\n",
       "       [0.44450003],\n",
       "       [0.13715464],\n",
       "       [0.51879066],\n",
       "       [0.44378412],\n",
       "       [0.2667886 ],\n",
       "       [0.13715464],\n",
       "       [0.13715464],\n",
       "       [0.41056424],\n",
       "       [0.26130292],\n",
       "       [0.40477595],\n",
       "       [0.4852958 ],\n",
       "       [0.44743815],\n",
       "       [0.13715464],\n",
       "       [0.13715464],\n",
       "       [0.13715464],\n",
       "       [0.13715464],\n",
       "       [0.13715464],\n",
       "       [0.13715464],\n",
       "       [0.5148595 ],\n",
       "       [0.13715464],\n",
       "       [0.13715464],\n",
       "       [0.4072751 ],\n",
       "       [0.13715464],\n",
       "       [0.13715464],\n",
       "       [0.23888698],\n",
       "       [0.13715464],\n",
       "       [0.13715464],\n",
       "       [0.42078122],\n",
       "       [0.49920365],\n",
       "       [0.13715464],\n",
       "       [0.13715464],\n",
       "       [0.3150366 ],\n",
       "       [0.13715464],\n",
       "       [0.13715464],\n",
       "       [0.13715464],\n",
       "       [0.4094721 ],\n",
       "       [0.13715464],\n",
       "       [0.13715464],\n",
       "       [0.13715464],\n",
       "       [0.13715464],\n",
       "       [0.20880052],\n",
       "       [0.13715464],\n",
       "       [0.13715464],\n",
       "       [0.13715464],\n",
       "       [0.53556406],\n",
       "       [0.13715464],\n",
       "       [0.1599919 ],\n",
       "       [0.13715464],\n",
       "       [0.5043069 ],\n",
       "       [0.13715464],\n",
       "       [0.13715464],\n",
       "       [0.13715464],\n",
       "       [0.18002582],\n",
       "       [0.13715464],\n",
       "       [0.13715464],\n",
       "       [0.33771402],\n",
       "       [0.37876934],\n",
       "       [0.13715464],\n",
       "       [0.13715464],\n",
       "       [0.28155163],\n",
       "       [0.13715464],\n",
       "       [0.17307924],\n",
       "       [0.525577  ],\n",
       "       [0.42389005],\n",
       "       [0.2961681 ],\n",
       "       [0.13715464],\n",
       "       [0.13715464],\n",
       "       [0.13715464],\n",
       "       [0.13715464],\n",
       "       [0.3633027 ],\n",
       "       [0.13715464],\n",
       "       [0.48171023],\n",
       "       [0.13715464],\n",
       "       [0.376041  ],\n",
       "       [0.36933148],\n",
       "       [0.13715464],\n",
       "       [0.35160762],\n",
       "       [0.18146817],\n",
       "       [0.3440049 ],\n",
       "       [0.13715464],\n",
       "       [0.36587286],\n",
       "       [0.13715464],\n",
       "       [0.45001614],\n",
       "       [0.39768383],\n",
       "       [0.13715464],\n",
       "       [0.13715464],\n",
       "       [0.13715464],\n",
       "       [0.36089212],\n",
       "       [0.31226906],\n",
       "       [0.23209098],\n",
       "       [0.13715464],\n",
       "       [0.13715464],\n",
       "       [0.13715464],\n",
       "       [0.5345252 ],\n",
       "       [0.13715464],\n",
       "       [0.3397557 ],\n",
       "       [0.13715464],\n",
       "       [0.33463067],\n",
       "       [0.31935775],\n",
       "       [0.13715464],\n",
       "       [0.13715464],\n",
       "       [0.20134735],\n",
       "       [0.13715464],\n",
       "       [0.25605372],\n",
       "       [0.13715464],\n",
       "       [0.13715464],\n",
       "       [0.13715464],\n",
       "       [0.31950372],\n",
       "       [0.33044255],\n",
       "       [0.44769078],\n",
       "       [0.47382438],\n",
       "       [0.22485432],\n",
       "       [0.13715464],\n",
       "       [0.13715464],\n",
       "       [0.13715464],\n",
       "       [0.13715464],\n",
       "       [0.13715464],\n",
       "       [0.19103912],\n",
       "       [0.13715464],\n",
       "       [0.13715464],\n",
       "       [0.13715464],\n",
       "       [0.13715464],\n",
       "       [0.13715464],\n",
       "       [0.13715464],\n",
       "       [0.43897894],\n",
       "       [0.13715464],\n",
       "       [0.13715464],\n",
       "       [0.2757758 ],\n",
       "       [0.13715464],\n",
       "       [0.13715464],\n",
       "       [0.13715464],\n",
       "       [0.31947482],\n",
       "       [0.13715464],\n",
       "       [0.39959246],\n",
       "       [0.13715464],\n",
       "       [0.33312064],\n",
       "       [0.25279152],\n",
       "       [0.39008936],\n",
       "       [0.13715464],\n",
       "       [0.13715464],\n",
       "       [0.3440308 ],\n",
       "       [0.26882595],\n",
       "       [0.32611668],\n",
       "       [0.13715464],\n",
       "       [0.15154111],\n",
       "       [0.31772935],\n",
       "       [0.13715464],\n",
       "       [0.372146  ],\n",
       "       [0.20390779],\n",
       "       [0.34423646],\n",
       "       [0.13715464],\n",
       "       [0.35821876],\n",
       "       [0.13715464],\n",
       "       [0.13715464],\n",
       "       [0.4203307 ],\n",
       "       [0.2975296 ],\n",
       "       [0.13715464],\n",
       "       [0.13715464],\n",
       "       [0.5065253 ],\n",
       "       [0.39395133],\n",
       "       [0.13715464],\n",
       "       [0.13715464],\n",
       "       [0.30493087],\n",
       "       [0.19444498],\n",
       "       [0.48046353],\n",
       "       [0.27620852],\n",
       "       [0.13715464],\n",
       "       [0.28329217],\n",
       "       [0.13715464],\n",
       "       [0.13715464],\n",
       "       [0.4057319 ],\n",
       "       [0.42363435],\n",
       "       [0.13715464],\n",
       "       [0.13715464],\n",
       "       [0.3969875 ],\n",
       "       [0.13715464],\n",
       "       [0.26627815],\n",
       "       [0.49840593],\n",
       "       [0.13715464],\n",
       "       [0.13715464],\n",
       "       [0.15233654],\n",
       "       [0.13715464],\n",
       "       [0.15433964],\n",
       "       [0.36119977],\n",
       "       [0.15310735],\n",
       "       [0.13715464],\n",
       "       [0.13715464],\n",
       "       [0.27298796],\n",
       "       [0.24041352],\n",
       "       [0.13715464],\n",
       "       [0.30352855],\n",
       "       [0.13715464],\n",
       "       [0.3271364 ],\n",
       "       [0.13715464],\n",
       "       [0.42483017],\n",
       "       [0.13715464],\n",
       "       [0.3937822 ],\n",
       "       [0.13715464],\n",
       "       [0.26240498],\n",
       "       [0.43859568],\n",
       "       [0.13715464],\n",
       "       [0.43354604],\n",
       "       [0.13715464],\n",
       "       [0.13715464],\n",
       "       [0.27956975],\n",
       "       [0.3290671 ],\n",
       "       [0.30731553],\n",
       "       [0.13715464],\n",
       "       [0.13715464],\n",
       "       [0.3803915 ],\n",
       "       [0.13715464],\n",
       "       [0.13715464],\n",
       "       [0.30819833],\n",
       "       [0.37048995],\n",
       "       [0.13715464],\n",
       "       [0.5002626 ],\n",
       "       [0.13715464],\n",
       "       [0.14910989],\n",
       "       [0.35299775],\n",
       "       [0.23283967],\n",
       "       [0.13715464],\n",
       "       [0.13715464],\n",
       "       [0.13715464],\n",
       "       [0.18766707],\n",
       "       [0.2914749 ],\n",
       "       [0.13715464],\n",
       "       [0.13715464],\n",
       "       [0.2986051 ],\n",
       "       [0.3996221 ],\n",
       "       [0.13715464],\n",
       "       [0.13715464],\n",
       "       [0.2182172 ],\n",
       "       [0.44874835],\n",
       "       [0.13715464],\n",
       "       [0.13715464],\n",
       "       [0.13715464],\n",
       "       [0.13715464],\n",
       "       [0.31668168],\n",
       "       [0.13715464],\n",
       "       [0.37048835],\n",
       "       [0.13715464],\n",
       "       [0.13715464],\n",
       "       [0.13715464],\n",
       "       [0.20709313],\n",
       "       [0.13715464],\n",
       "       [0.4219639 ],\n",
       "       [0.13715464],\n",
       "       [0.46136385],\n",
       "       [0.13715464],\n",
       "       [0.13715464],\n",
       "       [0.13715464],\n",
       "       [0.45063332],\n",
       "       [0.31633773],\n",
       "       [0.30557662],\n",
       "       [0.39572895],\n",
       "       [0.2840588 ],\n",
       "       [0.13715464],\n",
       "       [0.32159287],\n",
       "       [0.13715464],\n",
       "       [0.32005957],\n",
       "       [0.3206181 ],\n",
       "       [0.13715464],\n",
       "       [0.13715464],\n",
       "       [0.13715464],\n",
       "       [0.24333014],\n",
       "       [0.35951456],\n",
       "       [0.13715464],\n",
       "       [0.13715464],\n",
       "       [0.19602115],\n",
       "       [0.31050694],\n",
       "       [0.3693813 ],\n",
       "       [0.33868745],\n",
       "       [0.13715464],\n",
       "       [0.23911801],\n",
       "       [0.5026661 ],\n",
       "       [0.13715464],\n",
       "       [0.13715464],\n",
       "       [0.13715464],\n",
       "       [0.46773937],\n",
       "       [0.13715464],\n",
       "       [0.5135796 ],\n",
       "       [0.26470998],\n",
       "       [0.13715464],\n",
       "       [0.508718  ],\n",
       "       [0.13715464]], dtype=float32)"
      ]
     },
     "execution_count": 57,
     "metadata": {},
     "output_type": "execute_result"
    }
   ],
   "source": [
    "adversary.predict(adv_X_test)"
   ]
  },
  {
   "cell_type": "code",
   "execution_count": 54,
   "id": "57a281ccdfca4382",
   "metadata": {
    "ExecuteTime": {
     "end_time": "2023-11-02T16:33:46.092700833Z",
     "start_time": "2023-11-02T16:33:46.071360597Z"
    },
    "collapsed": false
   },
   "outputs": [
    {
     "data": {
      "text/plain": [
       "0      0.7\n",
       "1      0.8\n",
       "2      0.3\n",
       "3      0.4\n",
       "4      0.5\n",
       "      ... \n",
       "355    0.6\n",
       "356    0.7\n",
       "357    0.2\n",
       "358    0.6\n",
       "359    0.1\n",
       "Name: y, Length: 360, dtype: float64"
      ]
     },
     "execution_count": 54,
     "metadata": {},
     "output_type": "execute_result"
    }
   ],
   "source": [
    "adv_y_test"
   ]
  },
  {
   "cell_type": "code",
   "execution_count": 56,
   "id": "eb69675f6aa542fd",
   "metadata": {
    "ExecuteTime": {
     "end_time": "2023-11-02T16:34:36.130626316Z",
     "start_time": "2023-11-02T16:34:35.911004092Z"
    },
    "collapsed": false
   },
   "outputs": [
    {
     "name": "stdout",
     "output_type": "stream",
     "text": [
      "12/12 [==============================] - 0s 2ms/step - loss: 0.1012\n"
     ]
    },
    {
     "data": {
      "text/plain": [
       "0.10118263214826584"
      ]
     },
     "execution_count": 56,
     "metadata": {},
     "output_type": "execute_result"
    }
   ],
   "source": [
    "adversary.evaluate(adv_X_test, adv_y_test)#, adv_y_test)"
   ]
  },
  {
   "cell_type": "code",
   "execution_count": 79,
   "id": "b46ef5956a55a615",
   "metadata": {
    "ExecuteTime": {
     "end_time": "2023-11-02T09:53:33.952649657Z",
     "start_time": "2023-11-02T09:53:33.941640016Z"
    },
    "collapsed": false
   },
   "outputs": [
    {
     "data": {
      "text/plain": [
       "0      0.9\n",
       "1      0.8\n",
       "2      0.4\n",
       "3      0.2\n",
       "4      0.1\n",
       "      ... \n",
       "445    0.6\n",
       "446    0.2\n",
       "447    0.8\n",
       "448    0.5\n",
       "449    0.1\n",
       "Name: y, Length: 450, dtype: float64"
      ]
     },
     "execution_count": 79,
     "metadata": {},
     "output_type": "execute_result"
    }
   ],
   "source": [
    "adv_y_test"
   ]
  },
  {
   "cell_type": "markdown",
   "id": "ca7f74456ef02429",
   "metadata": {
    "collapsed": false
   },
   "source": [
    "### Next steps\n",
    "* Use adversary during training"
   ]
  },
  {
   "cell_type": "code",
   "execution_count": 130,
   "id": "891ebfee697bab39",
   "metadata": {
    "ExecuteTime": {
     "start_time": "2023-11-08T11:01:55.769151441Z"
    },
    "collapsed": false
   },
   "outputs": [
    {
     "data": {
      "text/plain": [
       "-0.027966356472107767"
      ]
     },
     "execution_count": 130,
     "metadata": {},
     "output_type": "execute_result"
    }
   ],
   "source": [
    "from sklearn.ensemble import GradientBoostingRegressor\n",
    "gb = GradientBoostingRegressor()\n",
    "gb.fit(adv_X, adv_y)\n",
    "gb.score(adv_X_test, adv_y_test)"
   ]
  },
  {
   "cell_type": "markdown",
   "id": "ac7861d95cdcba85",
   "metadata": {
    "collapsed": false
   },
   "source": [
    "### (Data set analysis)"
   ]
  },
  {
   "cell_type": "code",
   "execution_count": null,
   "id": "23dd121bbeca4944",
   "metadata": {
    "collapsed": false
   },
   "outputs": [],
   "source": [
    "import ydata_profiling\n",
    "\n",
    "ydata_profiling.ProfileReport(X_test)"
   ]
  },
  {
   "cell_type": "code",
   "execution_count": null,
   "id": "5e83d6cc0260faf0",
   "metadata": {
    "collapsed": false
   },
   "outputs": [],
   "source": [
    "# RANDOM DS\n",
    "random_dict = {}\n",
    "for attr in ds.X_train:\n",
    "    print(f'{round(X_train_pr[attr].min(),2)} {round(X_train_pr[attr].max(),2)}')\n",
    "    random_attr = np.random.rand(random_length)*(X_train_pr[attr].max()+abs(X_train_pr[attr].min()))-abs(X_train_pr[attr].min())\n",
    "    random_dict[attr] = random_attr"
   ]
  },
  {
   "cell_type": "code",
   "execution_count": null,
   "id": "3c7d705447fbbf00",
   "metadata": {
    "collapsed": false
   },
   "outputs": [],
   "source": [
    "random_ds = pd.DataFrame(random_dict)"
   ]
  }
 ],
 "metadata": {
  "kernelspec": {
   "display_name": "Python 3 (ipykernel)",
   "language": "python",
   "name": "python3"
  },
  "language_info": {
   "codemirror_mode": {
    "name": "ipython",
    "version": 2
   },
   "file_extension": ".py",
   "mimetype": "text/x-python",
   "name": "python",
   "nbconvert_exporter": "python",
   "pygments_lexer": "ipython2",
   "version": "2.7.6"
  }
 },
 "nbformat": 4,
 "nbformat_minor": 5
}
