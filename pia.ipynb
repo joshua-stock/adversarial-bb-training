{
 "cells": [
  {
   "cell_type": "code",
   "execution_count": null,
   "outputs": [],
   "source": [
    "!pip install \"matplotlib>=3.2,<=3.7.3\"\n",
    "!pip install \"ydata-profiling>4.4,<4.5\"\n",
    "!pip install tensorflow sdv"
   ],
   "metadata": {
    "collapsed": false
   },
   "id": "73423984ecbf2895"
  },
  {
   "cell_type": "code",
   "execution_count": 1,
   "outputs": [
    {
     "name": "stderr",
     "output_type": "stream",
     "text": [
      "2023-11-02 17:48:30.346434: I tensorflow/tsl/cuda/cudart_stub.cc:28] Could not find cuda drivers on your machine, GPU will not be used.\n",
      "2023-11-02 17:48:30.381679: E tensorflow/compiler/xla/stream_executor/cuda/cuda_dnn.cc:9342] Unable to register cuDNN factory: Attempting to register factory for plugin cuDNN when one has already been registered\n",
      "2023-11-02 17:48:30.381709: E tensorflow/compiler/xla/stream_executor/cuda/cuda_fft.cc:609] Unable to register cuFFT factory: Attempting to register factory for plugin cuFFT when one has already been registered\n",
      "2023-11-02 17:48:30.381736: E tensorflow/compiler/xla/stream_executor/cuda/cuda_blas.cc:1518] Unable to register cuBLAS factory: Attempting to register factory for plugin cuBLAS when one has already been registered\n",
      "2023-11-02 17:48:30.387763: I tensorflow/tsl/cuda/cudart_stub.cc:28] Could not find cuda drivers on your machine, GPU will not be used.\n",
      "2023-11-02 17:48:30.388113: I tensorflow/core/platform/cpu_feature_guard.cc:182] This TensorFlow binary is optimized to use available CPU instructions in performance-critical operations.\n",
      "To enable the following instructions: AVX2 FMA, in other operations, rebuild TensorFlow with the appropriate compiler flags.\n",
      "2023-11-02 17:48:31.315271: W tensorflow/compiler/tf2tensorrt/utils/py_utils.cc:38] TF-TRT Warning: Could not find TensorRT\n"
     ]
    }
   ],
   "source": [
    "import pandas as pd\n",
    "import numpy as np\n",
    "from tensorflow import keras"
   ],
   "metadata": {
    "collapsed": false,
    "ExecuteTime": {
     "end_time": "2023-11-02T16:48:32.702103694Z",
     "start_time": "2023-11-02T16:48:29.895876478Z"
    }
   },
   "id": "4d2c52b6448e4205"
  },
  {
   "cell_type": "markdown",
   "source": [
    "## Ideas\n",
    "\n",
    "If adversary does not work, predict -> predict_proba to get more information"
   ],
   "metadata": {
    "collapsed": false
   },
   "id": "8cef951ab940b36f"
  },
  {
   "cell_type": "code",
   "execution_count": 2,
   "outputs": [],
   "source": [
    "from sdv.single_table import CTGANSynthesizer\n",
    "from sdv.metadata import SingleTableMetadata\n",
    "from pia_functions import data_train_test, get_distributed_adult_sets, generate_shadow_model_outputs, train_gradient_boosting_shadow_model"
   ],
   "metadata": {
    "collapsed": false,
    "ExecuteTime": {
     "end_time": "2023-11-02T16:48:34.788886071Z",
     "start_time": "2023-11-02T16:48:32.698448368Z"
    }
   },
   "id": "initial_id"
  },
  {
   "cell_type": "markdown",
   "source": [
    "### Generate training data for shadow models"
   ],
   "metadata": {
    "collapsed": false
   },
   "id": "6491152df6e7f325"
  },
  {
   "cell_type": "code",
   "execution_count": null,
   "outputs": [],
   "source": [
    "n_shadow_models=200\n",
    "distributions=[0.1, 0.2, 0.3, 0.4, 0.5, 0.6, 0.7, 0.8, 0.9]"
   ],
   "metadata": {
    "collapsed": false
   },
   "id": "8cf0633c8de98074"
  },
  {
   "cell_type": "code",
   "execution_count": 23,
   "outputs": [],
   "source": [
    "X_train, X_test, y_train, y_test, sensitive, sensitive_t = data_train_test()"
   ],
   "metadata": {
    "collapsed": false,
    "ExecuteTime": {
     "end_time": "2023-11-02T16:24:40.911841937Z",
     "start_time": "2023-11-02T16:24:40.342020705Z"
    }
   },
   "id": "adde3f38057445c0"
  },
  {
   "cell_type": "code",
   "execution_count": 13,
   "outputs": [
    {
     "data": {
      "text/plain": "      Unnamed: 0         0         1    2         3    4    5    6    7    8  \\\n0              0  0.312424  0.000000  0.0  0.094047  0.0  0.0  0.0  0.0  1.0   \n1              1  0.397083  0.004028  0.0  0.399298  0.0  0.0  0.0  0.0  1.0   \n2              2  0.801682  0.000000  0.0  0.499176  0.0  0.0  0.0  0.0  1.0   \n3              3  0.421440  0.003712  0.0  0.394823  0.0  0.0  0.0  0.0  0.0   \n4              4  0.419976  0.000000  0.0  0.392910  0.0  0.0  0.0  0.0  1.0   \n...          ...       ...       ...  ...       ...  ...  ...  ...  ...  ...   \n9995        9995  0.817372  0.000000  0.0  0.398106  0.0  0.0  0.0  0.0  1.0   \n9996        9996  0.534707  0.000000  0.0  0.393522  0.0  0.0  0.0  0.0  0.0   \n9997        9997  0.794512  0.160842  0.0  0.402341  0.0  0.0  0.0  0.0  1.0   \n9998        9998  0.213765  0.003364  0.0  0.397423  0.0  0.0  1.0  0.0  1.0   \n9999        9999  0.780324  0.000000  0.0  0.394290  0.0  0.0  0.0  0.0  1.0   \n\n      ...   69   70   71   72   73   74   75   76   77   78  \n0     ...  0.0  0.0  0.0  0.0  0.0  0.0  1.0  0.0  0.0  1.0  \n1     ...  0.0  0.0  0.0  0.0  0.0  0.0  1.0  0.0  0.0  1.0  \n2     ...  0.0  0.0  0.0  0.0  0.0  0.0  0.0  0.0  0.0  1.0  \n3     ...  0.0  1.0  0.0  0.0  0.0  0.0  0.0  0.0  0.0  1.0  \n4     ...  0.0  0.0  0.0  1.0  0.0  0.0  0.0  0.0  1.0  1.0  \n...   ...  ...  ...  ...  ...  ...  ...  ...  ...  ...  ...  \n9995  ...  0.0  0.0  0.0  0.0  0.0  0.0  0.0  0.0  0.0  1.0  \n9996  ...  0.0  0.0  0.0  0.0  0.0  0.0  0.0  0.0  1.0  1.0  \n9997  ...  0.0  0.0  0.0  0.0  0.0  0.0  0.0  0.0  0.0  1.0  \n9998  ...  0.0  1.0  0.0  0.0  0.0  0.0  1.0  0.0  1.0  0.0  \n9999  ...  0.0  1.0  0.0  0.0  0.0  0.0  0.0  0.0  1.0  1.0  \n\n[10000 rows x 80 columns]",
      "text/html": "<div>\n<style scoped>\n    .dataframe tbody tr th:only-of-type {\n        vertical-align: middle;\n    }\n\n    .dataframe tbody tr th {\n        vertical-align: top;\n    }\n\n    .dataframe thead th {\n        text-align: right;\n    }\n</style>\n<table border=\"1\" class=\"dataframe\">\n  <thead>\n    <tr style=\"text-align: right;\">\n      <th></th>\n      <th>Unnamed: 0</th>\n      <th>0</th>\n      <th>1</th>\n      <th>2</th>\n      <th>3</th>\n      <th>4</th>\n      <th>5</th>\n      <th>6</th>\n      <th>7</th>\n      <th>8</th>\n      <th>...</th>\n      <th>69</th>\n      <th>70</th>\n      <th>71</th>\n      <th>72</th>\n      <th>73</th>\n      <th>74</th>\n      <th>75</th>\n      <th>76</th>\n      <th>77</th>\n      <th>78</th>\n    </tr>\n  </thead>\n  <tbody>\n    <tr>\n      <th>0</th>\n      <td>0</td>\n      <td>0.312424</td>\n      <td>0.000000</td>\n      <td>0.0</td>\n      <td>0.094047</td>\n      <td>0.0</td>\n      <td>0.0</td>\n      <td>0.0</td>\n      <td>0.0</td>\n      <td>1.0</td>\n      <td>...</td>\n      <td>0.0</td>\n      <td>0.0</td>\n      <td>0.0</td>\n      <td>0.0</td>\n      <td>0.0</td>\n      <td>0.0</td>\n      <td>1.0</td>\n      <td>0.0</td>\n      <td>0.0</td>\n      <td>1.0</td>\n    </tr>\n    <tr>\n      <th>1</th>\n      <td>1</td>\n      <td>0.397083</td>\n      <td>0.004028</td>\n      <td>0.0</td>\n      <td>0.399298</td>\n      <td>0.0</td>\n      <td>0.0</td>\n      <td>0.0</td>\n      <td>0.0</td>\n      <td>1.0</td>\n      <td>...</td>\n      <td>0.0</td>\n      <td>0.0</td>\n      <td>0.0</td>\n      <td>0.0</td>\n      <td>0.0</td>\n      <td>0.0</td>\n      <td>1.0</td>\n      <td>0.0</td>\n      <td>0.0</td>\n      <td>1.0</td>\n    </tr>\n    <tr>\n      <th>2</th>\n      <td>2</td>\n      <td>0.801682</td>\n      <td>0.000000</td>\n      <td>0.0</td>\n      <td>0.499176</td>\n      <td>0.0</td>\n      <td>0.0</td>\n      <td>0.0</td>\n      <td>0.0</td>\n      <td>1.0</td>\n      <td>...</td>\n      <td>0.0</td>\n      <td>0.0</td>\n      <td>0.0</td>\n      <td>0.0</td>\n      <td>0.0</td>\n      <td>0.0</td>\n      <td>0.0</td>\n      <td>0.0</td>\n      <td>0.0</td>\n      <td>1.0</td>\n    </tr>\n    <tr>\n      <th>3</th>\n      <td>3</td>\n      <td>0.421440</td>\n      <td>0.003712</td>\n      <td>0.0</td>\n      <td>0.394823</td>\n      <td>0.0</td>\n      <td>0.0</td>\n      <td>0.0</td>\n      <td>0.0</td>\n      <td>0.0</td>\n      <td>...</td>\n      <td>0.0</td>\n      <td>1.0</td>\n      <td>0.0</td>\n      <td>0.0</td>\n      <td>0.0</td>\n      <td>0.0</td>\n      <td>0.0</td>\n      <td>0.0</td>\n      <td>0.0</td>\n      <td>1.0</td>\n    </tr>\n    <tr>\n      <th>4</th>\n      <td>4</td>\n      <td>0.419976</td>\n      <td>0.000000</td>\n      <td>0.0</td>\n      <td>0.392910</td>\n      <td>0.0</td>\n      <td>0.0</td>\n      <td>0.0</td>\n      <td>0.0</td>\n      <td>1.0</td>\n      <td>...</td>\n      <td>0.0</td>\n      <td>0.0</td>\n      <td>0.0</td>\n      <td>1.0</td>\n      <td>0.0</td>\n      <td>0.0</td>\n      <td>0.0</td>\n      <td>0.0</td>\n      <td>1.0</td>\n      <td>1.0</td>\n    </tr>\n    <tr>\n      <th>...</th>\n      <td>...</td>\n      <td>...</td>\n      <td>...</td>\n      <td>...</td>\n      <td>...</td>\n      <td>...</td>\n      <td>...</td>\n      <td>...</td>\n      <td>...</td>\n      <td>...</td>\n      <td>...</td>\n      <td>...</td>\n      <td>...</td>\n      <td>...</td>\n      <td>...</td>\n      <td>...</td>\n      <td>...</td>\n      <td>...</td>\n      <td>...</td>\n      <td>...</td>\n      <td>...</td>\n    </tr>\n    <tr>\n      <th>9995</th>\n      <td>9995</td>\n      <td>0.817372</td>\n      <td>0.000000</td>\n      <td>0.0</td>\n      <td>0.398106</td>\n      <td>0.0</td>\n      <td>0.0</td>\n      <td>0.0</td>\n      <td>0.0</td>\n      <td>1.0</td>\n      <td>...</td>\n      <td>0.0</td>\n      <td>0.0</td>\n      <td>0.0</td>\n      <td>0.0</td>\n      <td>0.0</td>\n      <td>0.0</td>\n      <td>0.0</td>\n      <td>0.0</td>\n      <td>0.0</td>\n      <td>1.0</td>\n    </tr>\n    <tr>\n      <th>9996</th>\n      <td>9996</td>\n      <td>0.534707</td>\n      <td>0.000000</td>\n      <td>0.0</td>\n      <td>0.393522</td>\n      <td>0.0</td>\n      <td>0.0</td>\n      <td>0.0</td>\n      <td>0.0</td>\n      <td>0.0</td>\n      <td>...</td>\n      <td>0.0</td>\n      <td>0.0</td>\n      <td>0.0</td>\n      <td>0.0</td>\n      <td>0.0</td>\n      <td>0.0</td>\n      <td>0.0</td>\n      <td>0.0</td>\n      <td>1.0</td>\n      <td>1.0</td>\n    </tr>\n    <tr>\n      <th>9997</th>\n      <td>9997</td>\n      <td>0.794512</td>\n      <td>0.160842</td>\n      <td>0.0</td>\n      <td>0.402341</td>\n      <td>0.0</td>\n      <td>0.0</td>\n      <td>0.0</td>\n      <td>0.0</td>\n      <td>1.0</td>\n      <td>...</td>\n      <td>0.0</td>\n      <td>0.0</td>\n      <td>0.0</td>\n      <td>0.0</td>\n      <td>0.0</td>\n      <td>0.0</td>\n      <td>0.0</td>\n      <td>0.0</td>\n      <td>0.0</td>\n      <td>1.0</td>\n    </tr>\n    <tr>\n      <th>9998</th>\n      <td>9998</td>\n      <td>0.213765</td>\n      <td>0.003364</td>\n      <td>0.0</td>\n      <td>0.397423</td>\n      <td>0.0</td>\n      <td>0.0</td>\n      <td>1.0</td>\n      <td>0.0</td>\n      <td>1.0</td>\n      <td>...</td>\n      <td>0.0</td>\n      <td>1.0</td>\n      <td>0.0</td>\n      <td>0.0</td>\n      <td>0.0</td>\n      <td>0.0</td>\n      <td>1.0</td>\n      <td>0.0</td>\n      <td>1.0</td>\n      <td>0.0</td>\n    </tr>\n    <tr>\n      <th>9999</th>\n      <td>9999</td>\n      <td>0.780324</td>\n      <td>0.000000</td>\n      <td>0.0</td>\n      <td>0.394290</td>\n      <td>0.0</td>\n      <td>0.0</td>\n      <td>0.0</td>\n      <td>0.0</td>\n      <td>1.0</td>\n      <td>...</td>\n      <td>0.0</td>\n      <td>1.0</td>\n      <td>0.0</td>\n      <td>0.0</td>\n      <td>0.0</td>\n      <td>0.0</td>\n      <td>0.0</td>\n      <td>0.0</td>\n      <td>1.0</td>\n      <td>1.0</td>\n    </tr>\n  </tbody>\n</table>\n<p>10000 rows × 80 columns</p>\n</div>"
     },
     "execution_count": 13,
     "metadata": {},
     "output_type": "execute_result"
    }
   ],
   "source": [
    "model_input"
   ],
   "metadata": {
    "collapsed": false,
    "ExecuteTime": {
     "end_time": "2023-11-02T15:41:10.508102179Z",
     "start_time": "2023-11-02T15:41:10.450313158Z"
    }
   },
   "id": "60ac3040004ae21a"
  },
  {
   "cell_type": "code",
   "execution_count": 15,
   "outputs": [],
   "source": [
    "model_input = pd.read_csv(\"data/syn_data.csv\", names=X_train.columns)"
   ],
   "metadata": {
    "collapsed": false,
    "ExecuteTime": {
     "end_time": "2023-11-02T15:44:44.115123136Z",
     "start_time": "2023-11-02T15:44:43.947862808Z"
    }
   },
   "id": "70300b02ce1dc6e5"
  },
  {
   "cell_type": "code",
   "execution_count": null,
   "outputs": [],
   "source": [
    "distributed_datasets = get_distributed_adult_sets(distributions=distributions)"
   ],
   "metadata": {
    "collapsed": false
   },
   "id": "a18e584a017832f1"
  },
  {
   "cell_type": "markdown",
   "source": [
    "## Generate synthetic data for model output"
   ],
   "metadata": {
    "collapsed": false
   },
   "id": "f86d94488c6cda5c"
  },
  {
   "cell_type": "code",
   "execution_count": 4,
   "outputs": [],
   "source": [
    "output_size = 10000\n",
    "metadata = SingleTableMetadata()\n",
    "to_fit = pd.DataFrame(np.concatenate((X_train, X_test)), columns=[str(i) for i in range(79)])\n",
    "#to_fit = to_fit.astype({i: 'int' for i in range(4,79)})\n",
    "#to_fit[\"index\"] = to_fit.index\n",
    "#to_fit = to_fit.astype({\"index\": 'string'})\n",
    "metadata.detect_from_dataframe(data=to_fit)"
   ],
   "metadata": {
    "collapsed": false,
    "ExecuteTime": {
     "end_time": "2023-11-02T13:45:47.063229923Z",
     "start_time": "2023-11-02T13:45:46.705563600Z"
    }
   },
   "id": "4966977f245991b"
  },
  {
   "cell_type": "code",
   "execution_count": 7,
   "outputs": [
    {
     "data": {
      "text/plain": "{'METADATA_SPEC_VERSION': 'SINGLE_TABLE_V1',\n 'columns': {'0': {'sdtype': 'numerical'},\n  '1': {'sdtype': 'numerical'},\n  '2': {'sdtype': 'numerical'},\n  '3': {'sdtype': 'numerical'},\n  '4': {'sdtype': 'categorical'},\n  '5': {'sdtype': 'categorical'},\n  '6': {'sdtype': 'categorical'},\n  '7': {'sdtype': 'categorical'},\n  '8': {'sdtype': 'categorical'},\n  '9': {'sdtype': 'categorical'},\n  '10': {'sdtype': 'categorical'},\n  '11': {'sdtype': 'categorical'},\n  '12': {'sdtype': 'categorical'},\n  '13': {'sdtype': 'categorical'},\n  '14': {'sdtype': 'categorical'},\n  '15': {'sdtype': 'categorical'},\n  '16': {'sdtype': 'categorical'},\n  '17': {'sdtype': 'categorical'},\n  '18': {'sdtype': 'categorical'},\n  '19': {'sdtype': 'categorical'},\n  '20': {'sdtype': 'categorical'},\n  '21': {'sdtype': 'categorical'},\n  '22': {'sdtype': 'categorical'},\n  '23': {'sdtype': 'categorical'},\n  '24': {'sdtype': 'categorical'},\n  '25': {'sdtype': 'categorical'},\n  '26': {'sdtype': 'categorical'},\n  '27': {'sdtype': 'categorical'},\n  '28': {'sdtype': 'categorical'},\n  '29': {'sdtype': 'categorical'},\n  '30': {'sdtype': 'categorical'},\n  '31': {'sdtype': 'categorical'},\n  '32': {'sdtype': 'categorical'},\n  '33': {'sdtype': 'categorical'},\n  '34': {'sdtype': 'categorical'},\n  '35': {'sdtype': 'categorical'},\n  '36': {'sdtype': 'categorical'},\n  '37': {'sdtype': 'categorical'},\n  '38': {'sdtype': 'categorical'},\n  '39': {'sdtype': 'categorical'},\n  '40': {'sdtype': 'categorical'},\n  '41': {'sdtype': 'categorical'},\n  '42': {'sdtype': 'categorical'},\n  '43': {'sdtype': 'categorical'},\n  '44': {'sdtype': 'categorical'},\n  '45': {'sdtype': 'categorical'},\n  '46': {'sdtype': 'categorical'},\n  '47': {'sdtype': 'categorical'},\n  '48': {'sdtype': 'categorical'},\n  '49': {'sdtype': 'categorical'},\n  '50': {'sdtype': 'categorical'},\n  '51': {'sdtype': 'categorical'},\n  '52': {'sdtype': 'categorical'},\n  '53': {'sdtype': 'categorical'},\n  '54': {'sdtype': 'categorical'},\n  '55': {'sdtype': 'categorical'},\n  '56': {'sdtype': 'categorical'},\n  '57': {'sdtype': 'categorical'},\n  '58': {'sdtype': 'categorical'},\n  '59': {'sdtype': 'categorical'},\n  '60': {'sdtype': 'categorical'},\n  '61': {'sdtype': 'categorical'},\n  '62': {'sdtype': 'categorical'},\n  '63': {'sdtype': 'categorical'},\n  '64': {'sdtype': 'categorical'},\n  '65': {'sdtype': 'categorical'},\n  '66': {'sdtype': 'categorical'},\n  '67': {'sdtype': 'categorical'},\n  '68': {'sdtype': 'categorical'},\n  '69': {'sdtype': 'categorical'},\n  '70': {'sdtype': 'categorical'},\n  '71': {'sdtype': 'categorical'},\n  '72': {'sdtype': 'categorical'},\n  '73': {'sdtype': 'categorical'},\n  '74': {'sdtype': 'categorical'},\n  '75': {'sdtype': 'categorical'},\n  '76': {'sdtype': 'categorical'},\n  '77': {'sdtype': 'categorical'},\n  '78': {'sdtype': 'categorical'}}}"
     },
     "execution_count": 7,
     "metadata": {},
     "output_type": "execute_result"
    }
   ],
   "source": [
    "metadata.to_dict()"
   ],
   "metadata": {
    "collapsed": false,
    "ExecuteTime": {
     "end_time": "2023-11-02T12:55:23.395722216Z",
     "start_time": "2023-11-02T12:55:23.380444040Z"
    }
   },
   "id": "256f653a46f92733"
  },
  {
   "cell_type": "code",
   "execution_count": 5,
   "outputs": [
    {
     "name": "stderr",
     "output_type": "stream",
     "text": [
      "/home/js/anaconda3/envs/adversarial-bb-training/lib/python3.10/site-packages/rdt/transformers/numerical.py:112: UserWarning: No rounding scheme detected for column '0'. Data will not be rounded.\n",
      "  warnings.warn(\n",
      "/home/js/anaconda3/envs/adversarial-bb-training/lib/python3.10/site-packages/rdt/transformers/numerical.py:112: UserWarning: No rounding scheme detected for column '1'. Data will not be rounded.\n",
      "  warnings.warn(\n",
      "/home/js/anaconda3/envs/adversarial-bb-training/lib/python3.10/site-packages/rdt/transformers/numerical.py:112: UserWarning: No rounding scheme detected for column '2'. Data will not be rounded.\n",
      "  warnings.warn(\n",
      "/home/js/anaconda3/envs/adversarial-bb-training/lib/python3.10/site-packages/rdt/transformers/numerical.py:112: UserWarning: No rounding scheme detected for column '3'. Data will not be rounded.\n",
      "  warnings.warn(\n"
     ]
    }
   ],
   "source": [
    "syn_model = CTGANSynthesizer(metadata)\n",
    "syn_model.fit(to_fit)"
   ],
   "metadata": {
    "collapsed": false,
    "ExecuteTime": {
     "end_time": "2023-11-02T14:58:12.472500848Z",
     "start_time": "2023-11-02T13:45:49.925861317Z"
    }
   },
   "id": "e8f73cf065d62b78"
  },
  {
   "cell_type": "code",
   "execution_count": 7,
   "outputs": [],
   "source": [
    "sampled = syn_model.sample(num_rows=output_size)\n",
    "syn_model.save('syn_model')"
   ],
   "metadata": {
    "collapsed": false,
    "ExecuteTime": {
     "end_time": "2023-11-02T15:21:04.789129304Z",
     "start_time": "2023-11-02T15:21:03.416962416Z"
    }
   },
   "id": "54987eb0fe68a21f"
  },
  {
   "cell_type": "code",
   "execution_count": 14,
   "outputs": [],
   "source": [
    "sampled.to_csv(\"data/syn_data.csv\", index=False)"
   ],
   "metadata": {
    "collapsed": false,
    "ExecuteTime": {
     "end_time": "2023-11-02T15:44:33.840325056Z",
     "start_time": "2023-11-02T15:44:33.341592270Z"
    }
   },
   "id": "7a9e498939ce4c24"
  },
  {
   "cell_type": "markdown",
   "source": [
    "### Single model"
   ],
   "metadata": {
    "collapsed": false
   },
   "id": "76e9851439390c6"
  },
  {
   "cell_type": "code",
   "execution_count": 26,
   "outputs": [],
   "source": [
    "gb = train_gradient_boosting_shadow_model(X_train, y_train, 0)"
   ],
   "metadata": {
    "collapsed": false,
    "ExecuteTime": {
     "end_time": "2023-11-02T16:26:37.559252660Z",
     "start_time": "2023-11-02T16:26:12.762745018Z"
    }
   },
   "id": "bca8b91daeae08fc"
  },
  {
   "cell_type": "code",
   "execution_count": 27,
   "outputs": [],
   "source": [
    "model_input = pd.read_csv(\"data/syn_data.csv\", names=X_train.columns)"
   ],
   "metadata": {
    "collapsed": false,
    "ExecuteTime": {
     "end_time": "2023-11-02T16:26:57.192105907Z",
     "start_time": "2023-11-02T16:26:57.091131035Z"
    }
   },
   "id": "8eddc9bcf8276f11"
  },
  {
   "cell_type": "code",
   "execution_count": 80,
   "outputs": [],
   "source": [
    "out = gb.predict_proba(model_input)"
   ],
   "metadata": {
    "collapsed": false,
    "ExecuteTime": {
     "end_time": "2023-11-02T16:40:22.632354320Z",
     "start_time": "2023-11-02T16:40:22.535126646Z"
    }
   },
   "id": "a29465417e19445d"
  },
  {
   "cell_type": "code",
   "execution_count": 83,
   "outputs": [
    {
     "data": {
      "text/plain": "array([0.99868971, 0.01143   , 0.01576805, ..., 0.96033791, 0.00722861,\n       0.0585728 ])"
     },
     "execution_count": 83,
     "metadata": {},
     "output_type": "execute_result"
    }
   ],
   "source": [
    "out[:,1]"
   ],
   "metadata": {
    "collapsed": false,
    "ExecuteTime": {
     "end_time": "2023-11-02T16:41:12.142172466Z",
     "start_time": "2023-11-02T16:41:12.125214813Z"
    }
   },
   "id": "bf3a8ed59df205e0"
  },
  {
   "cell_type": "code",
   "execution_count": 36,
   "outputs": [
    {
     "data": {
      "text/plain": "0.0    8676\n1.0    1325\ndtype: int64"
     },
     "execution_count": 36,
     "metadata": {},
     "output_type": "execute_result"
    }
   ],
   "source": [
    "pd.value_counts(out)"
   ],
   "metadata": {
    "collapsed": false,
    "ExecuteTime": {
     "end_time": "2023-11-02T16:28:31.500872863Z",
     "start_time": "2023-11-02T16:28:31.499984574Z"
    }
   },
   "id": "3bffb3c7283c77db"
  },
  {
   "cell_type": "markdown",
   "source": [
    "### Train shadow models and generate output"
   ],
   "metadata": {
    "collapsed": false
   },
   "id": "b8dd819536f4e169"
  },
  {
   "cell_type": "code",
   "execution_count": null,
   "outputs": [],
   "source": [
    "all_shadow_outputs = []\n",
    "for ds in distributed_datasets:\n",
    "    outputs = generate_shadow_model_outputs(ds, X_test, n_shadow_models=n_shadow_models)\n",
    "    all_shadow_outputs.append(outputs)"
   ],
   "metadata": {
    "collapsed": false
   },
   "id": "807403d039c8b5b9"
  },
  {
   "cell_type": "markdown",
   "source": [
    "### Save shadow model outputs to file"
   ],
   "metadata": {
    "collapsed": false
   },
   "id": "2a909c59c49960cd"
  },
  {
   "cell_type": "code",
   "execution_count": null,
   "outputs": [],
   "source": [
    "adv_df = pd.DataFrame(np.array(np.concatenate((all_shadow_outputs))))\n",
    "adv_df[\"y\"] = np.concatenate(([np.repeat(d, n_shadow_models) for d in distributions]))\n",
    "adv_df.to_csv(\"data/shadow_model_outputs.csv\")"
   ],
   "metadata": {
    "collapsed": false
   },
   "id": "6e7b6fcb52d256ba"
  },
  {
   "cell_type": "markdown",
   "source": [
    "### Shadow model outputs as training data for adversary"
   ],
   "metadata": {
    "collapsed": false
   },
   "id": "4f148b8fe9e7013"
  },
  {
   "cell_type": "code",
   "execution_count": 3,
   "outputs": [],
   "source": [
    "adv_df = pd.read_csv(\"data/shadow_model_outputs.csv\")\n",
    "adv_ddf_shuffled = adv_df.sample(frac=1, random_state=1).reset_index(drop=True)\n",
    "adv_y = adv_ddf_shuffled[\"y\"]\n",
    "adv_X = adv_ddf_shuffled.drop(columns=[\"y\"])"
   ],
   "metadata": {
    "collapsed": false,
    "ExecuteTime": {
     "end_time": "2023-11-02T16:48:53.087123886Z",
     "start_time": "2023-11-02T16:48:48.421277143Z"
    }
   },
   "id": "cccad5e8b03ad4d5"
  },
  {
   "cell_type": "code",
   "execution_count": 18,
   "outputs": [
    {
     "data": {
      "text/plain": "(1800, 10002)"
     },
     "execution_count": 18,
     "metadata": {},
     "output_type": "execute_result"
    }
   ],
   "source": [
    "adv_X.shape"
   ],
   "metadata": {
    "collapsed": false,
    "ExecuteTime": {
     "end_time": "2023-11-02T16:21:10.661590487Z",
     "start_time": "2023-11-02T16:21:10.645613240Z"
    }
   },
   "id": "3613e1abec47249e"
  },
  {
   "cell_type": "markdown",
   "source": [
    "### Create adversary"
   ],
   "metadata": {
    "collapsed": false
   },
   "id": "e27e1ee526589f4c"
  },
  {
   "cell_type": "markdown",
   "source": [
    "### Pycaret"
   ],
   "metadata": {
    "collapsed": false
   },
   "id": "26875e3f7ca757e9"
  },
  {
   "cell_type": "code",
   "execution_count": 4,
   "outputs": [
    {
     "data": {
      "text/plain": "<IPython.core.display.HTML object>",
      "text/html": ""
     },
     "metadata": {},
     "output_type": "display_data"
    }
   ],
   "source": [
    "from pycaret.regression import *\n",
    "s = setup(adv_df, target=\"y\", session_id=123)"
   ],
   "metadata": {
    "collapsed": false,
    "ExecuteTime": {
     "end_time": "2023-11-02T16:49:02.624604671Z",
     "start_time": "2023-11-02T16:48:53.089633749Z"
    }
   },
   "id": "d46c9cbdded7db22"
  },
  {
   "cell_type": "code",
   "execution_count": 5,
   "outputs": [],
   "source": [
    "from pycaret.regression import RegressionExperiment\n",
    "exp = RegressionExperiment()"
   ],
   "metadata": {
    "collapsed": false,
    "ExecuteTime": {
     "end_time": "2023-11-02T16:49:32.420104953Z",
     "start_time": "2023-11-02T16:49:32.347176293Z"
    }
   },
   "id": "6826e165fc2870aa"
  },
  {
   "cell_type": "code",
   "execution_count": 8,
   "outputs": [
    {
     "data": {
      "text/plain": "<IPython.core.display.HTML object>",
      "text/html": ""
     },
     "metadata": {},
     "output_type": "display_data"
    },
    {
     "data": {
      "text/plain": "<pycaret.regression.oop.RegressionExperiment at 0x7fc0881bc4f0>"
     },
     "execution_count": 8,
     "metadata": {},
     "output_type": "execute_result"
    }
   ],
   "source": [
    "exp.setup(adv_df, target = 'y', session_id = 123)"
   ],
   "metadata": {
    "collapsed": false,
    "ExecuteTime": {
     "end_time": "2023-11-02T16:50:13.454929530Z",
     "start_time": "2023-11-02T16:50:05.880228196Z"
    }
   },
   "id": "6c85b5dc284e7439"
  },
  {
   "cell_type": "code",
   "execution_count": null,
   "outputs": [
    {
     "data": {
      "text/plain": "                                                                    \n                                                                    \nInitiated  . . . . . . . . . . . . . . . . . .              17:50:31\nStatus     . . . . . . . . . . . . . . . . . .  Loading Dependencies\nEstimator  . . . . . . . . . . . . . . . . . .     Compiling Library",
      "text/html": "<div>\n<style scoped>\n    .dataframe tbody tr th:only-of-type {\n        vertical-align: middle;\n    }\n\n    .dataframe tbody tr th {\n        vertical-align: top;\n    }\n\n    .dataframe thead th {\n        text-align: right;\n    }\n</style>\n<table border=\"1\" class=\"dataframe\">\n  <thead>\n    <tr style=\"text-align: right;\">\n      <th></th>\n      <th></th>\n      <th></th>\n    </tr>\n    <tr>\n      <th></th>\n      <th></th>\n      <th></th>\n    </tr>\n  </thead>\n  <tbody>\n    <tr>\n      <th>Initiated</th>\n      <td>. . . . . . . . . . . . . . . . . .</td>\n      <td>17:50:31</td>\n    </tr>\n    <tr>\n      <th>Status</th>\n      <td>. . . . . . . . . . . . . . . . . .</td>\n      <td>Loading Dependencies</td>\n    </tr>\n    <tr>\n      <th>Estimator</th>\n      <td>. . . . . . . . . . . . . . . . . .</td>\n      <td>Compiling Library</td>\n    </tr>\n  </tbody>\n</table>\n</div>"
     },
     "metadata": {},
     "output_type": "display_data"
    },
    {
     "data": {
      "text/plain": "<IPython.core.display.HTML object>",
      "text/html": ""
     },
     "metadata": {},
     "output_type": "display_data"
    },
    {
     "data": {
      "text/plain": "Processing:   0%|          | 0/77 [00:00<?, ?it/s]",
      "application/vnd.jupyter.widget-view+json": {
       "version_major": 2,
       "version_minor": 0,
       "model_id": "83a29fc052b24739aa010193b11c9f53"
      }
     },
     "metadata": {},
     "output_type": "display_data"
    }
   ],
   "source": [
    "best = compare_models()"
   ],
   "metadata": {
    "collapsed": false,
    "is_executing": true,
    "ExecuteTime": {
     "start_time": "2023-11-02T16:50:31.534970762Z"
    }
   },
   "id": "6a33b4643f397831"
  },
  {
   "cell_type": "code",
   "execution_count": 78,
   "outputs": [],
   "source": [
    "adversary = keras.Sequential()\n",
    "adversary.add(keras.Input(shape=(adv_X.shape[1],)))\n",
    "adversary.add(keras.layers.Dense(16, activation='relu'))\n",
    "adversary.add(keras.layers.Dense(8, activation='relu'))\n",
    "adversary.add(keras.layers.Dense(1))\n",
    "\n",
    "adversary.compile(optimizer='adam', loss=keras.losses.MeanAbsolutePercentageError(), metrics=keras.metrics.R2Score())"
   ],
   "metadata": {
    "collapsed": false,
    "ExecuteTime": {
     "end_time": "2023-11-02T16:39:32.435386551Z",
     "start_time": "2023-11-02T16:39:32.377123838Z"
    }
   },
   "id": "f321d38c0dbd2e9"
  },
  {
   "cell_type": "markdown",
   "source": [
    "### Train adversary"
   ],
   "metadata": {
    "collapsed": false
   },
   "id": "48b48337c2255bf6"
  },
  {
   "cell_type": "code",
   "execution_count": 79,
   "outputs": [
    {
     "name": "stdout",
     "output_type": "stream",
     "text": [
      "Epoch 1/10\n",
      "180/180 [==============================] - 1s 5ms/step - loss: 76.2265 - r2_score: -6.7425 - val_loss: 11.9492 - val_r2_score: 0.8949\n",
      "Epoch 2/10\n",
      "180/180 [==============================] - 1s 4ms/step - loss: 9.4418 - r2_score: 0.9004 - val_loss: 4.5668 - val_r2_score: 0.9918\n",
      "Epoch 3/10\n",
      "180/180 [==============================] - 1s 4ms/step - loss: 5.2053 - r2_score: 0.9888 - val_loss: 5.3097 - val_r2_score: 0.9852\n",
      "Epoch 4/10\n",
      "180/180 [==============================] - 1s 4ms/step - loss: 4.1966 - r2_score: 0.9927 - val_loss: 5.1980 - val_r2_score: 0.9858\n",
      "Epoch 5/10\n",
      "180/180 [==============================] - 1s 4ms/step - loss: 4.5226 - r2_score: 0.9904 - val_loss: 3.2018 - val_r2_score: 0.9962\n",
      "Epoch 6/10\n",
      "180/180 [==============================] - 1s 4ms/step - loss: 3.8406 - r2_score: 0.9930 - val_loss: 3.5987 - val_r2_score: 0.9921\n",
      "Epoch 7/10\n",
      "180/180 [==============================] - 1s 4ms/step - loss: 2.9761 - r2_score: 0.9958 - val_loss: 2.3586 - val_r2_score: 0.9979\n",
      "Epoch 8/10\n",
      "180/180 [==============================] - 1s 4ms/step - loss: 2.7519 - r2_score: 0.9957 - val_loss: 1.9661 - val_r2_score: 0.9983\n",
      "Epoch 9/10\n",
      "180/180 [==============================] - 1s 4ms/step - loss: 3.1586 - r2_score: 0.9950 - val_loss: 2.2832 - val_r2_score: 0.9975\n",
      "Epoch 10/10\n",
      "180/180 [==============================] - 1s 4ms/step - loss: 3.0963 - r2_score: 0.9943 - val_loss: 2.2346 - val_r2_score: 0.9975\n"
     ]
    },
    {
     "data": {
      "text/plain": "<keras.src.callbacks.History at 0x7fd347df9510>"
     },
     "execution_count": 79,
     "metadata": {},
     "output_type": "execute_result"
    }
   ],
   "source": [
    "adversary.fit(adv_X, adv_y, validation_split=0.2, batch_size=8, epochs=10)"
   ],
   "metadata": {
    "collapsed": false,
    "ExecuteTime": {
     "end_time": "2023-11-02T16:39:41.442286119Z",
     "start_time": "2023-11-02T16:39:33.273875897Z"
    }
   },
   "id": "b5be01fe81d2faf4"
  },
  {
   "cell_type": "markdown",
   "source": [
    "# Test adversary"
   ],
   "metadata": {
    "collapsed": false
   },
   "id": "f8388ef1087ea205"
  },
  {
   "cell_type": "code",
   "execution_count": 51,
   "outputs": [],
   "source": [
    "adv_df_test = pd.read_csv(\"data/shadow_model_outputs_test_set.csv\")\n",
    "adv_ddf_shuffled_test = adv_df_test.sample(frac=1, random_state=1).reset_index(drop=True)\n",
    "adv_y_test = adv_ddf_shuffled_test[\"y\"]\n",
    "adv_X_test = adv_ddf_shuffled_test.drop(columns=[\"y\"])"
   ],
   "metadata": {
    "collapsed": false,
    "ExecuteTime": {
     "end_time": "2023-11-02T16:33:27.717885080Z",
     "start_time": "2023-11-02T16:33:26.775248863Z"
    }
   },
   "id": "1b611ad15ca42d0e"
  },
  {
   "cell_type": "code",
   "execution_count": 57,
   "outputs": [
    {
     "name": "stdout",
     "output_type": "stream",
     "text": [
      "12/12 [==============================] - 0s 3ms/step\n"
     ]
    },
    {
     "data": {
      "text/plain": "array([[0.34756607],\n       [0.310765  ],\n       [0.13715464],\n       [0.13715464],\n       [0.13715464],\n       [0.13715464],\n       [0.13715464],\n       [0.41757518],\n       [0.461295  ],\n       [0.4181632 ],\n       [0.13715464],\n       [0.3885456 ],\n       [0.13715464],\n       [0.30243465],\n       [0.13715464],\n       [0.13715464],\n       [0.13715464],\n       [0.44990423],\n       [0.13715464],\n       [0.43688378],\n       [0.13715464],\n       [0.19284597],\n       [0.13715464],\n       [0.13715464],\n       [0.13715464],\n       [0.13715464],\n       [0.15292755],\n       [0.51699376],\n       [0.13715464],\n       [0.3923154 ],\n       [0.13715464],\n       [0.357183  ],\n       [0.13715464],\n       [0.13715464],\n       [0.402241  ],\n       [0.13715464],\n       [0.13715464],\n       [0.13715464],\n       [0.39584696],\n       [0.13715464],\n       [0.47867584],\n       [0.26795936],\n       [0.13715464],\n       [0.40313554],\n       [0.27763504],\n       [0.13715464],\n       [0.26378193],\n       [0.13715464],\n       [0.13715464],\n       [0.13715464],\n       [0.13715464],\n       [0.32008228],\n       [0.33906204],\n       [0.43438596],\n       [0.13715464],\n       [0.13715464],\n       [0.30169842],\n       [0.13715464],\n       [0.32728073],\n       [0.13715464],\n       [0.59868836],\n       [0.13715464],\n       [0.41156104],\n       [0.26288223],\n       [0.13715464],\n       [0.4363566 ],\n       [0.1436024 ],\n       [0.13715464],\n       [0.43503514],\n       [0.28121948],\n       [0.3704043 ],\n       [0.42912906],\n       [0.13715464],\n       [0.13715464],\n       [0.5059618 ],\n       [0.44450003],\n       [0.13715464],\n       [0.51879066],\n       [0.44378412],\n       [0.2667886 ],\n       [0.13715464],\n       [0.13715464],\n       [0.41056424],\n       [0.26130292],\n       [0.40477595],\n       [0.4852958 ],\n       [0.44743815],\n       [0.13715464],\n       [0.13715464],\n       [0.13715464],\n       [0.13715464],\n       [0.13715464],\n       [0.13715464],\n       [0.5148595 ],\n       [0.13715464],\n       [0.13715464],\n       [0.4072751 ],\n       [0.13715464],\n       [0.13715464],\n       [0.23888698],\n       [0.13715464],\n       [0.13715464],\n       [0.42078122],\n       [0.49920365],\n       [0.13715464],\n       [0.13715464],\n       [0.3150366 ],\n       [0.13715464],\n       [0.13715464],\n       [0.13715464],\n       [0.4094721 ],\n       [0.13715464],\n       [0.13715464],\n       [0.13715464],\n       [0.13715464],\n       [0.20880052],\n       [0.13715464],\n       [0.13715464],\n       [0.13715464],\n       [0.53556406],\n       [0.13715464],\n       [0.1599919 ],\n       [0.13715464],\n       [0.5043069 ],\n       [0.13715464],\n       [0.13715464],\n       [0.13715464],\n       [0.18002582],\n       [0.13715464],\n       [0.13715464],\n       [0.33771402],\n       [0.37876934],\n       [0.13715464],\n       [0.13715464],\n       [0.28155163],\n       [0.13715464],\n       [0.17307924],\n       [0.525577  ],\n       [0.42389005],\n       [0.2961681 ],\n       [0.13715464],\n       [0.13715464],\n       [0.13715464],\n       [0.13715464],\n       [0.3633027 ],\n       [0.13715464],\n       [0.48171023],\n       [0.13715464],\n       [0.376041  ],\n       [0.36933148],\n       [0.13715464],\n       [0.35160762],\n       [0.18146817],\n       [0.3440049 ],\n       [0.13715464],\n       [0.36587286],\n       [0.13715464],\n       [0.45001614],\n       [0.39768383],\n       [0.13715464],\n       [0.13715464],\n       [0.13715464],\n       [0.36089212],\n       [0.31226906],\n       [0.23209098],\n       [0.13715464],\n       [0.13715464],\n       [0.13715464],\n       [0.5345252 ],\n       [0.13715464],\n       [0.3397557 ],\n       [0.13715464],\n       [0.33463067],\n       [0.31935775],\n       [0.13715464],\n       [0.13715464],\n       [0.20134735],\n       [0.13715464],\n       [0.25605372],\n       [0.13715464],\n       [0.13715464],\n       [0.13715464],\n       [0.31950372],\n       [0.33044255],\n       [0.44769078],\n       [0.47382438],\n       [0.22485432],\n       [0.13715464],\n       [0.13715464],\n       [0.13715464],\n       [0.13715464],\n       [0.13715464],\n       [0.19103912],\n       [0.13715464],\n       [0.13715464],\n       [0.13715464],\n       [0.13715464],\n       [0.13715464],\n       [0.13715464],\n       [0.43897894],\n       [0.13715464],\n       [0.13715464],\n       [0.2757758 ],\n       [0.13715464],\n       [0.13715464],\n       [0.13715464],\n       [0.31947482],\n       [0.13715464],\n       [0.39959246],\n       [0.13715464],\n       [0.33312064],\n       [0.25279152],\n       [0.39008936],\n       [0.13715464],\n       [0.13715464],\n       [0.3440308 ],\n       [0.26882595],\n       [0.32611668],\n       [0.13715464],\n       [0.15154111],\n       [0.31772935],\n       [0.13715464],\n       [0.372146  ],\n       [0.20390779],\n       [0.34423646],\n       [0.13715464],\n       [0.35821876],\n       [0.13715464],\n       [0.13715464],\n       [0.4203307 ],\n       [0.2975296 ],\n       [0.13715464],\n       [0.13715464],\n       [0.5065253 ],\n       [0.39395133],\n       [0.13715464],\n       [0.13715464],\n       [0.30493087],\n       [0.19444498],\n       [0.48046353],\n       [0.27620852],\n       [0.13715464],\n       [0.28329217],\n       [0.13715464],\n       [0.13715464],\n       [0.4057319 ],\n       [0.42363435],\n       [0.13715464],\n       [0.13715464],\n       [0.3969875 ],\n       [0.13715464],\n       [0.26627815],\n       [0.49840593],\n       [0.13715464],\n       [0.13715464],\n       [0.15233654],\n       [0.13715464],\n       [0.15433964],\n       [0.36119977],\n       [0.15310735],\n       [0.13715464],\n       [0.13715464],\n       [0.27298796],\n       [0.24041352],\n       [0.13715464],\n       [0.30352855],\n       [0.13715464],\n       [0.3271364 ],\n       [0.13715464],\n       [0.42483017],\n       [0.13715464],\n       [0.3937822 ],\n       [0.13715464],\n       [0.26240498],\n       [0.43859568],\n       [0.13715464],\n       [0.43354604],\n       [0.13715464],\n       [0.13715464],\n       [0.27956975],\n       [0.3290671 ],\n       [0.30731553],\n       [0.13715464],\n       [0.13715464],\n       [0.3803915 ],\n       [0.13715464],\n       [0.13715464],\n       [0.30819833],\n       [0.37048995],\n       [0.13715464],\n       [0.5002626 ],\n       [0.13715464],\n       [0.14910989],\n       [0.35299775],\n       [0.23283967],\n       [0.13715464],\n       [0.13715464],\n       [0.13715464],\n       [0.18766707],\n       [0.2914749 ],\n       [0.13715464],\n       [0.13715464],\n       [0.2986051 ],\n       [0.3996221 ],\n       [0.13715464],\n       [0.13715464],\n       [0.2182172 ],\n       [0.44874835],\n       [0.13715464],\n       [0.13715464],\n       [0.13715464],\n       [0.13715464],\n       [0.31668168],\n       [0.13715464],\n       [0.37048835],\n       [0.13715464],\n       [0.13715464],\n       [0.13715464],\n       [0.20709313],\n       [0.13715464],\n       [0.4219639 ],\n       [0.13715464],\n       [0.46136385],\n       [0.13715464],\n       [0.13715464],\n       [0.13715464],\n       [0.45063332],\n       [0.31633773],\n       [0.30557662],\n       [0.39572895],\n       [0.2840588 ],\n       [0.13715464],\n       [0.32159287],\n       [0.13715464],\n       [0.32005957],\n       [0.3206181 ],\n       [0.13715464],\n       [0.13715464],\n       [0.13715464],\n       [0.24333014],\n       [0.35951456],\n       [0.13715464],\n       [0.13715464],\n       [0.19602115],\n       [0.31050694],\n       [0.3693813 ],\n       [0.33868745],\n       [0.13715464],\n       [0.23911801],\n       [0.5026661 ],\n       [0.13715464],\n       [0.13715464],\n       [0.13715464],\n       [0.46773937],\n       [0.13715464],\n       [0.5135796 ],\n       [0.26470998],\n       [0.13715464],\n       [0.508718  ],\n       [0.13715464]], dtype=float32)"
     },
     "execution_count": 57,
     "metadata": {},
     "output_type": "execute_result"
    }
   ],
   "source": [
    "adversary.predict(adv_X_test)"
   ],
   "metadata": {
    "collapsed": false,
    "ExecuteTime": {
     "end_time": "2023-11-02T16:34:41.473825170Z",
     "start_time": "2023-11-02T16:34:41.265126951Z"
    }
   },
   "id": "64a8f2fa7819614b"
  },
  {
   "cell_type": "code",
   "execution_count": 54,
   "outputs": [
    {
     "data": {
      "text/plain": "0      0.7\n1      0.8\n2      0.3\n3      0.4\n4      0.5\n      ... \n355    0.6\n356    0.7\n357    0.2\n358    0.6\n359    0.1\nName: y, Length: 360, dtype: float64"
     },
     "execution_count": 54,
     "metadata": {},
     "output_type": "execute_result"
    }
   ],
   "source": [
    "adv_y_test"
   ],
   "metadata": {
    "collapsed": false,
    "ExecuteTime": {
     "end_time": "2023-11-02T16:33:46.092700833Z",
     "start_time": "2023-11-02T16:33:46.071360597Z"
    }
   },
   "id": "57a281ccdfca4382"
  },
  {
   "cell_type": "code",
   "execution_count": 56,
   "outputs": [
    {
     "name": "stdout",
     "output_type": "stream",
     "text": [
      "12/12 [==============================] - 0s 2ms/step - loss: 0.1012\n"
     ]
    },
    {
     "data": {
      "text/plain": "0.10118263214826584"
     },
     "execution_count": 56,
     "metadata": {},
     "output_type": "execute_result"
    }
   ],
   "source": [
    "adversary.evaluate(adv_X_test, adv_y_test)#, adv_y_test)"
   ],
   "metadata": {
    "collapsed": false,
    "ExecuteTime": {
     "end_time": "2023-11-02T16:34:36.130626316Z",
     "start_time": "2023-11-02T16:34:35.911004092Z"
    }
   },
   "id": "eb69675f6aa542fd"
  },
  {
   "cell_type": "code",
   "execution_count": 79,
   "outputs": [
    {
     "data": {
      "text/plain": "0      0.9\n1      0.8\n2      0.4\n3      0.2\n4      0.1\n      ... \n445    0.6\n446    0.2\n447    0.8\n448    0.5\n449    0.1\nName: y, Length: 450, dtype: float64"
     },
     "execution_count": 79,
     "metadata": {},
     "output_type": "execute_result"
    }
   ],
   "source": [
    "adv_y_test"
   ],
   "metadata": {
    "collapsed": false,
    "ExecuteTime": {
     "end_time": "2023-11-02T09:53:33.952649657Z",
     "start_time": "2023-11-02T09:53:33.941640016Z"
    }
   },
   "id": "b46ef5956a55a615"
  },
  {
   "cell_type": "markdown",
   "source": [
    "### Next steps\n",
    "* Use adversary during training"
   ],
   "metadata": {
    "collapsed": false
   },
   "id": "ca7f74456ef02429"
  },
  {
   "cell_type": "markdown",
   "source": [
    "### (Data set analysis)"
   ],
   "metadata": {
    "collapsed": false
   },
   "id": "ac7861d95cdcba85"
  },
  {
   "cell_type": "code",
   "execution_count": null,
   "outputs": [],
   "source": [
    "import ydata_profiling\n",
    "\n",
    "ydata_profiling.ProfileReport(X_test)"
   ],
   "metadata": {
    "collapsed": false
   },
   "id": "23dd121bbeca4944"
  },
  {
   "cell_type": "code",
   "execution_count": null,
   "outputs": [],
   "source": [
    "# RANDOM DS\n",
    "random_dict = {}\n",
    "for attr in ds.X_train:\n",
    "    print(f'{round(X_train_pr[attr].min(),2)} {round(X_train_pr[attr].max(),2)}')\n",
    "    random_attr = np.random.rand(random_length)*(X_train_pr[attr].max()+abs(X_train_pr[attr].min()))-abs(X_train_pr[attr].min())\n",
    "    random_dict[attr] = random_attr"
   ],
   "metadata": {
    "collapsed": false
   },
   "id": "5e83d6cc0260faf0"
  },
  {
   "cell_type": "code",
   "execution_count": null,
   "outputs": [],
   "source": [
    "random_ds = pd.DataFrame(random_dict)"
   ],
   "metadata": {
    "collapsed": false
   },
   "id": "3c7d705447fbbf00"
  }
 ],
 "metadata": {
  "kernelspec": {
   "name": "python3",
   "language": "python",
   "display_name": "Python 3 (ipykernel)"
  },
  "language_info": {
   "codemirror_mode": {
    "name": "ipython",
    "version": 2
   },
   "file_extension": ".py",
   "mimetype": "text/x-python",
   "name": "python",
   "nbconvert_exporter": "python",
   "pygments_lexer": "ipython2",
   "version": "2.7.6"
  }
 },
 "nbformat": 4,
 "nbformat_minor": 5
}
