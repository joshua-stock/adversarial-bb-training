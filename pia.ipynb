{
 "cells": [
  {
   "cell_type": "code",
   "execution_count": null,
   "outputs": [],
   "source": [
    "!pip install \"matplotlib>=3.2,<=3.7.3\"\n",
    "!pip install \"ydata-profiling>4.4,<4.5\"\n",
    "!pip install tensorflow sdv"
   ],
   "metadata": {
    "collapsed": false
   },
   "id": "73423984ecbf2895"
  },
  {
   "cell_type": "code",
   "execution_count": 1,
   "outputs": [
    {
     "name": "stderr",
     "output_type": "stream",
     "text": [
      "2023-11-02 14:45:29.847332: I tensorflow/tsl/cuda/cudart_stub.cc:28] Could not find cuda drivers on your machine, GPU will not be used.\n",
      "2023-11-02 14:45:29.908582: E tensorflow/compiler/xla/stream_executor/cuda/cuda_dnn.cc:9342] Unable to register cuDNN factory: Attempting to register factory for plugin cuDNN when one has already been registered\n",
      "2023-11-02 14:45:29.908623: E tensorflow/compiler/xla/stream_executor/cuda/cuda_fft.cc:609] Unable to register cuFFT factory: Attempting to register factory for plugin cuFFT when one has already been registered\n",
      "2023-11-02 14:45:29.908662: E tensorflow/compiler/xla/stream_executor/cuda/cuda_blas.cc:1518] Unable to register cuBLAS factory: Attempting to register factory for plugin cuBLAS when one has already been registered\n",
      "2023-11-02 14:45:29.919297: I tensorflow/tsl/cuda/cudart_stub.cc:28] Could not find cuda drivers on your machine, GPU will not be used.\n",
      "2023-11-02 14:45:29.920217: I tensorflow/core/platform/cpu_feature_guard.cc:182] This TensorFlow binary is optimized to use available CPU instructions in performance-critical operations.\n",
      "To enable the following instructions: AVX2 FMA, in other operations, rebuild TensorFlow with the appropriate compiler flags.\n",
      "2023-11-02 14:45:31.273049: W tensorflow/compiler/tf2tensorrt/utils/py_utils.cc:38] TF-TRT Warning: Could not find TensorRT\n"
     ]
    }
   ],
   "source": [
    "import pandas as pd\n",
    "import numpy as np\n",
    "from tensorflow import keras"
   ],
   "metadata": {
    "collapsed": false,
    "ExecuteTime": {
     "end_time": "2023-11-02T13:45:32.890001100Z",
     "start_time": "2023-11-02T13:45:28.761823868Z"
    }
   },
   "id": "4d2c52b6448e4205"
  },
  {
   "cell_type": "markdown",
   "source": [
    "## Ideas\n",
    "\n",
    "If adversary does not work, predict -> predict_proba to get more information"
   ],
   "metadata": {
    "collapsed": false
   },
   "id": "8cef951ab940b36f"
  },
  {
   "cell_type": "code",
   "execution_count": 2,
   "outputs": [],
   "source": [
    "from sdv.single_table import CTGANSynthesizer\n",
    "from sdv.metadata import SingleTableMetadata\n",
    "from pia_functions import data_train_test, get_distributed_adult_sets, generate_shadow_model_outputs"
   ],
   "metadata": {
    "collapsed": false,
    "ExecuteTime": {
     "end_time": "2023-11-02T13:45:37.493135980Z",
     "start_time": "2023-11-02T13:45:34.218820344Z"
    }
   },
   "id": "initial_id"
  },
  {
   "cell_type": "markdown",
   "source": [
    "### Generate training data for shadow models"
   ],
   "metadata": {
    "collapsed": false
   },
   "id": "6491152df6e7f325"
  },
  {
   "cell_type": "code",
   "execution_count": null,
   "outputs": [],
   "source": [
    "n_shadow_models=200\n",
    "distributions=[0.1, 0.2, 0.3, 0.4, 0.5, 0.6, 0.7, 0.8, 0.9]"
   ],
   "metadata": {
    "collapsed": false
   },
   "id": "8cf0633c8de98074"
  },
  {
   "cell_type": "code",
   "execution_count": 3,
   "outputs": [],
   "source": [
    "X_train, X_test, y_train, y_test, sensitive, sensitive_t = data_train_test()"
   ],
   "metadata": {
    "collapsed": false,
    "ExecuteTime": {
     "end_time": "2023-11-02T13:45:41.865430423Z",
     "start_time": "2023-11-02T13:45:41.163256964Z"
    }
   },
   "id": "adde3f38057445c0"
  },
  {
   "cell_type": "code",
   "execution_count": null,
   "outputs": [],
   "source": [
    "distributed_datasets = get_distributed_adult_sets(distributions=distributions)"
   ],
   "metadata": {
    "collapsed": false
   },
   "id": "a18e584a017832f1"
  },
  {
   "cell_type": "markdown",
   "source": [
    "## Generate synthetic data for model output"
   ],
   "metadata": {
    "collapsed": false
   },
   "id": "f86d94488c6cda5c"
  },
  {
   "cell_type": "code",
   "execution_count": 4,
   "outputs": [],
   "source": [
    "output_size = 10000\n",
    "metadata = SingleTableMetadata()\n",
    "to_fit = pd.DataFrame(np.concatenate((X_train, X_test)), columns=[str(i) for i in range(79)])\n",
    "#to_fit = to_fit.astype({i: 'int' for i in range(4,79)})\n",
    "#to_fit[\"index\"] = to_fit.index\n",
    "#to_fit = to_fit.astype({\"index\": 'string'})\n",
    "metadata.detect_from_dataframe(data=to_fit)"
   ],
   "metadata": {
    "collapsed": false,
    "ExecuteTime": {
     "end_time": "2023-11-02T13:45:47.063229923Z",
     "start_time": "2023-11-02T13:45:46.705563600Z"
    }
   },
   "id": "4966977f245991b"
  },
  {
   "cell_type": "code",
   "execution_count": 7,
   "outputs": [
    {
     "data": {
      "text/plain": "{'METADATA_SPEC_VERSION': 'SINGLE_TABLE_V1',\n 'columns': {'0': {'sdtype': 'numerical'},\n  '1': {'sdtype': 'numerical'},\n  '2': {'sdtype': 'numerical'},\n  '3': {'sdtype': 'numerical'},\n  '4': {'sdtype': 'categorical'},\n  '5': {'sdtype': 'categorical'},\n  '6': {'sdtype': 'categorical'},\n  '7': {'sdtype': 'categorical'},\n  '8': {'sdtype': 'categorical'},\n  '9': {'sdtype': 'categorical'},\n  '10': {'sdtype': 'categorical'},\n  '11': {'sdtype': 'categorical'},\n  '12': {'sdtype': 'categorical'},\n  '13': {'sdtype': 'categorical'},\n  '14': {'sdtype': 'categorical'},\n  '15': {'sdtype': 'categorical'},\n  '16': {'sdtype': 'categorical'},\n  '17': {'sdtype': 'categorical'},\n  '18': {'sdtype': 'categorical'},\n  '19': {'sdtype': 'categorical'},\n  '20': {'sdtype': 'categorical'},\n  '21': {'sdtype': 'categorical'},\n  '22': {'sdtype': 'categorical'},\n  '23': {'sdtype': 'categorical'},\n  '24': {'sdtype': 'categorical'},\n  '25': {'sdtype': 'categorical'},\n  '26': {'sdtype': 'categorical'},\n  '27': {'sdtype': 'categorical'},\n  '28': {'sdtype': 'categorical'},\n  '29': {'sdtype': 'categorical'},\n  '30': {'sdtype': 'categorical'},\n  '31': {'sdtype': 'categorical'},\n  '32': {'sdtype': 'categorical'},\n  '33': {'sdtype': 'categorical'},\n  '34': {'sdtype': 'categorical'},\n  '35': {'sdtype': 'categorical'},\n  '36': {'sdtype': 'categorical'},\n  '37': {'sdtype': 'categorical'},\n  '38': {'sdtype': 'categorical'},\n  '39': {'sdtype': 'categorical'},\n  '40': {'sdtype': 'categorical'},\n  '41': {'sdtype': 'categorical'},\n  '42': {'sdtype': 'categorical'},\n  '43': {'sdtype': 'categorical'},\n  '44': {'sdtype': 'categorical'},\n  '45': {'sdtype': 'categorical'},\n  '46': {'sdtype': 'categorical'},\n  '47': {'sdtype': 'categorical'},\n  '48': {'sdtype': 'categorical'},\n  '49': {'sdtype': 'categorical'},\n  '50': {'sdtype': 'categorical'},\n  '51': {'sdtype': 'categorical'},\n  '52': {'sdtype': 'categorical'},\n  '53': {'sdtype': 'categorical'},\n  '54': {'sdtype': 'categorical'},\n  '55': {'sdtype': 'categorical'},\n  '56': {'sdtype': 'categorical'},\n  '57': {'sdtype': 'categorical'},\n  '58': {'sdtype': 'categorical'},\n  '59': {'sdtype': 'categorical'},\n  '60': {'sdtype': 'categorical'},\n  '61': {'sdtype': 'categorical'},\n  '62': {'sdtype': 'categorical'},\n  '63': {'sdtype': 'categorical'},\n  '64': {'sdtype': 'categorical'},\n  '65': {'sdtype': 'categorical'},\n  '66': {'sdtype': 'categorical'},\n  '67': {'sdtype': 'categorical'},\n  '68': {'sdtype': 'categorical'},\n  '69': {'sdtype': 'categorical'},\n  '70': {'sdtype': 'categorical'},\n  '71': {'sdtype': 'categorical'},\n  '72': {'sdtype': 'categorical'},\n  '73': {'sdtype': 'categorical'},\n  '74': {'sdtype': 'categorical'},\n  '75': {'sdtype': 'categorical'},\n  '76': {'sdtype': 'categorical'},\n  '77': {'sdtype': 'categorical'},\n  '78': {'sdtype': 'categorical'}}}"
     },
     "execution_count": 7,
     "metadata": {},
     "output_type": "execute_result"
    }
   ],
   "source": [
    "metadata.to_dict()"
   ],
   "metadata": {
    "collapsed": false,
    "ExecuteTime": {
     "end_time": "2023-11-02T12:55:23.395722216Z",
     "start_time": "2023-11-02T12:55:23.380444040Z"
    }
   },
   "id": "256f653a46f92733"
  },
  {
   "cell_type": "code",
   "execution_count": 5,
   "outputs": [
    {
     "name": "stderr",
     "output_type": "stream",
     "text": [
      "/home/js/anaconda3/envs/adversarial-bb-training/lib/python3.10/site-packages/rdt/transformers/numerical.py:112: UserWarning: No rounding scheme detected for column '0'. Data will not be rounded.\n",
      "  warnings.warn(\n",
      "/home/js/anaconda3/envs/adversarial-bb-training/lib/python3.10/site-packages/rdt/transformers/numerical.py:112: UserWarning: No rounding scheme detected for column '1'. Data will not be rounded.\n",
      "  warnings.warn(\n",
      "/home/js/anaconda3/envs/adversarial-bb-training/lib/python3.10/site-packages/rdt/transformers/numerical.py:112: UserWarning: No rounding scheme detected for column '2'. Data will not be rounded.\n",
      "  warnings.warn(\n",
      "/home/js/anaconda3/envs/adversarial-bb-training/lib/python3.10/site-packages/rdt/transformers/numerical.py:112: UserWarning: No rounding scheme detected for column '3'. Data will not be rounded.\n",
      "  warnings.warn(\n"
     ]
    }
   ],
   "source": [
    "syn_model = CTGANSynthesizer(metadata)\n",
    "syn_model.fit(to_fit)"
   ],
   "metadata": {
    "collapsed": false,
    "ExecuteTime": {
     "end_time": "2023-11-02T14:58:12.472500848Z",
     "start_time": "2023-11-02T13:45:49.925861317Z"
    }
   },
   "id": "e8f73cf065d62b78"
  },
  {
   "cell_type": "code",
   "execution_count": 7,
   "outputs": [],
   "source": [
    "sampled = syn_model.sample(num_rows=output_size)\n",
    "syn_model.save('syn_model')"
   ],
   "metadata": {
    "collapsed": false,
    "ExecuteTime": {
     "end_time": "2023-11-02T15:21:04.789129304Z",
     "start_time": "2023-11-02T15:21:03.416962416Z"
    }
   },
   "id": "54987eb0fe68a21f"
  },
  {
   "cell_type": "code",
   "execution_count": 9,
   "outputs": [],
   "source": [
    "sampled.to_csv(\"data/syn_data.csv\")"
   ],
   "metadata": {
    "collapsed": false,
    "ExecuteTime": {
     "end_time": "2023-11-02T15:24:29.444931243Z",
     "start_time": "2023-11-02T15:24:29.029061461Z"
    }
   },
   "id": "7a9e498939ce4c24"
  },
  {
   "cell_type": "markdown",
   "source": [
    "### Train shadow models and generate output"
   ],
   "metadata": {
    "collapsed": false
   },
   "id": "b8dd819536f4e169"
  },
  {
   "cell_type": "code",
   "execution_count": null,
   "outputs": [],
   "source": [
    "all_shadow_outputs = []\n",
    "for ds in distributed_datasets:\n",
    "    outputs = generate_shadow_model_outputs(ds, X_test, n_shadow_models=n_shadow_models)\n",
    "    all_shadow_outputs.append(outputs)"
   ],
   "metadata": {
    "collapsed": false
   },
   "id": "807403d039c8b5b9"
  },
  {
   "cell_type": "markdown",
   "source": [
    "### Save shadow model outputs to file"
   ],
   "metadata": {
    "collapsed": false
   },
   "id": "2a909c59c49960cd"
  },
  {
   "cell_type": "code",
   "execution_count": null,
   "outputs": [],
   "source": [
    "adv_df = pd.DataFrame(np.array(np.concatenate((all_shadow_outputs))))\n",
    "adv_df[\"y\"] = np.concatenate(([np.repeat(d, n_shadow_models) for d in distributions]))\n",
    "adv_df.to_csv(\"data/shadow_model_outputs.csv\")"
   ],
   "metadata": {
    "collapsed": false
   },
   "id": "6e7b6fcb52d256ba"
  },
  {
   "cell_type": "markdown",
   "source": [
    "### Shadow model outputs as training data for adversary"
   ],
   "metadata": {
    "collapsed": false
   },
   "id": "4f148b8fe9e7013"
  },
  {
   "cell_type": "code",
   "execution_count": null,
   "outputs": [],
   "source": [
    "adv_df = pd.read_csv(\"data/shadow_model_outputs.csv\")\n",
    "adv_ddf_shuffled = adv_df.sample(frac=1, random_state=1).reset_index(drop=True)\n",
    "adv_y = adv_ddf_shuffled[\"y\"]\n",
    "adv_X = adv_ddf_shuffled.drop(columns=[\"y\"])"
   ],
   "metadata": {
    "collapsed": false
   },
   "id": "cccad5e8b03ad4d5"
  },
  {
   "cell_type": "code",
   "execution_count": 75,
   "outputs": [
    {
     "data": {
      "text/plain": "(1800, 9770)"
     },
     "execution_count": 75,
     "metadata": {},
     "output_type": "execute_result"
    }
   ],
   "source": [
    "adv_X.shape"
   ],
   "metadata": {
    "collapsed": false,
    "ExecuteTime": {
     "end_time": "2023-11-02T09:17:24.206496653Z",
     "start_time": "2023-11-02T09:17:24.157348417Z"
    }
   },
   "id": "3613e1abec47249e"
  },
  {
   "cell_type": "markdown",
   "source": [
    "### Create adversary"
   ],
   "metadata": {
    "collapsed": false
   },
   "id": "e27e1ee526589f4c"
  },
  {
   "cell_type": "code",
   "execution_count": 73,
   "outputs": [],
   "source": [
    "adversary = keras.Sequential()\n",
    "adversary.add(keras.Input(shape=(adv_X.shape[1],)))\n",
    "adversary.add(keras.layers.Dense(8, activation='relu'))\n",
    "adversary.add(keras.layers.Dense(4, activation='relu'))\n",
    "adversary.add(keras.layers.Dense(1))\n",
    "\n",
    "adversary.compile(optimizer='adam', loss=keras.losses.MeanSquaredError())"
   ],
   "metadata": {
    "collapsed": false,
    "ExecuteTime": {
     "end_time": "2023-11-02T09:16:06.951404700Z",
     "start_time": "2023-11-02T09:16:06.897333772Z"
    }
   },
   "id": "f321d38c0dbd2e9"
  },
  {
   "cell_type": "markdown",
   "source": [
    "### Train adversary"
   ],
   "metadata": {
    "collapsed": false
   },
   "id": "48b48337c2255bf6"
  },
  {
   "cell_type": "code",
   "execution_count": 74,
   "outputs": [
    {
     "name": "stdout",
     "output_type": "stream",
     "text": [
      "Epoch 1/10\n",
      "45/45 [==============================] - 1s 8ms/step - loss: 0.7688 - val_loss: 0.0686\n",
      "Epoch 2/10\n",
      "45/45 [==============================] - 0s 5ms/step - loss: 0.0099 - val_loss: 0.0017\n",
      "Epoch 3/10\n",
      "45/45 [==============================] - 0s 5ms/step - loss: 0.0021 - val_loss: 0.0014\n",
      "Epoch 4/10\n",
      "45/45 [==============================] - 0s 5ms/step - loss: 0.0018 - val_loss: 0.0013\n",
      "Epoch 5/10\n",
      "45/45 [==============================] - 0s 5ms/step - loss: 0.0017 - val_loss: 0.0012\n",
      "Epoch 6/10\n",
      "45/45 [==============================] - 0s 5ms/step - loss: 0.0016 - val_loss: 0.0011\n",
      "Epoch 7/10\n",
      "45/45 [==============================] - 0s 5ms/step - loss: 0.0015 - val_loss: 0.0011\n",
      "Epoch 8/10\n",
      "45/45 [==============================] - 0s 5ms/step - loss: 0.0014 - val_loss: 0.0010\n",
      "Epoch 9/10\n",
      "45/45 [==============================] - 0s 5ms/step - loss: 0.0013 - val_loss: 0.0010\n",
      "Epoch 10/10\n",
      "45/45 [==============================] - 0s 5ms/step - loss: 0.0012 - val_loss: 9.4432e-04\n"
     ]
    },
    {
     "data": {
      "text/plain": "<keras.src.callbacks.History at 0x7f294a273df0>"
     },
     "execution_count": 74,
     "metadata": {},
     "output_type": "execute_result"
    }
   ],
   "source": [
    "adversary.fit(adv_X, adv_y, validation_split=0.2, batch_size=32, epochs=10)"
   ],
   "metadata": {
    "collapsed": false,
    "ExecuteTime": {
     "end_time": "2023-11-02T09:16:11.232332262Z",
     "start_time": "2023-11-02T09:16:08.097855324Z"
    }
   },
   "id": "b5be01fe81d2faf4"
  },
  {
   "cell_type": "markdown",
   "source": [
    "# Test adversary"
   ],
   "metadata": {
    "collapsed": false
   },
   "id": "f8388ef1087ea205"
  },
  {
   "cell_type": "code",
   "execution_count": 76,
   "outputs": [],
   "source": [
    "adv_df_test = pd.read_csv(\"data/shadow_model_outputs_test_set.csv\")\n",
    "adv_ddf_shuffled_test = adv_df_test.sample(frac=1, random_state=1).reset_index(drop=True)\n",
    "adv_y_test = adv_ddf_shuffled_test[\"y\"]\n",
    "adv_X_test = adv_ddf_shuffled_test.drop(columns=[\"y\"])"
   ],
   "metadata": {
    "collapsed": false,
    "ExecuteTime": {
     "end_time": "2023-11-02T09:52:14.913520561Z",
     "start_time": "2023-11-02T09:52:13.825801824Z"
    }
   },
   "id": "1b611ad15ca42d0e"
  },
  {
   "cell_type": "code",
   "execution_count": 80,
   "outputs": [
    {
     "name": "stdout",
     "output_type": "stream",
     "text": [
      "15/15 [==============================] - 0s 2ms/step - loss: 0.1105\n"
     ]
    },
    {
     "data": {
      "text/plain": "0.11049496382474899"
     },
     "execution_count": 80,
     "metadata": {},
     "output_type": "execute_result"
    }
   ],
   "source": [
    "adversary.evaluate(adv_X_test, adv_y_test)#, adv_y_test)"
   ],
   "metadata": {
    "collapsed": false,
    "ExecuteTime": {
     "end_time": "2023-11-02T09:55:39.945944857Z",
     "start_time": "2023-11-02T09:55:39.760700822Z"
    }
   },
   "id": "eb69675f6aa542fd"
  },
  {
   "cell_type": "code",
   "execution_count": 79,
   "outputs": [
    {
     "data": {
      "text/plain": "0      0.9\n1      0.8\n2      0.4\n3      0.2\n4      0.1\n      ... \n445    0.6\n446    0.2\n447    0.8\n448    0.5\n449    0.1\nName: y, Length: 450, dtype: float64"
     },
     "execution_count": 79,
     "metadata": {},
     "output_type": "execute_result"
    }
   ],
   "source": [
    "adv_y_test"
   ],
   "metadata": {
    "collapsed": false,
    "ExecuteTime": {
     "end_time": "2023-11-02T09:53:33.952649657Z",
     "start_time": "2023-11-02T09:53:33.941640016Z"
    }
   },
   "id": "b46ef5956a55a615"
  },
  {
   "cell_type": "markdown",
   "source": [
    "### Next steps\n",
    "* Use adversary during training"
   ],
   "metadata": {
    "collapsed": false
   },
   "id": "ca7f74456ef02429"
  },
  {
   "cell_type": "markdown",
   "source": [
    "### (Data set analysis)"
   ],
   "metadata": {
    "collapsed": false
   },
   "id": "ac7861d95cdcba85"
  },
  {
   "cell_type": "code",
   "execution_count": null,
   "outputs": [],
   "source": [
    "import ydata_profiling\n",
    "\n",
    "ydata_profiling.ProfileReport(X_test)"
   ],
   "metadata": {
    "collapsed": false
   },
   "id": "23dd121bbeca4944"
  },
  {
   "cell_type": "code",
   "execution_count": null,
   "outputs": [],
   "source": [
    "# RANDOM DS\n",
    "random_dict = {}\n",
    "for attr in ds.X_train:\n",
    "    print(f'{round(X_train_pr[attr].min(),2)} {round(X_train_pr[attr].max(),2)}')\n",
    "    random_attr = np.random.rand(random_length)*(X_train_pr[attr].max()+abs(X_train_pr[attr].min()))-abs(X_train_pr[attr].min())\n",
    "    random_dict[attr] = random_attr"
   ],
   "metadata": {
    "collapsed": false
   },
   "id": "5e83d6cc0260faf0"
  },
  {
   "cell_type": "code",
   "execution_count": null,
   "outputs": [],
   "source": [
    "random_ds = pd.DataFrame(random_dict)"
   ],
   "metadata": {
    "collapsed": false
   },
   "id": "3c7d705447fbbf00"
  }
 ],
 "metadata": {
  "kernelspec": {
   "name": "python3",
   "language": "python",
   "display_name": "Python 3 (ipykernel)"
  },
  "language_info": {
   "codemirror_mode": {
    "name": "ipython",
    "version": 2
   },
   "file_extension": ".py",
   "mimetype": "text/x-python",
   "name": "python",
   "nbconvert_exporter": "python",
   "pygments_lexer": "ipython2",
   "version": "2.7.6"
  }
 },
 "nbformat": 4,
 "nbformat_minor": 5
}
