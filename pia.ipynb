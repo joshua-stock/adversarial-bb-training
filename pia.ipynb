{
 "cells": [
  {
   "cell_type": "code",
   "execution_count": null,
   "outputs": [],
   "source": [
    "!pip install \"matplotlib>=3.2,<=3.7.3\"\n",
    "!pip install \"ydata-profiling>4.4,<4.5\"\n",
    "!pip install tensorflow"
   ],
   "metadata": {
    "collapsed": false
   },
   "id": "73423984ecbf2895"
  },
  {
   "cell_type": "markdown",
   "source": [
    "## Ideas\n",
    "\n",
    "If adversary does not work, predict -> predict_proba to get more information"
   ],
   "metadata": {
    "collapsed": false
   },
   "id": "8cef951ab940b36f"
  },
  {
   "cell_type": "code",
   "execution_count": 1,
   "outputs": [],
   "source": [
    "import pandas as pd\n",
    "import numpy as np\n",
    "from pia_functions import data_train_test, get_distributed_adult_sets, generate_shadow_model_outputs"
   ],
   "metadata": {
    "collapsed": false,
    "ExecuteTime": {
     "end_time": "2023-11-01T16:21:12.870168285Z",
     "start_time": "2023-11-01T16:21:12.262696626Z"
    }
   },
   "id": "initial_id"
  },
  {
   "cell_type": "code",
   "execution_count": 2,
   "outputs": [],
   "source": [
    "n_shadow_models=10\n",
    "distributions=[0.1, 0.2]#, 0.3, 0.4, 0.5, 0.6, 0.7, 0.8, 0.9]"
   ],
   "metadata": {
    "collapsed": false,
    "ExecuteTime": {
     "end_time": "2023-11-01T16:21:17.242839156Z",
     "start_time": "2023-11-01T16:21:17.212268816Z"
    }
   },
   "id": "8cf0633c8de98074"
  },
  {
   "cell_type": "code",
   "execution_count": 3,
   "outputs": [],
   "source": [
    "X_train, X_test, y_train, y_test, sensitive, sensitive_t = data_train_test()"
   ],
   "metadata": {
    "collapsed": false,
    "ExecuteTime": {
     "end_time": "2023-11-01T16:21:17.787280109Z",
     "start_time": "2023-11-01T16:21:17.348305432Z"
    }
   },
   "id": "adde3f38057445c0"
  },
  {
   "cell_type": "code",
   "execution_count": 4,
   "outputs": [
    {
     "name": "stdout",
     "output_type": "stream",
     "text": [
      "now computing dist 0.1\n",
      "now computing dist 0.2\n"
     ]
    }
   ],
   "source": [
    "distributed_datasets = get_distributed_adult_sets(distributions=distributions)"
   ],
   "metadata": {
    "collapsed": false,
    "ExecuteTime": {
     "end_time": "2023-11-01T16:22:06.750608036Z",
     "start_time": "2023-11-01T16:21:17.791985562Z"
    }
   },
   "id": "a18e584a017832f1"
  },
  {
   "cell_type": "code",
   "execution_count": 13,
   "outputs": [
    {
     "data": {
      "text/plain": "0.0    12908\n1.0     1434\nName: sex_Male, dtype: int64"
     },
     "execution_count": 13,
     "metadata": {},
     "output_type": "execute_result"
    }
   ],
   "source": [
    "pd.value_counts(np.squeeze(distributed_datasets[0].sensitive))"
   ],
   "metadata": {
    "collapsed": false,
    "ExecuteTime": {
     "end_time": "2023-11-01T16:24:08.371717840Z",
     "start_time": "2023-11-01T16:24:08.362608613Z"
    }
   },
   "id": "361987c25dcb6e43"
  },
  {
   "cell_type": "code",
   "execution_count": 14,
   "outputs": [],
   "source": [
    "all_shadow_outputs = []\n",
    "for ds in distributed_datasets:\n",
    "    outputs = generate_shadow_model_outputs(ds, X_test, n_shadow_models=n_shadow_models)\n",
    "    all_shadow_outputs.append(outputs)"
   ],
   "metadata": {
    "collapsed": false,
    "ExecuteTime": {
     "end_time": "2023-11-01T16:27:30.382873573Z",
     "start_time": "2023-11-01T16:24:34.188564889Z"
    }
   },
   "id": "807403d039c8b5b9"
  },
  {
   "cell_type": "code",
   "execution_count": 15,
   "outputs": [],
   "source": [
    "adv_df = pd.DataFrame(np.array(np.concatenate((all_shadow_outputs))))\n",
    "adv_df[\"y\"] = np.concatenate(([np.repeat(d, n_shadow_models) for d in distributions]))\n",
    "adv_df.to_csv(\"shadow_model_outputs.csv\")"
   ],
   "metadata": {
    "collapsed": false,
    "ExecuteTime": {
     "end_time": "2023-11-01T16:27:37.590625706Z",
     "start_time": "2023-11-01T16:27:37.577387221Z"
    }
   },
   "id": "6e7b6fcb52d256ba"
  },
  {
   "cell_type": "code",
   "execution_count": 16,
   "outputs": [],
   "source": [
    "#adv_df = pd.read_csv(\"shadow_model_outputs.csv\")\n",
    "adv_ddf_shuffled = adv_df.sample(frac=1, random_state=1).reset_index(drop=True)\n",
    "adv_y = adv_ddf_shuffled[\"y\"]\n",
    "adv_X = adv_ddf_shuffled.drop(columns=[\"y\"])"
   ],
   "metadata": {
    "collapsed": false,
    "ExecuteTime": {
     "end_time": "2023-11-01T16:27:45.953469879Z",
     "start_time": "2023-11-01T16:27:45.900994784Z"
    }
   },
   "id": "cccad5e8b03ad4d5"
  },
  {
   "cell_type": "code",
   "execution_count": 8,
   "outputs": [],
   "source": [],
   "metadata": {
    "collapsed": false,
    "ExecuteTime": {
     "end_time": "2023-11-01T11:59:31.245852117Z",
     "start_time": "2023-11-01T11:59:31.222390187Z"
    }
   },
   "id": "f321d38c0dbd2e9"
  },
  {
   "cell_type": "code",
   "execution_count": 9,
   "outputs": [],
   "source": [],
   "metadata": {
    "collapsed": false,
    "ExecuteTime": {
     "end_time": "2023-11-01T12:00:04.190728257Z",
     "start_time": "2023-11-01T12:00:04.147549642Z"
    }
   },
   "id": "b5be01fe81d2faf4"
  },
  {
   "cell_type": "code",
   "execution_count": null,
   "outputs": [],
   "source": [
    "import ydata_profiling\n",
    "\n",
    "ydata_profiling.ProfileReport(X_test)"
   ],
   "metadata": {
    "collapsed": false
   },
   "id": "23dd121bbeca4944"
  },
  {
   "cell_type": "code",
   "execution_count": null,
   "outputs": [],
   "source": [
    "# RANDOM DS\n",
    "random_dict = {}\n",
    "for attr in ds.X_train:\n",
    "    print(f'{round(X_train_pr[attr].min(),2)} {round(X_train_pr[attr].max(),2)}')\n",
    "    random_attr = np.random.rand(random_length)*(X_train_pr[attr].max()+abs(X_train_pr[attr].min()))-abs(X_train_pr[attr].min())\n",
    "    random_dict[attr] = random_attr"
   ],
   "metadata": {
    "collapsed": false
   },
   "id": "5e83d6cc0260faf0"
  },
  {
   "cell_type": "code",
   "execution_count": null,
   "outputs": [],
   "source": [
    "random_ds = pd.DataFrame(random_dict)"
   ],
   "metadata": {
    "collapsed": false
   },
   "id": "3c7d705447fbbf00"
  }
 ],
 "metadata": {
  "kernelspec": {
   "display_name": "Python 3",
   "language": "python",
   "name": "python3"
  },
  "language_info": {
   "codemirror_mode": {
    "name": "ipython",
    "version": 2
   },
   "file_extension": ".py",
   "mimetype": "text/x-python",
   "name": "python",
   "nbconvert_exporter": "python",
   "pygments_lexer": "ipython2",
   "version": "2.7.6"
  }
 },
 "nbformat": 4,
 "nbformat_minor": 5
}
