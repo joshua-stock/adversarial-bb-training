{
 "cells": [
  {
   "cell_type": "code",
   "execution_count": 6,
   "outputs": [
    {
     "name": "stdout",
     "output_type": "stream",
     "text": [
      "Requirement already satisfied: matplotlib<=3.7.3,>=3.2 in /home/js/anaconda3/envs/adversarial-bb-training/lib/python3.10/site-packages (3.7.3)\r\n",
      "Requirement already satisfied: contourpy>=1.0.1 in /home/js/anaconda3/envs/adversarial-bb-training/lib/python3.10/site-packages (from matplotlib<=3.7.3,>=3.2) (1.1.1)\r\n",
      "Requirement already satisfied: cycler>=0.10 in /home/js/anaconda3/envs/adversarial-bb-training/lib/python3.10/site-packages (from matplotlib<=3.7.3,>=3.2) (0.12.1)\r\n",
      "Requirement already satisfied: fonttools>=4.22.0 in /home/js/anaconda3/envs/adversarial-bb-training/lib/python3.10/site-packages (from matplotlib<=3.7.3,>=3.2) (4.43.1)\r\n",
      "Requirement already satisfied: kiwisolver>=1.0.1 in /home/js/anaconda3/envs/adversarial-bb-training/lib/python3.10/site-packages (from matplotlib<=3.7.3,>=3.2) (1.4.5)\r\n",
      "Requirement already satisfied: numpy<2,>=1.20 in /home/js/anaconda3/envs/adversarial-bb-training/lib/python3.10/site-packages (from matplotlib<=3.7.3,>=3.2) (1.23.5)\r\n",
      "Requirement already satisfied: packaging>=20.0 in /home/js/anaconda3/envs/adversarial-bb-training/lib/python3.10/site-packages (from matplotlib<=3.7.3,>=3.2) (23.1)\r\n",
      "Requirement already satisfied: pillow>=6.2.0 in /home/js/anaconda3/envs/adversarial-bb-training/lib/python3.10/site-packages (from matplotlib<=3.7.3,>=3.2) (10.1.0)\r\n",
      "Requirement already satisfied: pyparsing>=2.3.1 in /home/js/anaconda3/envs/adversarial-bb-training/lib/python3.10/site-packages (from matplotlib<=3.7.3,>=3.2) (3.1.1)\r\n",
      "Requirement already satisfied: python-dateutil>=2.7 in /home/js/anaconda3/envs/adversarial-bb-training/lib/python3.10/site-packages (from matplotlib<=3.7.3,>=3.2) (2.8.2)\r\n",
      "Requirement already satisfied: six>=1.5 in /home/js/anaconda3/envs/adversarial-bb-training/lib/python3.10/site-packages (from python-dateutil>=2.7->matplotlib<=3.7.3,>=3.2) (1.16.0)\r\n",
      "\u001B[33mDEPRECATION: fairness 0.1.8 has a non-standard dependency specifier BlackBoxAuditing>=0.1.26ggplot. pip 24.0 will enforce this behaviour change. A possible replacement is to upgrade to a newer version of fairness or contact the author to suggest that they release a version with a conforming dependency specifiers. Discussion can be found at https://github.com/pypa/pip/issues/12063\u001B[0m\u001B[33m\r\n",
      "\u001B[0m^C\r\n",
      "\u001B[31mERROR: Operation cancelled by user\u001B[0m\u001B[31m\r\n",
      "\u001B[0mRequirement already satisfied: tensorflow in /home/js/anaconda3/envs/adversarial-bb-training/lib/python3.10/site-packages (2.14.0)\r\n",
      "Requirement already satisfied: absl-py>=1.0.0 in /home/js/anaconda3/envs/adversarial-bb-training/lib/python3.10/site-packages (from tensorflow) (2.0.0)\r\n",
      "Requirement already satisfied: astunparse>=1.6.0 in /home/js/anaconda3/envs/adversarial-bb-training/lib/python3.10/site-packages (from tensorflow) (1.6.3)\r\n",
      "Requirement already satisfied: flatbuffers>=23.5.26 in /home/js/anaconda3/envs/adversarial-bb-training/lib/python3.10/site-packages (from tensorflow) (23.5.26)\r\n",
      "Requirement already satisfied: gast!=0.5.0,!=0.5.1,!=0.5.2,>=0.2.1 in /home/js/anaconda3/envs/adversarial-bb-training/lib/python3.10/site-packages (from tensorflow) (0.5.4)\r\n",
      "Requirement already satisfied: google-pasta>=0.1.1 in /home/js/anaconda3/envs/adversarial-bb-training/lib/python3.10/site-packages (from tensorflow) (0.2.0)\r\n",
      "Requirement already satisfied: h5py>=2.9.0 in /home/js/anaconda3/envs/adversarial-bb-training/lib/python3.10/site-packages (from tensorflow) (3.10.0)\r\n",
      "Requirement already satisfied: libclang>=13.0.0 in /home/js/anaconda3/envs/adversarial-bb-training/lib/python3.10/site-packages (from tensorflow) (16.0.6)\r\n",
      "Requirement already satisfied: ml-dtypes==0.2.0 in /home/js/anaconda3/envs/adversarial-bb-training/lib/python3.10/site-packages (from tensorflow) (0.2.0)\r\n",
      "Requirement already satisfied: numpy>=1.23.5 in /home/js/anaconda3/envs/adversarial-bb-training/lib/python3.10/site-packages (from tensorflow) (1.23.5)\r\n",
      "Requirement already satisfied: opt-einsum>=2.3.2 in /home/js/anaconda3/envs/adversarial-bb-training/lib/python3.10/site-packages (from tensorflow) (3.3.0)\r\n",
      "Requirement already satisfied: packaging in /home/js/anaconda3/envs/adversarial-bb-training/lib/python3.10/site-packages (from tensorflow) (23.1)\r\n",
      "Requirement already satisfied: protobuf!=4.21.0,!=4.21.1,!=4.21.2,!=4.21.3,!=4.21.4,!=4.21.5,<5.0.0dev,>=3.20.3 in /home/js/anaconda3/envs/adversarial-bb-training/lib/python3.10/site-packages (from tensorflow) (4.24.4)\r\n",
      "Requirement already satisfied: setuptools in /home/js/anaconda3/envs/adversarial-bb-training/lib/python3.10/site-packages (from tensorflow) (68.0.0)\r\n",
      "Requirement already satisfied: six>=1.12.0 in /home/js/anaconda3/envs/adversarial-bb-training/lib/python3.10/site-packages (from tensorflow) (1.16.0)\r\n",
      "Requirement already satisfied: termcolor>=1.1.0 in /home/js/anaconda3/envs/adversarial-bb-training/lib/python3.10/site-packages (from tensorflow) (2.3.0)\r\n",
      "Requirement already satisfied: typing-extensions>=3.6.6 in /home/js/anaconda3/envs/adversarial-bb-training/lib/python3.10/site-packages (from tensorflow) (4.7.1)\r\n",
      "Requirement already satisfied: wrapt<1.15,>=1.11.0 in /home/js/anaconda3/envs/adversarial-bb-training/lib/python3.10/site-packages (from tensorflow) (1.14.1)\r\n",
      "Requirement already satisfied: tensorflow-io-gcs-filesystem>=0.23.1 in /home/js/anaconda3/envs/adversarial-bb-training/lib/python3.10/site-packages (from tensorflow) (0.34.0)\r\n",
      "Requirement already satisfied: grpcio<2.0,>=1.24.3 in /home/js/anaconda3/envs/adversarial-bb-training/lib/python3.10/site-packages (from tensorflow) (1.59.0)\r\n",
      "Requirement already satisfied: tensorboard<2.15,>=2.14 in /home/js/anaconda3/envs/adversarial-bb-training/lib/python3.10/site-packages (from tensorflow) (2.14.1)\r\n",
      "Requirement already satisfied: tensorflow-estimator<2.15,>=2.14.0 in /home/js/anaconda3/envs/adversarial-bb-training/lib/python3.10/site-packages (from tensorflow) (2.14.0)\r\n",
      "Requirement already satisfied: keras<2.15,>=2.14.0 in /home/js/anaconda3/envs/adversarial-bb-training/lib/python3.10/site-packages (from tensorflow) (2.14.0)\r\n",
      "Requirement already satisfied: wheel<1.0,>=0.23.0 in /home/js/anaconda3/envs/adversarial-bb-training/lib/python3.10/site-packages (from astunparse>=1.6.0->tensorflow) (0.41.2)\r\n",
      "Requirement already satisfied: google-auth<3,>=1.6.3 in /home/js/anaconda3/envs/adversarial-bb-training/lib/python3.10/site-packages (from tensorboard<2.15,>=2.14->tensorflow) (2.23.3)\r\n",
      "Requirement already satisfied: google-auth-oauthlib<1.1,>=0.5 in /home/js/anaconda3/envs/adversarial-bb-training/lib/python3.10/site-packages (from tensorboard<2.15,>=2.14->tensorflow) (1.0.0)\r\n",
      "Requirement already satisfied: markdown>=2.6.8 in /home/js/anaconda3/envs/adversarial-bb-training/lib/python3.10/site-packages (from tensorboard<2.15,>=2.14->tensorflow) (3.5)\r\n",
      "Requirement already satisfied: requests<3,>=2.21.0 in /home/js/anaconda3/envs/adversarial-bb-training/lib/python3.10/site-packages (from tensorboard<2.15,>=2.14->tensorflow) (2.31.0)\r\n",
      "Requirement already satisfied: tensorboard-data-server<0.8.0,>=0.7.0 in /home/js/anaconda3/envs/adversarial-bb-training/lib/python3.10/site-packages (from tensorboard<2.15,>=2.14->tensorflow) (0.7.2)\r\n",
      "Requirement already satisfied: werkzeug>=1.0.1 in /home/js/anaconda3/envs/adversarial-bb-training/lib/python3.10/site-packages (from tensorboard<2.15,>=2.14->tensorflow) (3.0.1)\r\n",
      "Requirement already satisfied: cachetools<6.0,>=2.0.0 in /home/js/anaconda3/envs/adversarial-bb-training/lib/python3.10/site-packages (from google-auth<3,>=1.6.3->tensorboard<2.15,>=2.14->tensorflow) (5.3.2)\r\n",
      "Requirement already satisfied: pyasn1-modules>=0.2.1 in /home/js/anaconda3/envs/adversarial-bb-training/lib/python3.10/site-packages (from google-auth<3,>=1.6.3->tensorboard<2.15,>=2.14->tensorflow) (0.3.0)\r\n",
      "Requirement already satisfied: rsa<5,>=3.1.4 in /home/js/anaconda3/envs/adversarial-bb-training/lib/python3.10/site-packages (from google-auth<3,>=1.6.3->tensorboard<2.15,>=2.14->tensorflow) (4.9)\r\n",
      "Requirement already satisfied: requests-oauthlib>=0.7.0 in /home/js/anaconda3/envs/adversarial-bb-training/lib/python3.10/site-packages (from google-auth-oauthlib<1.1,>=0.5->tensorboard<2.15,>=2.14->tensorflow) (1.3.1)\r\n",
      "Requirement already satisfied: charset-normalizer<4,>=2 in /home/js/anaconda3/envs/adversarial-bb-training/lib/python3.10/site-packages (from requests<3,>=2.21.0->tensorboard<2.15,>=2.14->tensorflow) (2.0.4)\r\n",
      "Requirement already satisfied: idna<4,>=2.5 in /home/js/anaconda3/envs/adversarial-bb-training/lib/python3.10/site-packages (from requests<3,>=2.21.0->tensorboard<2.15,>=2.14->tensorflow) (3.4)\r\n",
      "Requirement already satisfied: urllib3<3,>=1.21.1 in /home/js/anaconda3/envs/adversarial-bb-training/lib/python3.10/site-packages (from requests<3,>=2.21.0->tensorboard<2.15,>=2.14->tensorflow) (1.26.16)\r\n",
      "Requirement already satisfied: certifi>=2017.4.17 in /home/js/anaconda3/envs/adversarial-bb-training/lib/python3.10/site-packages (from requests<3,>=2.21.0->tensorboard<2.15,>=2.14->tensorflow) (2023.7.22)\r\n",
      "Requirement already satisfied: MarkupSafe>=2.1.1 in /home/js/anaconda3/envs/adversarial-bb-training/lib/python3.10/site-packages (from werkzeug>=1.0.1->tensorboard<2.15,>=2.14->tensorflow) (2.1.1)\r\n",
      "Requirement already satisfied: pyasn1<0.6.0,>=0.4.6 in /home/js/anaconda3/envs/adversarial-bb-training/lib/python3.10/site-packages (from pyasn1-modules>=0.2.1->google-auth<3,>=1.6.3->tensorboard<2.15,>=2.14->tensorflow) (0.5.0)\r\n",
      "Requirement already satisfied: oauthlib>=3.0.0 in /home/js/anaconda3/envs/adversarial-bb-training/lib/python3.10/site-packages (from requests-oauthlib>=0.7.0->google-auth-oauthlib<1.1,>=0.5->tensorboard<2.15,>=2.14->tensorflow) (3.2.2)\r\n",
      "\u001B[33mDEPRECATION: fairness 0.1.8 has a non-standard dependency specifier BlackBoxAuditing>=0.1.26ggplot. pip 24.0 will enforce this behaviour change. A possible replacement is to upgrade to a newer version of fairness or contact the author to suggest that they release a version with a conforming dependency specifiers. Discussion can be found at https://github.com/pypa/pip/issues/12063\u001B[0m\u001B[33m\r\n",
      "\u001B[0m"
     ]
    }
   ],
   "source": [
    "!pip install \"matplotlib>=3.2,<=3.7.3\"\n",
    "!pip install \"ydata-profiling>4.4,<4.5\"\n",
    "!pip install tensorflow"
   ],
   "metadata": {
    "collapsed": false,
    "ExecuteTime": {
     "end_time": "2023-10-25T15:34:19.880999885Z",
     "start_time": "2023-10-25T15:34:12.745914893Z"
    }
   },
   "id": "73423984ecbf2895"
  },
  {
   "cell_type": "code",
   "execution_count": 7,
   "outputs": [],
   "source": [
    "import pandas as pd\n",
    "\n",
    "from functions import *\n",
    "import numpy as np\n",
    "import operator\n",
    "\n",
    "#np.random.seed(1)\n",
    "#X_train, X_test, y_train, y_test, sensitive, sensitivet = DATA_TRAIN_TEST(1,'sex',\"income-per-year\",['sex','income-per-year','race-sex'])  #,'race','race-sex','sex'"
   ],
   "metadata": {
    "collapsed": false,
    "ExecuteTime": {
     "end_time": "2023-10-25T15:34:19.938957367Z",
     "start_time": "2023-10-25T15:34:19.885901704Z"
    }
   },
   "id": "initial_id"
  },
  {
   "cell_type": "code",
   "execution_count": 8,
   "outputs": [],
   "source": [
    "class DatasetWithForcedDistribution:\n",
    "    def __init__(self, sensitive_attribute_name, distribution, X_train, X_test, y_train, y_test, sensitive, sensitive_t):\n",
    "        self.sensitive_attribute_name = sensitive_attribute_name\n",
    "        self.distribution = distribution\n",
    "        self.X_train = X_train\n",
    "        self.X_test = X_test\n",
    "        self.y_train = y_train\n",
    "        self.y_test = y_test\n",
    "        self.sensitive = sensitive\n",
    "        self.sensitive_t = sensitive_t\n",
    "        "
   ],
   "metadata": {
    "collapsed": false,
    "ExecuteTime": {
     "end_time": "2023-10-25T15:34:19.939733430Z",
     "start_time": "2023-10-25T15:34:19.934476639Z"
    }
   },
   "id": "9656d10fd02bb435"
  },
  {
   "cell_type": "code",
   "execution_count": 9,
   "outputs": [
    {
     "data": {
      "text/plain": "1    13603\n0     6505\ndtype: int64"
     },
     "execution_count": 9,
     "metadata": {},
     "output_type": "execute_result"
    }
   ],
   "source": [
    "pd.value_counts(sensitive)"
   ],
   "metadata": {
    "collapsed": false,
    "ExecuteTime": {
     "end_time": "2023-10-25T15:34:19.942901356Z",
     "start_time": "2023-10-25T15:34:19.935276996Z"
    }
   },
   "id": "d778dba6a0e47a63"
  },
  {
   "cell_type": "code",
   "execution_count": 16,
   "outputs": [
    {
     "name": "stdout",
     "output_type": "stream",
     "text": [
      "now computing dist 0.1\n"
     ]
    },
    {
     "name": "stderr",
     "output_type": "stream",
     "text": [
      "/home/js/git/adversarial-bb-training/functions.py:126: FutureWarning: In a future version of pandas all arguments of DataFrame.drop except for the argument 'labels' will be keyword-only.\n",
      "  X_train = X_train.drop(columns_delete,1)\n",
      "/home/js/git/adversarial-bb-training/functions.py:127: FutureWarning: In a future version of pandas all arguments of DataFrame.drop except for the argument 'labels' will be keyword-only.\n",
      "  X_test = X_test.drop(columns_delete,1)\n"
     ]
    },
    {
     "name": "stdout",
     "output_type": "stream",
     "text": [
      "now computing dist 0.2\n"
     ]
    },
    {
     "name": "stderr",
     "output_type": "stream",
     "text": [
      "/home/js/git/adversarial-bb-training/functions.py:126: FutureWarning: In a future version of pandas all arguments of DataFrame.drop except for the argument 'labels' will be keyword-only.\n",
      "  X_train = X_train.drop(columns_delete,1)\n",
      "/home/js/git/adversarial-bb-training/functions.py:127: FutureWarning: In a future version of pandas all arguments of DataFrame.drop except for the argument 'labels' will be keyword-only.\n",
      "  X_test = X_test.drop(columns_delete,1)\n"
     ]
    }
   ],
   "source": [
    "\n",
    "distributions = [0.1, 0.2]#, 0.3, 0.4, 0.5, 0.6, 0.7, 0.8, 0.9]  # fraction of samples with sensitive=1\n",
    "\n",
    "all_datasets = []\n",
    "\n",
    "def droppy(df, idx):\n",
    "    return df.reset_index().drop(index=idx).drop(columns=[\"index\"])\n",
    "\n",
    "\n",
    "def find_indices_to_drop(sensitive, target_distribution):\n",
    "    length = len(sensitive)\n",
    "    indices_to_drop = []\n",
    "    def current_dist(sensitive_value=1):\n",
    "        if sensitive_value == 1:\n",
    "            return (pd.value_counts(sensitive)[1] - len(indices_to_drop)) / (length - len(indices_to_drop))\n",
    "        else:\n",
    "            return (pd.value_counts(sensitive)[1]) / (length - len(indices_to_drop))\n",
    "\n",
    "    if current_dist() > target_distribution:\n",
    "        comp = operator.gt\n",
    "        sensitive_value_to_delete = 1\n",
    "    else:\n",
    "        comp = operator.lt\n",
    "        sensitive_value_to_delete = 0\n",
    "\n",
    "    i = 0\n",
    "    while comp(current_dist(sensitive_value_to_delete), target_distribution):\n",
    "        if sensitive[i]==sensitive_value_to_delete:\n",
    "            indices_to_drop.append(i)\n",
    "        i = i + 1\n",
    "        \n",
    "    return indices_to_drop\n",
    "\n",
    "for dist in distributions:\n",
    "    print(f'now computing dist {dist}')\n",
    "    np.random.seed(1)\n",
    "    X_train, X_test, y_train, y_test, sensitive, sensitive_t = DATA_TRAIN_TEST(1,'sex',\"income-per-year\",['sex','income-per-year','race-sex'])\n",
    "    \n",
    "    indices_to_drop = find_indices_to_drop(sensitive, dist)\n",
    "    indices_to_drop_t = find_indices_to_drop(sensitive_t, dist)\n",
    "\n",
    "    df = DatasetWithForcedDistribution(\n",
    "        sensitive_attribute_name = 'sex',\n",
    "        distribution = dist,\n",
    "        X_train = droppy(X_train, idx=indices_to_drop),\n",
    "        X_test = droppy(X_test, idx=indices_to_drop_t),\n",
    "        y_train = droppy(y_train, idx=indices_to_drop),\n",
    "        y_test = droppy(y_test, idx=indices_to_drop_t),\n",
    "        sensitive = np.delete(sensitive, indices_to_drop, 0),\n",
    "        sensitive_t = np.delete(sensitive_t, indices_to_drop_t, 0)\n",
    "    )\n",
    "    all_datasets.append(df)"
   ],
   "metadata": {
    "collapsed": false,
    "ExecuteTime": {
     "end_time": "2023-10-25T15:38:50.403537256Z",
     "start_time": "2023-10-25T15:38:31.394594522Z"
    }
   },
   "id": "30715be0e13a72c7"
  },
  {
   "cell_type": "code",
   "execution_count": null,
   "outputs": [],
   "source": [
    "for ds in all_datasets:\n",
    "    print(pd.value_counts(ds.sensitive) / len(ds.sensitive))"
   ],
   "metadata": {
    "collapsed": false,
    "ExecuteTime": {
     "end_time": "2023-10-25T15:34:25.357823138Z",
     "start_time": "2023-10-25T15:34:25.356527876Z"
    }
   },
   "id": "8382bbd9a8e5b3ce"
  },
  {
   "cell_type": "code",
   "execution_count": null,
   "outputs": [],
   "source": [
    "ds.y_train"
   ],
   "metadata": {
    "collapsed": false,
    "ExecuteTime": {
     "start_time": "2023-10-25T15:34:25.361516328Z"
    }
   },
   "id": "15fccbfe3a71662b"
  },
  {
   "cell_type": "code",
   "execution_count": 17,
   "outputs": [],
   "source": [
    "#for ds in all_datasets:\n",
    "ds = all_datasets[0]"
   ],
   "metadata": {
    "collapsed": false,
    "ExecuteTime": {
     "end_time": "2023-10-25T15:39:11.060728822Z",
     "start_time": "2023-10-25T15:39:10.998293469Z"
    }
   },
   "id": "d50f27d22c4e7fc9"
  },
  {
   "cell_type": "code",
   "execution_count": 28,
   "outputs": [
    {
     "name": "stderr",
     "output_type": "stream",
     "text": [
      "/home/js/anaconda3/envs/adversarial-bb-training/lib/python3.10/site-packages/sklearn/ensemble/_gb.py:424: DataConversionWarning: A column-vector y was passed when a 1d array was expected. Please change the shape of y to (n_samples, ), for example using ravel().\n",
      "  y = column_or_1d(y, warn=True)\n"
     ]
    },
    {
     "data": {
      "text/plain": "GradientBoostingClassifier(learning_rate=0.05, max_features=90,\n                           min_samples_leaf=2, n_estimators=500,\n                           random_state=0)",
      "text/html": "<style>#sk-container-id-2 {color: black;}#sk-container-id-2 pre{padding: 0;}#sk-container-id-2 div.sk-toggleable {background-color: white;}#sk-container-id-2 label.sk-toggleable__label {cursor: pointer;display: block;width: 100%;margin-bottom: 0;padding: 0.3em;box-sizing: border-box;text-align: center;}#sk-container-id-2 label.sk-toggleable__label-arrow:before {content: \"▸\";float: left;margin-right: 0.25em;color: #696969;}#sk-container-id-2 label.sk-toggleable__label-arrow:hover:before {color: black;}#sk-container-id-2 div.sk-estimator:hover label.sk-toggleable__label-arrow:before {color: black;}#sk-container-id-2 div.sk-toggleable__content {max-height: 0;max-width: 0;overflow: hidden;text-align: left;background-color: #f0f8ff;}#sk-container-id-2 div.sk-toggleable__content pre {margin: 0.2em;color: black;border-radius: 0.25em;background-color: #f0f8ff;}#sk-container-id-2 input.sk-toggleable__control:checked~div.sk-toggleable__content {max-height: 200px;max-width: 100%;overflow: auto;}#sk-container-id-2 input.sk-toggleable__control:checked~label.sk-toggleable__label-arrow:before {content: \"▾\";}#sk-container-id-2 div.sk-estimator input.sk-toggleable__control:checked~label.sk-toggleable__label {background-color: #d4ebff;}#sk-container-id-2 div.sk-label input.sk-toggleable__control:checked~label.sk-toggleable__label {background-color: #d4ebff;}#sk-container-id-2 input.sk-hidden--visually {border: 0;clip: rect(1px 1px 1px 1px);clip: rect(1px, 1px, 1px, 1px);height: 1px;margin: -1px;overflow: hidden;padding: 0;position: absolute;width: 1px;}#sk-container-id-2 div.sk-estimator {font-family: monospace;background-color: #f0f8ff;border: 1px dotted black;border-radius: 0.25em;box-sizing: border-box;margin-bottom: 0.5em;}#sk-container-id-2 div.sk-estimator:hover {background-color: #d4ebff;}#sk-container-id-2 div.sk-parallel-item::after {content: \"\";width: 100%;border-bottom: 1px solid gray;flex-grow: 1;}#sk-container-id-2 div.sk-label:hover label.sk-toggleable__label {background-color: #d4ebff;}#sk-container-id-2 div.sk-serial::before {content: \"\";position: absolute;border-left: 1px solid gray;box-sizing: border-box;top: 0;bottom: 0;left: 50%;z-index: 0;}#sk-container-id-2 div.sk-serial {display: flex;flex-direction: column;align-items: center;background-color: white;padding-right: 0.2em;padding-left: 0.2em;position: relative;}#sk-container-id-2 div.sk-item {position: relative;z-index: 1;}#sk-container-id-2 div.sk-parallel {display: flex;align-items: stretch;justify-content: center;background-color: white;position: relative;}#sk-container-id-2 div.sk-item::before, #sk-container-id-2 div.sk-parallel-item::before {content: \"\";position: absolute;border-left: 1px solid gray;box-sizing: border-box;top: 0;bottom: 0;left: 50%;z-index: -1;}#sk-container-id-2 div.sk-parallel-item {display: flex;flex-direction: column;z-index: 1;position: relative;background-color: white;}#sk-container-id-2 div.sk-parallel-item:first-child::after {align-self: flex-end;width: 50%;}#sk-container-id-2 div.sk-parallel-item:last-child::after {align-self: flex-start;width: 50%;}#sk-container-id-2 div.sk-parallel-item:only-child::after {width: 0;}#sk-container-id-2 div.sk-dashed-wrapped {border: 1px dashed gray;margin: 0 0.4em 0.5em 0.4em;box-sizing: border-box;padding-bottom: 0.4em;background-color: white;}#sk-container-id-2 div.sk-label label {font-family: monospace;font-weight: bold;display: inline-block;line-height: 1.2em;}#sk-container-id-2 div.sk-label-container {text-align: center;}#sk-container-id-2 div.sk-container {/* jupyter's `normalize.less` sets `[hidden] { display: none; }` but bootstrap.min.css set `[hidden] { display: none !important; }` so we also need the `!important` here to be able to override the default hidden behavior on the sphinx rendered scikit-learn.org. See: https://github.com/scikit-learn/scikit-learn/issues/21755 */display: inline-block !important;position: relative;}#sk-container-id-2 div.sk-text-repr-fallback {display: none;}</style><div id=\"sk-container-id-2\" class=\"sk-top-container\"><div class=\"sk-text-repr-fallback\"><pre>GradientBoostingClassifier(learning_rate=0.05, max_features=90,\n                           min_samples_leaf=2, n_estimators=500,\n                           random_state=0)</pre><b>In a Jupyter environment, please rerun this cell to show the HTML representation or trust the notebook. <br />On GitHub, the HTML representation is unable to render, please try loading this page with nbviewer.org.</b></div><div class=\"sk-container\" hidden><div class=\"sk-item\"><div class=\"sk-estimator sk-toggleable\"><input class=\"sk-toggleable__control sk-hidden--visually\" id=\"sk-estimator-id-2\" type=\"checkbox\" checked><label for=\"sk-estimator-id-2\" class=\"sk-toggleable__label sk-toggleable__label-arrow\">GradientBoostingClassifier</label><div class=\"sk-toggleable__content\"><pre>GradientBoostingClassifier(learning_rate=0.05, max_features=90,\n                           min_samples_leaf=2, n_estimators=500,\n                           random_state=0)</pre></div></div></div></div></div>"
     },
     "execution_count": 28,
     "metadata": {},
     "output_type": "execute_result"
    }
   ],
   "source": [
    "\n",
    "gb = GradientBoostingClassifier(n_estimators=500, learning_rate = 0.05, max_depth = 3, max_features=90,random_state=0,  min_impurity_decrease=0.0,\n",
    "                                min_samples_leaf=2, min_samples_split=2,\n",
    "                                min_weight_fraction_leaf=0.0)\n",
    "gb.fit(ds.X_train, ds.y_train)"
   ],
   "metadata": {
    "collapsed": false,
    "ExecuteTime": {
     "end_time": "2023-10-25T16:04:45.712935986Z",
     "start_time": "2023-10-25T16:04:41.003814288Z"
    }
   },
   "id": "5931f729ffe6d491"
  },
  {
   "cell_type": "code",
   "execution_count": null,
   "outputs": [],
   "source": [
    "y_pred = gb.predict(ds.X_test.values)"
   ],
   "metadata": {
    "collapsed": false,
    "ExecuteTime": {
     "start_time": "2023-10-25T15:34:25.407104372Z"
    }
   },
   "id": "ca25f655f056f4ef"
  },
  {
   "cell_type": "code",
   "execution_count": null,
   "outputs": [],
   "source": [
    "# gb.predict_proba(ds.X_test.values) # !!"
   ],
   "metadata": {
    "collapsed": false,
    "ExecuteTime": {
     "start_time": "2023-10-25T15:34:25.407938314Z"
    }
   },
   "id": "742f9ff10cc44568"
  },
  {
   "cell_type": "code",
   "execution_count": null,
   "outputs": [],
   "source": [
    "from sklearn.metrics import accuracy_score\n",
    "\n",
    "accuracy_score(ds.y_test[\"income-per-year\"], y_pred)"
   ],
   "metadata": {
    "collapsed": false,
    "ExecuteTime": {
     "start_time": "2023-10-25T15:34:25.408667810Z"
    }
   },
   "id": "94bbf87d60fe2403"
  },
  {
   "cell_type": "code",
   "execution_count": null,
   "outputs": [],
   "source": [
    "X_train_pr, _, _, _, _, _ = DATA_TRAIN_TEST(1,'sex',\"income-per-year\",['sex','income-per-year','race-sex'])"
   ],
   "metadata": {
    "collapsed": false,
    "ExecuteTime": {
     "start_time": "2023-10-25T15:34:25.409073328Z"
    }
   },
   "id": "7dd446db1ac85ad8"
  },
  {
   "cell_type": "code",
   "execution_count": null,
   "outputs": [],
   "source": [
    "import ydata_profiling\n",
    "\n",
    "ydata_profiling.ProfileReport(X_train_pr)"
   ],
   "metadata": {
    "collapsed": false,
    "ExecuteTime": {
     "start_time": "2023-10-25T15:34:25.409600351Z"
    }
   },
   "id": "23dd121bbeca4944"
  },
  {
   "cell_type": "code",
   "execution_count": 20,
   "outputs": [
    {
     "data": {
      "text/plain": "(7227, 97)"
     },
     "execution_count": 20,
     "metadata": {},
     "output_type": "execute_result"
    }
   ],
   "source": [
    "ds.X_train.shape"
   ],
   "metadata": {
    "collapsed": false,
    "ExecuteTime": {
     "end_time": "2023-10-25T15:58:29.170409667Z",
     "start_time": "2023-10-25T15:58:29.126276996Z"
    }
   },
   "id": "3ef4535c55ba6a24"
  },
  {
   "cell_type": "code",
   "execution_count": 30,
   "outputs": [],
   "source": [
    "random_length = 300"
   ],
   "metadata": {
    "collapsed": false,
    "ExecuteTime": {
     "end_time": "2023-10-25T16:05:14.568313129Z",
     "start_time": "2023-10-25T16:05:14.517038074Z"
    }
   },
   "id": "f9b099c913b02798"
  },
  {
   "cell_type": "code",
   "execution_count": 31,
   "outputs": [
    {
     "name": "stdout",
     "output_type": "stream",
     "text": [
      "-1.63 3.94\n",
      "-3.58 2.31\n",
      "-2.47 0.4\n",
      "-0.15 13.4\n",
      "-0.22 10.76\n",
      "-3.34 4.85\n",
      "-0.18 5.62\n",
      "-0.27 3.68\n",
      "-1.68 0.6\n",
      "-0.19 5.16\n",
      "-0.3 3.32\n",
      "-0.21 4.71\n",
      "-0.02 44.83\n",
      "-0.17 5.96\n",
      "-0.19 5.35\n",
      "-0.11 8.99\n",
      "-0.07 14.0\n",
      "-0.1 10.21\n",
      "-0.14 7.19\n",
      "-0.12 8.24\n",
      "-0.18 5.47\n",
      "-0.22 4.61\n",
      "-0.45 2.23\n",
      "-0.11 8.99\n",
      "-0.7 1.44\n",
      "-0.24 4.15\n",
      "-0.04 26.78\n",
      "-0.14 7.41\n",
      "-0.53 1.88\n",
      "-0.4 2.5\n",
      "-0.03 36.6\n",
      "-0.94 1.06\n",
      "-0.11 9.2\n",
      "-0.69 1.45\n",
      "-0.18 5.58\n",
      "-0.17 6.02\n",
      "-0.37 2.67\n",
      "-0.02 57.88\n",
      "-0.39 2.54\n",
      "-0.39 2.54\n",
      "-0.18 5.48\n",
      "-0.22 4.61\n",
      "-0.26 3.79\n",
      "-0.34 2.93\n",
      "-0.07 14.51\n",
      "-0.39 2.55\n",
      "-0.15 6.67\n",
      "-0.37 2.72\n",
      "-0.18 5.67\n",
      "-0.24 4.23\n",
      "-0.84 1.18\n",
      "-0.59 1.71\n",
      "-0.18 5.71\n",
      "-0.42 2.4\n",
      "-0.34 2.93\n",
      "-0.22 4.55\n",
      "-0.03 39.32\n",
      "-0.06 16.8\n",
      "-0.05 21.35\n",
      "-0.04 22.98\n",
      "-0.06 17.84\n",
      "-0.05 20.03\n",
      "-0.03 32.52\n",
      "-0.06 17.84\n",
      "-0.05 19.64\n",
      "-0.03 31.69\n",
      "-0.06 16.02\n",
      "-0.03 32.52\n",
      "-0.05 21.6\n",
      "-0.04 25.45\n",
      "-0.01 141.8\n",
      "-0.02 57.88\n",
      "-0.02 42.74\n",
      "-0.02 47.26\n",
      "-0.06 16.92\n",
      "-0.04 27.27\n",
      "-0.03 36.6\n",
      "-0.05 21.86\n",
      "-0.05 19.09\n",
      "-0.05 20.88\n",
      "-0.03 39.32\n",
      "-0.14 7.14\n",
      "-0.03 35.44\n",
      "-0.02 47.26\n",
      "-0.03 34.38\n",
      "-0.08 12.85\n",
      "-0.04 23.61\n",
      "-0.03 29.55\n",
      "-0.06 16.68\n",
      "-0.02 53.59\n",
      "-0.05 21.35\n",
      "-0.04 23.29\n",
      "-0.03 36.6\n",
      "-0.02 40.92\n",
      "-3.24 0.31\n",
      "-0.05 21.12\n",
      "-0.02 42.74\n"
     ]
    }
   ],
   "source": [
    "random_dict = {}\n",
    "for attr in ds.X_train:\n",
    "    print(f'{round(X_train_pr[attr].min(),2)} {round(X_train_pr[attr].max(),2)}')\n",
    "    random_attr = np.random.rand(random_length)*(X_train_pr[attr].max()+abs(X_train_pr[attr].min()))-abs(X_train_pr[attr].min())\n",
    "    random_dict[attr] = random_attr"
   ],
   "metadata": {
    "collapsed": false,
    "ExecuteTime": {
     "end_time": "2023-10-25T16:05:15.104935229Z",
     "start_time": "2023-10-25T16:05:15.039936328Z"
    }
   },
   "id": "5e83d6cc0260faf0"
  },
  {
   "cell_type": "code",
   "execution_count": 32,
   "outputs": [],
   "source": [
    "random_ds = pd.DataFrame(random_dict)"
   ],
   "metadata": {
    "collapsed": false,
    "ExecuteTime": {
     "end_time": "2023-10-25T16:05:15.552303509Z",
     "start_time": "2023-10-25T16:05:15.548702053Z"
    }
   },
   "id": "3c7d705447fbbf00"
  },
  {
   "cell_type": "code",
   "execution_count": 33,
   "outputs": [
    {
     "data": {
      "text/plain": "          age  education-num      race  capital-gain  capital-loss  \\\n0   -0.341585      -0.276075 -0.443886      9.902258      0.997499   \n1   -0.834133      -0.319917 -1.308346      4.672400      6.037236   \n2   -0.146089      -0.977029  0.140472      2.419523     10.012216   \n3    1.995140      -2.637425 -1.928773      0.897730      9.896598   \n4    1.517468      -0.842447 -2.128235      1.728006     10.030556   \n..        ...            ...       ...           ...           ...   \n295 -0.478198       0.876770 -0.463016      8.554835      9.401703   \n296  0.357670      -1.966372 -0.177667     10.918937      5.140978   \n297  2.667022      -0.623071 -1.792720      2.927198      7.693916   \n298  0.440193      -2.971842 -1.170570      3.376302     -0.096238   \n299  1.930719       0.684547 -2.360058      0.685273      3.463508   \n\n     hours-per-week  workclass_Federal-gov  workclass_Local-gov  \\\n0          4.133365               2.892329             3.280893   \n1         -1.769039               2.401414             1.200259   \n2          2.190774              -0.146020             2.181786   \n3         -1.720436               1.816193             0.093687   \n4          3.702781               3.522343             1.791405   \n..              ...                    ...                  ...   \n295        4.675726               3.061632            -0.261752   \n296       -0.003986               4.513418             3.492415   \n297       -0.568633               1.184984             0.071276   \n298        1.122017               1.801267             2.105464   \n299        0.951345              -0.124607             2.014952   \n\n     workclass_Private  workclass_Self-emp-inc  ...  native-country_Portugal  \\\n0            -1.609508                2.882419  ...                28.324142   \n1            -1.601420                2.498215  ...                29.165701   \n2            -1.119446                4.570097  ...                12.325566   \n3             0.206481                0.162663  ...                15.892994   \n4            -1.474639                3.152261  ...                27.320278   \n..                 ...                     ...  ...                      ...   \n295          -0.708796                1.249141  ...                29.255712   \n296          -1.669956                5.128863  ...                23.961204   \n297          -0.871344                3.997399  ...                 1.775460   \n298          -0.276369                4.628767  ...                15.634381   \n299          -0.410552                4.680466  ...                22.610236   \n\n     native-country_Puerto-Rico  native-country_Scotland  \\\n0                      1.743609                27.051170   \n1                     16.344917                45.187133   \n2                     10.647561                49.607300   \n3                     16.549307                44.553314   \n4                     14.178426                49.158695   \n..                          ...                      ...   \n295                   10.732403                27.726490   \n296                    3.230167                41.456071   \n297                   15.375930                15.341958   \n298                   11.716053                30.578649   \n299                   13.670409                33.767009   \n\n     native-country_South  native-country_Taiwan  native-country_Thailand  \\\n0                8.419170              17.613443                10.431213   \n1               18.703565              15.504126                13.253633   \n2               14.598764               9.775153                 0.069538   \n3               11.766583              10.399065                25.370046   \n4               18.940200              14.230635                35.160253   \n..                    ...                    ...                      ...   \n295             12.145024              20.481805                28.604276   \n296             19.878805               5.819578                 4.377473   \n297             20.395002              17.283092                11.240673   \n298             10.716388               9.999653                 5.550413   \n299             11.545406               9.844057                36.224717   \n\n     native-country_Trinadad&Tobago  native-country_United-States  \\\n0                         14.077892                     -1.650000   \n1                         21.682932                     -2.212371   \n2                          4.552584                     -2.290610   \n3                         25.591076                     -0.036760   \n4                         18.864085                     -1.945280   \n..                              ...                           ...   \n295                        5.607566                     -3.218579   \n296                       28.106531                      0.113882   \n297                        9.234206                     -2.977754   \n298                       26.228351                     -1.223171   \n299                       21.064639                     -0.564854   \n\n     native-country_Vietnam  native-country_Yugoslavia  \n0                 10.250436                   7.645530  \n1                 14.413412                  32.550095  \n2                 19.861420                   3.633544  \n3                  1.000753                  22.716603  \n4                 18.244618                  19.414323  \n..                      ...                        ...  \n295               17.566446                  38.857085  \n296               16.678128                   3.474693  \n297               10.599366                  32.691343  \n298                1.482520                  40.171141  \n299                5.631408                  25.493537  \n\n[300 rows x 97 columns]",
      "text/html": "<div>\n<style scoped>\n    .dataframe tbody tr th:only-of-type {\n        vertical-align: middle;\n    }\n\n    .dataframe tbody tr th {\n        vertical-align: top;\n    }\n\n    .dataframe thead th {\n        text-align: right;\n    }\n</style>\n<table border=\"1\" class=\"dataframe\">\n  <thead>\n    <tr style=\"text-align: right;\">\n      <th></th>\n      <th>age</th>\n      <th>education-num</th>\n      <th>race</th>\n      <th>capital-gain</th>\n      <th>capital-loss</th>\n      <th>hours-per-week</th>\n      <th>workclass_Federal-gov</th>\n      <th>workclass_Local-gov</th>\n      <th>workclass_Private</th>\n      <th>workclass_Self-emp-inc</th>\n      <th>...</th>\n      <th>native-country_Portugal</th>\n      <th>native-country_Puerto-Rico</th>\n      <th>native-country_Scotland</th>\n      <th>native-country_South</th>\n      <th>native-country_Taiwan</th>\n      <th>native-country_Thailand</th>\n      <th>native-country_Trinadad&amp;Tobago</th>\n      <th>native-country_United-States</th>\n      <th>native-country_Vietnam</th>\n      <th>native-country_Yugoslavia</th>\n    </tr>\n  </thead>\n  <tbody>\n    <tr>\n      <th>0</th>\n      <td>-0.341585</td>\n      <td>-0.276075</td>\n      <td>-0.443886</td>\n      <td>9.902258</td>\n      <td>0.997499</td>\n      <td>4.133365</td>\n      <td>2.892329</td>\n      <td>3.280893</td>\n      <td>-1.609508</td>\n      <td>2.882419</td>\n      <td>...</td>\n      <td>28.324142</td>\n      <td>1.743609</td>\n      <td>27.051170</td>\n      <td>8.419170</td>\n      <td>17.613443</td>\n      <td>10.431213</td>\n      <td>14.077892</td>\n      <td>-1.650000</td>\n      <td>10.250436</td>\n      <td>7.645530</td>\n    </tr>\n    <tr>\n      <th>1</th>\n      <td>-0.834133</td>\n      <td>-0.319917</td>\n      <td>-1.308346</td>\n      <td>4.672400</td>\n      <td>6.037236</td>\n      <td>-1.769039</td>\n      <td>2.401414</td>\n      <td>1.200259</td>\n      <td>-1.601420</td>\n      <td>2.498215</td>\n      <td>...</td>\n      <td>29.165701</td>\n      <td>16.344917</td>\n      <td>45.187133</td>\n      <td>18.703565</td>\n      <td>15.504126</td>\n      <td>13.253633</td>\n      <td>21.682932</td>\n      <td>-2.212371</td>\n      <td>14.413412</td>\n      <td>32.550095</td>\n    </tr>\n    <tr>\n      <th>2</th>\n      <td>-0.146089</td>\n      <td>-0.977029</td>\n      <td>0.140472</td>\n      <td>2.419523</td>\n      <td>10.012216</td>\n      <td>2.190774</td>\n      <td>-0.146020</td>\n      <td>2.181786</td>\n      <td>-1.119446</td>\n      <td>4.570097</td>\n      <td>...</td>\n      <td>12.325566</td>\n      <td>10.647561</td>\n      <td>49.607300</td>\n      <td>14.598764</td>\n      <td>9.775153</td>\n      <td>0.069538</td>\n      <td>4.552584</td>\n      <td>-2.290610</td>\n      <td>19.861420</td>\n      <td>3.633544</td>\n    </tr>\n    <tr>\n      <th>3</th>\n      <td>1.995140</td>\n      <td>-2.637425</td>\n      <td>-1.928773</td>\n      <td>0.897730</td>\n      <td>9.896598</td>\n      <td>-1.720436</td>\n      <td>1.816193</td>\n      <td>0.093687</td>\n      <td>0.206481</td>\n      <td>0.162663</td>\n      <td>...</td>\n      <td>15.892994</td>\n      <td>16.549307</td>\n      <td>44.553314</td>\n      <td>11.766583</td>\n      <td>10.399065</td>\n      <td>25.370046</td>\n      <td>25.591076</td>\n      <td>-0.036760</td>\n      <td>1.000753</td>\n      <td>22.716603</td>\n    </tr>\n    <tr>\n      <th>4</th>\n      <td>1.517468</td>\n      <td>-0.842447</td>\n      <td>-2.128235</td>\n      <td>1.728006</td>\n      <td>10.030556</td>\n      <td>3.702781</td>\n      <td>3.522343</td>\n      <td>1.791405</td>\n      <td>-1.474639</td>\n      <td>3.152261</td>\n      <td>...</td>\n      <td>27.320278</td>\n      <td>14.178426</td>\n      <td>49.158695</td>\n      <td>18.940200</td>\n      <td>14.230635</td>\n      <td>35.160253</td>\n      <td>18.864085</td>\n      <td>-1.945280</td>\n      <td>18.244618</td>\n      <td>19.414323</td>\n    </tr>\n    <tr>\n      <th>...</th>\n      <td>...</td>\n      <td>...</td>\n      <td>...</td>\n      <td>...</td>\n      <td>...</td>\n      <td>...</td>\n      <td>...</td>\n      <td>...</td>\n      <td>...</td>\n      <td>...</td>\n      <td>...</td>\n      <td>...</td>\n      <td>...</td>\n      <td>...</td>\n      <td>...</td>\n      <td>...</td>\n      <td>...</td>\n      <td>...</td>\n      <td>...</td>\n      <td>...</td>\n      <td>...</td>\n    </tr>\n    <tr>\n      <th>295</th>\n      <td>-0.478198</td>\n      <td>0.876770</td>\n      <td>-0.463016</td>\n      <td>8.554835</td>\n      <td>9.401703</td>\n      <td>4.675726</td>\n      <td>3.061632</td>\n      <td>-0.261752</td>\n      <td>-0.708796</td>\n      <td>1.249141</td>\n      <td>...</td>\n      <td>29.255712</td>\n      <td>10.732403</td>\n      <td>27.726490</td>\n      <td>12.145024</td>\n      <td>20.481805</td>\n      <td>28.604276</td>\n      <td>5.607566</td>\n      <td>-3.218579</td>\n      <td>17.566446</td>\n      <td>38.857085</td>\n    </tr>\n    <tr>\n      <th>296</th>\n      <td>0.357670</td>\n      <td>-1.966372</td>\n      <td>-0.177667</td>\n      <td>10.918937</td>\n      <td>5.140978</td>\n      <td>-0.003986</td>\n      <td>4.513418</td>\n      <td>3.492415</td>\n      <td>-1.669956</td>\n      <td>5.128863</td>\n      <td>...</td>\n      <td>23.961204</td>\n      <td>3.230167</td>\n      <td>41.456071</td>\n      <td>19.878805</td>\n      <td>5.819578</td>\n      <td>4.377473</td>\n      <td>28.106531</td>\n      <td>0.113882</td>\n      <td>16.678128</td>\n      <td>3.474693</td>\n    </tr>\n    <tr>\n      <th>297</th>\n      <td>2.667022</td>\n      <td>-0.623071</td>\n      <td>-1.792720</td>\n      <td>2.927198</td>\n      <td>7.693916</td>\n      <td>-0.568633</td>\n      <td>1.184984</td>\n      <td>0.071276</td>\n      <td>-0.871344</td>\n      <td>3.997399</td>\n      <td>...</td>\n      <td>1.775460</td>\n      <td>15.375930</td>\n      <td>15.341958</td>\n      <td>20.395002</td>\n      <td>17.283092</td>\n      <td>11.240673</td>\n      <td>9.234206</td>\n      <td>-2.977754</td>\n      <td>10.599366</td>\n      <td>32.691343</td>\n    </tr>\n    <tr>\n      <th>298</th>\n      <td>0.440193</td>\n      <td>-2.971842</td>\n      <td>-1.170570</td>\n      <td>3.376302</td>\n      <td>-0.096238</td>\n      <td>1.122017</td>\n      <td>1.801267</td>\n      <td>2.105464</td>\n      <td>-0.276369</td>\n      <td>4.628767</td>\n      <td>...</td>\n      <td>15.634381</td>\n      <td>11.716053</td>\n      <td>30.578649</td>\n      <td>10.716388</td>\n      <td>9.999653</td>\n      <td>5.550413</td>\n      <td>26.228351</td>\n      <td>-1.223171</td>\n      <td>1.482520</td>\n      <td>40.171141</td>\n    </tr>\n    <tr>\n      <th>299</th>\n      <td>1.930719</td>\n      <td>0.684547</td>\n      <td>-2.360058</td>\n      <td>0.685273</td>\n      <td>3.463508</td>\n      <td>0.951345</td>\n      <td>-0.124607</td>\n      <td>2.014952</td>\n      <td>-0.410552</td>\n      <td>4.680466</td>\n      <td>...</td>\n      <td>22.610236</td>\n      <td>13.670409</td>\n      <td>33.767009</td>\n      <td>11.545406</td>\n      <td>9.844057</td>\n      <td>36.224717</td>\n      <td>21.064639</td>\n      <td>-0.564854</td>\n      <td>5.631408</td>\n      <td>25.493537</td>\n    </tr>\n  </tbody>\n</table>\n<p>300 rows × 97 columns</p>\n</div>"
     },
     "execution_count": 33,
     "metadata": {},
     "output_type": "execute_result"
    }
   ],
   "source": [
    "random_ds"
   ],
   "metadata": {
    "collapsed": false,
    "ExecuteTime": {
     "end_time": "2023-10-25T16:05:16.122552572Z",
     "start_time": "2023-10-25T16:05:16.041318707Z"
    }
   },
   "id": "54ff39179c8af943"
  },
  {
   "cell_type": "markdown",
   "source": [
    "rand*(max+abs(min))+min"
   ],
   "metadata": {
    "collapsed": false
   },
   "id": "d2a3d268f4168d50"
  },
  {
   "cell_type": "code",
   "execution_count": 34,
   "outputs": [
    {
     "data": {
      "text/plain": "array([1, 1, 1, 0, 1, 1, 1, 1, 1, 1, 1, 1, 1, 1, 1, 1, 1, 1, 1, 1, 1, 1,\n       1, 1, 1, 0, 1, 1, 1, 1, 0, 1, 1, 1, 1, 1, 1, 1, 1, 0, 1, 1, 1, 1,\n       1, 1, 1, 1, 1, 0, 1, 1, 1, 1, 1, 0, 1, 1, 1, 1, 1, 1, 1, 1, 1, 1,\n       0, 1, 1, 1, 1, 1, 1, 1, 1, 1, 1, 1, 0, 1, 0, 1, 1, 1, 1, 1, 1, 0,\n       1, 1, 1, 0, 1, 1, 1, 1, 1, 0, 0, 1, 1, 1, 1, 1, 1, 1, 1, 1, 1, 1,\n       1, 1, 1, 1, 0, 1, 1, 1, 1, 1, 1, 1, 0, 1, 1, 1, 1, 1, 1, 1, 1, 1,\n       1, 1, 1, 0, 1, 1, 1, 1, 1, 1, 1, 0, 1, 1, 0, 1, 1, 1, 0, 1, 1, 1,\n       1, 0, 1, 1, 1, 1, 0, 1, 1, 1, 1, 1, 1, 1, 1, 1, 1, 1, 1, 1, 0, 1,\n       1, 1, 1, 0, 1, 1, 0, 1, 1, 1, 0, 1, 1, 1, 0, 1, 1, 1, 1, 1, 1, 1,\n       1, 1, 1, 1, 1, 1, 1, 1, 1, 1, 1, 1, 1, 1, 0, 1, 0, 1, 0, 1, 0, 0,\n       1, 1, 1, 1, 1, 1, 1, 1, 1, 0, 1, 0, 0, 1, 1, 0, 1, 0, 1, 1, 1, 0,\n       0, 1, 0, 1, 1, 1, 0, 0, 0, 0, 1, 1, 1, 1, 0, 1, 1, 1, 1, 1, 1, 1,\n       1, 1, 1, 1, 1, 1, 1, 1, 0, 0, 1, 0, 0, 1, 1, 1, 1, 1, 1, 1, 1, 1,\n       0, 1, 1, 1, 0, 1, 1, 1, 0, 1, 0, 1, 1, 1])"
     },
     "execution_count": 34,
     "metadata": {},
     "output_type": "execute_result"
    }
   ],
   "source": [
    "gb.predict(random_ds)"
   ],
   "metadata": {
    "collapsed": false,
    "ExecuteTime": {
     "end_time": "2023-10-25T16:05:16.974214748Z",
     "start_time": "2023-10-25T16:05:16.931813763Z"
    }
   },
   "id": "35bc8ebc2e2193a3"
  },
  {
   "cell_type": "code",
   "execution_count": null,
   "outputs": [],
   "source": [],
   "metadata": {
    "collapsed": false
   },
   "id": "8cf0633c8de98074"
  }
 ],
 "metadata": {
  "kernelspec": {
   "display_name": "Python 3",
   "language": "python",
   "name": "python3"
  },
  "language_info": {
   "codemirror_mode": {
    "name": "ipython",
    "version": 2
   },
   "file_extension": ".py",
   "mimetype": "text/x-python",
   "name": "python",
   "nbconvert_exporter": "python",
   "pygments_lexer": "ipython2",
   "version": "2.7.6"
  }
 },
 "nbformat": 4,
 "nbformat_minor": 5
}
