{
 "cells": [
  {
   "cell_type": "code",
   "execution_count": null,
   "outputs": [],
   "source": [
    "!pip install \"matplotlib>=3.2,<=3.7.3\"\n",
    "!pip install \"ydata-profiling>4.4,<4.5\"\n",
    "!pip install tensorflow"
   ],
   "metadata": {
    "collapsed": false
   },
   "id": "73423984ecbf2895"
  },
  {
   "cell_type": "markdown",
   "source": [
    "## Ideas\n",
    "\n",
    "If adversary does not work, predict -> predict_proba to get more information"
   ],
   "metadata": {
    "collapsed": false
   },
   "id": "8cef951ab940b36f"
  },
  {
   "cell_type": "code",
   "execution_count": null,
   "outputs": [],
   "source": [
    "import pandas as pd\n",
    "import numpy as np\n",
    "from pia_functions import data_train_test, get_distributed_adult_sets, generate_shadow_model_outputs"
   ],
   "metadata": {
    "collapsed": false
   },
   "id": "initial_id"
  },
  {
   "cell_type": "markdown",
   "source": [
    "### Generate training data for shadow models"
   ],
   "metadata": {
    "collapsed": false
   },
   "id": "6491152df6e7f325"
  },
  {
   "cell_type": "code",
   "execution_count": null,
   "outputs": [],
   "source": [
    "n_shadow_models=200\n",
    "distributions=[0.1, 0.2, 0.3, 0.4, 0.5, 0.6, 0.7, 0.8, 0.9]"
   ],
   "metadata": {
    "collapsed": false
   },
   "id": "8cf0633c8de98074"
  },
  {
   "cell_type": "code",
   "execution_count": null,
   "outputs": [],
   "source": [
    "X_train, X_test, y_train, y_test, sensitive, sensitive_t = data_train_test()"
   ],
   "metadata": {
    "collapsed": false
   },
   "id": "adde3f38057445c0"
  },
  {
   "cell_type": "code",
   "execution_count": null,
   "outputs": [],
   "source": [
    "distributed_datasets = get_distributed_adult_sets(distributions=distributions)"
   ],
   "metadata": {
    "collapsed": false
   },
   "id": "a18e584a017832f1"
  },
  {
   "cell_type": "markdown",
   "source": [
    "### Train shadow models and generate output"
   ],
   "metadata": {
    "collapsed": false
   },
   "id": "b8dd819536f4e169"
  },
  {
   "cell_type": "code",
   "execution_count": null,
   "outputs": [],
   "source": [
    "all_shadow_outputs = []\n",
    "for ds in distributed_datasets:\n",
    "    outputs = generate_shadow_model_outputs(ds, X_test, n_shadow_models=n_shadow_models)\n",
    "    all_shadow_outputs.append(outputs)"
   ],
   "metadata": {
    "collapsed": false
   },
   "id": "807403d039c8b5b9"
  },
  {
   "cell_type": "markdown",
   "source": [
    "### Save shadow model outputs to file"
   ],
   "metadata": {
    "collapsed": false
   },
   "id": "2a909c59c49960cd"
  },
  {
   "cell_type": "code",
   "execution_count": null,
   "outputs": [],
   "source": [
    "adv_df = pd.DataFrame(np.array(np.concatenate((all_shadow_outputs))))\n",
    "adv_df[\"y\"] = np.concatenate(([np.repeat(d, n_shadow_models) for d in distributions]))\n",
    "adv_df.to_csv(\"shadow_model_outputs.csv\")"
   ],
   "metadata": {
    "collapsed": false
   },
   "id": "6e7b6fcb52d256ba"
  },
  {
   "cell_type": "markdown",
   "source": [
    "### Shadow model outputs as training data for adversary"
   ],
   "metadata": {
    "collapsed": false
   },
   "id": "4f148b8fe9e7013"
  },
  {
   "cell_type": "code",
   "execution_count": null,
   "outputs": [],
   "source": [
    "adv_df = pd.read_csv(\"shadow_model_outputs.csv\")\n",
    "adv_ddf_shuffled = adv_df.sample(frac=1, random_state=1).reset_index(drop=True)\n",
    "adv_y = adv_ddf_shuffled[\"y\"]\n",
    "adv_X = adv_ddf_shuffled.drop(columns=[\"y\"])"
   ],
   "metadata": {
    "collapsed": false
   },
   "id": "cccad5e8b03ad4d5"
  },
  {
   "cell_type": "markdown",
   "source": [
    "### Create adversary"
   ],
   "metadata": {
    "collapsed": false
   },
   "id": "e27e1ee526589f4c"
  },
  {
   "cell_type": "code",
   "execution_count": 69,
   "outputs": [],
   "source": [
    "from tensorflow import keras\n",
    "adversary = keras.Sequential()\n",
    "adversary.add(keras.Input(shape=(adv_X.shape[1],)))\n",
    "adversary.add(keras.layers.Dense(8, activation='relu'))\n",
    "adversary.add(keras.layers.Dense(4, activation='relu'))\n",
    "adversary.add(keras.layers.Dense(1))\n",
    "\n",
    "adversary.compile(optimizer='adam', loss=keras.losses.MeanSquaredError())"
   ],
   "metadata": {
    "collapsed": false,
    "ExecuteTime": {
     "end_time": "2023-11-02T09:07:51.116483108Z",
     "start_time": "2023-11-02T09:07:51.059095128Z"
    }
   },
   "id": "f321d38c0dbd2e9"
  },
  {
   "cell_type": "markdown",
   "source": [
    "### Train adversary"
   ],
   "metadata": {
    "collapsed": false
   },
   "id": "48b48337c2255bf6"
  },
  {
   "cell_type": "code",
   "execution_count": 70,
   "outputs": [
    {
     "name": "stdout",
     "output_type": "stream",
     "text": [
      "Epoch 1/10\n",
      "57/57 [==============================] - 1s 4ms/step - loss: 8.5975\n",
      "Epoch 2/10\n",
      "57/57 [==============================] - 0s 4ms/step - loss: 0.3002\n",
      "Epoch 3/10\n",
      "57/57 [==============================] - 0s 4ms/step - loss: 0.0556\n",
      "Epoch 4/10\n",
      "57/57 [==============================] - 0s 4ms/step - loss: 0.0041\n",
      "Epoch 5/10\n",
      "57/57 [==============================] - 0s 4ms/step - loss: 0.0025\n",
      "Epoch 6/10\n",
      "57/57 [==============================] - 0s 4ms/step - loss: 0.0020\n",
      "Epoch 7/10\n",
      "57/57 [==============================] - 0s 4ms/step - loss: 0.0016\n",
      "Epoch 8/10\n",
      "57/57 [==============================] - 0s 4ms/step - loss: 0.0014\n",
      "Epoch 9/10\n",
      "57/57 [==============================] - 0s 4ms/step - loss: 0.0012\n",
      "Epoch 10/10\n",
      "57/57 [==============================] - 0s 4ms/step - loss: 0.0011\n"
     ]
    },
    {
     "data": {
      "text/plain": "<keras.src.callbacks.History at 0x7f294a4a2590>"
     },
     "execution_count": 70,
     "metadata": {},
     "output_type": "execute_result"
    }
   ],
   "source": [
    "adversary.fit(adv_X, adv_y, batch_size=32, epochs=10)"
   ],
   "metadata": {
    "collapsed": false,
    "ExecuteTime": {
     "end_time": "2023-11-02T09:07:54.776704179Z",
     "start_time": "2023-11-02T09:07:51.680792855Z"
    }
   },
   "id": "b5be01fe81d2faf4"
  },
  {
   "cell_type": "markdown",
   "source": [
    "### Next steps\n",
    "* Test adversary (create test set)\n",
    "* Use adversary during training"
   ],
   "metadata": {
    "collapsed": false
   },
   "id": "ca7f74456ef02429"
  },
  {
   "cell_type": "markdown",
   "source": [
    "### (Data set analysis)"
   ],
   "metadata": {
    "collapsed": false
   },
   "id": "ac7861d95cdcba85"
  },
  {
   "cell_type": "code",
   "execution_count": null,
   "outputs": [],
   "source": [
    "import ydata_profiling\n",
    "\n",
    "ydata_profiling.ProfileReport(X_test)"
   ],
   "metadata": {
    "collapsed": false
   },
   "id": "23dd121bbeca4944"
  },
  {
   "cell_type": "code",
   "execution_count": null,
   "outputs": [],
   "source": [
    "# RANDOM DS\n",
    "random_dict = {}\n",
    "for attr in ds.X_train:\n",
    "    print(f'{round(X_train_pr[attr].min(),2)} {round(X_train_pr[attr].max(),2)}')\n",
    "    random_attr = np.random.rand(random_length)*(X_train_pr[attr].max()+abs(X_train_pr[attr].min()))-abs(X_train_pr[attr].min())\n",
    "    random_dict[attr] = random_attr"
   ],
   "metadata": {
    "collapsed": false
   },
   "id": "5e83d6cc0260faf0"
  },
  {
   "cell_type": "code",
   "execution_count": null,
   "outputs": [],
   "source": [
    "random_ds = pd.DataFrame(random_dict)"
   ],
   "metadata": {
    "collapsed": false
   },
   "id": "3c7d705447fbbf00"
  }
 ],
 "metadata": {
  "kernelspec": {
   "display_name": "Python 3",
   "language": "python",
   "name": "python3"
  },
  "language_info": {
   "codemirror_mode": {
    "name": "ipython",
    "version": 2
   },
   "file_extension": ".py",
   "mimetype": "text/x-python",
   "name": "python",
   "nbconvert_exporter": "python",
   "pygments_lexer": "ipython2",
   "version": "2.7.6"
  }
 },
 "nbformat": 4,
 "nbformat_minor": 5
}
